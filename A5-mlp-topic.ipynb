{
 "cells": [
  {
   "cell_type": "markdown",
   "metadata": {},
   "source": [
    "# Ekhator Uwaila's Notebook"
   ]
  },
  {
   "cell_type": "markdown",
   "metadata": {},
   "source": [
    "### Word Embeddings\n",
    "\n",
    "- We'll be using the [spacy](https://www.shanelynn.ie/word-embeddings-in-python-with-spacy-and-gensim/) library for embeddings. "
   ]
  },
  {
   "cell_type": "code",
   "execution_count": 17,
   "metadata": {},
   "outputs": [],
   "source": [
    "#!pip install spacy"
   ]
  },
  {
   "cell_type": "code",
   "execution_count": 18,
   "metadata": {},
   "outputs": [],
   "source": [
    "#pip install spacy"
   ]
  },
  {
   "cell_type": "code",
   "execution_count": 14,
   "metadata": {},
   "outputs": [],
   "source": [
    "#pip install https://github.com/explosion/spacy-models/releases/download/en_core_web_sm-2.2.0/en_core_web_sm-2.2.0.tar.gz"
   ]
  },
  {
   "cell_type": "code",
   "execution_count": 4,
   "metadata": {},
   "outputs": [],
   "source": [
    "import spacy"
   ]
  },
  {
   "cell_type": "code",
   "execution_count": 36,
   "metadata": {},
   "outputs": [],
   "source": [
    "#from numpy.random import seed\n",
    "#seed(1)\n",
    "#from tensorflow import set_random_seed\n",
    "#set_random_seed(2)"
   ]
  },
  {
   "cell_type": "markdown",
   "metadata": {},
   "source": [
    "Run the following cell once, it downloads the relevant spacy embeddings. "
   ]
  },
  {
   "cell_type": "code",
   "execution_count": 12,
   "metadata": {},
   "outputs": [],
   "source": [
    "#!python -m spacy download en_core_web_sm"
   ]
  },
  {
   "cell_type": "code",
   "execution_count": 11,
   "metadata": {},
   "outputs": [],
   "source": [
    "#!python -m spacy download en_core_web_sm --target=~/anaconda3/envs/NLP/lib/python3.9/site-packages --upgrade"
   ]
  },
  {
   "cell_type": "code",
   "execution_count": 5,
   "metadata": {},
   "outputs": [],
   "source": [
    "nlp = spacy.load(\"en_core_web_sm\")"
   ]
  },
  {
   "cell_type": "code",
   "execution_count": 3,
   "metadata": {},
   "outputs": [
    {
     "name": "stdout",
     "output_type": "stream",
     "text": [
      "The (96,) [ 1.1176367  -0.6485975  -0.5305207   2.6813617  -0.60251266 -0.39047047\n",
      " -0.7779956   0.06361836 -0.51140857  1.1415539   1.4621595   1.210716\n",
      " -0.7346289  -1.0209426  -0.92507267 -0.62145746 -0.9593326   2.3750756\n",
      " -1.3438724   0.33913434 -0.591809   -0.12916107 -0.05317664 -1.6779104\n",
      "  1.7667464   0.06753059  1.3158545   0.30678707  0.02242778  0.35546002\n",
      "  0.28812993 -0.5579191   1.1736645  -2.317893    0.26374075  1.2440248\n",
      "  0.33035815 -1.1292491   0.25046095  4.293695   -0.24713266  1.2683114\n",
      " -1.2641441   0.7981607  -1.037181    0.40011275 -0.18160012  2.0641277\n",
      "  1.5894725   0.3470932  -0.9535838  -1.1725378   0.49678475  0.5897087\n",
      "  0.69023705  0.17437099 -1.1555524   0.3945408  -0.95651937  0.35465586\n",
      " -0.92056453  0.22104093  0.309849   -0.07244819  0.7793205  -0.6125721\n",
      "  0.07617447 -0.98683465 -0.9941983  -1.6516142  -0.07806996  0.87705696\n",
      " -0.3135129  -0.41650376 -0.7940915  -0.34402055 -0.43732265 -0.44075364\n",
      "  0.72600687  0.3121772   0.02908312 -1.1000757  -0.6036371  -1.3129241\n",
      "  1.7001789   0.35689554  0.9106165  -0.37157178  0.86481154 -0.55711347\n",
      " -0.26893345 -0.38873798 -0.29464808 -0.50404954 -0.68121344 -0.12700197]\n",
      "grass (96,) [-0.728431   -0.7124543  -0.03119964 -0.0792819   0.07358111  0.6536707\n",
      "  2.0910115   0.5763098  -0.20699242 -0.3277412   0.5080436  -0.29725415\n",
      "  0.2608111  -0.2857485  -0.94415915 -0.43201807  0.4764766  -0.2766551\n",
      "  0.33185074  0.17899011  0.22979182 -0.28345382  1.0959327   0.03117312\n",
      " -0.19359207 -0.4011372   0.07461299 -0.11219728  0.50292414 -0.16142245\n",
      "  0.10452271 -1.0699396  -0.50788224 -0.28265417 -0.06229371 -0.5110811\n",
      " -0.47221503  0.46981502  0.23799562  0.9252898  -1.3665411   0.401927\n",
      "  0.537413    1.238944    0.10104787  0.8227146   0.16160566  2.169886\n",
      "  0.3560957   0.03200902 -0.643592   -0.9998616  -0.09966409 -0.54460055\n",
      "  0.6360577  -0.6875396   0.15738456 -0.77036273 -0.12894332  0.13157828\n",
      "  0.5585024   0.0086372  -0.394926   -0.38429162  0.629684   -0.29123366\n",
      " -0.4852532  -0.4972112   0.32543203 -1.0293024   0.06413156  0.66766334\n",
      "  0.95892155 -0.4951148  -0.55024546 -1.3829522  -0.19580804 -1.4479265\n",
      " -0.16933629 -0.5907495   0.10603665  0.38236803 -0.5201502  -0.62247103\n",
      " -0.94378495  0.00676022  0.60115886 -0.4641102  -0.64609754 -0.73457855\n",
      " -0.6699389   0.1754046   1.3618392   0.47940686 -0.03007942  1.3083663 ]\n",
      "is (96,) [ 0.31457672  1.6338025  -0.4012572   0.5663079  -0.19516033 -0.45390967\n",
      " -0.32481122  0.29263473  1.9137369   0.49109334  1.1259189  -0.18647468\n",
      " -0.03215143  0.5879561  -0.8501975   0.08117872 -1.260392    0.12564197\n",
      " -0.36595312  0.88383484 -0.20562923 -0.6202703  -0.4959873   0.80375904\n",
      " -0.7767425  -1.0684967   0.03895682  1.1014376  -0.58158374 -0.32752785\n",
      " -0.63219714  2.076583    0.03141007 -0.31238574 -0.11143336 -0.81615853\n",
      " -0.06882168 -0.9873946   0.21080473 -0.93034863  2.232412   -0.05562286\n",
      "  0.5681446  -0.7176878   1.0842689   0.2560485   1.5265002  -0.307531\n",
      "  0.231263   -0.3535924  -1.081516    0.5940878  -1.5233427  -0.94176334\n",
      " -0.42199486 -0.7643456  -0.46191165 -0.79810786 -0.6060387   0.59006464\n",
      "  1.4538845   0.330679    0.76566774  0.9931612   1.1706007   0.99219435\n",
      "  0.08987866 -0.673492    1.3332773  -0.29849243 -0.3059817  -0.25036597\n",
      "  0.72732854  0.41718477 -1.2000281  -0.30803877 -0.5962046  -1.79168\n",
      " -1.1528519   0.14424059  0.04164238 -0.34538794 -0.68648267 -0.45348275\n",
      "  0.8990444  -0.11792305 -0.29175004  0.3959881  -0.24433236 -0.4719046\n",
      " -0.30501828 -0.7241346   0.03634363  0.18517305 -0.837331    0.01538828]\n",
      "green (96,) [ 0.77077764  0.18194701 -0.560477    0.18430448 -0.5307393   0.33337325\n",
      " -0.33862573 -1.5789901  -0.5916086  -1.0373247  -0.25819448 -1.057617\n",
      "  0.78900605  1.3803422  -1.7488219   0.7371788  -0.6519084  -1.8946477\n",
      "  0.17970201  1.1969862  -1.1757404   1.0850604  -0.5699199   0.3572104\n",
      " -1.1643354  -0.23127976  0.0930039   0.07802349  0.25533265  0.00551844\n",
      "  0.42753476  0.6465106   0.5521881  -1.0680782   1.3192443   0.16451435\n",
      " -0.6104089  -0.07578999  0.42791992  0.31189328 -1.378023   -0.87797964\n",
      "  0.66418636 -0.2529987  -0.13337722 -0.44433054 -1.2701787  -0.75299066\n",
      " -0.03854571  0.5703806  -0.45292512  0.88385737 -0.03089178 -1.0515442\n",
      " -1.5526552   2.6152465   1.4834257   0.88428557  0.16463691  0.5978285\n",
      " -0.48302275 -1.1020687  -0.9077741  -0.5525971  -0.655723   -0.3632582\n",
      "  0.22914821  1.0679218   1.0953951  -0.15714349 -0.29909587 -0.70819676\n",
      " -1.6476955   0.70678484 -0.13108274 -0.88193536 -1.1288154  -1.4144322\n",
      "  0.48129138 -0.02985498  0.01031874  0.30675328 -0.5443213   1.4027162\n",
      "  1.1224627   1.0487639  -0.21068048  1.2637709   0.18950748  1.7976161\n",
      "  0.468213   -0.48207203  0.872761    1.2533679  -0.22298169  0.5428184 ]\n",
      ". (96,) [-0.84294605 -0.12545666  0.44866437 -1.8023789  -0.49694353  2.053005\n",
      "  0.37489378 -0.75879633  0.1173023  -0.58226883  3.1013348  -1.1428418\n",
      "  0.40816516  1.677912   -0.37677348  0.30602112 -1.5378408  -0.66673464\n",
      "  1.7199929  -0.7215703   0.16501817 -0.3695539   1.4231415   0.28335774\n",
      "  2.0086389   3.4581022   0.13773108  0.02327579  0.07424457  2.9229484\n",
      "  0.1636127   0.97433025  1.6045706   0.16870794 -1.0302297   0.24446732\n",
      " -0.27133882 -0.359334   -1.2758298   0.7881782   1.9121201   0.32413548\n",
      "  0.18122323 -1.175073    0.29736358 -0.6959725  -0.76239586 -0.3659835\n",
      "  2.0382516  -0.13456422  3.5508156  -1.1681072  -0.21546191  0.33151948\n",
      "  0.5693648  -1.4952317  -0.7323781  -0.67996055  0.5564088  -0.42950508\n",
      " -0.2128886  -2.1660476   0.04580253  1.6673933  -0.3520149   0.17653844\n",
      " -0.28067353 -0.27620947 -0.6952666  -1.0867474  -0.98739517 -0.25119412\n",
      " -1.3707752  -1.0407683   3.3485637  -0.4104433  -0.46172532  1.6533673\n",
      " -0.75886893 -1.3074838   0.05537118 -0.7408577  -1.0632069   0.49906468\n",
      " -1.0060812  -0.00422336 -0.5192028   1.4669901  -1.8862771   0.6040252\n",
      " -0.49269217  0.23738228 -0.30882877 -0.07240166 -0.6303688  -0.66314226]\n"
     ]
    }
   ],
   "source": [
    "# create sentence.\n",
    "sentence = nlp('The grass is green .')\n",
    "\n",
    "# now check out the embedded tokens.\n",
    "for token in sentence:\n",
    "    print(token.text, token.vector.shape, token.vector)"
   ]
  },
  {
   "cell_type": "markdown",
   "metadata": {},
   "source": [
    "### Topic Modeling\n",
    "\n",
    "- Given a document, determine the topic of the document\n",
    "- For this task, we'll use the Brown corpus of texts accessible via NLTK"
   ]
  },
  {
   "cell_type": "code",
   "execution_count": 3,
   "metadata": {},
   "outputs": [
    {
     "name": "stderr",
     "output_type": "stream",
     "text": [
      "[nltk_data] Downloading package brown to\n",
      "[nltk_data]     /Users/uwailaekhator/nltk_data...\n",
      "[nltk_data]   Package brown is already up-to-date!\n"
     ]
    },
    {
     "data": {
      "text/plain": [
       "True"
      ]
     },
     "execution_count": 3,
     "metadata": {},
     "output_type": "execute_result"
    }
   ],
   "source": [
    "import nltk\n",
    "nltk.download('brown')"
   ]
  },
  {
   "cell_type": "code",
   "execution_count": 3,
   "metadata": {},
   "outputs": [
    {
     "name": "stdout",
     "output_type": "stream",
     "text": [
      "Categories (Genres) in the Brown Corpus:\n",
      "['adventure', 'belles_lettres', 'editorial', 'fiction', 'government', 'hobbies', 'humor', 'learned', 'lore', 'mystery', 'news', 'religion', 'reviews', 'romance', 'science_fiction']\n"
     ]
    }
   ],
   "source": [
    "from nltk.corpus import brown\n",
    "# View the categories (genres) available in the Brown corpus\n",
    "print(\"Categories (Genres) in the Brown Corpus:\")\n",
    "print(brown.categories())"
   ]
  },
  {
   "cell_type": "code",
   "execution_count": 6,
   "metadata": {},
   "outputs": [
    {
     "name": "stdout",
     "output_type": "stream",
     "text": [
      "\n",
      "File IDs in the 'adventure' category:\n",
      "['cn01', 'cn02', 'cn03', 'cn04', 'cn05', 'cn06', 'cn07', 'cn08', 'cn09', 'cn10', 'cn11', 'cn12', 'cn13', 'cn14', 'cn15', 'cn16', 'cn17', 'cn18', 'cn19', 'cn20', 'cn21', 'cn22', 'cn23', 'cn24', 'cn25', 'cn26', 'cn27', 'cn28', 'cn29']\n"
     ]
    }
   ],
   "source": [
    "# View the file ids available in a specific category (e.g., news)\n",
    "category = 'adventure'\n",
    "print(\"\\nFile IDs in the '{}' category:\".format(category))\n",
    "print(brown.fileids(category))\n"
   ]
  },
  {
   "cell_type": "code",
   "execution_count": 7,
   "metadata": {},
   "outputs": [
    {
     "name": "stdout",
     "output_type": "stream",
     "text": [
      "\n",
      "Words in the file 'ca01' (category: 'adventure'):\n",
      "['The', 'Fulton', 'County', 'Grand', 'Jury', 'said', ...]\n"
     ]
    }
   ],
   "source": [
    "# View the words in a specific file\n",
    "file_id = 'ca01'\n",
    "print(\"\\nWords in the file '{}' (category: '{}'):\".format(file_id, category))\n",
    "print(brown.words(file_id))"
   ]
  },
  {
   "cell_type": "code",
   "execution_count": 1,
   "metadata": {
    "scrolled": true
   },
   "outputs": [
    {
     "name": "stdout",
     "output_type": "stream",
     "text": [
      "Requirement already satisfied: ipywidgets in /Users/uwailaekhator/anaconda3/envs/NLP/lib/python3.9/site-packages (8.1.2)\n",
      "Requirement already satisfied: widgetsnbextension in /Users/uwailaekhator/anaconda3/envs/NLP/lib/python3.9/site-packages (4.0.10)\n",
      "Requirement already satisfied: pandas-profiling in /Users/uwailaekhator/anaconda3/envs/NLP/lib/python3.9/site-packages (3.6.6)\n",
      "Requirement already satisfied: comm>=0.1.3 in /Users/uwailaekhator/anaconda3/envs/NLP/lib/python3.9/site-packages (from ipywidgets) (0.2.1)\n",
      "Requirement already satisfied: ipython>=6.1.0 in /Users/uwailaekhator/anaconda3/envs/NLP/lib/python3.9/site-packages (from ipywidgets) (8.15.0)\n",
      "Requirement already satisfied: traitlets>=4.3.1 in /Users/uwailaekhator/anaconda3/envs/NLP/lib/python3.9/site-packages (from ipywidgets) (5.14.1)\n",
      "Requirement already satisfied: jupyterlab-widgets~=3.0.10 in /Users/uwailaekhator/anaconda3/envs/NLP/lib/python3.9/site-packages (from ipywidgets) (3.0.10)\n",
      "Requirement already satisfied: ydata-profiling in /Users/uwailaekhator/anaconda3/envs/NLP/lib/python3.9/site-packages (from pandas-profiling) (4.6.4)\n",
      "Requirement already satisfied: backcall in /Users/uwailaekhator/anaconda3/envs/NLP/lib/python3.9/site-packages (from ipython>=6.1.0->ipywidgets) (0.2.0)\n",
      "Requirement already satisfied: decorator in /Users/uwailaekhator/anaconda3/envs/NLP/lib/python3.9/site-packages (from ipython>=6.1.0->ipywidgets) (5.1.1)\n",
      "Requirement already satisfied: jedi>=0.16 in /Users/uwailaekhator/anaconda3/envs/NLP/lib/python3.9/site-packages (from ipython>=6.1.0->ipywidgets) (0.18.1)\n",
      "Requirement already satisfied: matplotlib-inline in /Users/uwailaekhator/anaconda3/envs/NLP/lib/python3.9/site-packages (from ipython>=6.1.0->ipywidgets) (0.1.6)\n",
      "Requirement already satisfied: pickleshare in /Users/uwailaekhator/anaconda3/envs/NLP/lib/python3.9/site-packages (from ipython>=6.1.0->ipywidgets) (0.7.5)\n",
      "Requirement already satisfied: prompt-toolkit!=3.0.37,<3.1.0,>=3.0.30 in /Users/uwailaekhator/anaconda3/envs/NLP/lib/python3.9/site-packages (from ipython>=6.1.0->ipywidgets) (3.0.43)\n",
      "Requirement already satisfied: pygments>=2.4.0 in /Users/uwailaekhator/anaconda3/envs/NLP/lib/python3.9/site-packages (from ipython>=6.1.0->ipywidgets) (2.15.1)\n",
      "Requirement already satisfied: stack-data in /Users/uwailaekhator/anaconda3/envs/NLP/lib/python3.9/site-packages (from ipython>=6.1.0->ipywidgets) (0.2.0)\n",
      "Requirement already satisfied: typing-extensions in /Users/uwailaekhator/anaconda3/envs/NLP/lib/python3.9/site-packages (from ipython>=6.1.0->ipywidgets) (4.7.1)\n",
      "Requirement already satisfied: exceptiongroup in /Users/uwailaekhator/anaconda3/envs/NLP/lib/python3.9/site-packages (from ipython>=6.1.0->ipywidgets) (1.0.4)\n",
      "Requirement already satisfied: pexpect>4.3 in /Users/uwailaekhator/anaconda3/envs/NLP/lib/python3.9/site-packages (from ipython>=6.1.0->ipywidgets) (4.8.0)\n",
      "Requirement already satisfied: appnope in /Users/uwailaekhator/anaconda3/envs/NLP/lib/python3.9/site-packages (from ipython>=6.1.0->ipywidgets) (0.1.2)\n",
      "Requirement already satisfied: scipy<1.12,>=1.4.1 in /Users/uwailaekhator/anaconda3/envs/NLP/lib/python3.9/site-packages (from ydata-profiling->pandas-profiling) (1.11.4)\n",
      "Requirement already satisfied: pandas!=1.4.0,<3,>1.1 in /Users/uwailaekhator/anaconda3/envs/NLP/lib/python3.9/site-packages (from ydata-profiling->pandas-profiling) (2.1.4)\n",
      "Requirement already satisfied: matplotlib<3.9,>=3.2 in /Users/uwailaekhator/anaconda3/envs/NLP/lib/python3.9/site-packages (from ydata-profiling->pandas-profiling) (3.8.2)\n",
      "Requirement already satisfied: pydantic>=2 in /Users/uwailaekhator/anaconda3/envs/NLP/lib/python3.9/site-packages (from ydata-profiling->pandas-profiling) (2.6.1)\n",
      "Requirement already satisfied: PyYAML<6.1,>=5.0.0 in /Users/uwailaekhator/anaconda3/envs/NLP/lib/python3.9/site-packages (from ydata-profiling->pandas-profiling) (6.0.1)\n",
      "Requirement already satisfied: jinja2<3.2,>=2.11.1 in /Users/uwailaekhator/anaconda3/envs/NLP/lib/python3.9/site-packages (from ydata-profiling->pandas-profiling) (3.1.2)\n",
      "Requirement already satisfied: visions==0.7.5 in /Users/uwailaekhator/anaconda3/envs/NLP/lib/python3.9/site-packages (from visions[type_image_path]==0.7.5->ydata-profiling->pandas-profiling) (0.7.5)\n",
      "Requirement already satisfied: numpy<1.26,>=1.16.0 in /Users/uwailaekhator/anaconda3/envs/NLP/lib/python3.9/site-packages (from ydata-profiling->pandas-profiling) (1.25.2)\n",
      "Requirement already satisfied: htmlmin==0.1.12 in /Users/uwailaekhator/anaconda3/envs/NLP/lib/python3.9/site-packages (from ydata-profiling->pandas-profiling) (0.1.12)\n",
      "Requirement already satisfied: phik<0.13,>=0.11.1 in /Users/uwailaekhator/anaconda3/envs/NLP/lib/python3.9/site-packages (from ydata-profiling->pandas-profiling) (0.12.4)\n",
      "Requirement already satisfied: requests<3,>=2.24.0 in /Users/uwailaekhator/anaconda3/envs/NLP/lib/python3.9/site-packages (from ydata-profiling->pandas-profiling) (2.31.0)\n",
      "Requirement already satisfied: tqdm<5,>=4.48.2 in /Users/uwailaekhator/.local/lib/python3.9/site-packages (from ydata-profiling->pandas-profiling) (4.66.1)\n",
      "Requirement already satisfied: seaborn<0.13,>=0.10.1 in /Users/uwailaekhator/anaconda3/envs/NLP/lib/python3.9/site-packages (from ydata-profiling->pandas-profiling) (0.12.2)\n",
      "Requirement already satisfied: multimethod<2,>=1.4 in /Users/uwailaekhator/anaconda3/envs/NLP/lib/python3.9/site-packages (from ydata-profiling->pandas-profiling) (1.11)\n",
      "Requirement already satisfied: statsmodels<1,>=0.13.2 in /Users/uwailaekhator/anaconda3/envs/NLP/lib/python3.9/site-packages (from ydata-profiling->pandas-profiling) (0.14.1)\n",
      "Requirement already satisfied: typeguard<5,>=4.1.2 in /Users/uwailaekhator/anaconda3/envs/NLP/lib/python3.9/site-packages (from ydata-profiling->pandas-profiling) (4.1.5)\n",
      "Requirement already satisfied: imagehash==4.3.1 in /Users/uwailaekhator/anaconda3/envs/NLP/lib/python3.9/site-packages (from ydata-profiling->pandas-profiling) (4.3.1)\n",
      "Requirement already satisfied: wordcloud>=1.9.1 in /Users/uwailaekhator/anaconda3/envs/NLP/lib/python3.9/site-packages (from ydata-profiling->pandas-profiling) (1.9.3)\n",
      "Requirement already satisfied: dacite>=1.8 in /Users/uwailaekhator/anaconda3/envs/NLP/lib/python3.9/site-packages (from ydata-profiling->pandas-profiling) (1.8.1)\n",
      "Requirement already satisfied: numba<0.59.0,>=0.56.0 in /Users/uwailaekhator/anaconda3/envs/NLP/lib/python3.9/site-packages (from ydata-profiling->pandas-profiling) (0.58.1)\n",
      "Requirement already satisfied: PyWavelets in /Users/uwailaekhator/anaconda3/envs/NLP/lib/python3.9/site-packages (from imagehash==4.3.1->ydata-profiling->pandas-profiling) (1.5.0)\n",
      "Requirement already satisfied: pillow in /Users/uwailaekhator/anaconda3/envs/NLP/lib/python3.9/site-packages (from imagehash==4.3.1->ydata-profiling->pandas-profiling) (10.2.0)\n",
      "Requirement already satisfied: attrs>=19.3.0 in /Users/uwailaekhator/anaconda3/envs/NLP/lib/python3.9/site-packages (from visions==0.7.5->visions[type_image_path]==0.7.5->ydata-profiling->pandas-profiling) (23.1.0)\n",
      "Requirement already satisfied: networkx>=2.4 in /Users/uwailaekhator/anaconda3/envs/NLP/lib/python3.9/site-packages (from visions==0.7.5->visions[type_image_path]==0.7.5->ydata-profiling->pandas-profiling) (3.2.1)\n",
      "Requirement already satisfied: tangled-up-in-unicode>=0.0.4 in /Users/uwailaekhator/anaconda3/envs/NLP/lib/python3.9/site-packages (from visions==0.7.5->visions[type_image_path]==0.7.5->ydata-profiling->pandas-profiling) (0.2.0)\n",
      "\u001b[33mWARNING: visions 0.7.5 does not provide the extra 'type-image-path'\u001b[0m\u001b[33m\n",
      "\u001b[0mRequirement already satisfied: parso<0.9.0,>=0.8.0 in /Users/uwailaekhator/anaconda3/envs/NLP/lib/python3.9/site-packages (from jedi>=0.16->ipython>=6.1.0->ipywidgets) (0.8.3)\n",
      "Requirement already satisfied: MarkupSafe>=2.0 in /Users/uwailaekhator/anaconda3/envs/NLP/lib/python3.9/site-packages (from jinja2<3.2,>=2.11.1->ydata-profiling->pandas-profiling) (2.1.3)\n",
      "Requirement already satisfied: contourpy>=1.0.1 in /Users/uwailaekhator/anaconda3/envs/NLP/lib/python3.9/site-packages (from matplotlib<3.9,>=3.2->ydata-profiling->pandas-profiling) (1.2.0)\n",
      "Requirement already satisfied: cycler>=0.10 in /Users/uwailaekhator/anaconda3/envs/NLP/lib/python3.9/site-packages (from matplotlib<3.9,>=3.2->ydata-profiling->pandas-profiling) (0.12.1)\n",
      "Requirement already satisfied: fonttools>=4.22.0 in /Users/uwailaekhator/anaconda3/envs/NLP/lib/python3.9/site-packages (from matplotlib<3.9,>=3.2->ydata-profiling->pandas-profiling) (4.47.0)\n",
      "Requirement already satisfied: kiwisolver>=1.3.1 in /Users/uwailaekhator/anaconda3/envs/NLP/lib/python3.9/site-packages (from matplotlib<3.9,>=3.2->ydata-profiling->pandas-profiling) (1.4.5)\n",
      "Requirement already satisfied: packaging>=20.0 in /Users/uwailaekhator/anaconda3/envs/NLP/lib/python3.9/site-packages (from matplotlib<3.9,>=3.2->ydata-profiling->pandas-profiling) (23.1)\n",
      "Requirement already satisfied: pyparsing>=2.3.1 in /Users/uwailaekhator/anaconda3/envs/NLP/lib/python3.9/site-packages (from matplotlib<3.9,>=3.2->ydata-profiling->pandas-profiling) (3.1.1)\n",
      "Requirement already satisfied: python-dateutil>=2.7 in /Users/uwailaekhator/anaconda3/envs/NLP/lib/python3.9/site-packages (from matplotlib<3.9,>=3.2->ydata-profiling->pandas-profiling) (2.8.2)\n",
      "Requirement already satisfied: importlib-resources>=3.2.0 in /Users/uwailaekhator/anaconda3/envs/NLP/lib/python3.9/site-packages (from matplotlib<3.9,>=3.2->ydata-profiling->pandas-profiling) (6.1.1)\n"
     ]
    },
    {
     "name": "stdout",
     "output_type": "stream",
     "text": [
      "Requirement already satisfied: llvmlite<0.42,>=0.41.0dev0 in /Users/uwailaekhator/anaconda3/envs/NLP/lib/python3.9/site-packages (from numba<0.59.0,>=0.56.0->ydata-profiling->pandas-profiling) (0.41.1)\n",
      "Requirement already satisfied: pytz>=2020.1 in /Users/uwailaekhator/anaconda3/envs/NLP/lib/python3.9/site-packages (from pandas!=1.4.0,<3,>1.1->ydata-profiling->pandas-profiling) (2023.3.post1)\n",
      "Requirement already satisfied: tzdata>=2022.1 in /Users/uwailaekhator/anaconda3/envs/NLP/lib/python3.9/site-packages (from pandas!=1.4.0,<3,>1.1->ydata-profiling->pandas-profiling) (2023.4)\n",
      "Requirement already satisfied: ptyprocess>=0.5 in /Users/uwailaekhator/anaconda3/envs/NLP/lib/python3.9/site-packages (from pexpect>4.3->ipython>=6.1.0->ipywidgets) (0.7.0)\n",
      "Requirement already satisfied: joblib>=0.14.1 in /Users/uwailaekhator/anaconda3/envs/NLP/lib/python3.9/site-packages (from phik<0.13,>=0.11.1->ydata-profiling->pandas-profiling) (1.2.0)\n",
      "Requirement already satisfied: wcwidth in /Users/uwailaekhator/anaconda3/envs/NLP/lib/python3.9/site-packages (from prompt-toolkit!=3.0.37,<3.1.0,>=3.0.30->ipython>=6.1.0->ipywidgets) (0.2.13)\n",
      "Requirement already satisfied: annotated-types>=0.4.0 in /Users/uwailaekhator/anaconda3/envs/NLP/lib/python3.9/site-packages (from pydantic>=2->ydata-profiling->pandas-profiling) (0.6.0)\n",
      "Requirement already satisfied: pydantic-core==2.16.2 in /Users/uwailaekhator/anaconda3/envs/NLP/lib/python3.9/site-packages (from pydantic>=2->ydata-profiling->pandas-profiling) (2.16.2)\n",
      "Requirement already satisfied: charset-normalizer<4,>=2 in /Users/uwailaekhator/anaconda3/envs/NLP/lib/python3.9/site-packages (from requests<3,>=2.24.0->ydata-profiling->pandas-profiling) (2.0.4)\n",
      "Requirement already satisfied: idna<4,>=2.5 in /Users/uwailaekhator/anaconda3/envs/NLP/lib/python3.9/site-packages (from requests<3,>=2.24.0->ydata-profiling->pandas-profiling) (3.4)\n",
      "Requirement already satisfied: urllib3<3,>=1.21.1 in /Users/uwailaekhator/anaconda3/envs/NLP/lib/python3.9/site-packages (from requests<3,>=2.24.0->ydata-profiling->pandas-profiling) (1.26.18)\n",
      "Requirement already satisfied: certifi>=2017.4.17 in /Users/uwailaekhator/anaconda3/envs/NLP/lib/python3.9/site-packages (from requests<3,>=2.24.0->ydata-profiling->pandas-profiling) (2023.11.17)\n",
      "Requirement already satisfied: patsy>=0.5.4 in /Users/uwailaekhator/anaconda3/envs/NLP/lib/python3.9/site-packages (from statsmodels<1,>=0.13.2->ydata-profiling->pandas-profiling) (0.5.6)\n",
      "Requirement already satisfied: importlib-metadata>=3.6 in /Users/uwailaekhator/anaconda3/envs/NLP/lib/python3.9/site-packages (from typeguard<5,>=4.1.2->ydata-profiling->pandas-profiling) (7.0.0)\n",
      "Requirement already satisfied: executing in /Users/uwailaekhator/anaconda3/envs/NLP/lib/python3.9/site-packages (from stack-data->ipython>=6.1.0->ipywidgets) (0.8.3)\n",
      "Requirement already satisfied: asttokens in /Users/uwailaekhator/anaconda3/envs/NLP/lib/python3.9/site-packages (from stack-data->ipython>=6.1.0->ipywidgets) (2.0.5)\n",
      "Requirement already satisfied: pure-eval in /Users/uwailaekhator/anaconda3/envs/NLP/lib/python3.9/site-packages (from stack-data->ipython>=6.1.0->ipywidgets) (0.2.2)\n",
      "Requirement already satisfied: zipp>=0.5 in /Users/uwailaekhator/anaconda3/envs/NLP/lib/python3.9/site-packages (from importlib-metadata>=3.6->typeguard<5,>=4.1.2->ydata-profiling->pandas-profiling) (3.17.0)\n",
      "Requirement already satisfied: six in /Users/uwailaekhator/anaconda3/envs/NLP/lib/python3.9/site-packages (from patsy>=0.5.4->statsmodels<1,>=0.13.2->ydata-profiling->pandas-profiling) (1.16.0)\n",
      "Note: you may need to restart the kernel to use updated packages.\n"
     ]
    }
   ],
   "source": [
    "pip install ipywidgets widgetsnbextension pandas-profiling"
   ]
  },
  {
   "cell_type": "code",
   "execution_count": 6,
   "metadata": {},
   "outputs": [
    {
     "name": "stdout",
     "output_type": "stream",
     "text": [
      "adventure\n"
     ]
    },
    {
     "name": "stderr",
     "output_type": "stream",
     "text": [
      "/var/folders/3t/lfj_tnbd7fd1t5jjhk9_0zmw0000gq/T/ipykernel_35607/1695457682.py:14: TqdmDeprecationWarning: This function will be removed in tqdm==5.0.0\n",
      "Please use `tqdm.notebook.tqdm` instead of `tqdm.tqdm_notebook`\n",
      "  for fileid in tqdm(brown.fileids(categories=[cat])):\n"
     ]
    },
    {
     "data": {
      "application/vnd.jupyter.widget-view+json": {
       "model_id": "8d2c4c8c0c644942aa08279adc0ae24d",
       "version_major": 2,
       "version_minor": 0
      },
      "text/plain": [
       "  0%|          | 0/29 [00:00<?, ?it/s]"
      ]
     },
     "metadata": {},
     "output_type": "display_data"
    },
    {
     "name": "stdout",
     "output_type": "stream",
     "text": [
      "belles_lettres\n"
     ]
    },
    {
     "data": {
      "application/vnd.jupyter.widget-view+json": {
       "model_id": "f94b6b7a9f6a46e98b2c5abaad69419b",
       "version_major": 2,
       "version_minor": 0
      },
      "text/plain": [
       "  0%|          | 0/75 [00:00<?, ?it/s]"
      ]
     },
     "metadata": {},
     "output_type": "display_data"
    },
    {
     "name": "stdout",
     "output_type": "stream",
     "text": [
      "editorial\n"
     ]
    },
    {
     "data": {
      "application/vnd.jupyter.widget-view+json": {
       "model_id": "d2f8c59b3b0a47a0ab5be8333dfccf27",
       "version_major": 2,
       "version_minor": 0
      },
      "text/plain": [
       "  0%|          | 0/27 [00:00<?, ?it/s]"
      ]
     },
     "metadata": {},
     "output_type": "display_data"
    },
    {
     "name": "stdout",
     "output_type": "stream",
     "text": [
      "fiction\n"
     ]
    },
    {
     "data": {
      "application/vnd.jupyter.widget-view+json": {
       "model_id": "0e6ac8fabfd5404ca101c91b3c729b97",
       "version_major": 2,
       "version_minor": 0
      },
      "text/plain": [
       "  0%|          | 0/29 [00:00<?, ?it/s]"
      ]
     },
     "metadata": {},
     "output_type": "display_data"
    },
    {
     "name": "stdout",
     "output_type": "stream",
     "text": [
      "government\n"
     ]
    },
    {
     "data": {
      "application/vnd.jupyter.widget-view+json": {
       "model_id": "9397ef4353b14f069e4aef19936f470b",
       "version_major": 2,
       "version_minor": 0
      },
      "text/plain": [
       "  0%|          | 0/30 [00:00<?, ?it/s]"
      ]
     },
     "metadata": {},
     "output_type": "display_data"
    },
    {
     "name": "stdout",
     "output_type": "stream",
     "text": [
      "hobbies\n"
     ]
    },
    {
     "data": {
      "application/vnd.jupyter.widget-view+json": {
       "model_id": "04209b25b4394d56a0321da10bbe9efe",
       "version_major": 2,
       "version_minor": 0
      },
      "text/plain": [
       "  0%|          | 0/36 [00:00<?, ?it/s]"
      ]
     },
     "metadata": {},
     "output_type": "display_data"
    },
    {
     "name": "stdout",
     "output_type": "stream",
     "text": [
      "humor\n"
     ]
    },
    {
     "data": {
      "application/vnd.jupyter.widget-view+json": {
       "model_id": "6dee689fa11c49118198482780ef1f1b",
       "version_major": 2,
       "version_minor": 0
      },
      "text/plain": [
       "  0%|          | 0/9 [00:00<?, ?it/s]"
      ]
     },
     "metadata": {},
     "output_type": "display_data"
    },
    {
     "name": "stdout",
     "output_type": "stream",
     "text": [
      "learned\n"
     ]
    },
    {
     "data": {
      "application/vnd.jupyter.widget-view+json": {
       "model_id": "9e97f4b851834230a3796a0a855c4cf7",
       "version_major": 2,
       "version_minor": 0
      },
      "text/plain": [
       "  0%|          | 0/80 [00:00<?, ?it/s]"
      ]
     },
     "metadata": {},
     "output_type": "display_data"
    },
    {
     "name": "stdout",
     "output_type": "stream",
     "text": [
      "lore\n"
     ]
    },
    {
     "data": {
      "application/vnd.jupyter.widget-view+json": {
       "model_id": "421eac1c7ee84f2588c03684c683c323",
       "version_major": 2,
       "version_minor": 0
      },
      "text/plain": [
       "  0%|          | 0/48 [00:00<?, ?it/s]"
      ]
     },
     "metadata": {},
     "output_type": "display_data"
    },
    {
     "name": "stdout",
     "output_type": "stream",
     "text": [
      "mystery\n"
     ]
    },
    {
     "data": {
      "application/vnd.jupyter.widget-view+json": {
       "model_id": "69b28a96a9d84e90a9d9dd3b4fb082c2",
       "version_major": 2,
       "version_minor": 0
      },
      "text/plain": [
       "  0%|          | 0/24 [00:00<?, ?it/s]"
      ]
     },
     "metadata": {},
     "output_type": "display_data"
    },
    {
     "name": "stdout",
     "output_type": "stream",
     "text": [
      "news\n"
     ]
    },
    {
     "data": {
      "application/vnd.jupyter.widget-view+json": {
       "model_id": "41e48287101448e995fac516fb6e3183",
       "version_major": 2,
       "version_minor": 0
      },
      "text/plain": [
       "  0%|          | 0/44 [00:00<?, ?it/s]"
      ]
     },
     "metadata": {},
     "output_type": "display_data"
    },
    {
     "name": "stdout",
     "output_type": "stream",
     "text": [
      "religion\n"
     ]
    },
    {
     "data": {
      "application/vnd.jupyter.widget-view+json": {
       "model_id": "db77c953eb0c4bf6beae1d8e34043e3d",
       "version_major": 2,
       "version_minor": 0
      },
      "text/plain": [
       "  0%|          | 0/17 [00:00<?, ?it/s]"
      ]
     },
     "metadata": {},
     "output_type": "display_data"
    },
    {
     "name": "stdout",
     "output_type": "stream",
     "text": [
      "reviews\n"
     ]
    },
    {
     "data": {
      "application/vnd.jupyter.widget-view+json": {
       "model_id": "4bc3502a257044a986e649cc2863d7ca",
       "version_major": 2,
       "version_minor": 0
      },
      "text/plain": [
       "  0%|          | 0/17 [00:00<?, ?it/s]"
      ]
     },
     "metadata": {},
     "output_type": "display_data"
    },
    {
     "name": "stdout",
     "output_type": "stream",
     "text": [
      "romance\n"
     ]
    },
    {
     "data": {
      "application/vnd.jupyter.widget-view+json": {
       "model_id": "bbf87d7c24464c1384267867bae1d6e2",
       "version_major": 2,
       "version_minor": 0
      },
      "text/plain": [
       "  0%|          | 0/29 [00:00<?, ?it/s]"
      ]
     },
     "metadata": {},
     "output_type": "display_data"
    },
    {
     "name": "stdout",
     "output_type": "stream",
     "text": [
      "science_fiction\n"
     ]
    },
    {
     "data": {
      "application/vnd.jupyter.widget-view+json": {
       "model_id": "88128837f2934c69898a445c707a793d",
       "version_major": 2,
       "version_minor": 0
      },
      "text/plain": [
       "  0%|          | 0/6 [00:00<?, ?it/s]"
      ]
     },
     "metadata": {},
     "output_type": "display_data"
    }
   ],
   "source": [
    "\n",
    "import numpy as np\n",
    "from collections import defaultdict\n",
    "import tqdm # tqdm displays a progress bar\n",
    "from tqdm import tqdm_notebook as tqdm # tqdm is a nice process indicator \n",
    "\n",
    "category_vectors = []\n",
    "\n",
    "cats = brown.categories()\n",
    "    \n",
    "# for each category\n",
    "for cat in cats:\n",
    "    print(cat)\n",
    "    # grab all of the documents\n",
    "    for fileid in tqdm(brown.fileids(categories=[cat])):\n",
    "        sents = brown.sents(fileids=[fileid])\n",
    "        sent_vecs = []\n",
    "        for sent in sents:\n",
    "            sent = ' '.join(sent)\n",
    "            sent = nlp(sent)\n",
    "            # grab all of the words, find their embedding, sum all embeddings\n",
    "            word_sum = np.sum([tok.vector for tok in sent], axis=0) # why axis=0?\n",
    "            # add the now summed embedding to the list for this category\n",
    "            sent_vecs.append(word_sum)\n",
    "        category_vectors.append((cat,np.sum(sent_vecs, axis=0)))\n",
    "    "
   ]
  },
  {
   "cell_type": "code",
   "execution_count": 9,
   "metadata": {},
   "outputs": [],
   "source": [
    "import pandas as pd\n",
    "\n",
    "keys,values=zip(*category_vectors) # unzip using a *\n",
    "\n",
    "data = pd.DataFrame({'cat':keys,'vectors':values})"
   ]
  },
  {
   "cell_type": "code",
   "execution_count": 10,
   "metadata": {},
   "outputs": [
    {
     "data": {
      "text/html": [
       "<div>\n",
       "<style scoped>\n",
       "    .dataframe tbody tr th:only-of-type {\n",
       "        vertical-align: middle;\n",
       "    }\n",
       "\n",
       "    .dataframe tbody tr th {\n",
       "        vertical-align: top;\n",
       "    }\n",
       "\n",
       "    .dataframe thead th {\n",
       "        text-align: right;\n",
       "    }\n",
       "</style>\n",
       "<table border=\"1\" class=\"dataframe\">\n",
       "  <thead>\n",
       "    <tr style=\"text-align: right;\">\n",
       "      <th></th>\n",
       "      <th>cat</th>\n",
       "      <th>vectors</th>\n",
       "    </tr>\n",
       "  </thead>\n",
       "  <tbody>\n",
       "    <tr>\n",
       "      <th>0</th>\n",
       "      <td>adventure</td>\n",
       "      <td>[-391.54767, -252.42824, 64.12453, -457.9177, ...</td>\n",
       "    </tr>\n",
       "    <tr>\n",
       "      <th>1</th>\n",
       "      <td>adventure</td>\n",
       "      <td>[-208.12047, -293.2177, 26.995764, -318.43024,...</td>\n",
       "    </tr>\n",
       "    <tr>\n",
       "      <th>2</th>\n",
       "      <td>adventure</td>\n",
       "      <td>[-235.97108, -250.355, 75.03412, -482.97522, -...</td>\n",
       "    </tr>\n",
       "    <tr>\n",
       "      <th>3</th>\n",
       "      <td>adventure</td>\n",
       "      <td>[-175.13382, -250.06433, -39.461098, -243.2764...</td>\n",
       "    </tr>\n",
       "    <tr>\n",
       "      <th>4</th>\n",
       "      <td>adventure</td>\n",
       "      <td>[-299.08322, -166.47307, 72.89785, -428.13815,...</td>\n",
       "    </tr>\n",
       "    <tr>\n",
       "      <th>5</th>\n",
       "      <td>adventure</td>\n",
       "      <td>[248.29102, -266.11127, 101.59741, -217.71622,...</td>\n",
       "    </tr>\n",
       "    <tr>\n",
       "      <th>6</th>\n",
       "      <td>adventure</td>\n",
       "      <td>[-331.19736, -350.97147, 66.65898, -307.16693,...</td>\n",
       "    </tr>\n",
       "    <tr>\n",
       "      <th>7</th>\n",
       "      <td>adventure</td>\n",
       "      <td>[99.70201, -150.66492, 67.114105, -224.48262, ...</td>\n",
       "    </tr>\n",
       "    <tr>\n",
       "      <th>8</th>\n",
       "      <td>adventure</td>\n",
       "      <td>[-365.29047, -532.0815, 277.13153, -378.90637,...</td>\n",
       "    </tr>\n",
       "    <tr>\n",
       "      <th>9</th>\n",
       "      <td>adventure</td>\n",
       "      <td>[-446.13568, -480.46902, 95.30582, -414.78204,...</td>\n",
       "    </tr>\n",
       "    <tr>\n",
       "      <th>10</th>\n",
       "      <td>adventure</td>\n",
       "      <td>[113.65657, -331.23016, 134.4924, -133.46725, ...</td>\n",
       "    </tr>\n",
       "    <tr>\n",
       "      <th>11</th>\n",
       "      <td>adventure</td>\n",
       "      <td>[-459.92938, -416.2808, 45.672615, -419.51862,...</td>\n",
       "    </tr>\n",
       "    <tr>\n",
       "      <th>12</th>\n",
       "      <td>adventure</td>\n",
       "      <td>[-258.63443, -465.8481, 53.01596, -337.88852, ...</td>\n",
       "    </tr>\n",
       "    <tr>\n",
       "      <th>13</th>\n",
       "      <td>adventure</td>\n",
       "      <td>[-38.007893, -358.9045, 121.2813, -328.5989, -...</td>\n",
       "    </tr>\n",
       "    <tr>\n",
       "      <th>14</th>\n",
       "      <td>adventure</td>\n",
       "      <td>[-92.911865, -325.6785, 44.86077, -250.57304, ...</td>\n",
       "    </tr>\n",
       "    <tr>\n",
       "      <th>15</th>\n",
       "      <td>adventure</td>\n",
       "      <td>[-14.442227, -454.05734, 83.08552, -161.60358,...</td>\n",
       "    </tr>\n",
       "    <tr>\n",
       "      <th>16</th>\n",
       "      <td>adventure</td>\n",
       "      <td>[-377.35477, -447.19785, 88.83253, -389.75107,...</td>\n",
       "    </tr>\n",
       "    <tr>\n",
       "      <th>17</th>\n",
       "      <td>adventure</td>\n",
       "      <td>[-75.09315, -280.8026, -22.720549, -161.47804,...</td>\n",
       "    </tr>\n",
       "    <tr>\n",
       "      <th>18</th>\n",
       "      <td>adventure</td>\n",
       "      <td>[-166.26833, -324.82816, 48.002598, -262.1167,...</td>\n",
       "    </tr>\n",
       "    <tr>\n",
       "      <th>19</th>\n",
       "      <td>adventure</td>\n",
       "      <td>[-64.306984, -294.40704, 116.125656, -401.6674...</td>\n",
       "    </tr>\n",
       "    <tr>\n",
       "      <th>20</th>\n",
       "      <td>adventure</td>\n",
       "      <td>[-12.939863, -250.79115, -82.23416, -164.36568...</td>\n",
       "    </tr>\n",
       "    <tr>\n",
       "      <th>21</th>\n",
       "      <td>adventure</td>\n",
       "      <td>[129.99106, -303.56982, 110.65253, -256.09534,...</td>\n",
       "    </tr>\n",
       "    <tr>\n",
       "      <th>22</th>\n",
       "      <td>adventure</td>\n",
       "      <td>[41.132614, -191.99646, -23.596249, -255.23952...</td>\n",
       "    </tr>\n",
       "    <tr>\n",
       "      <th>23</th>\n",
       "      <td>adventure</td>\n",
       "      <td>[-529.4639, -497.87314, 153.13426, -300.96707,...</td>\n",
       "    </tr>\n",
       "    <tr>\n",
       "      <th>24</th>\n",
       "      <td>adventure</td>\n",
       "      <td>[0.28080988, -195.85162, 40.587452, -293.88684...</td>\n",
       "    </tr>\n",
       "    <tr>\n",
       "      <th>25</th>\n",
       "      <td>adventure</td>\n",
       "      <td>[-129.62474, -346.91818, 33.620464, -168.15091...</td>\n",
       "    </tr>\n",
       "    <tr>\n",
       "      <th>26</th>\n",
       "      <td>adventure</td>\n",
       "      <td>[-254.73676, -467.6661, 56.49347, -343.11166, ...</td>\n",
       "    </tr>\n",
       "    <tr>\n",
       "      <th>27</th>\n",
       "      <td>adventure</td>\n",
       "      <td>[2.8662195, -297.5427, -102.7322, -63.841732, ...</td>\n",
       "    </tr>\n",
       "    <tr>\n",
       "      <th>28</th>\n",
       "      <td>adventure</td>\n",
       "      <td>[-380.4301, -356.3609, 93.532364, -443.5138, -...</td>\n",
       "    </tr>\n",
       "    <tr>\n",
       "      <th>29</th>\n",
       "      <td>belles_lettres</td>\n",
       "      <td>[280.32632, -518.00775, -46.561462, 115.043884...</td>\n",
       "    </tr>\n",
       "  </tbody>\n",
       "</table>\n",
       "</div>"
      ],
      "text/plain": [
       "               cat                                            vectors\n",
       "0        adventure  [-391.54767, -252.42824, 64.12453, -457.9177, ...\n",
       "1        adventure  [-208.12047, -293.2177, 26.995764, -318.43024,...\n",
       "2        adventure  [-235.97108, -250.355, 75.03412, -482.97522, -...\n",
       "3        adventure  [-175.13382, -250.06433, -39.461098, -243.2764...\n",
       "4        adventure  [-299.08322, -166.47307, 72.89785, -428.13815,...\n",
       "5        adventure  [248.29102, -266.11127, 101.59741, -217.71622,...\n",
       "6        adventure  [-331.19736, -350.97147, 66.65898, -307.16693,...\n",
       "7        adventure  [99.70201, -150.66492, 67.114105, -224.48262, ...\n",
       "8        adventure  [-365.29047, -532.0815, 277.13153, -378.90637,...\n",
       "9        adventure  [-446.13568, -480.46902, 95.30582, -414.78204,...\n",
       "10       adventure  [113.65657, -331.23016, 134.4924, -133.46725, ...\n",
       "11       adventure  [-459.92938, -416.2808, 45.672615, -419.51862,...\n",
       "12       adventure  [-258.63443, -465.8481, 53.01596, -337.88852, ...\n",
       "13       adventure  [-38.007893, -358.9045, 121.2813, -328.5989, -...\n",
       "14       adventure  [-92.911865, -325.6785, 44.86077, -250.57304, ...\n",
       "15       adventure  [-14.442227, -454.05734, 83.08552, -161.60358,...\n",
       "16       adventure  [-377.35477, -447.19785, 88.83253, -389.75107,...\n",
       "17       adventure  [-75.09315, -280.8026, -22.720549, -161.47804,...\n",
       "18       adventure  [-166.26833, -324.82816, 48.002598, -262.1167,...\n",
       "19       adventure  [-64.306984, -294.40704, 116.125656, -401.6674...\n",
       "20       adventure  [-12.939863, -250.79115, -82.23416, -164.36568...\n",
       "21       adventure  [129.99106, -303.56982, 110.65253, -256.09534,...\n",
       "22       adventure  [41.132614, -191.99646, -23.596249, -255.23952...\n",
       "23       adventure  [-529.4639, -497.87314, 153.13426, -300.96707,...\n",
       "24       adventure  [0.28080988, -195.85162, 40.587452, -293.88684...\n",
       "25       adventure  [-129.62474, -346.91818, 33.620464, -168.15091...\n",
       "26       adventure  [-254.73676, -467.6661, 56.49347, -343.11166, ...\n",
       "27       adventure  [2.8662195, -297.5427, -102.7322, -63.841732, ...\n",
       "28       adventure  [-380.4301, -356.3609, 93.532364, -443.5138, -...\n",
       "29  belles_lettres  [280.32632, -518.00775, -46.561462, 115.043884..."
      ]
     },
     "execution_count": 10,
     "metadata": {},
     "output_type": "execute_result"
    }
   ],
   "source": [
    "data[:30]"
   ]
  },
  {
   "cell_type": "code",
   "execution_count": 11,
   "metadata": {},
   "outputs": [],
   "source": [
    "total = len(data)"
   ]
  },
  {
   "cell_type": "markdown",
   "metadata": {},
   "source": [
    "#### compute the baselines"
   ]
  },
  {
   "cell_type": "code",
   "execution_count": 12,
   "metadata": {},
   "outputs": [
    {
     "name": "stdout",
     "output_type": "stream",
     "text": [
      "random baseline 0.06666666666666667\n",
      "most common baseline?\n",
      "adventure 0.058\n",
      "belles_lettres 0.15\n",
      "editorial 0.054\n",
      "fiction 0.058\n",
      "government 0.06\n",
      "hobbies 0.072\n",
      "humor 0.018\n",
      "learned 0.16\n",
      "lore 0.096\n",
      "mystery 0.048\n",
      "news 0.088\n",
      "religion 0.034\n",
      "reviews 0.034\n",
      "romance 0.058\n",
      "science_fiction 0.012\n"
     ]
    }
   ],
   "source": [
    "print('random baseline {}'.format(1.0/len(cat)))\n",
    "\n",
    "print('most common baseline?')\n",
    "for cat in cats:\n",
    "    print(cat, len(data[data.cat==cat])/total)"
   ]
  },
  {
   "cell_type": "markdown",
   "metadata": {},
   "source": [
    "#### split the data into train/test"
   ]
  },
  {
   "cell_type": "code",
   "execution_count": 13,
   "metadata": {},
   "outputs": [
    {
     "data": {
      "text/plain": [
       "((50, 2), (450, 2))"
      ]
     },
     "execution_count": 13,
     "metadata": {},
     "output_type": "execute_result"
    }
   ],
   "source": [
    "test = data.sample(frac=0.1,random_state=200)\n",
    "train = data.drop(test.index)\n",
    "\n",
    "test.shape, train.shape "
   ]
  },
  {
   "cell_type": "markdown",
   "metadata": {},
   "source": [
    "#### train a logistic regression classifier"
   ]
  },
  {
   "cell_type": "code",
   "execution_count": 14,
   "metadata": {},
   "outputs": [],
   "source": [
    "from sklearn import preprocessing\n",
    "le = preprocessing.LabelEncoder()\n",
    "le.fit(data.cat) \n",
    "X = [x for x in train.vectors]\n",
    "y = le.transform(train.cat)"
   ]
  },
  {
   "cell_type": "code",
   "execution_count": 15,
   "metadata": {},
   "outputs": [],
   "source": [
    "from sklearn.linear_model import LogisticRegression"
   ]
  },
  {
   "cell_type": "code",
   "execution_count": 16,
   "metadata": {},
   "outputs": [],
   "source": [
    "clfr = LogisticRegression(multi_class='multinomial', solver='lbfgs')"
   ]
  },
  {
   "cell_type": "code",
   "execution_count": 17,
   "metadata": {},
   "outputs": [
    {
     "name": "stderr",
     "output_type": "stream",
     "text": [
      "/Users/uwailaekhator/anaconda3/envs/NLP/lib/python3.9/site-packages/sklearn/linear_model/_logistic.py:460: ConvergenceWarning: lbfgs failed to converge (status=1):\n",
      "STOP: TOTAL NO. of ITERATIONS REACHED LIMIT.\n",
      "\n",
      "Increase the number of iterations (max_iter) or scale the data as shown in:\n",
      "    https://scikit-learn.org/stable/modules/preprocessing.html\n",
      "Please also refer to the documentation for alternative solver options:\n",
      "    https://scikit-learn.org/stable/modules/linear_model.html#logistic-regression\n",
      "  n_iter_i = _check_optimize_result(\n"
     ]
    },
    {
     "data": {
      "text/html": [
       "<style>#sk-container-id-1 {color: black;}#sk-container-id-1 pre{padding: 0;}#sk-container-id-1 div.sk-toggleable {background-color: white;}#sk-container-id-1 label.sk-toggleable__label {cursor: pointer;display: block;width: 100%;margin-bottom: 0;padding: 0.3em;box-sizing: border-box;text-align: center;}#sk-container-id-1 label.sk-toggleable__label-arrow:before {content: \"▸\";float: left;margin-right: 0.25em;color: #696969;}#sk-container-id-1 label.sk-toggleable__label-arrow:hover:before {color: black;}#sk-container-id-1 div.sk-estimator:hover label.sk-toggleable__label-arrow:before {color: black;}#sk-container-id-1 div.sk-toggleable__content {max-height: 0;max-width: 0;overflow: hidden;text-align: left;background-color: #f0f8ff;}#sk-container-id-1 div.sk-toggleable__content pre {margin: 0.2em;color: black;border-radius: 0.25em;background-color: #f0f8ff;}#sk-container-id-1 input.sk-toggleable__control:checked~div.sk-toggleable__content {max-height: 200px;max-width: 100%;overflow: auto;}#sk-container-id-1 input.sk-toggleable__control:checked~label.sk-toggleable__label-arrow:before {content: \"▾\";}#sk-container-id-1 div.sk-estimator input.sk-toggleable__control:checked~label.sk-toggleable__label {background-color: #d4ebff;}#sk-container-id-1 div.sk-label input.sk-toggleable__control:checked~label.sk-toggleable__label {background-color: #d4ebff;}#sk-container-id-1 input.sk-hidden--visually {border: 0;clip: rect(1px 1px 1px 1px);clip: rect(1px, 1px, 1px, 1px);height: 1px;margin: -1px;overflow: hidden;padding: 0;position: absolute;width: 1px;}#sk-container-id-1 div.sk-estimator {font-family: monospace;background-color: #f0f8ff;border: 1px dotted black;border-radius: 0.25em;box-sizing: border-box;margin-bottom: 0.5em;}#sk-container-id-1 div.sk-estimator:hover {background-color: #d4ebff;}#sk-container-id-1 div.sk-parallel-item::after {content: \"\";width: 100%;border-bottom: 1px solid gray;flex-grow: 1;}#sk-container-id-1 div.sk-label:hover label.sk-toggleable__label {background-color: #d4ebff;}#sk-container-id-1 div.sk-serial::before {content: \"\";position: absolute;border-left: 1px solid gray;box-sizing: border-box;top: 0;bottom: 0;left: 50%;z-index: 0;}#sk-container-id-1 div.sk-serial {display: flex;flex-direction: column;align-items: center;background-color: white;padding-right: 0.2em;padding-left: 0.2em;position: relative;}#sk-container-id-1 div.sk-item {position: relative;z-index: 1;}#sk-container-id-1 div.sk-parallel {display: flex;align-items: stretch;justify-content: center;background-color: white;position: relative;}#sk-container-id-1 div.sk-item::before, #sk-container-id-1 div.sk-parallel-item::before {content: \"\";position: absolute;border-left: 1px solid gray;box-sizing: border-box;top: 0;bottom: 0;left: 50%;z-index: -1;}#sk-container-id-1 div.sk-parallel-item {display: flex;flex-direction: column;z-index: 1;position: relative;background-color: white;}#sk-container-id-1 div.sk-parallel-item:first-child::after {align-self: flex-end;width: 50%;}#sk-container-id-1 div.sk-parallel-item:last-child::after {align-self: flex-start;width: 50%;}#sk-container-id-1 div.sk-parallel-item:only-child::after {width: 0;}#sk-container-id-1 div.sk-dashed-wrapped {border: 1px dashed gray;margin: 0 0.4em 0.5em 0.4em;box-sizing: border-box;padding-bottom: 0.4em;background-color: white;}#sk-container-id-1 div.sk-label label {font-family: monospace;font-weight: bold;display: inline-block;line-height: 1.2em;}#sk-container-id-1 div.sk-label-container {text-align: center;}#sk-container-id-1 div.sk-container {/* jupyter's `normalize.less` sets `[hidden] { display: none; }` but bootstrap.min.css set `[hidden] { display: none !important; }` so we also need the `!important` here to be able to override the default hidden behavior on the sphinx rendered scikit-learn.org. See: https://github.com/scikit-learn/scikit-learn/issues/21755 */display: inline-block !important;position: relative;}#sk-container-id-1 div.sk-text-repr-fallback {display: none;}</style><div id=\"sk-container-id-1\" class=\"sk-top-container\"><div class=\"sk-text-repr-fallback\"><pre>LogisticRegression(multi_class=&#x27;multinomial&#x27;)</pre><b>In a Jupyter environment, please rerun this cell to show the HTML representation or trust the notebook. <br />On GitHub, the HTML representation is unable to render, please try loading this page with nbviewer.org.</b></div><div class=\"sk-container\" hidden><div class=\"sk-item\"><div class=\"sk-estimator sk-toggleable\"><input class=\"sk-toggleable__control sk-hidden--visually\" id=\"sk-estimator-id-1\" type=\"checkbox\" checked><label for=\"sk-estimator-id-1\" class=\"sk-toggleable__label sk-toggleable__label-arrow\">LogisticRegression</label><div class=\"sk-toggleable__content\"><pre>LogisticRegression(multi_class=&#x27;multinomial&#x27;)</pre></div></div></div></div></div>"
      ],
      "text/plain": [
       "LogisticRegression(multi_class='multinomial')"
      ]
     },
     "execution_count": 17,
     "metadata": {},
     "output_type": "execute_result"
    }
   ],
   "source": [
    "clfr.fit(X,y)"
   ]
  },
  {
   "cell_type": "markdown",
   "metadata": {},
   "source": [
    "#### evaluate "
   ]
  },
  {
   "cell_type": "code",
   "execution_count": 18,
   "metadata": {},
   "outputs": [],
   "source": [
    "from sklearn.metrics import accuracy_score"
   ]
  },
  {
   "cell_type": "code",
   "execution_count": 19,
   "metadata": {},
   "outputs": [
    {
     "data": {
      "text/plain": [
       "0.48"
      ]
     },
     "execution_count": 19,
     "metadata": {},
     "output_type": "execute_result"
    }
   ],
   "source": [
    "test_y = le.transform(test.cat)\n",
    "test_X = [x for x in test.vectors]\n",
    "\n",
    "score = accuracy_score(clfr.predict(test_X), test_y)\n",
    "score"
   ]
  },
  {
   "cell_type": "markdown",
   "metadata": {},
   "source": [
    "### Results\n",
    "\n",
    "- GoogleNews-vectors-negative300.magnitude 0.4 (w2v)\n",
    "- wiki-news-300d-1M.magnitude 0.56 (bert)\n",
    "- glove.6B.300d.magnitude 0.52 (glove)"
   ]
  },
  {
   "cell_type": "code",
   "execution_count": 20,
   "metadata": {},
   "outputs": [
    {
     "data": {
      "text/plain": [
       "((50, 2), (450, 2))"
      ]
     },
     "execution_count": 20,
     "metadata": {},
     "output_type": "execute_result"
    }
   ],
   "source": [
    "test.shape, train.shape "
   ]
  },
  {
   "cell_type": "code",
   "execution_count": 21,
   "metadata": {},
   "outputs": [
    {
     "data": {
      "text/plain": [
       "((450, 96), (450, 15))"
      ]
     },
     "execution_count": 21,
     "metadata": {},
     "output_type": "execute_result"
    }
   ],
   "source": [
    "#Preparing train.cat for keras\n",
    "\n",
    "from sklearn import preprocessing\n",
    "\n",
    "#test = data.sample(frac=0.1,random_state=200)\n",
    "#train = data.drop(test.index)\n",
    "\n",
    "le = preprocessing.LabelEncoder() # convert to numerical categories\n",
    "ohe = preprocessing.OneHotEncoder() # convert categories to distributions (i.e., 1-hot vectors)\n",
    "le.fit(data.cat)\n",
    "yTrain = le.transform(train.cat).reshape(-1, 1) # this is magic\n",
    "ohe.fit(yTrain)\n",
    "yTrain = ohe.transform(yTrain).todense()\n",
    "\n",
    "XTrain = np.array([x for x in train.vectors])\n",
    "\n",
    "XTrain.shape, yTrain.shape"
   ]
  },
  {
   "cell_type": "code",
   "execution_count": 22,
   "metadata": {},
   "outputs": [
    {
     "data": {
      "text/plain": [
       "((50, 96), (50, 15))"
      ]
     },
     "execution_count": 22,
     "metadata": {},
     "output_type": "execute_result"
    }
   ],
   "source": [
    "#Preparing test.cat for keras\n",
    "\n",
    "yTest = le.transform(test.cat).reshape(-1, 1) # this is magic\n",
    "\n",
    "yTest = ohe.transform(yTest).todense()\n",
    "\n",
    "XTest = np.array([x for x in test.vectors])\n",
    "\n",
    "XTest.shape, yTest.shape"
   ]
  },
  {
   "cell_type": "markdown",
   "metadata": {},
   "source": [
    "### Installing and Importing Keras and Tensorflow"
   ]
  },
  {
   "cell_type": "code",
   "execution_count": 187,
   "metadata": {},
   "outputs": [],
   "source": [
    "# Seed value\n",
    "seed_value= 5\n",
    "\n",
    "# 1. Set the `PYTHONHASHSEED` environment variable at a fixed value\n",
    "import os\n",
    "os.environ['PYTHONHASHSEED']=str(seed_value)\n",
    "\n",
    "# 2. Set the `python` built-in pseudo-random generator at a fixed value\n",
    "import random\n",
    "random.seed(seed_value)\n",
    "\n",
    "# 3. Set the `numpy` pseudo-random generator at a fixed value\n",
    "import numpy as np\n",
    "np.random.seed(seed_value)\n",
    "\n",
    "# 4. Set the `tensorflow` pseudo-random generator at a fixed value\n",
    "import tensorflow as tf\n",
    "tf.random.set_seed(seed_value)\n",
    "# for later versions: \n",
    "# tf.compat.v1.set_random_seed(seed_value)\n",
    "\n",
    "# 5. Configure a new global `tensorflow` session\n",
    "from keras import backend as K\n",
    "#session_conf = tf.ConfigProto(intra_op_parallelism_threads=1, inter_op_parallelism_threads=1)\n",
    "#sess = tf.Session(graph=tf.get_default_graph(), config=session_conf)\n",
    "#K.set_session(sess)\n",
    "# for later versions:\n",
    "session_conf = tf.compat.v1.ConfigProto(intra_op_parallelism_threads=1, inter_op_parallelism_threads=1)\n",
    "sess = tf.compat.v1.Session(graph=tf.compat.v1.get_default_graph(), config=session_conf)\n",
    "tf.compat.v1.keras.backend.set_session(sess)\n"
   ]
  },
  {
   "cell_type": "code",
   "execution_count": 7,
   "metadata": {},
   "outputs": [],
   "source": [
    "#!pip install TensorFlow==2.1.0"
   ]
  },
  {
   "cell_type": "code",
   "execution_count": 120,
   "metadata": {},
   "outputs": [],
   "source": [
    "#import tensorflow as tf\n",
    "#tf.random.set_seed('36')\n",
    "#print(tf.__version__)"
   ]
  },
  {
   "cell_type": "code",
   "execution_count": 188,
   "metadata": {},
   "outputs": [],
   "source": [
    "#!pip install keras\n",
    "import keras as keras\n",
    "#keras.utils.set_random_seed(1337)\n",
    "#print(keras.__version__)"
   ]
  },
  {
   "cell_type": "code",
   "execution_count": 221,
   "metadata": {},
   "outputs": [],
   "source": [
    "#import numpy as np\n",
    "#seed = 7\n",
    "#np.random.seed(seed)\n",
    "from keras.models import Sequential\n",
    "from keras.layers import Dense, Dropout"
   ]
  },
  {
   "cell_type": "markdown",
   "metadata": {},
   "source": [
    "### Building our model"
   ]
  },
  {
   "cell_type": "markdown",
   "metadata": {},
   "source": [
    "#### Using ReLU"
   ]
  },
  {
   "cell_type": "code",
   "execution_count": 190,
   "metadata": {},
   "outputs": [],
   "source": [
    "# Building the model\n",
    "model = Sequential()\n",
    "model.add(Dense(50, activation='ReLU', input_shape=(96,)))\n",
    "model.add(Dense(15, activation='softmax'))"
   ]
  },
  {
   "cell_type": "code",
   "execution_count": 191,
   "metadata": {},
   "outputs": [],
   "source": [
    "# Compiling the model\n",
    "opt = keras.optimizers.Adam(learning_rate=0.01)\n",
    "model.compile(optimizer=opt, loss='categorical_crossentropy', metrics=['accuracy'])"
   ]
  },
  {
   "cell_type": "code",
   "execution_count": 194,
   "metadata": {
    "scrolled": true
   },
   "outputs": [
    {
     "name": "stdout",
     "output_type": "stream",
     "text": [
      "Epoch 1/50\n",
      "45/45 [==============================] - 0s 1ms/step - loss: 2.5275 - accuracy: 0.1622\n",
      "Epoch 2/50\n",
      "45/45 [==============================] - 0s 1ms/step - loss: 2.5280 - accuracy: 0.1622\n",
      "Epoch 3/50\n",
      "45/45 [==============================] - 0s 1ms/step - loss: 2.5268 - accuracy: 0.1622\n",
      "Epoch 4/50\n",
      "45/45 [==============================] - 0s 1ms/step - loss: 2.5272 - accuracy: 0.1622\n",
      "Epoch 5/50\n",
      "45/45 [==============================] - 0s 1ms/step - loss: 2.5284 - accuracy: 0.1622\n",
      "Epoch 6/50\n",
      "45/45 [==============================] - 0s 1ms/step - loss: 2.5277 - accuracy: 0.1622\n",
      "Epoch 7/50\n",
      "45/45 [==============================] - 0s 1ms/step - loss: 2.5285 - accuracy: 0.1622\n",
      "Epoch 8/50\n",
      "45/45 [==============================] - 0s 1ms/step - loss: 2.5280 - accuracy: 0.1622\n",
      "Epoch 9/50\n",
      "45/45 [==============================] - 0s 1ms/step - loss: 2.5270 - accuracy: 0.1622\n",
      "Epoch 10/50\n",
      "45/45 [==============================] - 0s 1ms/step - loss: 2.5282 - accuracy: 0.1622\n",
      "Epoch 11/50\n",
      "45/45 [==============================] - 0s 1ms/step - loss: 2.5282 - accuracy: 0.1622\n",
      "Epoch 12/50\n",
      "45/45 [==============================] - 0s 1ms/step - loss: 2.5284 - accuracy: 0.1356\n",
      "Epoch 13/50\n",
      "45/45 [==============================] - 0s 1ms/step - loss: 2.5278 - accuracy: 0.1622\n",
      "Epoch 14/50\n",
      "45/45 [==============================] - 0s 1ms/step - loss: 2.5276 - accuracy: 0.1622\n",
      "Epoch 15/50\n",
      "45/45 [==============================] - 0s 1ms/step - loss: 2.5269 - accuracy: 0.1622\n",
      "Epoch 16/50\n",
      "45/45 [==============================] - 0s 1ms/step - loss: 2.5293 - accuracy: 0.1622\n",
      "Epoch 17/50\n",
      "45/45 [==============================] - 0s 1ms/step - loss: 2.5287 - accuracy: 0.1622\n",
      "Epoch 18/50\n",
      "45/45 [==============================] - 0s 1ms/step - loss: 2.5271 - accuracy: 0.1622\n",
      "Epoch 19/50\n",
      "45/45 [==============================] - 0s 1ms/step - loss: 2.5279 - accuracy: 0.1511\n",
      "Epoch 20/50\n",
      "45/45 [==============================] - 0s 1ms/step - loss: 2.5269 - accuracy: 0.1622\n",
      "Epoch 21/50\n",
      "45/45 [==============================] - 0s 1ms/step - loss: 2.5286 - accuracy: 0.1622\n",
      "Epoch 22/50\n",
      "45/45 [==============================] - 0s 1ms/step - loss: 2.5289 - accuracy: 0.1222\n",
      "Epoch 23/50\n",
      "45/45 [==============================] - 0s 1ms/step - loss: 2.5275 - accuracy: 0.1622\n",
      "Epoch 24/50\n",
      "45/45 [==============================] - 0s 1ms/step - loss: 2.5271 - accuracy: 0.1622\n",
      "Epoch 25/50\n",
      "45/45 [==============================] - 0s 1ms/step - loss: 2.5270 - accuracy: 0.1622\n",
      "Epoch 26/50\n",
      "45/45 [==============================] - 0s 1ms/step - loss: 2.5269 - accuracy: 0.1622\n",
      "Epoch 27/50\n",
      "45/45 [==============================] - 0s 1ms/step - loss: 2.5271 - accuracy: 0.1622\n",
      "Epoch 28/50\n",
      "45/45 [==============================] - 0s 1ms/step - loss: 2.5271 - accuracy: 0.1622\n",
      "Epoch 29/50\n",
      "45/45 [==============================] - 0s 1ms/step - loss: 2.5273 - accuracy: 0.1622\n",
      "Epoch 30/50\n",
      "45/45 [==============================] - 0s 1ms/step - loss: 2.5272 - accuracy: 0.1622\n",
      "Epoch 31/50\n",
      "45/45 [==============================] - 0s 982us/step - loss: 2.5275 - accuracy: 0.1622\n",
      "Epoch 32/50\n",
      "45/45 [==============================] - 0s 1ms/step - loss: 2.5273 - accuracy: 0.1622\n",
      "Epoch 33/50\n",
      "45/45 [==============================] - 0s 1ms/step - loss: 2.5283 - accuracy: 0.1622\n",
      "Epoch 34/50\n",
      "45/45 [==============================] - 0s 1ms/step - loss: 2.5276 - accuracy: 0.1489\n",
      "Epoch 35/50\n",
      "45/45 [==============================] - 0s 1ms/step - loss: 2.5277 - accuracy: 0.1622\n",
      "Epoch 36/50\n",
      "45/45 [==============================] - 0s 994us/step - loss: 2.5281 - accuracy: 0.1622\n",
      "Epoch 37/50\n",
      "45/45 [==============================] - 0s 1ms/step - loss: 2.5278 - accuracy: 0.1422\n",
      "Epoch 38/50\n",
      "45/45 [==============================] - 0s 1ms/step - loss: 2.5267 - accuracy: 0.1622\n",
      "Epoch 39/50\n",
      "45/45 [==============================] - 0s 1ms/step - loss: 2.5273 - accuracy: 0.1622\n",
      "Epoch 40/50\n",
      "45/45 [==============================] - 0s 1ms/step - loss: 2.5273 - accuracy: 0.1622\n",
      "Epoch 41/50\n",
      "45/45 [==============================] - 0s 1ms/step - loss: 2.5285 - accuracy: 0.1622\n",
      "Epoch 42/50\n",
      "45/45 [==============================] - 0s 945us/step - loss: 2.5282 - accuracy: 0.1622\n",
      "Epoch 43/50\n",
      "45/45 [==============================] - 0s 940us/step - loss: 2.5266 - accuracy: 0.1511\n",
      "Epoch 44/50\n",
      "45/45 [==============================] - 0s 925us/step - loss: 2.5279 - accuracy: 0.1622\n",
      "Epoch 45/50\n",
      "45/45 [==============================] - 0s 961us/step - loss: 2.5273 - accuracy: 0.1622\n",
      "Epoch 46/50\n",
      "45/45 [==============================] - 0s 927us/step - loss: 2.5275 - accuracy: 0.1622\n",
      "Epoch 47/50\n",
      "45/45 [==============================] - 0s 945us/step - loss: 2.5283 - accuracy: 0.1444\n",
      "Epoch 48/50\n",
      "45/45 [==============================] - 0s 1ms/step - loss: 2.5274 - accuracy: 0.1622\n",
      "Epoch 49/50\n",
      "45/45 [==============================] - 0s 2ms/step - loss: 2.5282 - accuracy: 0.1622\n",
      "Epoch 50/50\n",
      "45/45 [==============================] - 0s 1ms/step - loss: 2.5279 - accuracy: 0.1444\n"
     ]
    },
    {
     "data": {
      "text/plain": [
       "<keras.src.callbacks.History at 0x7f9da8354f10>"
      ]
     },
     "execution_count": 194,
     "metadata": {},
     "output_type": "execute_result"
    }
   ],
   "source": [
    "# Train the model\n",
    "model.fit(XTrain, yTrain, epochs=50, batch_size=10)"
   ]
  },
  {
   "cell_type": "code",
   "execution_count": 195,
   "metadata": {},
   "outputs": [
    {
     "name": "stdout",
     "output_type": "stream",
     "text": [
      "2/2 [==============================] - 0s 4ms/step - loss: 2.5269 - accuracy: 0.1600\n",
      "Test model loss: 2.526930809020996\n",
      "Test model accuracy: 0.1599999964237213\n"
     ]
    }
   ],
   "source": [
    "# Evaluating the model on the test data\n",
    "loss, accuracy = model.evaluate(XTest, yTest)\n",
    "print('Test model loss:', loss)\n",
    "print('Test model accuracy:', accuracy)"
   ]
  },
  {
   "cell_type": "markdown",
   "metadata": {},
   "source": [
    "ReLU provides a low accuracy because it does not perform well with a large number of negative inputs. I would be using LeakyReLU."
   ]
  },
  {
   "cell_type": "markdown",
   "metadata": {},
   "source": [
    "#### Using LeakyReLU"
   ]
  },
  {
   "cell_type": "code",
   "execution_count": 179,
   "metadata": {},
   "outputs": [],
   "source": [
    "# Building the model\n",
    "model = Sequential()\n",
    "model.add(Dense(50, activation='LeakyReLU', input_shape=(96,)))\n",
    "model.add(Dense(15, activation='softmax'))"
   ]
  },
  {
   "cell_type": "code",
   "execution_count": 180,
   "metadata": {},
   "outputs": [],
   "source": [
    "# Compiling the model\n",
    "opt = keras.optimizers.Adam(learning_rate=0.01)\n",
    "model.compile(optimizer=opt, loss='categorical_crossentropy', metrics=['accuracy'])"
   ]
  },
  {
   "cell_type": "code",
   "execution_count": 185,
   "metadata": {
    "scrolled": true
   },
   "outputs": [
    {
     "name": "stdout",
     "output_type": "stream",
     "text": [
      "Epoch 1/50\n",
      "45/45 [==============================] - 0s 1ms/step - loss: 60.4309 - accuracy: 0.4444\n",
      "Epoch 2/50\n",
      "45/45 [==============================] - 0s 1ms/step - loss: 37.3277 - accuracy: 0.4956\n",
      "Epoch 3/50\n",
      "45/45 [==============================] - 0s 1ms/step - loss: 31.8698 - accuracy: 0.5267\n",
      "Epoch 4/50\n",
      "45/45 [==============================] - 0s 1ms/step - loss: 36.5781 - accuracy: 0.5067\n",
      "Epoch 5/50\n",
      "45/45 [==============================] - 0s 1ms/step - loss: 30.7343 - accuracy: 0.5222\n",
      "Epoch 6/50\n",
      "45/45 [==============================] - 0s 1ms/step - loss: 34.2151 - accuracy: 0.5356\n",
      "Epoch 7/50\n",
      "45/45 [==============================] - 0s 1ms/step - loss: 33.2329 - accuracy: 0.5244\n",
      "Epoch 8/50\n",
      "45/45 [==============================] - 0s 1ms/step - loss: 31.2614 - accuracy: 0.5467\n",
      "Epoch 9/50\n",
      "45/45 [==============================] - 0s 1ms/step - loss: 31.0978 - accuracy: 0.5267\n",
      "Epoch 10/50\n",
      "45/45 [==============================] - 0s 1ms/step - loss: 35.6681 - accuracy: 0.4889\n",
      "Epoch 11/50\n",
      "45/45 [==============================] - 0s 1ms/step - loss: 30.0401 - accuracy: 0.5556\n",
      "Epoch 12/50\n",
      "45/45 [==============================] - 0s 989us/step - loss: 40.5872 - accuracy: 0.4956\n",
      "Epoch 13/50\n",
      "45/45 [==============================] - 0s 918us/step - loss: 45.5137 - accuracy: 0.4578\n",
      "Epoch 14/50\n",
      "45/45 [==============================] - 0s 978us/step - loss: 73.4417 - accuracy: 0.4133\n",
      "Epoch 15/50\n",
      "45/45 [==============================] - 0s 984us/step - loss: 44.1308 - accuracy: 0.5600\n",
      "Epoch 16/50\n",
      "45/45 [==============================] - 0s 986us/step - loss: 38.5251 - accuracy: 0.5333\n",
      "Epoch 17/50\n",
      "45/45 [==============================] - 0s 1ms/step - loss: 39.0752 - accuracy: 0.5489\n",
      "Epoch 18/50\n",
      "45/45 [==============================] - 0s 928us/step - loss: 39.4095 - accuracy: 0.5200\n",
      "Epoch 19/50\n",
      "45/45 [==============================] - 0s 1ms/step - loss: 49.0592 - accuracy: 0.5111\n",
      "Epoch 20/50\n",
      "45/45 [==============================] - 0s 1ms/step - loss: 41.3350 - accuracy: 0.4889\n",
      "Epoch 21/50\n",
      "45/45 [==============================] - 0s 1ms/step - loss: 36.7090 - accuracy: 0.5200\n",
      "Epoch 22/50\n",
      "45/45 [==============================] - 0s 2ms/step - loss: 41.9631 - accuracy: 0.5200\n",
      "Epoch 23/50\n",
      "45/45 [==============================] - 0s 1ms/step - loss: 38.2151 - accuracy: 0.5444\n",
      "Epoch 24/50\n",
      "45/45 [==============================] - 0s 987us/step - loss: 47.3285 - accuracy: 0.5133\n",
      "Epoch 25/50\n",
      "45/45 [==============================] - 0s 966us/step - loss: 47.2982 - accuracy: 0.5044\n",
      "Epoch 26/50\n",
      "45/45 [==============================] - 0s 1ms/step - loss: 41.2686 - accuracy: 0.5400\n",
      "Epoch 27/50\n",
      "45/45 [==============================] - 0s 1ms/step - loss: 43.2736 - accuracy: 0.5378\n",
      "Epoch 28/50\n",
      "45/45 [==============================] - 0s 1ms/step - loss: 36.6520 - accuracy: 0.5578\n",
      "Epoch 29/50\n",
      "45/45 [==============================] - 0s 1ms/step - loss: 35.6903 - accuracy: 0.5578\n",
      "Epoch 30/50\n",
      "45/45 [==============================] - 0s 1ms/step - loss: 48.7211 - accuracy: 0.5000\n",
      "Epoch 31/50\n",
      "45/45 [==============================] - 0s 1ms/step - loss: 50.3404 - accuracy: 0.5267\n",
      "Epoch 32/50\n",
      "45/45 [==============================] - 0s 1ms/step - loss: 33.0771 - accuracy: 0.5822\n",
      "Epoch 33/50\n",
      "45/45 [==============================] - 0s 1ms/step - loss: 49.5454 - accuracy: 0.4844\n",
      "Epoch 34/50\n",
      "45/45 [==============================] - 0s 945us/step - loss: 40.1559 - accuracy: 0.5511\n",
      "Epoch 35/50\n",
      "45/45 [==============================] - 0s 980us/step - loss: 38.8050 - accuracy: 0.5800\n",
      "Epoch 36/50\n",
      "45/45 [==============================] - 0s 1ms/step - loss: 44.3391 - accuracy: 0.5244\n",
      "Epoch 37/50\n",
      "45/45 [==============================] - 0s 1ms/step - loss: 41.8306 - accuracy: 0.5689\n",
      "Epoch 38/50\n",
      "45/45 [==============================] - 0s 994us/step - loss: 32.2278 - accuracy: 0.5933\n",
      "Epoch 39/50\n",
      "45/45 [==============================] - 0s 910us/step - loss: 32.2110 - accuracy: 0.6044\n",
      "Epoch 40/50\n",
      "45/45 [==============================] - 0s 923us/step - loss: 47.1464 - accuracy: 0.5133\n",
      "Epoch 41/50\n",
      "45/45 [==============================] - 0s 878us/step - loss: 44.6804 - accuracy: 0.5711\n",
      "Epoch 42/50\n",
      "45/45 [==============================] - 0s 887us/step - loss: 51.8226 - accuracy: 0.5400\n",
      "Epoch 43/50\n",
      "45/45 [==============================] - 0s 842us/step - loss: 64.5913 - accuracy: 0.4867\n",
      "Epoch 44/50\n",
      "45/45 [==============================] - 0s 881us/step - loss: 55.8902 - accuracy: 0.4978\n",
      "Epoch 45/50\n",
      "45/45 [==============================] - 0s 2ms/step - loss: 54.2719 - accuracy: 0.5244\n",
      "Epoch 46/50\n",
      "45/45 [==============================] - 0s 4ms/step - loss: 72.5126 - accuracy: 0.5156\n",
      "Epoch 47/50\n",
      "45/45 [==============================] - 0s 8ms/step - loss: 61.6664 - accuracy: 0.5422\n",
      "Epoch 48/50\n",
      "45/45 [==============================] - 0s 7ms/step - loss: 75.1147 - accuracy: 0.5489\n",
      "Epoch 49/50\n",
      "45/45 [==============================] - 0s 1ms/step - loss: 50.5998 - accuracy: 0.5556\n",
      "Epoch 50/50\n",
      "45/45 [==============================] - 0s 1ms/step - loss: 51.2493 - accuracy: 0.5600\n"
     ]
    },
    {
     "data": {
      "text/plain": [
       "<keras.src.callbacks.History at 0x7f9da826b280>"
      ]
     },
     "execution_count": 185,
     "metadata": {},
     "output_type": "execute_result"
    }
   ],
   "source": [
    "# Train the model\n",
    "model.fit(XTrain, yTrain, epochs=50, batch_size=10)"
   ]
  },
  {
   "cell_type": "code",
   "execution_count": 186,
   "metadata": {},
   "outputs": [
    {
     "name": "stdout",
     "output_type": "stream",
     "text": [
      "2/2 [==============================] - 0s 3ms/step - loss: 110.1719 - accuracy: 0.4000\n",
      "Test model loss: 110.17194366455078\n",
      "Test model accuracy: 0.4000000059604645\n"
     ]
    }
   ],
   "source": [
    "# Evaluating the model on the test data\n",
    "loss, accuracy = model.evaluate(XTest, yTest)\n",
    "print('Test model loss:', loss)\n",
    "print('Test model accuracy:', accuracy)"
   ]
  },
  {
   "cell_type": "markdown",
   "metadata": {},
   "source": [
    "LeakyReLU provided a higher accuracy"
   ]
  },
  {
   "cell_type": "markdown",
   "metadata": {},
   "source": [
    "### Changing the number of nodes in the hidden layer:"
   ]
  },
  {
   "cell_type": "markdown",
   "metadata": {},
   "source": [
    "#### Increasing the number of nodes to 70:"
   ]
  },
  {
   "cell_type": "code",
   "execution_count": 200,
   "metadata": {
    "scrolled": true
   },
   "outputs": [
    {
     "name": "stdout",
     "output_type": "stream",
     "text": [
      "Epoch 1/50\n",
      "45/45 [==============================] - 0s 1ms/step - loss: 376.4279 - accuracy: 0.2089\n",
      "Epoch 2/50\n",
      "45/45 [==============================] - 0s 1ms/step - loss: 142.4483 - accuracy: 0.3311\n",
      "Epoch 3/50\n",
      "45/45 [==============================] - 0s 1ms/step - loss: 95.4098 - accuracy: 0.3489\n",
      "Epoch 4/50\n",
      "45/45 [==============================] - 0s 1ms/step - loss: 66.8963 - accuracy: 0.3844\n",
      "Epoch 5/50\n",
      "45/45 [==============================] - 0s 1ms/step - loss: 66.9036 - accuracy: 0.3911\n",
      "Epoch 6/50\n",
      "45/45 [==============================] - 0s 1ms/step - loss: 72.6219 - accuracy: 0.3978\n",
      "Epoch 7/50\n",
      "45/45 [==============================] - 0s 1ms/step - loss: 58.2947 - accuracy: 0.4333\n",
      "Epoch 8/50\n",
      "45/45 [==============================] - 0s 1ms/step - loss: 69.8901 - accuracy: 0.3800\n",
      "Epoch 9/50\n",
      "45/45 [==============================] - 0s 1ms/step - loss: 47.8046 - accuracy: 0.4267\n",
      "Epoch 10/50\n",
      "45/45 [==============================] - 0s 1ms/step - loss: 42.5874 - accuracy: 0.4356\n",
      "Epoch 11/50\n",
      "45/45 [==============================] - 0s 1ms/step - loss: 35.4791 - accuracy: 0.4800\n",
      "Epoch 12/50\n",
      "45/45 [==============================] - 0s 971us/step - loss: 34.1754 - accuracy: 0.4333\n",
      "Epoch 13/50\n",
      "45/45 [==============================] - 0s 1ms/step - loss: 32.3229 - accuracy: 0.4578\n",
      "Epoch 14/50\n",
      "45/45 [==============================] - 0s 1ms/step - loss: 25.2022 - accuracy: 0.4800\n",
      "Epoch 15/50\n",
      "45/45 [==============================] - 0s 1ms/step - loss: 45.9450 - accuracy: 0.4178\n",
      "Epoch 16/50\n",
      "45/45 [==============================] - 0s 1ms/step - loss: 32.8659 - accuracy: 0.4644\n",
      "Epoch 17/50\n",
      "45/45 [==============================] - 0s 1ms/step - loss: 38.6118 - accuracy: 0.4600\n",
      "Epoch 18/50\n",
      "45/45 [==============================] - 0s 1ms/step - loss: 49.0732 - accuracy: 0.4044\n",
      "Epoch 19/50\n",
      "45/45 [==============================] - 0s 1ms/step - loss: 35.6433 - accuracy: 0.4511\n",
      "Epoch 20/50\n",
      "45/45 [==============================] - 0s 970us/step - loss: 36.2525 - accuracy: 0.4556\n",
      "Epoch 21/50\n",
      "45/45 [==============================] - 0s 1ms/step - loss: 37.9671 - accuracy: 0.4422\n",
      "Epoch 22/50\n",
      "45/45 [==============================] - 0s 1ms/step - loss: 45.2556 - accuracy: 0.4378\n",
      "Epoch 23/50\n",
      "45/45 [==============================] - 0s 1ms/step - loss: 63.0231 - accuracy: 0.3622\n",
      "Epoch 24/50\n",
      "45/45 [==============================] - 0s 1ms/step - loss: 65.6772 - accuracy: 0.3933\n",
      "Epoch 25/50\n",
      "45/45 [==============================] - 0s 1ms/step - loss: 50.8014 - accuracy: 0.4444\n",
      "Epoch 26/50\n",
      "45/45 [==============================] - 0s 1ms/step - loss: 44.8473 - accuracy: 0.4689\n",
      "Epoch 27/50\n",
      "45/45 [==============================] - 0s 1ms/step - loss: 40.4178 - accuracy: 0.4578\n",
      "Epoch 28/50\n",
      "45/45 [==============================] - 0s 1ms/step - loss: 42.5263 - accuracy: 0.4711\n",
      "Epoch 29/50\n",
      "45/45 [==============================] - 0s 1ms/step - loss: 37.5452 - accuracy: 0.4956\n",
      "Epoch 30/50\n",
      "45/45 [==============================] - 0s 1ms/step - loss: 43.0215 - accuracy: 0.4000\n",
      "Epoch 31/50\n",
      "45/45 [==============================] - 0s 1ms/step - loss: 46.3337 - accuracy: 0.4733\n",
      "Epoch 32/50\n",
      "45/45 [==============================] - 0s 1ms/step - loss: 48.7059 - accuracy: 0.4667\n",
      "Epoch 33/50\n",
      "45/45 [==============================] - 0s 1ms/step - loss: 51.6709 - accuracy: 0.4867\n",
      "Epoch 34/50\n",
      "45/45 [==============================] - 0s 1ms/step - loss: 49.1878 - accuracy: 0.4533\n",
      "Epoch 35/50\n",
      "45/45 [==============================] - 0s 998us/step - loss: 51.7190 - accuracy: 0.4333\n",
      "Epoch 36/50\n",
      "45/45 [==============================] - 0s 1ms/step - loss: 63.2468 - accuracy: 0.4467\n",
      "Epoch 37/50\n",
      "45/45 [==============================] - 0s 1ms/step - loss: 70.3633 - accuracy: 0.4356\n",
      "Epoch 38/50\n",
      "45/45 [==============================] - 0s 2ms/step - loss: 47.9568 - accuracy: 0.4711\n",
      "Epoch 39/50\n",
      "45/45 [==============================] - 0s 1ms/step - loss: 42.1952 - accuracy: 0.4778\n",
      "Epoch 40/50\n",
      "45/45 [==============================] - 0s 1ms/step - loss: 30.9807 - accuracy: 0.5733\n",
      "Epoch 41/50\n",
      "45/45 [==============================] - 0s 1ms/step - loss: 36.7339 - accuracy: 0.4978\n",
      "Epoch 42/50\n",
      "45/45 [==============================] - 0s 1ms/step - loss: 46.4054 - accuracy: 0.4578\n",
      "Epoch 43/50\n",
      "45/45 [==============================] - 0s 1ms/step - loss: 53.1001 - accuracy: 0.4533\n",
      "Epoch 44/50\n",
      "45/45 [==============================] - 0s 1ms/step - loss: 69.5363 - accuracy: 0.4222\n",
      "Epoch 45/50\n",
      "45/45 [==============================] - 0s 1ms/step - loss: 83.7367 - accuracy: 0.4022\n",
      "Epoch 46/50\n",
      "45/45 [==============================] - 0s 964us/step - loss: 80.4230 - accuracy: 0.4600\n",
      "Epoch 47/50\n",
      "45/45 [==============================] - 0s 1ms/step - loss: 67.8870 - accuracy: 0.4311\n",
      "Epoch 48/50\n",
      "45/45 [==============================] - 0s 1ms/step - loss: 75.3519 - accuracy: 0.4533\n",
      "Epoch 49/50\n",
      "45/45 [==============================] - 0s 1ms/step - loss: 53.5527 - accuracy: 0.5289\n",
      "Epoch 50/50\n",
      "45/45 [==============================] - 0s 959us/step - loss: 59.2730 - accuracy: 0.4822\n"
     ]
    },
    {
     "data": {
      "text/plain": [
       "<keras.src.callbacks.History at 0x7f9da8d16850>"
      ]
     },
     "execution_count": 200,
     "metadata": {},
     "output_type": "execute_result"
    }
   ],
   "source": [
    "# Building the model\n",
    "model = Sequential()\n",
    "model.add(Dense(70, activation='LeakyReLU', input_shape=(96,)))\n",
    "model.add(Dense(15, activation='softmax'))\n",
    "\n",
    "# Compiling the model\n",
    "opt = keras.optimizers.Adam(learning_rate=0.01)\n",
    "model.compile(optimizer=opt, loss='categorical_crossentropy', metrics=['accuracy'])\n",
    "\n",
    "#Train the model\n",
    "model.fit(XTrain, yTrain, epochs=50, batch_size=10)"
   ]
  },
  {
   "cell_type": "code",
   "execution_count": 201,
   "metadata": {},
   "outputs": [
    {
     "name": "stdout",
     "output_type": "stream",
     "text": [
      "2/2 [==============================] - 0s 4ms/step - loss: 110.5609 - accuracy: 0.3000\n",
      "Test model loss: 110.56088256835938\n",
      "Test model accuracy: 0.30000001192092896\n"
     ]
    }
   ],
   "source": [
    "# Evaluating the model on the test data\n",
    "loss, accuracy = model.evaluate(XTest, yTest)\n",
    "print('Test model loss:', loss)\n",
    "print('Test model accuracy:', accuracy)"
   ]
  },
  {
   "cell_type": "markdown",
   "metadata": {},
   "source": [
    "#### Increasing the number of nodes to 100:"
   ]
  },
  {
   "cell_type": "code",
   "execution_count": 65,
   "metadata": {
    "scrolled": true
   },
   "outputs": [
    {
     "name": "stdout",
     "output_type": "stream",
     "text": [
      "Epoch 1/50\n",
      "45/45 [==============================] - 0s 1ms/step - loss: 375.2850 - accuracy: 0.2267\n",
      "Epoch 2/50\n",
      "45/45 [==============================] - 0s 1ms/step - loss: 140.9713 - accuracy: 0.3489\n",
      "Epoch 3/50\n",
      "45/45 [==============================] - 0s 1ms/step - loss: 101.3098 - accuracy: 0.3889\n",
      "Epoch 4/50\n",
      "45/45 [==============================] - 0s 1ms/step - loss: 85.1597 - accuracy: 0.3956\n",
      "Epoch 5/50\n",
      "45/45 [==============================] - 0s 1ms/step - loss: 82.7936 - accuracy: 0.3622\n",
      "Epoch 6/50\n",
      "45/45 [==============================] - 0s 1ms/step - loss: 71.4605 - accuracy: 0.4378\n",
      "Epoch 7/50\n",
      "45/45 [==============================] - 0s 1ms/step - loss: 64.9865 - accuracy: 0.4511\n",
      "Epoch 8/50\n",
      "45/45 [==============================] - 0s 1ms/step - loss: 71.3877 - accuracy: 0.4000\n",
      "Epoch 9/50\n",
      "45/45 [==============================] - 0s 1ms/step - loss: 81.8505 - accuracy: 0.3822\n",
      "Epoch 10/50\n",
      "45/45 [==============================] - 0s 1ms/step - loss: 67.2751 - accuracy: 0.4156\n",
      "Epoch 11/50\n",
      "45/45 [==============================] - 0s 2ms/step - loss: 55.0971 - accuracy: 0.4533\n",
      "Epoch 12/50\n",
      "45/45 [==============================] - 0s 1ms/step - loss: 56.3486 - accuracy: 0.4222\n",
      "Epoch 13/50\n",
      "45/45 [==============================] - 0s 1ms/step - loss: 44.8823 - accuracy: 0.4733\n",
      "Epoch 14/50\n",
      "45/45 [==============================] - 0s 2ms/step - loss: 56.2762 - accuracy: 0.4156\n",
      "Epoch 15/50\n",
      "45/45 [==============================] - 0s 1ms/step - loss: 47.9311 - accuracy: 0.4733\n",
      "Epoch 16/50\n",
      "45/45 [==============================] - 0s 1ms/step - loss: 45.2428 - accuracy: 0.4622\n",
      "Epoch 17/50\n",
      "45/45 [==============================] - 0s 1ms/step - loss: 44.4921 - accuracy: 0.4489\n",
      "Epoch 18/50\n",
      "45/45 [==============================] - 0s 1ms/step - loss: 70.0853 - accuracy: 0.4156\n",
      "Epoch 19/50\n",
      "45/45 [==============================] - 0s 1ms/step - loss: 49.3694 - accuracy: 0.4400\n",
      "Epoch 20/50\n",
      "45/45 [==============================] - 0s 1ms/step - loss: 65.8270 - accuracy: 0.4111\n",
      "Epoch 21/50\n",
      "45/45 [==============================] - 0s 1ms/step - loss: 52.9993 - accuracy: 0.4333\n",
      "Epoch 22/50\n",
      "45/45 [==============================] - 0s 1ms/step - loss: 59.6371 - accuracy: 0.4467\n",
      "Epoch 23/50\n",
      "45/45 [==============================] - 0s 1ms/step - loss: 63.5261 - accuracy: 0.4289\n",
      "Epoch 24/50\n",
      "45/45 [==============================] - 0s 1ms/step - loss: 77.0539 - accuracy: 0.4156\n",
      "Epoch 25/50\n",
      "45/45 [==============================] - 0s 1ms/step - loss: 98.6632 - accuracy: 0.3800\n",
      "Epoch 26/50\n",
      "45/45 [==============================] - 0s 1ms/step - loss: 88.1273 - accuracy: 0.4111\n",
      "Epoch 27/50\n",
      "45/45 [==============================] - 0s 1ms/step - loss: 98.5480 - accuracy: 0.4222\n",
      "Epoch 28/50\n",
      "45/45 [==============================] - 0s 1ms/step - loss: 97.2595 - accuracy: 0.4111\n",
      "Epoch 29/50\n",
      "45/45 [==============================] - 0s 1ms/step - loss: 98.9186 - accuracy: 0.4222\n",
      "Epoch 30/50\n",
      "45/45 [==============================] - 0s 1ms/step - loss: 101.9607 - accuracy: 0.4222\n",
      "Epoch 31/50\n",
      "45/45 [==============================] - 0s 1ms/step - loss: 140.7219 - accuracy: 0.3956\n",
      "Epoch 32/50\n",
      "45/45 [==============================] - 0s 1ms/step - loss: 128.5040 - accuracy: 0.4356\n",
      "Epoch 33/50\n",
      "45/45 [==============================] - 0s 1ms/step - loss: 112.9324 - accuracy: 0.4556\n",
      "Epoch 34/50\n",
      "45/45 [==============================] - 0s 1ms/step - loss: 91.9330 - accuracy: 0.4267\n",
      "Epoch 35/50\n",
      "45/45 [==============================] - 0s 1ms/step - loss: 78.3222 - accuracy: 0.5067\n",
      "Epoch 36/50\n",
      "45/45 [==============================] - 0s 1ms/step - loss: 77.3652 - accuracy: 0.4622\n",
      "Epoch 37/50\n",
      "45/45 [==============================] - 0s 2ms/step - loss: 93.6237 - accuracy: 0.4622\n",
      "Epoch 38/50\n",
      "45/45 [==============================] - 0s 1ms/step - loss: 100.8699 - accuracy: 0.4578\n",
      "Epoch 39/50\n",
      "45/45 [==============================] - 0s 1ms/step - loss: 84.6973 - accuracy: 0.4844\n",
      "Epoch 40/50\n",
      "45/45 [==============================] - 0s 1ms/step - loss: 74.0191 - accuracy: 0.5044\n",
      "Epoch 41/50\n",
      "45/45 [==============================] - 0s 1ms/step - loss: 74.3192 - accuracy: 0.4844\n",
      "Epoch 42/50\n",
      "45/45 [==============================] - 0s 1ms/step - loss: 80.7988 - accuracy: 0.5222\n",
      "Epoch 43/50\n",
      "45/45 [==============================] - 0s 1ms/step - loss: 62.6686 - accuracy: 0.5378\n",
      "Epoch 44/50\n",
      "45/45 [==============================] - 0s 1ms/step - loss: 75.9005 - accuracy: 0.5444\n",
      "Epoch 45/50\n",
      "45/45 [==============================] - 0s 1ms/step - loss: 68.1281 - accuracy: 0.5378\n",
      "Epoch 46/50\n",
      "45/45 [==============================] - 0s 1ms/step - loss: 82.9214 - accuracy: 0.4889\n",
      "Epoch 47/50\n",
      "45/45 [==============================] - 0s 1ms/step - loss: 104.0920 - accuracy: 0.4889\n",
      "Epoch 48/50\n",
      "45/45 [==============================] - 0s 1ms/step - loss: 74.1893 - accuracy: 0.5533\n",
      "Epoch 49/50\n",
      "45/45 [==============================] - 0s 1ms/step - loss: 70.4435 - accuracy: 0.4956\n",
      "Epoch 50/50\n",
      "45/45 [==============================] - 0s 1ms/step - loss: 92.0132 - accuracy: 0.4889\n"
     ]
    },
    {
     "data": {
      "text/plain": [
       "<keras.src.callbacks.History at 0x7f9db80b8700>"
      ]
     },
     "execution_count": 65,
     "metadata": {},
     "output_type": "execute_result"
    }
   ],
   "source": [
    "# Building the model\n",
    "model = Sequential()\n",
    "model.add(Dense(100, activation='LeakyReLU', input_shape=(96,)))\n",
    "model.add(Dense(15, activation='softmax'))\n",
    "\n",
    "# Compiling the model\n",
    "opt = keras.optimizers.Adam(learning_rate=0.01)\n",
    "model.compile(optimizer=opt, loss='categorical_crossentropy', metrics=['accuracy'])\n",
    "\n",
    "#Train the model\n",
    "model.fit(XTrain, yTrain, epochs=50, batch_size=10)"
   ]
  },
  {
   "cell_type": "code",
   "execution_count": 66,
   "metadata": {},
   "outputs": [
    {
     "name": "stdout",
     "output_type": "stream",
     "text": [
      "2/2 [==============================] - 0s 4ms/step - loss: 139.1455 - accuracy: 0.4000\n",
      "Test model loss: 139.1454620361328\n",
      "Test model accuracy: 0.4000000059604645\n"
     ]
    }
   ],
   "source": [
    "# Evaluating the model on the test data\n",
    "loss, accuracy = model.evaluate(XTest, yTest)\n",
    "print('Test model loss:', loss)\n",
    "print('Test model accuracy:', accuracy)"
   ]
  },
  {
   "cell_type": "markdown",
   "metadata": {},
   "source": [
    "#### Increasing the number of nodes to 150:"
   ]
  },
  {
   "cell_type": "code",
   "execution_count": 111,
   "metadata": {
    "scrolled": true
   },
   "outputs": [
    {
     "name": "stdout",
     "output_type": "stream",
     "text": [
      "Epoch 1/50\n",
      "45/45 [==============================] - 0s 1ms/step - loss: 546.1319 - accuracy: 0.1978\n",
      "Epoch 2/50\n",
      "45/45 [==============================] - 0s 1ms/step - loss: 182.3414 - accuracy: 0.3222\n",
      "Epoch 3/50\n",
      "45/45 [==============================] - 0s 1ms/step - loss: 109.2897 - accuracy: 0.3800\n",
      "Epoch 4/50\n",
      "45/45 [==============================] - 0s 1ms/step - loss: 93.2619 - accuracy: 0.3756\n",
      "Epoch 5/50\n",
      "45/45 [==============================] - 0s 1ms/step - loss: 103.9117 - accuracy: 0.3822\n",
      "Epoch 6/50\n",
      "45/45 [==============================] - 0s 2ms/step - loss: 102.5906 - accuracy: 0.4133\n",
      "Epoch 7/50\n",
      "45/45 [==============================] - 0s 1ms/step - loss: 95.2217 - accuracy: 0.3844\n",
      "Epoch 8/50\n",
      "45/45 [==============================] - 0s 1ms/step - loss: 83.1872 - accuracy: 0.3933\n",
      "Epoch 9/50\n",
      "45/45 [==============================] - 0s 1ms/step - loss: 85.5117 - accuracy: 0.3933\n",
      "Epoch 10/50\n",
      "45/45 [==============================] - 0s 1ms/step - loss: 67.0774 - accuracy: 0.4244\n",
      "Epoch 11/50\n",
      "45/45 [==============================] - 0s 1ms/step - loss: 125.9888 - accuracy: 0.3711\n",
      "Epoch 12/50\n",
      "45/45 [==============================] - 0s 1ms/step - loss: 132.1474 - accuracy: 0.3933\n",
      "Epoch 13/50\n",
      "45/45 [==============================] - 0s 1ms/step - loss: 102.1073 - accuracy: 0.4133\n",
      "Epoch 14/50\n",
      "45/45 [==============================] - 0s 1ms/step - loss: 117.8813 - accuracy: 0.4067\n",
      "Epoch 15/50\n",
      "45/45 [==============================] - 0s 1ms/step - loss: 119.0174 - accuracy: 0.3956\n",
      "Epoch 16/50\n",
      "45/45 [==============================] - 0s 1ms/step - loss: 100.8791 - accuracy: 0.4356\n",
      "Epoch 17/50\n",
      "45/45 [==============================] - 0s 1ms/step - loss: 86.9595 - accuracy: 0.3889\n",
      "Epoch 18/50\n",
      "45/45 [==============================] - 0s 1ms/step - loss: 72.6061 - accuracy: 0.4400\n",
      "Epoch 19/50\n",
      "45/45 [==============================] - 0s 1ms/step - loss: 62.6152 - accuracy: 0.4600\n",
      "Epoch 20/50\n",
      "45/45 [==============================] - 0s 1ms/step - loss: 71.9476 - accuracy: 0.4444\n",
      "Epoch 21/50\n",
      "45/45 [==============================] - 0s 1ms/step - loss: 75.2761 - accuracy: 0.4533\n",
      "Epoch 22/50\n",
      "45/45 [==============================] - 0s 1ms/step - loss: 96.3363 - accuracy: 0.3778\n",
      "Epoch 23/50\n",
      "45/45 [==============================] - 0s 1ms/step - loss: 101.5797 - accuracy: 0.4400\n",
      "Epoch 24/50\n",
      "45/45 [==============================] - 0s 1ms/step - loss: 86.6283 - accuracy: 0.4711\n",
      "Epoch 25/50\n",
      "45/45 [==============================] - 0s 1ms/step - loss: 97.6788 - accuracy: 0.4556\n",
      "Epoch 26/50\n",
      "45/45 [==============================] - 0s 1ms/step - loss: 123.5703 - accuracy: 0.4200\n",
      "Epoch 27/50\n",
      "45/45 [==============================] - 0s 1ms/step - loss: 129.9366 - accuracy: 0.3978\n",
      "Epoch 28/50\n",
      "45/45 [==============================] - 0s 1ms/step - loss: 144.2952 - accuracy: 0.4178\n",
      "Epoch 29/50\n",
      "45/45 [==============================] - 0s 2ms/step - loss: 138.2401 - accuracy: 0.4244\n",
      "Epoch 30/50\n",
      "45/45 [==============================] - 0s 2ms/step - loss: 131.9843 - accuracy: 0.4533\n",
      "Epoch 31/50\n",
      "45/45 [==============================] - 0s 2ms/step - loss: 138.4921 - accuracy: 0.4311\n",
      "Epoch 32/50\n",
      "45/45 [==============================] - 0s 1ms/step - loss: 124.6247 - accuracy: 0.4556\n",
      "Epoch 33/50\n",
      "45/45 [==============================] - 0s 1ms/step - loss: 134.3886 - accuracy: 0.4467\n",
      "Epoch 34/50\n",
      "45/45 [==============================] - 0s 1ms/step - loss: 110.0997 - accuracy: 0.4511\n",
      "Epoch 35/50\n",
      "45/45 [==============================] - 0s 2ms/step - loss: 117.3934 - accuracy: 0.4533\n",
      "Epoch 36/50\n",
      "45/45 [==============================] - 0s 2ms/step - loss: 146.1264 - accuracy: 0.4422\n",
      "Epoch 37/50\n",
      "45/45 [==============================] - 0s 2ms/step - loss: 138.0632 - accuracy: 0.4533\n",
      "Epoch 38/50\n",
      "45/45 [==============================] - 0s 2ms/step - loss: 163.3804 - accuracy: 0.4578\n",
      "Epoch 39/50\n",
      "45/45 [==============================] - 0s 1ms/step - loss: 173.7122 - accuracy: 0.4133\n",
      "Epoch 40/50\n",
      "45/45 [==============================] - 0s 1ms/step - loss: 157.2908 - accuracy: 0.4778\n",
      "Epoch 41/50\n",
      "45/45 [==============================] - 0s 1ms/step - loss: 148.8115 - accuracy: 0.4578\n",
      "Epoch 42/50\n",
      "45/45 [==============================] - 0s 1ms/step - loss: 151.4630 - accuracy: 0.4956\n",
      "Epoch 43/50\n",
      "45/45 [==============================] - 0s 2ms/step - loss: 155.5561 - accuracy: 0.4689\n",
      "Epoch 44/50\n",
      "45/45 [==============================] - 0s 1ms/step - loss: 138.3215 - accuracy: 0.4578\n",
      "Epoch 45/50\n",
      "45/45 [==============================] - 0s 1ms/step - loss: 101.9299 - accuracy: 0.5289\n",
      "Epoch 46/50\n",
      "45/45 [==============================] - 0s 1ms/step - loss: 76.5943 - accuracy: 0.5311\n",
      "Epoch 47/50\n",
      "45/45 [==============================] - 0s 1ms/step - loss: 93.5194 - accuracy: 0.5311\n",
      "Epoch 48/50\n",
      "45/45 [==============================] - 0s 1ms/step - loss: 84.4494 - accuracy: 0.5378\n",
      "Epoch 49/50\n",
      "45/45 [==============================] - 0s 1ms/step - loss: 112.8791 - accuracy: 0.5244\n",
      "Epoch 50/50\n",
      "45/45 [==============================] - 0s 1ms/step - loss: 108.1192 - accuracy: 0.5289\n"
     ]
    },
    {
     "data": {
      "text/plain": [
       "<keras.src.callbacks.History at 0x7f9d9a0992b0>"
      ]
     },
     "execution_count": 111,
     "metadata": {},
     "output_type": "execute_result"
    }
   ],
   "source": [
    "# Building the model\n",
    "model = Sequential()\n",
    "model.add(Dense(150, activation='LeakyReLU', input_shape=(96,)))\n",
    "model.add(Dense(15, activation='softmax'))\n",
    "\n",
    "# Compiling the model\n",
    "opt = keras.optimizers.Adam(learning_rate=0.01)\n",
    "model.compile(optimizer=opt, loss='categorical_crossentropy', metrics=['accuracy'])\n",
    "\n",
    "#Train the model\n",
    "model.fit(XTrain, yTrain, epochs=50, batch_size=10)"
   ]
  },
  {
   "cell_type": "code",
   "execution_count": 112,
   "metadata": {},
   "outputs": [
    {
     "name": "stdout",
     "output_type": "stream",
     "text": [
      "2/2 [==============================] - 0s 4ms/step - loss: 193.4111 - accuracy: 0.3800\n",
      "Test model loss: 193.4111328125\n",
      "Test model accuracy: 0.3799999952316284\n"
     ]
    }
   ],
   "source": [
    "# Evaluating the model on the test data\n",
    "loss, accuracy = model.evaluate(XTest, yTest)\n",
    "print('Test model loss:', loss)\n",
    "print('Test model accuracy:', accuracy)"
   ]
  },
  {
   "cell_type": "markdown",
   "metadata": {},
   "source": [
    "#### Increasing the number of nodes to 200:"
   ]
  },
  {
   "cell_type": "code",
   "execution_count": 131,
   "metadata": {
    "scrolled": true
   },
   "outputs": [
    {
     "name": "stdout",
     "output_type": "stream",
     "text": [
      "Epoch 1/50\n",
      "45/45 [==============================] - 0s 2ms/step - loss: 603.5488 - accuracy: 0.2133\n",
      "Epoch 2/50\n",
      "45/45 [==============================] - 0s 1ms/step - loss: 259.0693 - accuracy: 0.2933\n",
      "Epoch 3/50\n",
      "45/45 [==============================] - 0s 1ms/step - loss: 144.2126 - accuracy: 0.3711\n",
      "Epoch 4/50\n",
      "45/45 [==============================] - 0s 1ms/step - loss: 121.6080 - accuracy: 0.4289\n",
      "Epoch 5/50\n",
      "45/45 [==============================] - 0s 1ms/step - loss: 134.6480 - accuracy: 0.3711\n",
      "Epoch 6/50\n",
      "45/45 [==============================] - 0s 1ms/step - loss: 137.7523 - accuracy: 0.3600\n",
      "Epoch 7/50\n",
      "45/45 [==============================] - 0s 1ms/step - loss: 83.4264 - accuracy: 0.4378\n",
      "Epoch 8/50\n",
      "45/45 [==============================] - 0s 1ms/step - loss: 95.7447 - accuracy: 0.4311\n",
      "Epoch 9/50\n",
      "45/45 [==============================] - 0s 1ms/step - loss: 97.5514 - accuracy: 0.4200\n",
      "Epoch 10/50\n",
      "45/45 [==============================] - 0s 1ms/step - loss: 86.9853 - accuracy: 0.4378\n",
      "Epoch 11/50\n",
      "45/45 [==============================] - 0s 1ms/step - loss: 77.5709 - accuracy: 0.4444\n",
      "Epoch 12/50\n",
      "45/45 [==============================] - 0s 1ms/step - loss: 81.8645 - accuracy: 0.4244\n",
      "Epoch 13/50\n",
      "45/45 [==============================] - 0s 1ms/step - loss: 108.0141 - accuracy: 0.3533\n",
      "Epoch 14/50\n",
      "45/45 [==============================] - 0s 1ms/step - loss: 99.2299 - accuracy: 0.4178\n",
      "Epoch 15/50\n",
      "45/45 [==============================] - 0s 1ms/step - loss: 98.3311 - accuracy: 0.4133\n",
      "Epoch 16/50\n",
      "45/45 [==============================] - 0s 1ms/step - loss: 93.8288 - accuracy: 0.4422\n",
      "Epoch 17/50\n",
      "45/45 [==============================] - 0s 1ms/step - loss: 98.6197 - accuracy: 0.4489\n",
      "Epoch 18/50\n",
      "45/45 [==============================] - 0s 1ms/step - loss: 107.5687 - accuracy: 0.4333\n",
      "Epoch 19/50\n",
      "45/45 [==============================] - 0s 1ms/step - loss: 149.6021 - accuracy: 0.3822\n",
      "Epoch 20/50\n",
      "45/45 [==============================] - 0s 1ms/step - loss: 167.4855 - accuracy: 0.4089\n",
      "Epoch 21/50\n",
      "45/45 [==============================] - 0s 1ms/step - loss: 170.9235 - accuracy: 0.3667\n",
      "Epoch 22/50\n",
      "45/45 [==============================] - 0s 1ms/step - loss: 166.4544 - accuracy: 0.3911\n",
      "Epoch 23/50\n",
      "45/45 [==============================] - 0s 1ms/step - loss: 177.9587 - accuracy: 0.4200\n",
      "Epoch 24/50\n",
      "45/45 [==============================] - 0s 1ms/step - loss: 187.3620 - accuracy: 0.4244\n",
      "Epoch 25/50\n",
      "45/45 [==============================] - 0s 2ms/step - loss: 150.2420 - accuracy: 0.4578\n",
      "Epoch 26/50\n",
      "45/45 [==============================] - 0s 1ms/step - loss: 142.2182 - accuracy: 0.4578\n",
      "Epoch 27/50\n",
      "45/45 [==============================] - 0s 1ms/step - loss: 198.7212 - accuracy: 0.4133\n",
      "Epoch 28/50\n",
      "45/45 [==============================] - 0s 2ms/step - loss: 231.0601 - accuracy: 0.4244\n",
      "Epoch 29/50\n",
      "45/45 [==============================] - 0s 1ms/step - loss: 285.5219 - accuracy: 0.3756\n",
      "Epoch 30/50\n",
      "45/45 [==============================] - 0s 1ms/step - loss: 259.5133 - accuracy: 0.3889\n",
      "Epoch 31/50\n",
      "45/45 [==============================] - 0s 1ms/step - loss: 260.9619 - accuracy: 0.4178\n",
      "Epoch 32/50\n",
      "45/45 [==============================] - 0s 1ms/step - loss: 303.4214 - accuracy: 0.3956\n",
      "Epoch 33/50\n",
      "45/45 [==============================] - 0s 1ms/step - loss: 248.6513 - accuracy: 0.4156\n",
      "Epoch 34/50\n",
      "45/45 [==============================] - 0s 1ms/step - loss: 191.0433 - accuracy: 0.4822\n",
      "Epoch 35/50\n",
      "45/45 [==============================] - 0s 1ms/step - loss: 144.4140 - accuracy: 0.5289\n",
      "Epoch 36/50\n",
      "45/45 [==============================] - 0s 989us/step - loss: 191.7836 - accuracy: 0.4422\n",
      "Epoch 37/50\n",
      "45/45 [==============================] - 0s 1ms/step - loss: 213.6072 - accuracy: 0.4800\n",
      "Epoch 38/50\n",
      "45/45 [==============================] - 0s 1ms/step - loss: 178.2248 - accuracy: 0.4911\n",
      "Epoch 39/50\n",
      "45/45 [==============================] - 0s 1ms/step - loss: 161.4520 - accuracy: 0.5111\n",
      "Epoch 40/50\n",
      "45/45 [==============================] - 0s 1ms/step - loss: 181.2825 - accuracy: 0.4578\n",
      "Epoch 41/50\n",
      "45/45 [==============================] - 0s 1ms/step - loss: 184.2319 - accuracy: 0.4933\n",
      "Epoch 42/50\n",
      "45/45 [==============================] - 0s 1ms/step - loss: 153.4720 - accuracy: 0.5333\n",
      "Epoch 43/50\n",
      "45/45 [==============================] - 0s 1ms/step - loss: 228.6403 - accuracy: 0.4644\n",
      "Epoch 44/50\n",
      "45/45 [==============================] - 0s 976us/step - loss: 163.6759 - accuracy: 0.5044\n",
      "Epoch 45/50\n",
      "45/45 [==============================] - 0s 1ms/step - loss: 191.0377 - accuracy: 0.4600\n",
      "Epoch 46/50\n",
      "45/45 [==============================] - 0s 1ms/step - loss: 145.9301 - accuracy: 0.5289\n",
      "Epoch 47/50\n",
      "45/45 [==============================] - 0s 1ms/step - loss: 167.2122 - accuracy: 0.5222\n",
      "Epoch 48/50\n",
      "45/45 [==============================] - 0s 1ms/step - loss: 163.9904 - accuracy: 0.4711\n",
      "Epoch 49/50\n",
      "45/45 [==============================] - 0s 1ms/step - loss: 158.8313 - accuracy: 0.5022\n",
      "Epoch 50/50\n",
      "45/45 [==============================] - 0s 1ms/step - loss: 148.0085 - accuracy: 0.5400\n"
     ]
    },
    {
     "data": {
      "text/plain": [
       "<keras.src.callbacks.History at 0x7f9da0ca0d60>"
      ]
     },
     "execution_count": 131,
     "metadata": {},
     "output_type": "execute_result"
    }
   ],
   "source": [
    "# Building the model\n",
    "model = Sequential()\n",
    "model.add(Dense(200, activation='LeakyReLU', input_shape=(96,)))\n",
    "model.add(Dense(15, activation='softmax'))\n",
    "\n",
    "# Compiling the model\n",
    "opt = keras.optimizers.Adam(learning_rate=0.01)\n",
    "model.compile(optimizer=opt, loss='categorical_crossentropy', metrics=['accuracy'])\n",
    "\n",
    "#Train the model\n",
    "model.fit(XTrain, yTrain, epochs=50, batch_size=10)"
   ]
  },
  {
   "cell_type": "code",
   "execution_count": 132,
   "metadata": {},
   "outputs": [
    {
     "name": "stdout",
     "output_type": "stream",
     "text": [
      "2/2 [==============================] - 0s 4ms/step - loss: 321.9365 - accuracy: 0.3800\n",
      "Test model loss: 321.93646240234375\n",
      "Test model accuracy: 0.3799999952316284\n"
     ]
    }
   ],
   "source": [
    "# Evaluating the model on the test data\n",
    "loss, accuracy = model.evaluate(XTest, yTest)\n",
    "print('Test model loss:', loss)\n",
    "print('Test model accuracy:', accuracy)"
   ]
  },
  {
   "cell_type": "markdown",
   "metadata": {},
   "source": [
    "#### Decreasing the number of nodes to 20:"
   ]
  },
  {
   "cell_type": "code",
   "execution_count": 83,
   "metadata": {
    "scrolled": true
   },
   "outputs": [
    {
     "name": "stdout",
     "output_type": "stream",
     "text": [
      "Epoch 1/50\n",
      "45/45 [==============================] - 0s 1ms/step - loss: 168.6183 - accuracy: 0.1844\n",
      "Epoch 2/50\n",
      "45/45 [==============================] - 0s 1ms/step - loss: 70.9232 - accuracy: 0.3222\n",
      "Epoch 3/50\n",
      "45/45 [==============================] - 0s 1ms/step - loss: 44.1803 - accuracy: 0.3444\n",
      "Epoch 4/50\n",
      "45/45 [==============================] - 0s 1ms/step - loss: 33.7823 - accuracy: 0.3578\n",
      "Epoch 5/50\n",
      "45/45 [==============================] - 0s 1ms/step - loss: 33.2211 - accuracy: 0.3667\n",
      "Epoch 6/50\n",
      "45/45 [==============================] - 0s 1ms/step - loss: 23.5643 - accuracy: 0.4156\n",
      "Epoch 7/50\n",
      "45/45 [==============================] - 0s 1ms/step - loss: 25.6041 - accuracy: 0.4178\n",
      "Epoch 8/50\n",
      "45/45 [==============================] - 0s 1ms/step - loss: 20.7616 - accuracy: 0.4222\n",
      "Epoch 9/50\n",
      "45/45 [==============================] - 0s 1ms/step - loss: 18.3945 - accuracy: 0.4556\n",
      "Epoch 10/50\n",
      "45/45 [==============================] - 0s 1ms/step - loss: 19.9617 - accuracy: 0.4133\n",
      "Epoch 11/50\n",
      "45/45 [==============================] - 0s 1ms/step - loss: 15.6261 - accuracy: 0.4422\n",
      "Epoch 12/50\n",
      "45/45 [==============================] - 0s 1ms/step - loss: 12.3691 - accuracy: 0.4667\n",
      "Epoch 13/50\n",
      "45/45 [==============================] - 0s 1ms/step - loss: 12.1548 - accuracy: 0.4511\n",
      "Epoch 14/50\n",
      "45/45 [==============================] - 0s 1ms/step - loss: 13.0315 - accuracy: 0.4489\n",
      "Epoch 15/50\n",
      "45/45 [==============================] - 0s 1ms/step - loss: 12.3487 - accuracy: 0.4133\n",
      "Epoch 16/50\n",
      "45/45 [==============================] - 0s 1ms/step - loss: 11.9371 - accuracy: 0.4689\n",
      "Epoch 17/50\n",
      "45/45 [==============================] - 0s 1ms/step - loss: 9.6291 - accuracy: 0.4933\n",
      "Epoch 18/50\n",
      "45/45 [==============================] - 0s 1ms/step - loss: 13.6209 - accuracy: 0.4156\n",
      "Epoch 19/50\n",
      "45/45 [==============================] - 0s 1ms/step - loss: 10.3121 - accuracy: 0.4489\n",
      "Epoch 20/50\n",
      "45/45 [==============================] - 0s 1ms/step - loss: 9.0126 - accuracy: 0.4844\n",
      "Epoch 21/50\n",
      "45/45 [==============================] - 0s 2ms/step - loss: 8.1550 - accuracy: 0.4822\n",
      "Epoch 22/50\n",
      "45/45 [==============================] - 0s 1ms/step - loss: 8.7306 - accuracy: 0.4867\n",
      "Epoch 23/50\n",
      "45/45 [==============================] - 0s 1ms/step - loss: 7.4183 - accuracy: 0.4422\n",
      "Epoch 24/50\n",
      "45/45 [==============================] - 0s 1ms/step - loss: 5.0512 - accuracy: 0.5289\n",
      "Epoch 25/50\n",
      "45/45 [==============================] - 0s 969us/step - loss: 6.8499 - accuracy: 0.4711\n",
      "Epoch 26/50\n",
      "45/45 [==============================] - 0s 1ms/step - loss: 9.8127 - accuracy: 0.4267\n",
      "Epoch 27/50\n",
      "45/45 [==============================] - 0s 2ms/step - loss: 9.4902 - accuracy: 0.4622\n",
      "Epoch 28/50\n",
      "45/45 [==============================] - 0s 2ms/step - loss: 9.2948 - accuracy: 0.4489\n",
      "Epoch 29/50\n",
      "45/45 [==============================] - 0s 2ms/step - loss: 9.6753 - accuracy: 0.4267\n",
      "Epoch 30/50\n",
      "45/45 [==============================] - 0s 2ms/step - loss: 8.7700 - accuracy: 0.4556\n",
      "Epoch 31/50\n",
      "45/45 [==============================] - 0s 2ms/step - loss: 8.8498 - accuracy: 0.4333\n",
      "Epoch 32/50\n",
      "45/45 [==============================] - 0s 2ms/step - loss: 10.1477 - accuracy: 0.4533\n",
      "Epoch 33/50\n",
      "45/45 [==============================] - 0s 2ms/step - loss: 9.2914 - accuracy: 0.4600\n",
      "Epoch 34/50\n",
      "45/45 [==============================] - 0s 2ms/step - loss: 11.6950 - accuracy: 0.4311\n",
      "Epoch 35/50\n",
      "45/45 [==============================] - 0s 1ms/step - loss: 12.0351 - accuracy: 0.4089\n",
      "Epoch 36/50\n",
      "45/45 [==============================] - 0s 1ms/step - loss: 7.4265 - accuracy: 0.4733\n",
      "Epoch 37/50\n",
      "45/45 [==============================] - 0s 1ms/step - loss: 6.6859 - accuracy: 0.4667\n",
      "Epoch 38/50\n",
      "45/45 [==============================] - 0s 1ms/step - loss: 9.2798 - accuracy: 0.4689\n",
      "Epoch 39/50\n",
      "45/45 [==============================] - 0s 1ms/step - loss: 8.1252 - accuracy: 0.4578\n",
      "Epoch 40/50\n",
      "45/45 [==============================] - 0s 1ms/step - loss: 9.2257 - accuracy: 0.4356\n",
      "Epoch 41/50\n",
      "45/45 [==============================] - 0s 1ms/step - loss: 11.0128 - accuracy: 0.4489\n",
      "Epoch 42/50\n",
      "45/45 [==============================] - 0s 1ms/step - loss: 9.6955 - accuracy: 0.4378\n",
      "Epoch 43/50\n",
      "45/45 [==============================] - 0s 889us/step - loss: 11.9625 - accuracy: 0.4311\n",
      "Epoch 44/50\n",
      "45/45 [==============================] - 0s 927us/step - loss: 11.1082 - accuracy: 0.4289\n",
      "Epoch 45/50\n",
      "45/45 [==============================] - 0s 918us/step - loss: 12.9106 - accuracy: 0.4267\n",
      "Epoch 46/50\n",
      "45/45 [==============================] - 0s 894us/step - loss: 12.5853 - accuracy: 0.3933\n",
      "Epoch 47/50\n",
      "45/45 [==============================] - 0s 919us/step - loss: 13.9185 - accuracy: 0.3822\n",
      "Epoch 48/50\n",
      "45/45 [==============================] - 0s 877us/step - loss: 13.5896 - accuracy: 0.4400\n",
      "Epoch 49/50\n",
      "45/45 [==============================] - 0s 1ms/step - loss: 16.1283 - accuracy: 0.4022\n",
      "Epoch 50/50\n",
      "45/45 [==============================] - 0s 909us/step - loss: 20.2266 - accuracy: 0.3933\n"
     ]
    },
    {
     "data": {
      "text/plain": [
       "<keras.src.callbacks.History at 0x7f9d9c455d60>"
      ]
     },
     "execution_count": 83,
     "metadata": {},
     "output_type": "execute_result"
    }
   ],
   "source": [
    "# Building the model\n",
    "model = Sequential()\n",
    "model.add(Dense(20, activation='LeakyReLU', input_shape=(96,)))\n",
    "model.add(Dense(15, activation='softmax'))\n",
    "\n",
    "# Compiling the model\n",
    "opt = keras.optimizers.Adam(learning_rate=0.01)\n",
    "model.compile(optimizer=opt, loss='categorical_crossentropy', metrics=['accuracy'])\n",
    "\n",
    "#Train the model\n",
    "model.fit(XTrain, yTrain, epochs=50, batch_size=10)"
   ]
  },
  {
   "cell_type": "code",
   "execution_count": 84,
   "metadata": {},
   "outputs": [
    {
     "name": "stdout",
     "output_type": "stream",
     "text": [
      "2/2 [==============================] - 0s 3ms/step - loss: 17.8074 - accuracy: 0.3400\n",
      "Test model loss: 17.807418823242188\n",
      "Test model accuracy: 0.3400000035762787\n"
     ]
    }
   ],
   "source": [
    "# Evaluating the model on the test data\n",
    "loss, accuracy = model.evaluate(XTest, yTest)\n",
    "print('Test model loss:', loss)\n",
    "print('Test model accuracy:', accuracy)"
   ]
  },
  {
   "cell_type": "markdown",
   "metadata": {},
   "source": [
    "- Increasing the numbers of nodes, initially had no effect on the accuracy score, but when i kept increasing them, they reduced the models accuracy and increased the loss on the test data.\n",
    "- Decreasing the number of nodes also reduced the accuracy score."
   ]
  },
  {
   "cell_type": "markdown",
   "metadata": {},
   "source": [
    "### Changing the activation function of the hidden layer:"
   ]
  },
  {
   "cell_type": "markdown",
   "metadata": {},
   "source": [
    "#### Using ELU:"
   ]
  },
  {
   "cell_type": "code",
   "execution_count": 77,
   "metadata": {
    "scrolled": true
   },
   "outputs": [
    {
     "name": "stdout",
     "output_type": "stream",
     "text": [
      "Epoch 1/50\n",
      "45/45 [==============================] - 0s 1ms/step - loss: 180.7166 - accuracy: 0.2156\n",
      "Epoch 2/50\n",
      "45/45 [==============================] - 0s 1ms/step - loss: 3.5900 - accuracy: 0.1578\n",
      "Epoch 3/50\n",
      "45/45 [==============================] - 0s 1ms/step - loss: 2.5657 - accuracy: 0.1711\n",
      "Epoch 4/50\n",
      "45/45 [==============================] - 0s 1ms/step - loss: 2.5577 - accuracy: 0.1444\n",
      "Epoch 5/50\n",
      "45/45 [==============================] - 0s 1ms/step - loss: 2.5528 - accuracy: 0.1378\n",
      "Epoch 6/50\n",
      "45/45 [==============================] - 0s 1ms/step - loss: 2.5808 - accuracy: 0.1689\n",
      "Epoch 7/50\n",
      "45/45 [==============================] - 0s 1ms/step - loss: 2.5658 - accuracy: 0.1356\n",
      "Epoch 8/50\n",
      "45/45 [==============================] - 0s 1ms/step - loss: 2.5617 - accuracy: 0.1422\n",
      "Epoch 9/50\n",
      "45/45 [==============================] - 0s 1ms/step - loss: 2.5686 - accuracy: 0.1844\n",
      "Epoch 10/50\n",
      "45/45 [==============================] - 0s 1ms/step - loss: 2.5698 - accuracy: 0.1511\n",
      "Epoch 11/50\n",
      "45/45 [==============================] - 0s 1ms/step - loss: 2.5610 - accuracy: 0.1644\n",
      "Epoch 12/50\n",
      "45/45 [==============================] - 0s 1ms/step - loss: 2.5644 - accuracy: 0.1422\n",
      "Epoch 13/50\n",
      "45/45 [==============================] - 0s 1ms/step - loss: 2.5677 - accuracy: 0.1600\n",
      "Epoch 14/50\n",
      "45/45 [==============================] - 0s 1ms/step - loss: 2.5707 - accuracy: 0.1644\n",
      "Epoch 15/50\n",
      "45/45 [==============================] - 0s 1ms/step - loss: 2.5691 - accuracy: 0.1444\n",
      "Epoch 16/50\n",
      "45/45 [==============================] - 0s 1ms/step - loss: 2.5872 - accuracy: 0.1778\n",
      "Epoch 17/50\n",
      "45/45 [==============================] - 0s 1ms/step - loss: 2.5698 - accuracy: 0.1444\n",
      "Epoch 18/50\n",
      "45/45 [==============================] - 0s 1ms/step - loss: 2.5753 - accuracy: 0.1711\n",
      "Epoch 19/50\n",
      "45/45 [==============================] - 0s 1ms/step - loss: 2.5860 - accuracy: 0.1533\n",
      "Epoch 20/50\n",
      "45/45 [==============================] - 0s 1ms/step - loss: 2.5618 - accuracy: 0.1489\n",
      "Epoch 21/50\n",
      "45/45 [==============================] - 0s 1ms/step - loss: 2.5695 - accuracy: 0.1556\n",
      "Epoch 22/50\n",
      "45/45 [==============================] - 0s 1ms/step - loss: 2.6176 - accuracy: 0.1422\n",
      "Epoch 23/50\n",
      "45/45 [==============================] - 0s 1ms/step - loss: 2.5963 - accuracy: 0.1578\n",
      "Epoch 24/50\n",
      "45/45 [==============================] - 0s 1ms/step - loss: 2.5933 - accuracy: 0.1689\n",
      "Epoch 25/50\n",
      "45/45 [==============================] - 0s 1ms/step - loss: 2.5807 - accuracy: 0.1689\n",
      "Epoch 26/50\n",
      "45/45 [==============================] - 0s 1ms/step - loss: 2.5715 - accuracy: 0.1422\n",
      "Epoch 27/50\n",
      "45/45 [==============================] - 0s 1ms/step - loss: 2.5686 - accuracy: 0.1378\n",
      "Epoch 28/50\n",
      "45/45 [==============================] - 0s 1ms/step - loss: 2.5850 - accuracy: 0.1556\n",
      "Epoch 29/50\n",
      "45/45 [==============================] - 0s 1ms/step - loss: 2.5752 - accuracy: 0.1467\n",
      "Epoch 30/50\n",
      "45/45 [==============================] - 0s 1ms/step - loss: 2.5781 - accuracy: 0.1667\n",
      "Epoch 31/50\n",
      "45/45 [==============================] - 0s 1ms/step - loss: 2.5833 - accuracy: 0.1711\n",
      "Epoch 32/50\n",
      "45/45 [==============================] - 0s 1ms/step - loss: 2.5897 - accuracy: 0.1444\n",
      "Epoch 33/50\n",
      "45/45 [==============================] - 0s 1ms/step - loss: 2.5878 - accuracy: 0.1711\n",
      "Epoch 34/50\n",
      "45/45 [==============================] - 0s 1ms/step - loss: 2.5558 - accuracy: 0.1756\n",
      "Epoch 35/50\n",
      "45/45 [==============================] - 0s 1ms/step - loss: 2.5697 - accuracy: 0.1489\n",
      "Epoch 36/50\n",
      "45/45 [==============================] - 0s 2ms/step - loss: 2.5883 - accuracy: 0.1600\n",
      "Epoch 37/50\n",
      "45/45 [==============================] - 0s 1ms/step - loss: 2.5896 - accuracy: 0.1600\n",
      "Epoch 38/50\n",
      "45/45 [==============================] - 0s 1ms/step - loss: 2.5725 - accuracy: 0.1644\n",
      "Epoch 39/50\n",
      "45/45 [==============================] - 0s 1ms/step - loss: 2.5700 - accuracy: 0.1578\n",
      "Epoch 40/50\n",
      "45/45 [==============================] - 0s 1ms/step - loss: 2.5871 - accuracy: 0.1689\n",
      "Epoch 41/50\n",
      "45/45 [==============================] - 0s 1ms/step - loss: 2.5858 - accuracy: 0.1533\n",
      "Epoch 42/50\n",
      "45/45 [==============================] - 0s 1ms/step - loss: 2.5773 - accuracy: 0.1578\n",
      "Epoch 43/50\n",
      "45/45 [==============================] - 0s 1ms/step - loss: 2.5620 - accuracy: 0.1600\n",
      "Epoch 44/50\n",
      "45/45 [==============================] - 0s 1ms/step - loss: 2.5852 - accuracy: 0.1556\n",
      "Epoch 45/50\n",
      "45/45 [==============================] - 0s 1ms/step - loss: 2.5766 - accuracy: 0.1489\n",
      "Epoch 46/50\n",
      "45/45 [==============================] - 0s 1ms/step - loss: 2.5873 - accuracy: 0.1267\n",
      "Epoch 47/50\n",
      "45/45 [==============================] - 0s 1ms/step - loss: 2.6019 - accuracy: 0.1644\n",
      "Epoch 48/50\n",
      "45/45 [==============================] - 0s 1ms/step - loss: 2.5954 - accuracy: 0.1467\n",
      "Epoch 49/50\n",
      "45/45 [==============================] - 0s 1ms/step - loss: 2.5774 - accuracy: 0.1822\n",
      "Epoch 50/50\n",
      "45/45 [==============================] - 0s 1ms/step - loss: 2.5964 - accuracy: 0.1311\n"
     ]
    },
    {
     "data": {
      "text/plain": [
       "<keras.src.callbacks.History at 0x7f9d9a6d2af0>"
      ]
     },
     "execution_count": 77,
     "metadata": {},
     "output_type": "execute_result"
    }
   ],
   "source": [
    "# Building the model\n",
    "model = Sequential()\n",
    "model.add(Dense(50, activation='ELU', input_shape=(96,)))\n",
    "model.add(Dense(15, activation='softmax'))\n",
    "\n",
    "# Compiling the model\n",
    "opt = keras.optimizers.Adam(learning_rate=0.01)\n",
    "model.compile(optimizer=opt, loss='categorical_crossentropy', metrics=['accuracy'])\n",
    "\n",
    "#Train the model\n",
    "model.fit(XTrain, yTrain, epochs=50, batch_size=10)"
   ]
  },
  {
   "cell_type": "code",
   "execution_count": 78,
   "metadata": {},
   "outputs": [
    {
     "name": "stdout",
     "output_type": "stream",
     "text": [
      "2/2 [==============================] - 0s 4ms/step - loss: 2.5460 - accuracy: 0.1600\n",
      "Test model loss: 2.5459511280059814\n",
      "Test model accuracy: 0.1599999964237213\n"
     ]
    }
   ],
   "source": [
    "# Evaluating the model on the test data\n",
    "loss, accuracy = model.evaluate(XTest, yTest)\n",
    "print('Test model loss:', loss)\n",
    "print('Test model accuracy:', accuracy)"
   ]
  },
  {
   "cell_type": "markdown",
   "metadata": {},
   "source": [
    "#### Using TANH:"
   ]
  },
  {
   "cell_type": "code",
   "execution_count": 79,
   "metadata": {
    "scrolled": true
   },
   "outputs": [
    {
     "name": "stdout",
     "output_type": "stream",
     "text": [
      "Epoch 1/50\n",
      "45/45 [==============================] - 1s 1ms/step - loss: 2.7118 - accuracy: 0.1400\n",
      "Epoch 2/50\n",
      "45/45 [==============================] - 0s 1ms/step - loss: 2.5732 - accuracy: 0.1667\n",
      "Epoch 3/50\n",
      "45/45 [==============================] - 0s 1ms/step - loss: 2.5961 - accuracy: 0.1756\n",
      "Epoch 4/50\n",
      "45/45 [==============================] - 0s 1ms/step - loss: 2.5756 - accuracy: 0.1444\n",
      "Epoch 5/50\n",
      "45/45 [==============================] - 0s 1ms/step - loss: 2.5313 - accuracy: 0.1689\n",
      "Epoch 6/50\n",
      "45/45 [==============================] - 0s 1ms/step - loss: 2.5022 - accuracy: 0.1778\n",
      "Epoch 7/50\n",
      "45/45 [==============================] - 0s 1ms/step - loss: 2.4715 - accuracy: 0.1867\n",
      "Epoch 8/50\n",
      "45/45 [==============================] - 0s 1ms/step - loss: 2.5048 - accuracy: 0.1667\n",
      "Epoch 9/50\n",
      "45/45 [==============================] - 0s 1ms/step - loss: 2.4565 - accuracy: 0.1978\n",
      "Epoch 10/50\n",
      "45/45 [==============================] - 0s 1ms/step - loss: 2.4412 - accuracy: 0.1444\n",
      "Epoch 11/50\n",
      "45/45 [==============================] - 0s 1ms/step - loss: 2.4575 - accuracy: 0.1400\n",
      "Epoch 12/50\n",
      "45/45 [==============================] - 0s 1ms/step - loss: 2.5193 - accuracy: 0.1511\n",
      "Epoch 13/50\n",
      "45/45 [==============================] - 0s 1ms/step - loss: 2.4709 - accuracy: 0.1822\n",
      "Epoch 14/50\n",
      "45/45 [==============================] - 0s 1ms/step - loss: 2.5523 - accuracy: 0.1511\n",
      "Epoch 15/50\n",
      "45/45 [==============================] - 0s 1ms/step - loss: 2.4682 - accuracy: 0.1556\n",
      "Epoch 16/50\n",
      "45/45 [==============================] - 0s 1ms/step - loss: 2.4235 - accuracy: 0.1867\n",
      "Epoch 17/50\n",
      "45/45 [==============================] - 0s 1ms/step - loss: 2.4391 - accuracy: 0.1889\n",
      "Epoch 18/50\n",
      "45/45 [==============================] - 0s 1ms/step - loss: 2.4371 - accuracy: 0.1822\n",
      "Epoch 19/50\n",
      "45/45 [==============================] - 0s 1ms/step - loss: 2.4291 - accuracy: 0.2044\n",
      "Epoch 20/50\n",
      "45/45 [==============================] - 0s 1ms/step - loss: 2.4188 - accuracy: 0.2000\n",
      "Epoch 21/50\n",
      "45/45 [==============================] - 0s 1ms/step - loss: 2.4411 - accuracy: 0.1822\n",
      "Epoch 22/50\n",
      "45/45 [==============================] - 0s 1ms/step - loss: 2.4778 - accuracy: 0.1667\n",
      "Epoch 23/50\n",
      "45/45 [==============================] - 0s 1ms/step - loss: 2.4723 - accuracy: 0.1956\n",
      "Epoch 24/50\n",
      "45/45 [==============================] - 0s 1ms/step - loss: 2.4224 - accuracy: 0.1733\n",
      "Epoch 25/50\n",
      "45/45 [==============================] - 0s 1ms/step - loss: 2.4645 - accuracy: 0.1689\n",
      "Epoch 26/50\n",
      "45/45 [==============================] - 0s 1ms/step - loss: 2.4928 - accuracy: 0.1578\n",
      "Epoch 27/50\n",
      "45/45 [==============================] - 0s 1ms/step - loss: 2.4061 - accuracy: 0.1867\n",
      "Epoch 28/50\n",
      "45/45 [==============================] - 0s 1ms/step - loss: 2.4642 - accuracy: 0.1444\n",
      "Epoch 29/50\n",
      "45/45 [==============================] - 0s 1ms/step - loss: 2.4687 - accuracy: 0.1689\n",
      "Epoch 30/50\n",
      "45/45 [==============================] - 0s 1ms/step - loss: 2.4228 - accuracy: 0.1667\n",
      "Epoch 31/50\n",
      "45/45 [==============================] - 0s 1ms/step - loss: 2.4618 - accuracy: 0.1489\n",
      "Epoch 32/50\n",
      "45/45 [==============================] - 0s 1ms/step - loss: 2.4393 - accuracy: 0.1756\n",
      "Epoch 33/50\n",
      "45/45 [==============================] - 0s 1ms/step - loss: 2.4334 - accuracy: 0.1756\n",
      "Epoch 34/50\n",
      "45/45 [==============================] - 0s 2ms/step - loss: 2.4709 - accuracy: 0.1933\n",
      "Epoch 35/50\n",
      "45/45 [==============================] - 0s 1ms/step - loss: 2.4258 - accuracy: 0.1622\n",
      "Epoch 36/50\n",
      "45/45 [==============================] - 0s 1ms/step - loss: 2.4554 - accuracy: 0.1933\n",
      "Epoch 37/50\n",
      "45/45 [==============================] - 0s 1ms/step - loss: 2.4121 - accuracy: 0.1778\n",
      "Epoch 38/50\n",
      "45/45 [==============================] - 0s 1ms/step - loss: 2.4282 - accuracy: 0.1822\n",
      "Epoch 39/50\n",
      "45/45 [==============================] - 0s 1ms/step - loss: 2.4458 - accuracy: 0.1800\n",
      "Epoch 40/50\n",
      "45/45 [==============================] - 0s 1ms/step - loss: 2.4224 - accuracy: 0.2022\n",
      "Epoch 41/50\n",
      "45/45 [==============================] - 0s 1ms/step - loss: 2.4173 - accuracy: 0.1867\n",
      "Epoch 42/50\n",
      "45/45 [==============================] - 0s 1ms/step - loss: 2.4241 - accuracy: 0.2022\n",
      "Epoch 43/50\n",
      "45/45 [==============================] - 0s 1ms/step - loss: 2.3876 - accuracy: 0.1978\n",
      "Epoch 44/50\n",
      "45/45 [==============================] - 0s 1ms/step - loss: 2.4082 - accuracy: 0.2089\n",
      "Epoch 45/50\n",
      "45/45 [==============================] - 0s 1ms/step - loss: 2.3978 - accuracy: 0.1622\n",
      "Epoch 46/50\n",
      "45/45 [==============================] - 0s 1ms/step - loss: 2.4689 - accuracy: 0.1756\n",
      "Epoch 47/50\n",
      "45/45 [==============================] - 0s 1ms/step - loss: 2.4638 - accuracy: 0.1644\n",
      "Epoch 48/50\n",
      "45/45 [==============================] - 0s 1ms/step - loss: 2.4122 - accuracy: 0.2067\n",
      "Epoch 49/50\n",
      "45/45 [==============================] - 0s 1ms/step - loss: 2.4153 - accuracy: 0.1778\n",
      "Epoch 50/50\n",
      "45/45 [==============================] - 0s 1ms/step - loss: 2.4986 - accuracy: 0.1511\n"
     ]
    },
    {
     "data": {
      "text/plain": [
       "<keras.src.callbacks.History at 0x7f9d9b341910>"
      ]
     },
     "execution_count": 79,
     "metadata": {},
     "output_type": "execute_result"
    }
   ],
   "source": [
    "# Building the model\n",
    "model = Sequential()\n",
    "model.add(Dense(50, activation='tanh', input_shape=(96,)))\n",
    "model.add(Dense(15, activation='softmax'))\n",
    "\n",
    "# Compiling the model\n",
    "opt = keras.optimizers.Adam(learning_rate=0.01)\n",
    "model.compile(optimizer=opt, loss='categorical_crossentropy', metrics=['accuracy'])\n",
    "\n",
    "#Train the model\n",
    "model.fit(XTrain, yTrain, epochs=50, batch_size=10)"
   ]
  },
  {
   "cell_type": "code",
   "execution_count": 80,
   "metadata": {},
   "outputs": [
    {
     "name": "stdout",
     "output_type": "stream",
     "text": [
      "2/2 [==============================] - 0s 3ms/step - loss: 2.3444 - accuracy: 0.1000\n",
      "Test model loss: 2.3444104194641113\n",
      "Test model accuracy: 0.10000000149011612\n"
     ]
    }
   ],
   "source": [
    "# Evaluating the model on the test data\n",
    "loss, accuracy = model.evaluate(XTest, yTest)\n",
    "print('Test model loss:', loss)\n",
    "print('Test model accuracy:', accuracy)"
   ]
  },
  {
   "cell_type": "markdown",
   "metadata": {},
   "source": [
    "#### Using SIGMOID:"
   ]
  },
  {
   "cell_type": "code",
   "execution_count": 81,
   "metadata": {
    "scrolled": true
   },
   "outputs": [
    {
     "name": "stdout",
     "output_type": "stream",
     "text": [
      "Epoch 1/50\n",
      "45/45 [==============================] - 0s 1ms/step - loss: 2.6884 - accuracy: 0.1133\n",
      "Epoch 2/50\n",
      "45/45 [==============================] - 0s 1ms/step - loss: 2.6177 - accuracy: 0.1422\n",
      "Epoch 3/50\n",
      "45/45 [==============================] - 0s 1ms/step - loss: 2.6060 - accuracy: 0.1400\n",
      "Epoch 4/50\n",
      "45/45 [==============================] - 0s 1ms/step - loss: 2.6271 - accuracy: 0.1467\n",
      "Epoch 5/50\n",
      "45/45 [==============================] - 0s 987us/step - loss: 2.6077 - accuracy: 0.1267\n",
      "Epoch 6/50\n",
      "45/45 [==============================] - 0s 972us/step - loss: 2.5988 - accuracy: 0.1711\n",
      "Epoch 7/50\n",
      "45/45 [==============================] - 0s 1ms/step - loss: 2.5969 - accuracy: 0.1533\n",
      "Epoch 8/50\n",
      "45/45 [==============================] - 0s 1ms/step - loss: 2.6367 - accuracy: 0.1111\n",
      "Epoch 9/50\n",
      "45/45 [==============================] - 0s 1ms/step - loss: 2.6284 - accuracy: 0.1622\n",
      "Epoch 10/50\n",
      "45/45 [==============================] - 0s 977us/step - loss: 2.6095 - accuracy: 0.1622\n",
      "Epoch 11/50\n",
      "45/45 [==============================] - 0s 981us/step - loss: 2.5967 - accuracy: 0.1511\n",
      "Epoch 12/50\n",
      "45/45 [==============================] - 0s 1ms/step - loss: 2.6402 - accuracy: 0.1200\n",
      "Epoch 13/50\n",
      "45/45 [==============================] - 0s 1ms/step - loss: 2.6100 - accuracy: 0.1156\n",
      "Epoch 14/50\n",
      "45/45 [==============================] - 0s 1ms/step - loss: 2.6039 - accuracy: 0.1600\n",
      "Epoch 15/50\n",
      "45/45 [==============================] - 0s 1ms/step - loss: 2.6272 - accuracy: 0.1244\n",
      "Epoch 16/50\n",
      "45/45 [==============================] - 0s 1ms/step - loss: 2.6283 - accuracy: 0.1533\n",
      "Epoch 17/50\n",
      "45/45 [==============================] - 0s 1ms/step - loss: 2.6164 - accuracy: 0.1400\n",
      "Epoch 18/50\n",
      "45/45 [==============================] - 0s 1ms/step - loss: 2.6278 - accuracy: 0.1244\n",
      "Epoch 19/50\n",
      "45/45 [==============================] - 0s 1ms/step - loss: 2.6318 - accuracy: 0.1244\n",
      "Epoch 20/50\n",
      "45/45 [==============================] - 0s 1ms/step - loss: 2.6502 - accuracy: 0.1356\n",
      "Epoch 21/50\n",
      "45/45 [==============================] - 0s 1ms/step - loss: 2.6172 - accuracy: 0.1400\n",
      "Epoch 22/50\n",
      "45/45 [==============================] - 0s 1ms/step - loss: 2.6251 - accuracy: 0.1422\n",
      "Epoch 23/50\n",
      "45/45 [==============================] - 0s 1ms/step - loss: 2.6202 - accuracy: 0.1467\n",
      "Epoch 24/50\n",
      "45/45 [==============================] - 0s 1ms/step - loss: 2.6220 - accuracy: 0.1511\n",
      "Epoch 25/50\n",
      "45/45 [==============================] - 0s 1ms/step - loss: 2.6104 - accuracy: 0.1267\n",
      "Epoch 26/50\n",
      "45/45 [==============================] - 0s 1ms/step - loss: 2.6093 - accuracy: 0.1356\n",
      "Epoch 27/50\n",
      "45/45 [==============================] - 0s 1ms/step - loss: 2.6076 - accuracy: 0.1333\n",
      "Epoch 28/50\n",
      "45/45 [==============================] - 0s 1ms/step - loss: 2.6222 - accuracy: 0.1444\n",
      "Epoch 29/50\n",
      "45/45 [==============================] - 0s 1ms/step - loss: 2.6108 - accuracy: 0.1533\n",
      "Epoch 30/50\n",
      "45/45 [==============================] - 0s 1ms/step - loss: 2.6369 - accuracy: 0.1333\n",
      "Epoch 31/50\n",
      "45/45 [==============================] - 0s 1ms/step - loss: 2.6220 - accuracy: 0.1444\n",
      "Epoch 32/50\n",
      "45/45 [==============================] - 0s 1ms/step - loss: 2.5981 - accuracy: 0.1578\n",
      "Epoch 33/50\n",
      "45/45 [==============================] - 0s 1ms/step - loss: 2.5944 - accuracy: 0.1489\n",
      "Epoch 34/50\n",
      "45/45 [==============================] - 0s 1ms/step - loss: 2.6290 - accuracy: 0.1156\n",
      "Epoch 35/50\n",
      "45/45 [==============================] - 0s 1ms/step - loss: 2.6384 - accuracy: 0.1489\n",
      "Epoch 36/50\n",
      "45/45 [==============================] - 0s 997us/step - loss: 2.6078 - accuracy: 0.1356\n",
      "Epoch 37/50\n",
      "45/45 [==============================] - 0s 1ms/step - loss: 2.6187 - accuracy: 0.1422\n",
      "Epoch 38/50\n",
      "45/45 [==============================] - 0s 1ms/step - loss: 2.6102 - accuracy: 0.1556\n",
      "Epoch 39/50\n",
      "45/45 [==============================] - 0s 944us/step - loss: 2.6310 - accuracy: 0.1222\n",
      "Epoch 40/50\n",
      "45/45 [==============================] - 0s 1ms/step - loss: 2.6134 - accuracy: 0.1333\n",
      "Epoch 41/50\n",
      "45/45 [==============================] - 0s 2ms/step - loss: 2.6641 - accuracy: 0.1200\n",
      "Epoch 42/50\n",
      "45/45 [==============================] - 0s 1ms/step - loss: 2.6161 - accuracy: 0.1600\n",
      "Epoch 43/50\n",
      "45/45 [==============================] - 0s 962us/step - loss: 2.6187 - accuracy: 0.1467\n",
      "Epoch 44/50\n",
      "45/45 [==============================] - 0s 923us/step - loss: 2.6157 - accuracy: 0.1422\n",
      "Epoch 45/50\n",
      "45/45 [==============================] - 0s 985us/step - loss: 2.5912 - accuracy: 0.1422\n",
      "Epoch 46/50\n",
      "45/45 [==============================] - 0s 908us/step - loss: 2.6085 - accuracy: 0.1667\n",
      "Epoch 47/50\n",
      "45/45 [==============================] - 0s 991us/step - loss: 2.6114 - accuracy: 0.1533\n",
      "Epoch 48/50\n",
      "45/45 [==============================] - 0s 1ms/step - loss: 2.5992 - accuracy: 0.1422\n",
      "Epoch 49/50\n",
      "45/45 [==============================] - 0s 1ms/step - loss: 2.6083 - accuracy: 0.1933\n",
      "Epoch 50/50\n",
      "45/45 [==============================] - 0s 998us/step - loss: 2.6268 - accuracy: 0.1244\n"
     ]
    },
    {
     "data": {
      "text/plain": [
       "<keras.src.callbacks.History at 0x7f9d9a67ed00>"
      ]
     },
     "execution_count": 81,
     "metadata": {},
     "output_type": "execute_result"
    }
   ],
   "source": [
    "# Building the model\n",
    "model = Sequential()\n",
    "model.add(Dense(50, activation='sigmoid', input_shape=(96,)))\n",
    "model.add(Dense(15, activation='softmax'))\n",
    "\n",
    "# Compiling the model\n",
    "opt = keras.optimizers.Adam(learning_rate=0.01)\n",
    "model.compile(optimizer=opt, loss='categorical_crossentropy', metrics=['accuracy'])\n",
    "\n",
    "#Train the model\n",
    "model.fit(XTrain, yTrain, epochs=50, batch_size=10)"
   ]
  },
  {
   "cell_type": "code",
   "execution_count": 82,
   "metadata": {},
   "outputs": [
    {
     "name": "stdout",
     "output_type": "stream",
     "text": [
      "2/2 [==============================] - 0s 3ms/step - loss: 2.6497 - accuracy: 0.1600\n",
      "Test model loss: 2.6496505737304688\n",
      "Test model accuracy: 0.1599999964237213\n"
     ]
    }
   ],
   "source": [
    "# Evaluating the model on the test data\n",
    "loss, accuracy = model.evaluate(XTest, yTest)\n",
    "print('Test model loss:', loss)\n",
    "print('Test model accuracy:', accuracy)"
   ]
  },
  {
   "cell_type": "markdown",
   "metadata": {},
   "source": [
    "- LeakyReLU provided a higher accuracy than all other models because it performs better in networks with a large number of negative inputs, compared to other activation functions. And our embeddings have lots of negative numbers."
   ]
  },
  {
   "cell_type": "markdown",
   "metadata": {},
   "source": [
    "### Changing the Learning rate"
   ]
  },
  {
   "cell_type": "markdown",
   "metadata": {},
   "source": [
    "#### Using 0.01:"
   ]
  },
  {
   "cell_type": "code",
   "execution_count": 85,
   "metadata": {
    "scrolled": true
   },
   "outputs": [
    {
     "name": "stdout",
     "output_type": "stream",
     "text": [
      "Epoch 1/50\n",
      "45/45 [==============================] - 1s 1ms/step - loss: 313.6273 - accuracy: 0.2133\n",
      "Epoch 2/50\n",
      "45/45 [==============================] - 0s 1ms/step - loss: 119.0432 - accuracy: 0.3644\n",
      "Epoch 3/50\n",
      "45/45 [==============================] - 0s 1ms/step - loss: 83.5229 - accuracy: 0.3444\n",
      "Epoch 4/50\n",
      "45/45 [==============================] - 0s 1ms/step - loss: 55.3766 - accuracy: 0.4000\n",
      "Epoch 5/50\n",
      "45/45 [==============================] - 0s 1ms/step - loss: 61.7992 - accuracy: 0.4133\n",
      "Epoch 6/50\n",
      "45/45 [==============================] - 0s 1ms/step - loss: 69.9710 - accuracy: 0.4000\n",
      "Epoch 7/50\n",
      "45/45 [==============================] - 0s 1ms/step - loss: 49.1513 - accuracy: 0.4178\n",
      "Epoch 8/50\n",
      "45/45 [==============================] - 0s 1ms/step - loss: 39.6066 - accuracy: 0.4556\n",
      "Epoch 9/50\n",
      "45/45 [==============================] - 0s 1ms/step - loss: 38.3134 - accuracy: 0.4244\n",
      "Epoch 10/50\n",
      "45/45 [==============================] - 0s 1ms/step - loss: 28.6555 - accuracy: 0.4822\n",
      "Epoch 11/50\n",
      "45/45 [==============================] - 0s 1ms/step - loss: 31.6306 - accuracy: 0.4622\n",
      "Epoch 12/50\n",
      "45/45 [==============================] - 0s 1ms/step - loss: 30.4494 - accuracy: 0.4200\n",
      "Epoch 13/50\n",
      "45/45 [==============================] - 0s 1ms/step - loss: 24.6477 - accuracy: 0.4756\n",
      "Epoch 14/50\n",
      "45/45 [==============================] - 0s 973us/step - loss: 25.2192 - accuracy: 0.4600\n",
      "Epoch 15/50\n",
      "45/45 [==============================] - 0s 1ms/step - loss: 27.8981 - accuracy: 0.4444\n",
      "Epoch 16/50\n",
      "45/45 [==============================] - 0s 913us/step - loss: 24.8979 - accuracy: 0.4578\n",
      "Epoch 17/50\n",
      "45/45 [==============================] - 0s 1ms/step - loss: 19.8629 - accuracy: 0.4889\n",
      "Epoch 18/50\n",
      "45/45 [==============================] - 0s 1ms/step - loss: 18.9444 - accuracy: 0.5067\n",
      "Epoch 19/50\n",
      "45/45 [==============================] - 0s 1ms/step - loss: 23.9626 - accuracy: 0.4689\n",
      "Epoch 20/50\n",
      "45/45 [==============================] - 0s 2ms/step - loss: 21.9490 - accuracy: 0.4844\n",
      "Epoch 21/50\n",
      "45/45 [==============================] - 0s 1ms/step - loss: 22.5479 - accuracy: 0.4578\n",
      "Epoch 22/50\n",
      "45/45 [==============================] - 0s 923us/step - loss: 22.8527 - accuracy: 0.4600\n",
      "Epoch 23/50\n",
      "45/45 [==============================] - 0s 1ms/step - loss: 20.9877 - accuracy: 0.4711\n",
      "Epoch 24/50\n",
      "45/45 [==============================] - 0s 923us/step - loss: 20.1566 - accuracy: 0.4867\n",
      "Epoch 25/50\n",
      "45/45 [==============================] - 0s 1ms/step - loss: 21.9595 - accuracy: 0.4689\n",
      "Epoch 26/50\n",
      "45/45 [==============================] - 0s 996us/step - loss: 18.2937 - accuracy: 0.5000\n",
      "Epoch 27/50\n",
      "45/45 [==============================] - 0s 1ms/step - loss: 20.0708 - accuracy: 0.5044\n",
      "Epoch 28/50\n",
      "45/45 [==============================] - 0s 989us/step - loss: 32.9607 - accuracy: 0.4378\n",
      "Epoch 29/50\n",
      "45/45 [==============================] - 0s 1ms/step - loss: 34.7654 - accuracy: 0.4111\n",
      "Epoch 30/50\n",
      "45/45 [==============================] - 0s 990us/step - loss: 26.0111 - accuracy: 0.4356\n",
      "Epoch 31/50\n",
      "45/45 [==============================] - 0s 1ms/step - loss: 30.6759 - accuracy: 0.4800\n",
      "Epoch 32/50\n",
      "45/45 [==============================] - 0s 1ms/step - loss: 34.8337 - accuracy: 0.3978\n",
      "Epoch 33/50\n",
      "45/45 [==============================] - 0s 1ms/step - loss: 50.1406 - accuracy: 0.4267\n",
      "Epoch 34/50\n",
      "45/45 [==============================] - 0s 1ms/step - loss: 36.7737 - accuracy: 0.4578\n",
      "Epoch 35/50\n",
      "45/45 [==============================] - 0s 1ms/step - loss: 31.9107 - accuracy: 0.4756\n",
      "Epoch 36/50\n",
      "45/45 [==============================] - 0s 997us/step - loss: 30.5079 - accuracy: 0.4867\n",
      "Epoch 37/50\n",
      "45/45 [==============================] - 0s 998us/step - loss: 35.5894 - accuracy: 0.4756\n",
      "Epoch 38/50\n",
      "45/45 [==============================] - 0s 875us/step - loss: 36.0416 - accuracy: 0.4489\n",
      "Epoch 39/50\n",
      "45/45 [==============================] - 0s 971us/step - loss: 57.9505 - accuracy: 0.4000\n",
      "Epoch 40/50\n",
      "45/45 [==============================] - 0s 1ms/step - loss: 55.7216 - accuracy: 0.4067\n",
      "Epoch 41/50\n",
      "45/45 [==============================] - 0s 1ms/step - loss: 51.1666 - accuracy: 0.4289\n",
      "Epoch 42/50\n",
      "45/45 [==============================] - 0s 1ms/step - loss: 44.2611 - accuracy: 0.4444\n",
      "Epoch 43/50\n",
      "45/45 [==============================] - 0s 1ms/step - loss: 54.5707 - accuracy: 0.4311\n",
      "Epoch 44/50\n",
      "45/45 [==============================] - 0s 1ms/step - loss: 54.7063 - accuracy: 0.4444\n",
      "Epoch 45/50\n",
      "45/45 [==============================] - 0s 1ms/step - loss: 34.6433 - accuracy: 0.4711\n",
      "Epoch 46/50\n",
      "45/45 [==============================] - 0s 1ms/step - loss: 41.3319 - accuracy: 0.4578\n",
      "Epoch 47/50\n",
      "45/45 [==============================] - 0s 1ms/step - loss: 37.3010 - accuracy: 0.4844\n",
      "Epoch 48/50\n",
      "45/45 [==============================] - 0s 2ms/step - loss: 34.9398 - accuracy: 0.4933\n",
      "Epoch 49/50\n",
      "45/45 [==============================] - 0s 1ms/step - loss: 32.9179 - accuracy: 0.5156\n",
      "Epoch 50/50\n",
      "45/45 [==============================] - 0s 2ms/step - loss: 40.2471 - accuracy: 0.5067\n"
     ]
    },
    {
     "data": {
      "text/plain": [
       "<keras.src.callbacks.History at 0x7f9d9c82c3d0>"
      ]
     },
     "execution_count": 85,
     "metadata": {},
     "output_type": "execute_result"
    }
   ],
   "source": [
    "# Building the model\n",
    "model = Sequential()\n",
    "model.add(Dense(50, activation='LeakyReLU', input_shape=(96,)))\n",
    "model.add(Dense(15, activation='softmax'))\n",
    "\n",
    "# Compiling the model\n",
    "opt = keras.optimizers.Adam(learning_rate=0.01)\n",
    "model.compile(optimizer=opt, loss='categorical_crossentropy', metrics=['accuracy'])\n",
    "\n",
    "#Train the model\n",
    "model.fit(XTrain, yTrain, epochs=50, batch_size=10)"
   ]
  },
  {
   "cell_type": "code",
   "execution_count": 86,
   "metadata": {},
   "outputs": [
    {
     "name": "stdout",
     "output_type": "stream",
     "text": [
      "2/2 [==============================] - 0s 4ms/step - loss: 52.8532 - accuracy: 0.4000\n",
      "Test model loss: 52.853240966796875\n",
      "Test model accuracy: 0.4000000059604645\n"
     ]
    }
   ],
   "source": [
    "# Evaluating the model on the test data\n",
    "loss, accuracy = model.evaluate(XTest, yTest)\n",
    "print('Test model loss:', loss)\n",
    "print('Test model accuracy:', accuracy)"
   ]
  },
  {
   "cell_type": "markdown",
   "metadata": {},
   "source": [
    "#### Using 0.1:"
   ]
  },
  {
   "cell_type": "code",
   "execution_count": 87,
   "metadata": {
    "scrolled": true
   },
   "outputs": [
    {
     "name": "stdout",
     "output_type": "stream",
     "text": [
      "Epoch 1/50\n",
      "45/45 [==============================] - 0s 1ms/step - loss: 5494.3306 - accuracy: 0.1733\n",
      "Epoch 2/50\n",
      "45/45 [==============================] - 0s 1ms/step - loss: 2605.0364 - accuracy: 0.2689\n",
      "Epoch 3/50\n",
      "45/45 [==============================] - 0s 1ms/step - loss: 1404.7079 - accuracy: 0.3156\n",
      "Epoch 4/50\n",
      "45/45 [==============================] - 0s 957us/step - loss: 1271.5435 - accuracy: 0.2889\n",
      "Epoch 5/50\n",
      "45/45 [==============================] - 0s 1ms/step - loss: 1758.3453 - accuracy: 0.3222\n",
      "Epoch 6/50\n",
      "45/45 [==============================] - 0s 1ms/step - loss: 2835.8284 - accuracy: 0.2711\n",
      "Epoch 7/50\n",
      "45/45 [==============================] - 0s 902us/step - loss: 3380.7263 - accuracy: 0.2911\n",
      "Epoch 8/50\n",
      "45/45 [==============================] - 0s 1ms/step - loss: 3333.9656 - accuracy: 0.3267\n",
      "Epoch 9/50\n",
      "45/45 [==============================] - 0s 1ms/step - loss: 3041.6731 - accuracy: 0.3756\n",
      "Epoch 10/50\n",
      "45/45 [==============================] - 0s 1ms/step - loss: 5070.6982 - accuracy: 0.2600\n",
      "Epoch 11/50\n",
      "45/45 [==============================] - 0s 1ms/step - loss: 4413.5586 - accuracy: 0.3133\n",
      "Epoch 12/50\n",
      "45/45 [==============================] - 0s 1ms/step - loss: 4301.8989 - accuracy: 0.3444\n",
      "Epoch 13/50\n",
      "45/45 [==============================] - 0s 1ms/step - loss: 4973.3765 - accuracy: 0.3422\n",
      "Epoch 14/50\n",
      "45/45 [==============================] - 0s 1ms/step - loss: 4751.7476 - accuracy: 0.3533\n",
      "Epoch 15/50\n",
      "45/45 [==============================] - 0s 1ms/step - loss: 4149.7573 - accuracy: 0.3867\n",
      "Epoch 16/50\n",
      "45/45 [==============================] - 0s 1ms/step - loss: 3418.9192 - accuracy: 0.3867\n",
      "Epoch 17/50\n",
      "45/45 [==============================] - 0s 1ms/step - loss: 3534.7461 - accuracy: 0.3911\n",
      "Epoch 18/50\n",
      "45/45 [==============================] - 0s 1ms/step - loss: 3060.3186 - accuracy: 0.4222\n",
      "Epoch 19/50\n",
      "45/45 [==============================] - 0s 1ms/step - loss: 3534.5950 - accuracy: 0.4156\n",
      "Epoch 20/50\n",
      "45/45 [==============================] - 0s 999us/step - loss: 3792.6104 - accuracy: 0.3933\n",
      "Epoch 21/50\n",
      "45/45 [==============================] - 0s 1ms/step - loss: 3000.0801 - accuracy: 0.4000\n",
      "Epoch 22/50\n",
      "45/45 [==============================] - 0s 1ms/step - loss: 3053.9883 - accuracy: 0.4311\n",
      "Epoch 23/50\n",
      "45/45 [==============================] - 0s 1ms/step - loss: 3694.7522 - accuracy: 0.3578\n",
      "Epoch 24/50\n",
      "45/45 [==============================] - 0s 901us/step - loss: 3551.6741 - accuracy: 0.4400\n",
      "Epoch 25/50\n",
      "45/45 [==============================] - 0s 935us/step - loss: 3245.6465 - accuracy: 0.4200\n",
      "Epoch 26/50\n",
      "45/45 [==============================] - 0s 823us/step - loss: 3663.7625 - accuracy: 0.3933\n",
      "Epoch 27/50\n",
      "45/45 [==============================] - 0s 975us/step - loss: 4063.2456 - accuracy: 0.3822\n",
      "Epoch 28/50\n",
      "45/45 [==============================] - 0s 1ms/step - loss: 3567.2583 - accuracy: 0.4111\n",
      "Epoch 29/50\n",
      "45/45 [==============================] - 0s 1ms/step - loss: 4403.1221 - accuracy: 0.4356\n",
      "Epoch 30/50\n",
      "45/45 [==============================] - 0s 2ms/step - loss: 4150.4561 - accuracy: 0.3956\n",
      "Epoch 31/50\n",
      "45/45 [==============================] - 0s 1ms/step - loss: 4082.0859 - accuracy: 0.4333\n",
      "Epoch 32/50\n",
      "45/45 [==============================] - 0s 927us/step - loss: 3569.0244 - accuracy: 0.4289\n",
      "Epoch 33/50\n",
      "45/45 [==============================] - 0s 895us/step - loss: 4089.0303 - accuracy: 0.4222\n",
      "Epoch 34/50\n",
      "45/45 [==============================] - 0s 909us/step - loss: 4815.3906 - accuracy: 0.3800\n",
      "Epoch 35/50\n",
      "45/45 [==============================] - 0s 892us/step - loss: 3525.8743 - accuracy: 0.4556\n",
      "Epoch 36/50\n",
      "45/45 [==============================] - 0s 927us/step - loss: 3263.4873 - accuracy: 0.4711\n",
      "Epoch 37/50\n",
      "45/45 [==============================] - 0s 898us/step - loss: 3572.7666 - accuracy: 0.4733\n",
      "Epoch 38/50\n",
      "45/45 [==============================] - 0s 818us/step - loss: 3353.0818 - accuracy: 0.4778\n",
      "Epoch 39/50\n",
      "45/45 [==============================] - 0s 876us/step - loss: 4756.7251 - accuracy: 0.4289\n",
      "Epoch 40/50\n",
      "45/45 [==============================] - 0s 875us/step - loss: 5208.9072 - accuracy: 0.4067\n",
      "Epoch 41/50\n",
      "45/45 [==============================] - 0s 859us/step - loss: 5654.9971 - accuracy: 0.4022\n",
      "Epoch 42/50\n",
      "45/45 [==============================] - 0s 898us/step - loss: 6461.8296 - accuracy: 0.4356\n",
      "Epoch 43/50\n",
      "45/45 [==============================] - 0s 860us/step - loss: 5048.1465 - accuracy: 0.4556\n",
      "Epoch 44/50\n",
      "45/45 [==============================] - 0s 889us/step - loss: 7201.3198 - accuracy: 0.4244\n",
      "Epoch 45/50\n",
      "45/45 [==============================] - 0s 878us/step - loss: 7673.8062 - accuracy: 0.3867\n",
      "Epoch 46/50\n",
      "45/45 [==============================] - 0s 777us/step - loss: 6426.4106 - accuracy: 0.4267\n",
      "Epoch 47/50\n",
      "45/45 [==============================] - 0s 917us/step - loss: 5469.9482 - accuracy: 0.4711\n",
      "Epoch 48/50\n",
      "45/45 [==============================] - 0s 965us/step - loss: 5420.7334 - accuracy: 0.4489\n",
      "Epoch 49/50\n",
      "45/45 [==============================] - 0s 1ms/step - loss: 4127.5161 - accuracy: 0.5067\n",
      "Epoch 50/50\n",
      "45/45 [==============================] - 0s 1ms/step - loss: 4579.8022 - accuracy: 0.4556\n"
     ]
    },
    {
     "data": {
      "text/plain": [
       "<keras.src.callbacks.History at 0x7f9d9caa7d90>"
      ]
     },
     "execution_count": 87,
     "metadata": {},
     "output_type": "execute_result"
    }
   ],
   "source": [
    "# Building the model\n",
    "model = Sequential()\n",
    "model.add(Dense(50, activation='LeakyReLU', input_shape=(96,)))\n",
    "model.add(Dense(15, activation='softmax'))\n",
    "\n",
    "# Compiling the model\n",
    "opt = keras.optimizers.Adam(learning_rate=0.1)\n",
    "model.compile(optimizer=opt, loss='categorical_crossentropy', metrics=['accuracy'])\n",
    "\n",
    "#Train the model\n",
    "model.fit(XTrain, yTrain, epochs=50, batch_size=10)"
   ]
  },
  {
   "cell_type": "code",
   "execution_count": 88,
   "metadata": {},
   "outputs": [
    {
     "name": "stdout",
     "output_type": "stream",
     "text": [
      "2/2 [==============================] - 0s 3ms/step - loss: 8485.5967 - accuracy: 0.3400\n",
      "Test model loss: 8485.5966796875\n",
      "Test model accuracy: 0.3400000035762787\n"
     ]
    }
   ],
   "source": [
    "# Evaluating the model on the test data\n",
    "loss, accuracy = model.evaluate(XTest, yTest)\n",
    "print('Test model loss:', loss)\n",
    "print('Test model accuracy:', accuracy)"
   ]
  },
  {
   "cell_type": "markdown",
   "metadata": {},
   "source": [
    "#### Using 0.15:"
   ]
  },
  {
   "cell_type": "code",
   "execution_count": 89,
   "metadata": {
    "scrolled": true
   },
   "outputs": [
    {
     "name": "stdout",
     "output_type": "stream",
     "text": [
      "Epoch 1/50\n",
      "45/45 [==============================] - 0s 1ms/step - loss: 12153.6885 - accuracy: 0.1733\n",
      "Epoch 2/50\n",
      "45/45 [==============================] - 0s 1ms/step - loss: 6102.7446 - accuracy: 0.2778\n",
      "Epoch 3/50\n",
      "45/45 [==============================] - 0s 1ms/step - loss: 5623.6626 - accuracy: 0.2844\n",
      "Epoch 4/50\n",
      "45/45 [==============================] - 0s 935us/step - loss: 4608.8784 - accuracy: 0.2733\n",
      "Epoch 5/50\n",
      "45/45 [==============================] - 0s 1ms/step - loss: 6217.0078 - accuracy: 0.2956\n",
      "Epoch 6/50\n",
      "45/45 [==============================] - 0s 976us/step - loss: 7193.3789 - accuracy: 0.2933\n",
      "Epoch 7/50\n",
      "45/45 [==============================] - 0s 1ms/step - loss: 10168.5488 - accuracy: 0.2978\n",
      "Epoch 8/50\n",
      "45/45 [==============================] - 0s 1ms/step - loss: 6215.1021 - accuracy: 0.3578\n",
      "Epoch 9/50\n",
      "45/45 [==============================] - 0s 1ms/step - loss: 6485.0068 - accuracy: 0.3378\n",
      "Epoch 10/50\n",
      "45/45 [==============================] - 0s 1ms/step - loss: 10147.9121 - accuracy: 0.3044\n",
      "Epoch 11/50\n",
      "45/45 [==============================] - 0s 1ms/step - loss: 10115.3984 - accuracy: 0.3422\n",
      "Epoch 12/50\n",
      "45/45 [==============================] - 0s 965us/step - loss: 12049.4834 - accuracy: 0.3267\n",
      "Epoch 13/50\n",
      "45/45 [==============================] - 0s 1ms/step - loss: 8487.4541 - accuracy: 0.4022\n",
      "Epoch 14/50\n",
      "45/45 [==============================] - 0s 1ms/step - loss: 10415.0781 - accuracy: 0.3800\n",
      "Epoch 15/50\n",
      "45/45 [==============================] - 0s 1ms/step - loss: 11855.2549 - accuracy: 0.3311\n",
      "Epoch 16/50\n",
      "45/45 [==============================] - 0s 1ms/step - loss: 10593.1982 - accuracy: 0.3800\n",
      "Epoch 17/50\n",
      "45/45 [==============================] - 0s 1ms/step - loss: 6822.0259 - accuracy: 0.4222\n",
      "Epoch 18/50\n",
      "45/45 [==============================] - 0s 1ms/step - loss: 9609.0049 - accuracy: 0.3444\n",
      "Epoch 19/50\n",
      "45/45 [==============================] - 0s 944us/step - loss: 9374.0859 - accuracy: 0.3889\n",
      "Epoch 20/50\n",
      "45/45 [==============================] - 0s 1ms/step - loss: 8394.3779 - accuracy: 0.3978\n",
      "Epoch 21/50\n",
      "45/45 [==============================] - 0s 923us/step - loss: 8118.0854 - accuracy: 0.4244\n",
      "Epoch 22/50\n",
      "45/45 [==============================] - 0s 1ms/step - loss: 7177.3872 - accuracy: 0.4356\n",
      "Epoch 23/50\n",
      "45/45 [==============================] - 0s 1ms/step - loss: 5796.4570 - accuracy: 0.4644\n",
      "Epoch 24/50\n",
      "45/45 [==============================] - 0s 1ms/step - loss: 6534.1841 - accuracy: 0.3889\n",
      "Epoch 25/50\n",
      "45/45 [==============================] - 0s 1ms/step - loss: 6162.9556 - accuracy: 0.4422\n",
      "Epoch 26/50\n",
      "45/45 [==============================] - 0s 1ms/step - loss: 7311.4805 - accuracy: 0.4178\n",
      "Epoch 27/50\n",
      "45/45 [==============================] - 0s 2ms/step - loss: 9894.8398 - accuracy: 0.4333\n",
      "Epoch 28/50\n",
      "45/45 [==============================] - 0s 1ms/step - loss: 13859.0566 - accuracy: 0.3822\n",
      "Epoch 29/50\n",
      "45/45 [==============================] - 0s 1ms/step - loss: 9454.9297 - accuracy: 0.4156\n",
      "Epoch 30/50\n",
      "45/45 [==============================] - 0s 970us/step - loss: 8454.8701 - accuracy: 0.4667\n",
      "Epoch 31/50\n",
      "45/45 [==============================] - 0s 1ms/step - loss: 7657.8433 - accuracy: 0.4511\n",
      "Epoch 32/50\n",
      "45/45 [==============================] - 0s 1ms/step - loss: 10654.7578 - accuracy: 0.4244\n",
      "Epoch 33/50\n",
      "45/45 [==============================] - 0s 928us/step - loss: 9958.9922 - accuracy: 0.4244\n",
      "Epoch 34/50\n",
      "45/45 [==============================] - 0s 810us/step - loss: 9069.9062 - accuracy: 0.4600\n",
      "Epoch 35/50\n",
      "45/45 [==============================] - 0s 951us/step - loss: 8930.7061 - accuracy: 0.4644\n",
      "Epoch 36/50\n",
      "45/45 [==============================] - 0s 995us/step - loss: 9140.2373 - accuracy: 0.4311\n",
      "Epoch 37/50\n",
      "45/45 [==============================] - 0s 935us/step - loss: 9994.2715 - accuracy: 0.4467\n",
      "Epoch 38/50\n",
      "45/45 [==============================] - 0s 1ms/step - loss: 9272.1738 - accuracy: 0.4578\n",
      "Epoch 39/50\n",
      "45/45 [==============================] - 0s 959us/step - loss: 9092.9170 - accuracy: 0.4333\n",
      "Epoch 40/50\n",
      "45/45 [==============================] - 0s 936us/step - loss: 12643.1670 - accuracy: 0.3867\n",
      "Epoch 41/50\n",
      "45/45 [==============================] - 0s 919us/step - loss: 10488.8457 - accuracy: 0.4600\n",
      "Epoch 42/50\n",
      "45/45 [==============================] - 0s 878us/step - loss: 12056.3291 - accuracy: 0.4067\n",
      "Epoch 43/50\n",
      "45/45 [==============================] - 0s 910us/step - loss: 11294.7119 - accuracy: 0.4333\n",
      "Epoch 44/50\n",
      "45/45 [==============================] - 0s 896us/step - loss: 11542.4658 - accuracy: 0.4489\n",
      "Epoch 45/50\n",
      "45/45 [==============================] - 0s 885us/step - loss: 11183.7881 - accuracy: 0.4400\n",
      "Epoch 46/50\n",
      "45/45 [==============================] - 0s 839us/step - loss: 13101.7910 - accuracy: 0.4378\n",
      "Epoch 47/50\n",
      "45/45 [==============================] - 0s 889us/step - loss: 13323.3594 - accuracy: 0.4333\n",
      "Epoch 48/50\n",
      "45/45 [==============================] - 0s 955us/step - loss: 10288.2432 - accuracy: 0.5044\n",
      "Epoch 49/50\n",
      "45/45 [==============================] - 0s 1ms/step - loss: 10002.9229 - accuracy: 0.4778\n",
      "Epoch 50/50\n",
      "45/45 [==============================] - 0s 1ms/step - loss: 9418.3369 - accuracy: 0.4889\n"
     ]
    },
    {
     "data": {
      "text/plain": [
       "<keras.src.callbacks.History at 0x7f9d9cc6c250>"
      ]
     },
     "execution_count": 89,
     "metadata": {},
     "output_type": "execute_result"
    }
   ],
   "source": [
    "# Building the model\n",
    "model = Sequential()\n",
    "model.add(Dense(50, activation='LeakyReLU', input_shape=(96,)))\n",
    "model.add(Dense(15, activation='softmax'))\n",
    "\n",
    "# Compiling the model\n",
    "opt = keras.optimizers.Adam(learning_rate=0.15)\n",
    "model.compile(optimizer=opt, loss='categorical_crossentropy', metrics=['accuracy'])\n",
    "\n",
    "#Train the model\n",
    "model.fit(XTrain, yTrain, epochs=50, batch_size=10)"
   ]
  },
  {
   "cell_type": "code",
   "execution_count": 90,
   "metadata": {},
   "outputs": [
    {
     "name": "stdout",
     "output_type": "stream",
     "text": [
      "2/2 [==============================] - 0s 3ms/step - loss: 17467.4395 - accuracy: 0.4400\n",
      "Test model loss: 17467.439453125\n",
      "Test model accuracy: 0.4399999976158142\n"
     ]
    }
   ],
   "source": [
    "# Evaluating the model on the test data\n",
    "loss, accuracy = model.evaluate(XTest, yTest)\n",
    "print('Test model loss:', loss)\n",
    "print('Test model accuracy:', accuracy)"
   ]
  },
  {
   "cell_type": "markdown",
   "metadata": {},
   "source": [
    "#### Using 0.17:"
   ]
  },
  {
   "cell_type": "code",
   "execution_count": 139,
   "metadata": {
    "scrolled": true
   },
   "outputs": [
    {
     "name": "stdout",
     "output_type": "stream",
     "text": [
      "Epoch 1/50\n",
      "45/45 [==============================] - 0s 980us/step - loss: 13018.5625 - accuracy: 0.1689\n",
      "Epoch 2/50\n",
      "45/45 [==============================] - 0s 1ms/step - loss: 9798.6260 - accuracy: 0.2289\n",
      "Epoch 3/50\n",
      "45/45 [==============================] - 0s 1ms/step - loss: 8283.7979 - accuracy: 0.2822\n",
      "Epoch 4/50\n",
      "45/45 [==============================] - 0s 1ms/step - loss: 8952.1387 - accuracy: 0.3000\n",
      "Epoch 5/50\n",
      "45/45 [==============================] - 0s 1ms/step - loss: 9058.8320 - accuracy: 0.3067\n",
      "Epoch 6/50\n",
      "45/45 [==============================] - 0s 1ms/step - loss: 8043.8320 - accuracy: 0.2956\n",
      "Epoch 7/50\n",
      "45/45 [==============================] - 0s 1ms/step - loss: 8876.3594 - accuracy: 0.2911\n",
      "Epoch 8/50\n",
      "45/45 [==============================] - 0s 1ms/step - loss: 7954.9443 - accuracy: 0.3222\n",
      "Epoch 9/50\n",
      "45/45 [==============================] - 0s 1ms/step - loss: 7483.6318 - accuracy: 0.3533\n",
      "Epoch 10/50\n",
      "45/45 [==============================] - 0s 1ms/step - loss: 5085.7871 - accuracy: 0.4044\n",
      "Epoch 11/50\n",
      "45/45 [==============================] - 0s 1ms/step - loss: 5893.0737 - accuracy: 0.4000\n",
      "Epoch 12/50\n",
      "45/45 [==============================] - 0s 1ms/step - loss: 8233.9766 - accuracy: 0.3511\n",
      "Epoch 13/50\n",
      "45/45 [==============================] - 0s 997us/step - loss: 7067.1216 - accuracy: 0.3844\n",
      "Epoch 14/50\n",
      "45/45 [==============================] - 0s 942us/step - loss: 6394.0620 - accuracy: 0.4000\n",
      "Epoch 15/50\n",
      "45/45 [==============================] - 0s 958us/step - loss: 5638.8857 - accuracy: 0.4022\n",
      "Epoch 16/50\n",
      "45/45 [==============================] - 0s 1ms/step - loss: 8547.7314 - accuracy: 0.3467\n",
      "Epoch 17/50\n",
      "45/45 [==============================] - 0s 1ms/step - loss: 14424.5215 - accuracy: 0.3422\n",
      "Epoch 18/50\n",
      "45/45 [==============================] - 0s 1ms/step - loss: 17905.3086 - accuracy: 0.2867\n",
      "Epoch 19/50\n",
      "45/45 [==============================] - 0s 1ms/step - loss: 16666.8164 - accuracy: 0.3378\n",
      "Epoch 20/50\n",
      "45/45 [==============================] - 0s 989us/step - loss: 11719.1152 - accuracy: 0.3933\n",
      "Epoch 21/50\n",
      "45/45 [==============================] - 0s 1ms/step - loss: 11709.1660 - accuracy: 0.4200\n",
      "Epoch 22/50\n",
      "45/45 [==============================] - 0s 1ms/step - loss: 15344.9902 - accuracy: 0.3667\n",
      "Epoch 23/50\n",
      "45/45 [==============================] - 0s 1ms/step - loss: 12611.3066 - accuracy: 0.4022\n",
      "Epoch 24/50\n",
      "45/45 [==============================] - 0s 1ms/step - loss: 10300.9814 - accuracy: 0.4622\n",
      "Epoch 25/50\n",
      "45/45 [==============================] - 0s 992us/step - loss: 7601.0195 - accuracy: 0.4511\n",
      "Epoch 26/50\n",
      "45/45 [==============================] - 0s 1ms/step - loss: 8212.9990 - accuracy: 0.4489\n",
      "Epoch 27/50\n",
      "45/45 [==============================] - 0s 925us/step - loss: 9587.0752 - accuracy: 0.4178\n",
      "Epoch 28/50\n",
      "45/45 [==============================] - 0s 1ms/step - loss: 12295.6709 - accuracy: 0.3978\n",
      "Epoch 29/50\n",
      "45/45 [==============================] - 0s 1ms/step - loss: 14031.6885 - accuracy: 0.3822\n",
      "Epoch 30/50\n",
      "45/45 [==============================] - 0s 1ms/step - loss: 18471.5508 - accuracy: 0.3889\n",
      "Epoch 31/50\n",
      "45/45 [==============================] - 0s 1ms/step - loss: 20686.0293 - accuracy: 0.3622\n",
      "Epoch 32/50\n",
      "45/45 [==============================] - 0s 1ms/step - loss: 20717.3750 - accuracy: 0.3911\n",
      "Epoch 33/50\n",
      "45/45 [==============================] - 0s 1ms/step - loss: 15999.0342 - accuracy: 0.4156\n",
      "Epoch 34/50\n",
      "45/45 [==============================] - 0s 1ms/step - loss: 13633.3066 - accuracy: 0.4378\n",
      "Epoch 35/50\n",
      "45/45 [==============================] - 0s 1ms/step - loss: 12359.9551 - accuracy: 0.4822\n",
      "Epoch 36/50\n",
      "45/45 [==============================] - 0s 1ms/step - loss: 9087.0625 - accuracy: 0.4844\n",
      "Epoch 37/50\n",
      "45/45 [==============================] - 0s 926us/step - loss: 10278.9219 - accuracy: 0.4667\n",
      "Epoch 38/50\n",
      "45/45 [==============================] - 0s 2ms/step - loss: 11755.0508 - accuracy: 0.4711\n",
      "Epoch 39/50\n",
      "45/45 [==============================] - 0s 1ms/step - loss: 13613.3037 - accuracy: 0.4044\n",
      "Epoch 40/50\n",
      "45/45 [==============================] - 0s 903us/step - loss: 12452.0957 - accuracy: 0.4467\n",
      "Epoch 41/50\n",
      "45/45 [==============================] - 0s 910us/step - loss: 13860.2109 - accuracy: 0.4422\n",
      "Epoch 42/50\n",
      "45/45 [==============================] - 0s 858us/step - loss: 10092.4775 - accuracy: 0.4933\n",
      "Epoch 43/50\n",
      "45/45 [==============================] - 0s 884us/step - loss: 13165.2676 - accuracy: 0.4200\n",
      "Epoch 44/50\n",
      "45/45 [==============================] - 0s 922us/step - loss: 13471.6533 - accuracy: 0.4444\n",
      "Epoch 45/50\n",
      "45/45 [==============================] - 0s 940us/step - loss: 17637.9160 - accuracy: 0.4244\n",
      "Epoch 46/50\n",
      "45/45 [==============================] - 0s 932us/step - loss: 17997.7773 - accuracy: 0.4356\n",
      "Epoch 47/50\n",
      "45/45 [==============================] - 0s 925us/step - loss: 12091.3076 - accuracy: 0.4800\n",
      "Epoch 48/50\n",
      "45/45 [==============================] - 0s 2ms/step - loss: 10432.5371 - accuracy: 0.5044\n",
      "Epoch 49/50\n",
      "45/45 [==============================] - 0s 2ms/step - loss: 8548.6055 - accuracy: 0.4733\n",
      "Epoch 50/50\n",
      "45/45 [==============================] - 0s 1ms/step - loss: 9783.0332 - accuracy: 0.5044\n"
     ]
    },
    {
     "data": {
      "text/plain": [
       "<keras.src.callbacks.History at 0x7f9da1a41430>"
      ]
     },
     "execution_count": 139,
     "metadata": {},
     "output_type": "execute_result"
    }
   ],
   "source": [
    "# Building the model\n",
    "model = Sequential()\n",
    "model.add(Dense(50, activation='LeakyReLU', input_shape=(96,)))\n",
    "model.add(Dense(15, activation='softmax'))\n",
    "\n",
    "# Compiling the model\n",
    "opt = keras.optimizers.Adam(learning_rate=0.17)\n",
    "model.compile(optimizer=opt, loss='categorical_crossentropy', metrics=['accuracy'])\n",
    "\n",
    "#Train the model\n",
    "model.fit(XTrain, yTrain, epochs=50, batch_size=10)"
   ]
  },
  {
   "cell_type": "code",
   "execution_count": 140,
   "metadata": {},
   "outputs": [
    {
     "name": "stdout",
     "output_type": "stream",
     "text": [
      "2/2 [==============================] - 0s 3ms/step - loss: 20753.4727 - accuracy: 0.3600\n",
      "Test model loss: 20753.47265625\n",
      "Test model accuracy: 0.36000001430511475\n"
     ]
    }
   ],
   "source": [
    "# Evaluating the model on the test data\n",
    "loss, accuracy = model.evaluate(XTest, yTest)\n",
    "print('Test model loss:', loss)\n",
    "print('Test model accuracy:', accuracy)"
   ]
  },
  {
   "cell_type": "markdown",
   "metadata": {},
   "source": [
    "#### Using 0.001:"
   ]
  },
  {
   "cell_type": "code",
   "execution_count": 141,
   "metadata": {
    "scrolled": true
   },
   "outputs": [
    {
     "name": "stdout",
     "output_type": "stream",
     "text": [
      "Epoch 1/50\n",
      "45/45 [==============================] - 1s 2ms/step - loss: 242.6665 - accuracy: 0.2022\n",
      "Epoch 2/50\n",
      "45/45 [==============================] - 0s 1ms/step - loss: 96.8732 - accuracy: 0.3156\n",
      "Epoch 3/50\n",
      "45/45 [==============================] - 0s 1ms/step - loss: 73.9746 - accuracy: 0.3356\n",
      "Epoch 4/50\n",
      "45/45 [==============================] - 0s 1ms/step - loss: 65.3389 - accuracy: 0.3600\n",
      "Epoch 5/50\n",
      "45/45 [==============================] - 0s 1ms/step - loss: 50.7758 - accuracy: 0.3622\n",
      "Epoch 6/50\n",
      "45/45 [==============================] - 0s 1ms/step - loss: 50.6060 - accuracy: 0.4067\n",
      "Epoch 7/50\n",
      "45/45 [==============================] - 0s 1ms/step - loss: 46.9802 - accuracy: 0.3933\n",
      "Epoch 8/50\n",
      "45/45 [==============================] - 0s 1ms/step - loss: 39.4215 - accuracy: 0.4089\n",
      "Epoch 9/50\n",
      "45/45 [==============================] - 0s 1ms/step - loss: 37.8381 - accuracy: 0.4244\n",
      "Epoch 10/50\n",
      "45/45 [==============================] - 0s 1ms/step - loss: 42.5586 - accuracy: 0.4267\n",
      "Epoch 11/50\n",
      "45/45 [==============================] - 0s 1ms/step - loss: 32.3647 - accuracy: 0.4622\n",
      "Epoch 12/50\n",
      "45/45 [==============================] - 0s 1ms/step - loss: 34.5301 - accuracy: 0.4422\n",
      "Epoch 13/50\n",
      "45/45 [==============================] - 0s 1ms/step - loss: 32.2316 - accuracy: 0.4511\n",
      "Epoch 14/50\n",
      "45/45 [==============================] - 0s 1ms/step - loss: 30.8740 - accuracy: 0.4622\n",
      "Epoch 15/50\n",
      "45/45 [==============================] - 0s 1ms/step - loss: 30.4418 - accuracy: 0.4956\n",
      "Epoch 16/50\n",
      "45/45 [==============================] - 0s 1ms/step - loss: 26.0522 - accuracy: 0.4978\n",
      "Epoch 17/50\n",
      "45/45 [==============================] - 0s 1ms/step - loss: 23.8106 - accuracy: 0.5178\n",
      "Epoch 18/50\n",
      "45/45 [==============================] - 0s 1ms/step - loss: 19.8729 - accuracy: 0.5489\n",
      "Epoch 19/50\n",
      "45/45 [==============================] - 0s 1ms/step - loss: 18.2920 - accuracy: 0.5267\n",
      "Epoch 20/50\n",
      "45/45 [==============================] - 0s 1ms/step - loss: 24.0304 - accuracy: 0.5000\n",
      "Epoch 21/50\n",
      "45/45 [==============================] - 0s 1ms/step - loss: 19.9658 - accuracy: 0.5311\n",
      "Epoch 22/50\n",
      "45/45 [==============================] - 0s 2ms/step - loss: 17.7370 - accuracy: 0.5644\n",
      "Epoch 23/50\n",
      "45/45 [==============================] - 0s 2ms/step - loss: 17.5716 - accuracy: 0.5667\n",
      "Epoch 24/50\n",
      "45/45 [==============================] - 0s 2ms/step - loss: 16.0008 - accuracy: 0.5844\n",
      "Epoch 25/50\n",
      "45/45 [==============================] - 0s 2ms/step - loss: 16.1405 - accuracy: 0.5733\n",
      "Epoch 26/50\n",
      "45/45 [==============================] - 0s 2ms/step - loss: 17.2865 - accuracy: 0.5778\n",
      "Epoch 27/50\n",
      "45/45 [==============================] - 0s 1ms/step - loss: 15.6033 - accuracy: 0.5689\n",
      "Epoch 28/50\n",
      "45/45 [==============================] - 0s 2ms/step - loss: 15.6524 - accuracy: 0.5800\n",
      "Epoch 29/50\n",
      "45/45 [==============================] - 0s 1ms/step - loss: 13.7575 - accuracy: 0.6156\n",
      "Epoch 30/50\n",
      "45/45 [==============================] - 0s 1ms/step - loss: 14.7986 - accuracy: 0.5533\n",
      "Epoch 31/50\n",
      "45/45 [==============================] - 0s 1ms/step - loss: 16.0018 - accuracy: 0.5622\n",
      "Epoch 32/50\n",
      "45/45 [==============================] - 0s 1ms/step - loss: 12.3410 - accuracy: 0.6067\n",
      "Epoch 33/50\n",
      "45/45 [==============================] - 0s 1ms/step - loss: 11.7005 - accuracy: 0.6222\n",
      "Epoch 34/50\n",
      "45/45 [==============================] - 0s 1ms/step - loss: 12.7271 - accuracy: 0.6244\n",
      "Epoch 35/50\n",
      "45/45 [==============================] - 0s 1ms/step - loss: 11.6729 - accuracy: 0.6378\n",
      "Epoch 36/50\n",
      "45/45 [==============================] - 0s 2ms/step - loss: 12.1569 - accuracy: 0.6200\n",
      "Epoch 37/50\n",
      "45/45 [==============================] - 0s 1ms/step - loss: 10.0457 - accuracy: 0.6733\n",
      "Epoch 38/50\n",
      "45/45 [==============================] - 0s 1ms/step - loss: 11.2539 - accuracy: 0.6244\n",
      "Epoch 39/50\n",
      "45/45 [==============================] - 0s 1ms/step - loss: 12.2907 - accuracy: 0.6044\n",
      "Epoch 40/50\n",
      "45/45 [==============================] - 0s 1ms/step - loss: 9.1457 - accuracy: 0.6556\n",
      "Epoch 41/50\n",
      "45/45 [==============================] - 0s 1ms/step - loss: 7.6001 - accuracy: 0.6800\n",
      "Epoch 42/50\n",
      "45/45 [==============================] - 0s 2ms/step - loss: 7.7618 - accuracy: 0.6844\n",
      "Epoch 43/50\n",
      "45/45 [==============================] - 0s 1ms/step - loss: 11.5354 - accuracy: 0.6289\n",
      "Epoch 44/50\n",
      "45/45 [==============================] - 0s 1ms/step - loss: 9.9185 - accuracy: 0.6867\n",
      "Epoch 45/50\n",
      "45/45 [==============================] - 0s 2ms/step - loss: 6.5410 - accuracy: 0.7222\n",
      "Epoch 46/50\n",
      "45/45 [==============================] - 0s 1ms/step - loss: 10.2848 - accuracy: 0.6444\n",
      "Epoch 47/50\n",
      "45/45 [==============================] - 0s 1ms/step - loss: 8.5416 - accuracy: 0.6867\n",
      "Epoch 48/50\n",
      "45/45 [==============================] - 0s 1ms/step - loss: 6.4337 - accuracy: 0.7089\n",
      "Epoch 49/50\n",
      "45/45 [==============================] - 0s 1ms/step - loss: 7.2705 - accuracy: 0.7156\n",
      "Epoch 50/50\n",
      "45/45 [==============================] - 0s 1ms/step - loss: 5.6442 - accuracy: 0.7333\n"
     ]
    },
    {
     "data": {
      "text/plain": [
       "<keras.src.callbacks.History at 0x7f9da1e9fb20>"
      ]
     },
     "execution_count": 141,
     "metadata": {},
     "output_type": "execute_result"
    }
   ],
   "source": [
    "# Building the model\n",
    "model = Sequential()\n",
    "model.add(Dense(50, activation='LeakyReLU', input_shape=(96,)))\n",
    "model.add(Dense(15, activation='softmax'))\n",
    "\n",
    "# Compiling the model\n",
    "opt = keras.optimizers.Adam(learning_rate=0.001)\n",
    "model.compile(optimizer=opt, loss='categorical_crossentropy', metrics=['accuracy'])\n",
    "\n",
    "#Train the model\n",
    "model.fit(XTrain, yTrain, epochs=50, batch_size=10)"
   ]
  },
  {
   "cell_type": "code",
   "execution_count": 142,
   "metadata": {},
   "outputs": [
    {
     "name": "stdout",
     "output_type": "stream",
     "text": [
      "2/2 [==============================] - 0s 3ms/step - loss: 27.2034 - accuracy: 0.4600\n",
      "Test model loss: 27.203428268432617\n",
      "Test model accuracy: 0.46000000834465027\n"
     ]
    }
   ],
   "source": [
    "# Evaluating the model on the test data\n",
    "loss, accuracy = model.evaluate(XTest, yTest)\n",
    "print('Test model loss:', loss)\n",
    "print('Test model accuracy:', accuracy)"
   ]
  },
  {
   "cell_type": "markdown",
   "metadata": {},
   "source": [
    "#### Using 0.0001:"
   ]
  },
  {
   "cell_type": "code",
   "execution_count": 143,
   "metadata": {
    "scrolled": true
   },
   "outputs": [
    {
     "name": "stdout",
     "output_type": "stream",
     "text": [
      "Epoch 1/50\n",
      "45/45 [==============================] - 1s 1ms/step - loss: 427.4035 - accuracy: 0.0689 \n",
      "Epoch 2/50\n",
      "45/45 [==============================] - 0s 1ms/step - loss: 295.4301 - accuracy: 0.1067\n",
      "Epoch 3/50\n",
      "45/45 [==============================] - 0s 2ms/step - loss: 234.6976 - accuracy: 0.1333\n",
      "Epoch 4/50\n",
      "45/45 [==============================] - 0s 1ms/step - loss: 199.9793 - accuracy: 0.1400\n",
      "Epoch 5/50\n",
      "45/45 [==============================] - 0s 1ms/step - loss: 176.5047 - accuracy: 0.1778\n",
      "Epoch 6/50\n",
      "45/45 [==============================] - 0s 1ms/step - loss: 158.1143 - accuracy: 0.1756\n",
      "Epoch 7/50\n",
      "45/45 [==============================] - 0s 1ms/step - loss: 142.9853 - accuracy: 0.1978\n",
      "Epoch 8/50\n",
      "45/45 [==============================] - 0s 1ms/step - loss: 129.9043 - accuracy: 0.2022\n",
      "Epoch 9/50\n",
      "45/45 [==============================] - 0s 1ms/step - loss: 120.6527 - accuracy: 0.1867\n",
      "Epoch 10/50\n",
      "45/45 [==============================] - 0s 1ms/step - loss: 112.0358 - accuracy: 0.2178\n",
      "Epoch 11/50\n",
      "45/45 [==============================] - 0s 1ms/step - loss: 105.9987 - accuracy: 0.2200\n",
      "Epoch 12/50\n",
      "45/45 [==============================] - 0s 1ms/step - loss: 101.0407 - accuracy: 0.2311\n",
      "Epoch 13/50\n",
      "45/45 [==============================] - 0s 1ms/step - loss: 95.7444 - accuracy: 0.2267\n",
      "Epoch 14/50\n",
      "45/45 [==============================] - 0s 1ms/step - loss: 91.0835 - accuracy: 0.2667\n",
      "Epoch 15/50\n",
      "45/45 [==============================] - 0s 1ms/step - loss: 87.5548 - accuracy: 0.2511\n",
      "Epoch 16/50\n",
      "45/45 [==============================] - 0s 1ms/step - loss: 84.1399 - accuracy: 0.2444\n",
      "Epoch 17/50\n",
      "45/45 [==============================] - 0s 1ms/step - loss: 80.2870 - accuracy: 0.2756\n",
      "Epoch 18/50\n",
      "45/45 [==============================] - 0s 1ms/step - loss: 77.8356 - accuracy: 0.2644\n",
      "Epoch 19/50\n",
      "45/45 [==============================] - 0s 1ms/step - loss: 75.0684 - accuracy: 0.2622\n",
      "Epoch 20/50\n",
      "45/45 [==============================] - 0s 1ms/step - loss: 72.1543 - accuracy: 0.2800\n",
      "Epoch 21/50\n",
      "45/45 [==============================] - 0s 1ms/step - loss: 70.5378 - accuracy: 0.2711\n",
      "Epoch 22/50\n",
      "45/45 [==============================] - 0s 1ms/step - loss: 67.3225 - accuracy: 0.3000\n",
      "Epoch 23/50\n",
      "45/45 [==============================] - 0s 1ms/step - loss: 65.4765 - accuracy: 0.2911\n",
      "Epoch 24/50\n",
      "45/45 [==============================] - 0s 1ms/step - loss: 63.6625 - accuracy: 0.2889\n",
      "Epoch 25/50\n",
      "45/45 [==============================] - 0s 1ms/step - loss: 61.0927 - accuracy: 0.3111\n",
      "Epoch 26/50\n",
      "45/45 [==============================] - 0s 1ms/step - loss: 59.6118 - accuracy: 0.3044\n",
      "Epoch 27/50\n",
      "45/45 [==============================] - 0s 2ms/step - loss: 58.0931 - accuracy: 0.3178\n",
      "Epoch 28/50\n",
      "45/45 [==============================] - 0s 1ms/step - loss: 56.4049 - accuracy: 0.3089\n",
      "Epoch 29/50\n",
      "45/45 [==============================] - 0s 1ms/step - loss: 54.3985 - accuracy: 0.3178\n",
      "Epoch 30/50\n",
      "45/45 [==============================] - 0s 1ms/step - loss: 52.9839 - accuracy: 0.3333\n",
      "Epoch 31/50\n",
      "45/45 [==============================] - 0s 1ms/step - loss: 51.9497 - accuracy: 0.3244\n",
      "Epoch 32/50\n",
      "45/45 [==============================] - 0s 1ms/step - loss: 50.8077 - accuracy: 0.3156\n",
      "Epoch 33/50\n",
      "45/45 [==============================] - 0s 1ms/step - loss: 49.9380 - accuracy: 0.3156\n",
      "Epoch 34/50\n",
      "45/45 [==============================] - 0s 1ms/step - loss: 48.2629 - accuracy: 0.3333\n",
      "Epoch 35/50\n",
      "45/45 [==============================] - 0s 1ms/step - loss: 47.7339 - accuracy: 0.3400\n",
      "Epoch 36/50\n",
      "45/45 [==============================] - 0s 1ms/step - loss: 46.9930 - accuracy: 0.3511\n",
      "Epoch 37/50\n",
      "45/45 [==============================] - 0s 1ms/step - loss: 45.2444 - accuracy: 0.3356\n",
      "Epoch 38/50\n",
      "45/45 [==============================] - 0s 1ms/step - loss: 44.4763 - accuracy: 0.3644\n",
      "Epoch 39/50\n",
      "45/45 [==============================] - 0s 1ms/step - loss: 43.0599 - accuracy: 0.3622\n",
      "Epoch 40/50\n",
      "45/45 [==============================] - 0s 1ms/step - loss: 42.6566 - accuracy: 0.3467\n",
      "Epoch 41/50\n",
      "45/45 [==============================] - 0s 1ms/step - loss: 41.9803 - accuracy: 0.3511\n",
      "Epoch 42/50\n",
      "45/45 [==============================] - 0s 1ms/step - loss: 41.1880 - accuracy: 0.3778\n",
      "Epoch 43/50\n",
      "45/45 [==============================] - 0s 1ms/step - loss: 40.0174 - accuracy: 0.3800\n",
      "Epoch 44/50\n",
      "45/45 [==============================] - 0s 1ms/step - loss: 39.4237 - accuracy: 0.3622\n",
      "Epoch 45/50\n",
      "45/45 [==============================] - 0s 1ms/step - loss: 38.4873 - accuracy: 0.3778\n",
      "Epoch 46/50\n",
      "45/45 [==============================] - 0s 1ms/step - loss: 37.3118 - accuracy: 0.3756\n",
      "Epoch 47/50\n",
      "45/45 [==============================] - 0s 1ms/step - loss: 36.8606 - accuracy: 0.3778\n",
      "Epoch 48/50\n",
      "45/45 [==============================] - 0s 1ms/step - loss: 36.2660 - accuracy: 0.4089\n",
      "Epoch 49/50\n",
      "45/45 [==============================] - 0s 1ms/step - loss: 35.1515 - accuracy: 0.3844\n",
      "Epoch 50/50\n",
      "45/45 [==============================] - 0s 1ms/step - loss: 34.6724 - accuracy: 0.3867\n"
     ]
    },
    {
     "data": {
      "text/plain": [
       "<keras.src.callbacks.History at 0x7f9da213de20>"
      ]
     },
     "execution_count": 143,
     "metadata": {},
     "output_type": "execute_result"
    }
   ],
   "source": [
    "# Building the model\n",
    "model = Sequential()\n",
    "model.add(Dense(50, activation='LeakyReLU', input_shape=(96,)))\n",
    "model.add(Dense(15, activation='softmax'))\n",
    "\n",
    "# Compiling the model\n",
    "opt = keras.optimizers.Adam(learning_rate=0.0001)\n",
    "model.compile(optimizer=opt, loss='categorical_crossentropy', metrics=['accuracy'])\n",
    "\n",
    "#Train the model\n",
    "model.fit(XTrain, yTrain, epochs=50, batch_size=10)"
   ]
  },
  {
   "cell_type": "code",
   "execution_count": 144,
   "metadata": {},
   "outputs": [
    {
     "name": "stdout",
     "output_type": "stream",
     "text": [
      "2/2 [==============================] - 0s 3ms/step - loss: 53.6456 - accuracy: 0.2800\n",
      "Test model loss: 53.645633697509766\n",
      "Test model accuracy: 0.2800000011920929\n"
     ]
    }
   ],
   "source": [
    "# Evaluating the model on the test data\n",
    "loss, accuracy = model.evaluate(XTest, yTest)\n",
    "print('Test model loss:', loss)\n",
    "print('Test model accuracy:', accuracy)"
   ]
  },
  {
   "cell_type": "markdown",
   "metadata": {},
   "source": [
    "#### Using 0.00001:"
   ]
  },
  {
   "cell_type": "code",
   "execution_count": 145,
   "metadata": {
    "scrolled": true
   },
   "outputs": [
    {
     "name": "stdout",
     "output_type": "stream",
     "text": [
      "Epoch 1/50\n",
      "45/45 [==============================] - 0s 1ms/step - loss: 659.0590 - accuracy: 0.0689\n",
      "Epoch 2/50\n",
      "45/45 [==============================] - 0s 1ms/step - loss: 613.6396 - accuracy: 0.0644\n",
      "Epoch 3/50\n",
      "45/45 [==============================] - 0s 1ms/step - loss: 575.7479 - accuracy: 0.0733\n",
      "Epoch 4/50\n",
      "45/45 [==============================] - 0s 1ms/step - loss: 542.9491 - accuracy: 0.0800\n",
      "Epoch 5/50\n",
      "45/45 [==============================] - 0s 1ms/step - loss: 516.5143 - accuracy: 0.0889\n",
      "Epoch 6/50\n",
      "45/45 [==============================] - 0s 1ms/step - loss: 493.7683 - accuracy: 0.1000\n",
      "Epoch 7/50\n",
      "45/45 [==============================] - 0s 1ms/step - loss: 473.7477 - accuracy: 0.1000\n",
      "Epoch 8/50\n",
      "45/45 [==============================] - 0s 1ms/step - loss: 454.8261 - accuracy: 0.1067\n",
      "Epoch 9/50\n",
      "45/45 [==============================] - 0s 1ms/step - loss: 437.4015 - accuracy: 0.1022\n",
      "Epoch 10/50\n",
      "45/45 [==============================] - 0s 1ms/step - loss: 420.8462 - accuracy: 0.1111\n",
      "Epoch 11/50\n",
      "45/45 [==============================] - 0s 1ms/step - loss: 405.0775 - accuracy: 0.1156\n",
      "Epoch 12/50\n",
      "45/45 [==============================] - 0s 1ms/step - loss: 390.0019 - accuracy: 0.1133\n",
      "Epoch 13/50\n",
      "45/45 [==============================] - 0s 1ms/step - loss: 375.8553 - accuracy: 0.1156\n",
      "Epoch 14/50\n",
      "45/45 [==============================] - 0s 1ms/step - loss: 362.6867 - accuracy: 0.1200\n",
      "Epoch 15/50\n",
      "45/45 [==============================] - 0s 1ms/step - loss: 350.2602 - accuracy: 0.1244\n",
      "Epoch 16/50\n",
      "45/45 [==============================] - 0s 1ms/step - loss: 338.7870 - accuracy: 0.1289\n",
      "Epoch 17/50\n",
      "45/45 [==============================] - 0s 1ms/step - loss: 327.4057 - accuracy: 0.1289\n",
      "Epoch 18/50\n",
      "45/45 [==============================] - 0s 1ms/step - loss: 316.5460 - accuracy: 0.1378\n",
      "Epoch 19/50\n",
      "45/45 [==============================] - 0s 1ms/step - loss: 305.8623 - accuracy: 0.1311\n",
      "Epoch 20/50\n",
      "45/45 [==============================] - 0s 2ms/step - loss: 295.5299 - accuracy: 0.1422\n",
      "Epoch 21/50\n",
      "45/45 [==============================] - 0s 1ms/step - loss: 285.1262 - accuracy: 0.1467\n",
      "Epoch 22/50\n",
      "45/45 [==============================] - 0s 2ms/step - loss: 275.2385 - accuracy: 0.1444\n",
      "Epoch 23/50\n",
      "45/45 [==============================] - 0s 1ms/step - loss: 265.5951 - accuracy: 0.1467\n",
      "Epoch 24/50\n",
      "45/45 [==============================] - 0s 2ms/step - loss: 256.1925 - accuracy: 0.1467\n",
      "Epoch 25/50\n",
      "45/45 [==============================] - 0s 1ms/step - loss: 247.2098 - accuracy: 0.1511\n",
      "Epoch 26/50\n",
      "45/45 [==============================] - 0s 1ms/step - loss: 238.6393 - accuracy: 0.1489\n",
      "Epoch 27/50\n",
      "45/45 [==============================] - 0s 1ms/step - loss: 230.5446 - accuracy: 0.1533\n",
      "Epoch 28/50\n",
      "45/45 [==============================] - 0s 1ms/step - loss: 223.0583 - accuracy: 0.1533\n",
      "Epoch 29/50\n",
      "45/45 [==============================] - 0s 1ms/step - loss: 216.0857 - accuracy: 0.1600\n",
      "Epoch 30/50\n",
      "45/45 [==============================] - 0s 1ms/step - loss: 209.5019 - accuracy: 0.1578\n",
      "Epoch 31/50\n",
      "45/45 [==============================] - 0s 1ms/step - loss: 203.2829 - accuracy: 0.1578\n",
      "Epoch 32/50\n",
      "45/45 [==============================] - 0s 1ms/step - loss: 197.4659 - accuracy: 0.1622\n",
      "Epoch 33/50\n",
      "45/45 [==============================] - 0s 1ms/step - loss: 191.9603 - accuracy: 0.1667\n",
      "Epoch 34/50\n",
      "45/45 [==============================] - 0s 1ms/step - loss: 186.5592 - accuracy: 0.1711\n",
      "Epoch 35/50\n",
      "45/45 [==============================] - 0s 1ms/step - loss: 181.5898 - accuracy: 0.1689\n",
      "Epoch 36/50\n",
      "45/45 [==============================] - 0s 1ms/step - loss: 176.6910 - accuracy: 0.1711\n",
      "Epoch 37/50\n",
      "45/45 [==============================] - 0s 2ms/step - loss: 172.2015 - accuracy: 0.1778\n",
      "Epoch 38/50\n",
      "45/45 [==============================] - 0s 1ms/step - loss: 168.0185 - accuracy: 0.1800\n",
      "Epoch 39/50\n",
      "45/45 [==============================] - 0s 1ms/step - loss: 164.0926 - accuracy: 0.1800\n",
      "Epoch 40/50\n",
      "45/45 [==============================] - 0s 1ms/step - loss: 160.4503 - accuracy: 0.1844\n",
      "Epoch 41/50\n",
      "45/45 [==============================] - 0s 1ms/step - loss: 157.2893 - accuracy: 0.1889\n",
      "Epoch 42/50\n",
      "45/45 [==============================] - 0s 1ms/step - loss: 154.3352 - accuracy: 0.1911\n",
      "Epoch 43/50\n",
      "45/45 [==============================] - 0s 1ms/step - loss: 151.5776 - accuracy: 0.1889\n",
      "Epoch 44/50\n",
      "45/45 [==============================] - 0s 1ms/step - loss: 149.1914 - accuracy: 0.1867\n",
      "Epoch 45/50\n",
      "45/45 [==============================] - 0s 1ms/step - loss: 146.9622 - accuracy: 0.1911\n",
      "Epoch 46/50\n",
      "45/45 [==============================] - 0s 1ms/step - loss: 144.9889 - accuracy: 0.1933\n",
      "Epoch 47/50\n",
      "45/45 [==============================] - 0s 1ms/step - loss: 143.1041 - accuracy: 0.1978\n",
      "Epoch 48/50\n",
      "45/45 [==============================] - 0s 1ms/step - loss: 141.3799 - accuracy: 0.1978\n",
      "Epoch 49/50\n",
      "45/45 [==============================] - 0s 1ms/step - loss: 139.7829 - accuracy: 0.2000\n",
      "Epoch 50/50\n",
      "45/45 [==============================] - 0s 1ms/step - loss: 138.0686 - accuracy: 0.2000\n"
     ]
    },
    {
     "data": {
      "text/plain": [
       "<keras.src.callbacks.History at 0x7f9da24c7850>"
      ]
     },
     "execution_count": 145,
     "metadata": {},
     "output_type": "execute_result"
    }
   ],
   "source": [
    "# Building the model\n",
    "model = Sequential()\n",
    "model.add(Dense(50, activation='LeakyReLU', input_shape=(96,)))\n",
    "model.add(Dense(15, activation='softmax'))\n",
    "\n",
    "# Compiling the model\n",
    "opt = keras.optimizers.Adam(learning_rate=0.00001)\n",
    "model.compile(optimizer=opt, loss='categorical_crossentropy', metrics=['accuracy'])\n",
    "\n",
    "#Train the model\n",
    "model.fit(XTrain, yTrain, epochs=50, batch_size=10)"
   ]
  },
  {
   "cell_type": "code",
   "execution_count": 146,
   "metadata": {},
   "outputs": [
    {
     "name": "stdout",
     "output_type": "stream",
     "text": [
      "2/2 [==============================] - 0s 3ms/step - loss: 135.2530 - accuracy: 0.2600\n",
      "Test model loss: 135.2529754638672\n",
      "Test model accuracy: 0.25999999046325684\n"
     ]
    }
   ],
   "source": [
    "# Evaluating the model on the test data\n",
    "loss, accuracy = model.evaluate(XTest, yTest)\n",
    "print('Test model loss:', loss)\n",
    "print('Test model accuracy:', accuracy)"
   ]
  },
  {
   "cell_type": "markdown",
   "metadata": {},
   "source": [
    "- Learning rate of 0.001 produced the highest accuracy of 46%."
   ]
  },
  {
   "cell_type": "markdown",
   "metadata": {},
   "source": [
    "### Changing the number of epochs:"
   ]
  },
  {
   "cell_type": "markdown",
   "metadata": {},
   "source": [
    "#### Using 40:"
   ]
  },
  {
   "cell_type": "code",
   "execution_count": 147,
   "metadata": {
    "scrolled": true
   },
   "outputs": [
    {
     "name": "stdout",
     "output_type": "stream",
     "text": [
      "Epoch 1/40\n",
      "45/45 [==============================] - 1s 1ms/step - loss: 254.3453 - accuracy: 0.1778\n",
      "Epoch 2/40\n",
      "45/45 [==============================] - 0s 1ms/step - loss: 100.8080 - accuracy: 0.2689\n",
      "Epoch 3/40\n",
      "45/45 [==============================] - 0s 1ms/step - loss: 71.0486 - accuracy: 0.2867\n",
      "Epoch 4/40\n",
      "45/45 [==============================] - 0s 1ms/step - loss: 60.1709 - accuracy: 0.3178\n",
      "Epoch 5/40\n",
      "45/45 [==============================] - 0s 1ms/step - loss: 50.4871 - accuracy: 0.3644\n",
      "Epoch 6/40\n",
      "45/45 [==============================] - 0s 1ms/step - loss: 44.7986 - accuracy: 0.3667\n",
      "Epoch 7/40\n",
      "45/45 [==============================] - 0s 1ms/step - loss: 41.7701 - accuracy: 0.3689\n",
      "Epoch 8/40\n",
      "45/45 [==============================] - 0s 1ms/step - loss: 37.6748 - accuracy: 0.4178\n",
      "Epoch 9/40\n",
      "45/45 [==============================] - 0s 1ms/step - loss: 36.8222 - accuracy: 0.4244\n",
      "Epoch 10/40\n",
      "45/45 [==============================] - 0s 1ms/step - loss: 35.7764 - accuracy: 0.4089\n",
      "Epoch 11/40\n",
      "45/45 [==============================] - 0s 1ms/step - loss: 31.2443 - accuracy: 0.4533\n",
      "Epoch 12/40\n",
      "45/45 [==============================] - 0s 1ms/step - loss: 33.4840 - accuracy: 0.4244\n",
      "Epoch 13/40\n",
      "45/45 [==============================] - 0s 1ms/step - loss: 28.7523 - accuracy: 0.4467\n",
      "Epoch 14/40\n",
      "45/45 [==============================] - 0s 1ms/step - loss: 26.6258 - accuracy: 0.4667\n",
      "Epoch 15/40\n",
      "45/45 [==============================] - 0s 1ms/step - loss: 23.8574 - accuracy: 0.4911\n",
      "Epoch 16/40\n",
      "45/45 [==============================] - 0s 1ms/step - loss: 24.3748 - accuracy: 0.4800\n",
      "Epoch 17/40\n",
      "45/45 [==============================] - 0s 1ms/step - loss: 24.6605 - accuracy: 0.5067\n",
      "Epoch 18/40\n",
      "45/45 [==============================] - 0s 1ms/step - loss: 21.5558 - accuracy: 0.5044\n",
      "Epoch 19/40\n",
      "45/45 [==============================] - 0s 2ms/step - loss: 23.0868 - accuracy: 0.4933\n",
      "Epoch 20/40\n",
      "45/45 [==============================] - 0s 1ms/step - loss: 18.8455 - accuracy: 0.5156\n",
      "Epoch 21/40\n",
      "45/45 [==============================] - 0s 1ms/step - loss: 19.4613 - accuracy: 0.5000\n",
      "Epoch 22/40\n",
      "45/45 [==============================] - 0s 1ms/step - loss: 14.3224 - accuracy: 0.5667\n",
      "Epoch 23/40\n",
      "45/45 [==============================] - 0s 937us/step - loss: 14.2602 - accuracy: 0.5844\n",
      "Epoch 24/40\n",
      "45/45 [==============================] - 0s 1ms/step - loss: 13.5745 - accuracy: 0.5933\n",
      "Epoch 25/40\n",
      "45/45 [==============================] - 0s 1ms/step - loss: 15.6391 - accuracy: 0.5778\n",
      "Epoch 26/40\n",
      "45/45 [==============================] - 0s 1ms/step - loss: 14.9069 - accuracy: 0.5556\n",
      "Epoch 27/40\n",
      "45/45 [==============================] - 0s 1ms/step - loss: 15.1051 - accuracy: 0.6000\n",
      "Epoch 28/40\n",
      "45/45 [==============================] - 0s 1ms/step - loss: 15.5008 - accuracy: 0.6111\n",
      "Epoch 29/40\n",
      "45/45 [==============================] - 0s 1ms/step - loss: 16.0350 - accuracy: 0.5422\n",
      "Epoch 30/40\n",
      "45/45 [==============================] - 0s 993us/step - loss: 14.2936 - accuracy: 0.5800\n",
      "Epoch 31/40\n",
      "45/45 [==============================] - 0s 1ms/step - loss: 12.6352 - accuracy: 0.6333\n",
      "Epoch 32/40\n",
      "45/45 [==============================] - 0s 957us/step - loss: 14.2400 - accuracy: 0.5800\n",
      "Epoch 33/40\n",
      "45/45 [==============================] - 0s 1ms/step - loss: 12.6909 - accuracy: 0.6200\n",
      "Epoch 34/40\n",
      "45/45 [==============================] - 0s 1ms/step - loss: 13.0786 - accuracy: 0.6044\n",
      "Epoch 35/40\n",
      "45/45 [==============================] - 0s 1ms/step - loss: 12.7535 - accuracy: 0.5956\n",
      "Epoch 36/40\n",
      "45/45 [==============================] - 0s 1ms/step - loss: 10.8583 - accuracy: 0.6244\n",
      "Epoch 37/40\n",
      "45/45 [==============================] - 0s 1ms/step - loss: 10.6217 - accuracy: 0.6067\n",
      "Epoch 38/40\n",
      "45/45 [==============================] - 0s 1ms/step - loss: 11.3755 - accuracy: 0.6200\n",
      "Epoch 39/40\n",
      "45/45 [==============================] - 0s 1ms/step - loss: 12.3043 - accuracy: 0.6422\n",
      "Epoch 40/40\n",
      "45/45 [==============================] - 0s 1ms/step - loss: 9.1935 - accuracy: 0.6533\n"
     ]
    },
    {
     "data": {
      "text/plain": [
       "<keras.src.callbacks.History at 0x7f9da286dc40>"
      ]
     },
     "execution_count": 147,
     "metadata": {},
     "output_type": "execute_result"
    }
   ],
   "source": [
    "# Building the model\n",
    "model = Sequential()\n",
    "model.add(Dense(50, activation='LeakyReLU', input_shape=(96,)))\n",
    "model.add(Dense(15, activation='softmax'))\n",
    "\n",
    "# Compiling the model\n",
    "opt = keras.optimizers.Adam(learning_rate=0.001)\n",
    "model.compile(optimizer=opt, loss='categorical_crossentropy', metrics=['accuracy'])\n",
    "\n",
    "#Train the model\n",
    "model.fit(XTrain, yTrain, epochs=40, batch_size=10)"
   ]
  },
  {
   "cell_type": "code",
   "execution_count": 148,
   "metadata": {},
   "outputs": [
    {
     "name": "stdout",
     "output_type": "stream",
     "text": [
      "2/2 [==============================] - 0s 4ms/step - loss: 33.6004 - accuracy: 0.3800\n",
      "Test model loss: 33.60038757324219\n",
      "Test model accuracy: 0.3799999952316284\n"
     ]
    }
   ],
   "source": [
    "# Evaluating the model on the test data\n",
    "loss, accuracy = model.evaluate(XTest, yTest)\n",
    "print('Test model loss:', loss)\n",
    "print('Test model accuracy:', accuracy)"
   ]
  },
  {
   "cell_type": "markdown",
   "metadata": {},
   "source": [
    "#### Using 70:"
   ]
  },
  {
   "cell_type": "code",
   "execution_count": 149,
   "metadata": {
    "scrolled": true
   },
   "outputs": [
    {
     "name": "stdout",
     "output_type": "stream",
     "text": [
      "Epoch 1/70\n",
      "45/45 [==============================] - 0s 1ms/step - loss: 208.3239 - accuracy: 0.1044 \n",
      "Epoch 2/70\n",
      "45/45 [==============================] - 0s 944us/step - loss: 82.2999 - accuracy: 0.2244\n",
      "Epoch 3/70\n",
      "45/45 [==============================] - 0s 1ms/step - loss: 60.3410 - accuracy: 0.2822\n",
      "Epoch 4/70\n",
      "45/45 [==============================] - 0s 1ms/step - loss: 52.0307 - accuracy: 0.3200\n",
      "Epoch 5/70\n",
      "45/45 [==============================] - 0s 1ms/step - loss: 38.9277 - accuracy: 0.3733\n",
      "Epoch 6/70\n",
      "45/45 [==============================] - 0s 1ms/step - loss: 39.8395 - accuracy: 0.3533\n",
      "Epoch 7/70\n",
      "45/45 [==============================] - 0s 1ms/step - loss: 34.0268 - accuracy: 0.4089\n",
      "Epoch 8/70\n",
      "45/45 [==============================] - 0s 1ms/step - loss: 31.8437 - accuracy: 0.4267\n",
      "Epoch 9/70\n",
      "45/45 [==============================] - 0s 1ms/step - loss: 30.0061 - accuracy: 0.4311\n",
      "Epoch 10/70\n",
      "45/45 [==============================] - 0s 1ms/step - loss: 34.3452 - accuracy: 0.4111\n",
      "Epoch 11/70\n",
      "45/45 [==============================] - 0s 1ms/step - loss: 28.5110 - accuracy: 0.4356\n",
      "Epoch 12/70\n",
      "45/45 [==============================] - 0s 1ms/step - loss: 21.9911 - accuracy: 0.4778\n",
      "Epoch 13/70\n",
      "45/45 [==============================] - 0s 1ms/step - loss: 22.1441 - accuracy: 0.4378\n",
      "Epoch 14/70\n",
      "45/45 [==============================] - 0s 1ms/step - loss: 21.1383 - accuracy: 0.4800\n",
      "Epoch 15/70\n",
      "45/45 [==============================] - 0s 1ms/step - loss: 18.4961 - accuracy: 0.5200\n",
      "Epoch 16/70\n",
      "45/45 [==============================] - 0s 1ms/step - loss: 18.7070 - accuracy: 0.5022\n",
      "Epoch 17/70\n",
      "45/45 [==============================] - 0s 1ms/step - loss: 15.9424 - accuracy: 0.5400\n",
      "Epoch 18/70\n",
      "45/45 [==============================] - 0s 1ms/step - loss: 17.4398 - accuracy: 0.5067\n",
      "Epoch 19/70\n",
      "45/45 [==============================] - 0s 1ms/step - loss: 15.8965 - accuracy: 0.5244\n",
      "Epoch 20/70\n",
      "45/45 [==============================] - 0s 1ms/step - loss: 16.1170 - accuracy: 0.5244\n",
      "Epoch 21/70\n",
      "45/45 [==============================] - 0s 1ms/step - loss: 14.6658 - accuracy: 0.5556\n",
      "Epoch 22/70\n",
      "45/45 [==============================] - 0s 1ms/step - loss: 15.1916 - accuracy: 0.5244\n",
      "Epoch 23/70\n",
      "45/45 [==============================] - 0s 1ms/step - loss: 12.3353 - accuracy: 0.5711\n",
      "Epoch 24/70\n",
      "45/45 [==============================] - 0s 1ms/step - loss: 12.9435 - accuracy: 0.5444\n",
      "Epoch 25/70\n",
      "45/45 [==============================] - 0s 1ms/step - loss: 12.5806 - accuracy: 0.5711\n",
      "Epoch 26/70\n",
      "45/45 [==============================] - 0s 927us/step - loss: 11.5922 - accuracy: 0.5911\n",
      "Epoch 27/70\n",
      "45/45 [==============================] - 0s 1ms/step - loss: 12.3118 - accuracy: 0.5800\n",
      "Epoch 28/70\n",
      "45/45 [==============================] - 0s 1ms/step - loss: 13.7676 - accuracy: 0.5711\n",
      "Epoch 29/70\n",
      "45/45 [==============================] - 0s 1ms/step - loss: 10.1100 - accuracy: 0.6000\n",
      "Epoch 30/70\n",
      "45/45 [==============================] - 0s 1ms/step - loss: 11.8012 - accuracy: 0.5533\n",
      "Epoch 31/70\n",
      "45/45 [==============================] - 0s 998us/step - loss: 11.1797 - accuracy: 0.5933\n",
      "Epoch 32/70\n",
      "45/45 [==============================] - 0s 1ms/step - loss: 12.3879 - accuracy: 0.5333\n",
      "Epoch 33/70\n",
      "45/45 [==============================] - 0s 1ms/step - loss: 10.4990 - accuracy: 0.5933\n",
      "Epoch 34/70\n",
      "45/45 [==============================] - 0s 951us/step - loss: 13.6266 - accuracy: 0.5378\n",
      "Epoch 35/70\n",
      "45/45 [==============================] - 0s 889us/step - loss: 10.6239 - accuracy: 0.5800\n",
      "Epoch 36/70\n",
      "45/45 [==============================] - 0s 938us/step - loss: 10.0462 - accuracy: 0.6133\n",
      "Epoch 37/70\n",
      "45/45 [==============================] - 0s 972us/step - loss: 8.1119 - accuracy: 0.6578\n",
      "Epoch 38/70\n",
      "45/45 [==============================] - 0s 934us/step - loss: 8.5580 - accuracy: 0.6022\n",
      "Epoch 39/70\n",
      "45/45 [==============================] - 0s 955us/step - loss: 10.4504 - accuracy: 0.5889\n",
      "Epoch 40/70\n",
      "45/45 [==============================] - 0s 976us/step - loss: 8.5855 - accuracy: 0.6289\n",
      "Epoch 41/70\n",
      "45/45 [==============================] - 0s 1ms/step - loss: 7.1670 - accuracy: 0.6711\n",
      "Epoch 42/70\n",
      "45/45 [==============================] - 0s 2ms/step - loss: 7.4298 - accuracy: 0.6511\n",
      "Epoch 43/70\n",
      "45/45 [==============================] - 0s 1ms/step - loss: 9.2917 - accuracy: 0.6156\n",
      "Epoch 44/70\n",
      "45/45 [==============================] - 0s 1ms/step - loss: 9.5706 - accuracy: 0.6067\n",
      "Epoch 45/70\n",
      "45/45 [==============================] - 0s 1ms/step - loss: 7.5889 - accuracy: 0.6378\n",
      "Epoch 46/70\n",
      "45/45 [==============================] - 0s 1ms/step - loss: 9.9002 - accuracy: 0.5956\n",
      "Epoch 47/70\n",
      "45/45 [==============================] - 0s 1ms/step - loss: 9.0380 - accuracy: 0.6333\n",
      "Epoch 48/70\n",
      "45/45 [==============================] - 0s 1ms/step - loss: 5.5450 - accuracy: 0.7200\n",
      "Epoch 49/70\n",
      "45/45 [==============================] - 0s 1ms/step - loss: 4.9836 - accuracy: 0.7044\n",
      "Epoch 50/70\n",
      "45/45 [==============================] - 0s 1ms/step - loss: 7.4144 - accuracy: 0.6667\n",
      "Epoch 51/70\n",
      "45/45 [==============================] - 0s 1ms/step - loss: 8.5070 - accuracy: 0.6356\n",
      "Epoch 52/70\n",
      "45/45 [==============================] - 0s 1ms/step - loss: 7.1356 - accuracy: 0.6578\n",
      "Epoch 53/70\n",
      "45/45 [==============================] - 0s 1ms/step - loss: 6.9954 - accuracy: 0.6844\n",
      "Epoch 54/70\n",
      "45/45 [==============================] - 0s 1ms/step - loss: 8.8432 - accuracy: 0.6467\n",
      "Epoch 55/70\n",
      "45/45 [==============================] - 0s 984us/step - loss: 7.6824 - accuracy: 0.6933\n",
      "Epoch 56/70\n",
      "45/45 [==============================] - 0s 986us/step - loss: 6.0420 - accuracy: 0.7156\n",
      "Epoch 57/70\n",
      "45/45 [==============================] - 0s 2ms/step - loss: 4.8820 - accuracy: 0.7333\n",
      "Epoch 58/70\n",
      "45/45 [==============================] - 0s 1ms/step - loss: 5.4084 - accuracy: 0.7022\n",
      "Epoch 59/70\n",
      "45/45 [==============================] - 0s 1ms/step - loss: 5.0807 - accuracy: 0.6844\n",
      "Epoch 60/70\n",
      "45/45 [==============================] - 0s 1ms/step - loss: 4.9984 - accuracy: 0.7133\n",
      "Epoch 61/70\n",
      "45/45 [==============================] - 0s 1ms/step - loss: 5.5682 - accuracy: 0.6889\n",
      "Epoch 62/70\n",
      "45/45 [==============================] - 0s 1ms/step - loss: 3.4568 - accuracy: 0.7378\n",
      "Epoch 63/70\n",
      "45/45 [==============================] - 0s 1ms/step - loss: 4.2761 - accuracy: 0.7511\n",
      "Epoch 64/70\n",
      "45/45 [==============================] - 0s 1ms/step - loss: 5.2221 - accuracy: 0.7111\n",
      "Epoch 65/70\n",
      "45/45 [==============================] - 0s 981us/step - loss: 6.6593 - accuracy: 0.7067\n",
      "Epoch 66/70\n",
      "45/45 [==============================] - 0s 985us/step - loss: 5.3755 - accuracy: 0.6933\n",
      "Epoch 67/70\n",
      "45/45 [==============================] - 0s 1ms/step - loss: 5.3424 - accuracy: 0.7133\n",
      "Epoch 68/70\n",
      "45/45 [==============================] - 0s 1000us/step - loss: 6.2768 - accuracy: 0.6978\n",
      "Epoch 69/70\n",
      "45/45 [==============================] - 0s 982us/step - loss: 4.8005 - accuracy: 0.7178\n",
      "Epoch 70/70\n",
      "45/45 [==============================] - 0s 908us/step - loss: 8.1414 - accuracy: 0.6689\n"
     ]
    },
    {
     "data": {
      "text/plain": [
       "<keras.src.callbacks.History at 0x7f9da2cd7940>"
      ]
     },
     "execution_count": 149,
     "metadata": {},
     "output_type": "execute_result"
    }
   ],
   "source": [
    "# Building the model\n",
    "model = Sequential()\n",
    "model.add(Dense(50, activation='LeakyReLU', input_shape=(96,)))\n",
    "model.add(Dense(15, activation='softmax'))\n",
    "\n",
    "# Compiling the model\n",
    "opt = keras.optimizers.Adam(learning_rate=0.001)\n",
    "model.compile(optimizer=opt, loss='categorical_crossentropy', metrics=['accuracy'])\n",
    "\n",
    "#Train the model\n",
    "model.fit(XTrain, yTrain, epochs=70, batch_size=10)"
   ]
  },
  {
   "cell_type": "code",
   "execution_count": 150,
   "metadata": {},
   "outputs": [
    {
     "name": "stdout",
     "output_type": "stream",
     "text": [
      "2/2 [==============================] - 0s 3ms/step - loss: 30.5583 - accuracy: 0.3600\n",
      "Test model loss: 30.55834197998047\n",
      "Test model accuracy: 0.36000001430511475\n"
     ]
    }
   ],
   "source": [
    "# Evaluating the model on the test data\n",
    "loss, accuracy = model.evaluate(XTest, yTest)\n",
    "print('Test model loss:', loss)\n",
    "print('Test model accuracy:', accuracy)"
   ]
  },
  {
   "cell_type": "markdown",
   "metadata": {},
   "source": [
    "#### Using 100:"
   ]
  },
  {
   "cell_type": "code",
   "execution_count": 155,
   "metadata": {
    "scrolled": true
   },
   "outputs": [
    {
     "name": "stdout",
     "output_type": "stream",
     "text": [
      "Epoch 1/100\n",
      "45/45 [==============================] - 0s 1ms/step - loss: 244.7026 - accuracy: 0.1467\n",
      "Epoch 2/100\n",
      "45/45 [==============================] - 0s 1ms/step - loss: 110.1053 - accuracy: 0.2222\n",
      "Epoch 3/100\n",
      "45/45 [==============================] - 0s 1ms/step - loss: 76.8692 - accuracy: 0.2800\n",
      "Epoch 4/100\n",
      "45/45 [==============================] - 0s 1ms/step - loss: 63.8266 - accuracy: 0.3178\n",
      "Epoch 5/100\n",
      "45/45 [==============================] - 0s 1ms/step - loss: 49.4641 - accuracy: 0.3489\n",
      "Epoch 6/100\n",
      "45/45 [==============================] - 0s 1ms/step - loss: 44.2999 - accuracy: 0.3711\n",
      "Epoch 7/100\n",
      "45/45 [==============================] - 0s 1ms/step - loss: 43.2146 - accuracy: 0.3933\n",
      "Epoch 8/100\n",
      "45/45 [==============================] - 0s 1ms/step - loss: 35.5348 - accuracy: 0.4244\n",
      "Epoch 9/100\n",
      "45/45 [==============================] - 0s 1ms/step - loss: 34.2363 - accuracy: 0.4200\n",
      "Epoch 10/100\n",
      "45/45 [==============================] - 0s 1ms/step - loss: 34.9782 - accuracy: 0.3889\n",
      "Epoch 11/100\n",
      "45/45 [==============================] - 0s 1ms/step - loss: 27.1600 - accuracy: 0.4444\n",
      "Epoch 12/100\n",
      "45/45 [==============================] - 0s 2ms/step - loss: 24.5468 - accuracy: 0.5044\n",
      "Epoch 13/100\n",
      "45/45 [==============================] - 0s 1ms/step - loss: 29.3700 - accuracy: 0.4844\n",
      "Epoch 14/100\n",
      "45/45 [==============================] - 0s 1ms/step - loss: 22.7844 - accuracy: 0.4933\n",
      "Epoch 15/100\n",
      "45/45 [==============================] - 0s 1ms/step - loss: 20.5317 - accuracy: 0.5267\n",
      "Epoch 16/100\n",
      "45/45 [==============================] - 0s 1ms/step - loss: 20.5412 - accuracy: 0.5022\n",
      "Epoch 17/100\n",
      "45/45 [==============================] - 0s 1ms/step - loss: 18.8704 - accuracy: 0.5467\n",
      "Epoch 18/100\n",
      "45/45 [==============================] - 0s 1ms/step - loss: 18.1215 - accuracy: 0.5422\n",
      "Epoch 19/100\n",
      "45/45 [==============================] - 0s 1ms/step - loss: 18.7196 - accuracy: 0.5022\n",
      "Epoch 20/100\n",
      "45/45 [==============================] - 0s 1ms/step - loss: 20.5878 - accuracy: 0.5200\n",
      "Epoch 21/100\n",
      "45/45 [==============================] - 0s 1ms/step - loss: 16.9514 - accuracy: 0.5600\n",
      "Epoch 22/100\n",
      "45/45 [==============================] - 0s 1ms/step - loss: 16.6973 - accuracy: 0.5578\n",
      "Epoch 23/100\n",
      "45/45 [==============================] - 0s 1ms/step - loss: 16.2219 - accuracy: 0.5556\n",
      "Epoch 24/100\n",
      "45/45 [==============================] - 0s 1ms/step - loss: 14.8984 - accuracy: 0.5622\n",
      "Epoch 25/100\n",
      "45/45 [==============================] - 0s 1ms/step - loss: 13.6377 - accuracy: 0.5956\n",
      "Epoch 26/100\n",
      "45/45 [==============================] - 0s 1ms/step - loss: 14.2387 - accuracy: 0.5778\n",
      "Epoch 27/100\n",
      "45/45 [==============================] - 0s 1ms/step - loss: 13.7989 - accuracy: 0.6133\n",
      "Epoch 28/100\n",
      "45/45 [==============================] - 0s 1ms/step - loss: 13.8250 - accuracy: 0.5800\n",
      "Epoch 29/100\n",
      "45/45 [==============================] - 0s 1ms/step - loss: 16.2584 - accuracy: 0.5378\n",
      "Epoch 30/100\n",
      "45/45 [==============================] - 0s 1ms/step - loss: 17.8222 - accuracy: 0.5511\n",
      "Epoch 31/100\n",
      "45/45 [==============================] - 0s 1ms/step - loss: 18.0634 - accuracy: 0.5733\n",
      "Epoch 32/100\n",
      "45/45 [==============================] - 0s 1ms/step - loss: 13.8764 - accuracy: 0.5756\n",
      "Epoch 33/100\n",
      "45/45 [==============================] - 0s 1ms/step - loss: 12.2945 - accuracy: 0.6089\n",
      "Epoch 34/100\n",
      "45/45 [==============================] - 0s 1ms/step - loss: 11.5071 - accuracy: 0.6022\n",
      "Epoch 35/100\n",
      "45/45 [==============================] - 0s 1ms/step - loss: 9.2508 - accuracy: 0.6511\n",
      "Epoch 36/100\n",
      "45/45 [==============================] - 0s 1ms/step - loss: 8.3453 - accuracy: 0.6467\n",
      "Epoch 37/100\n",
      "45/45 [==============================] - 0s 1ms/step - loss: 7.3376 - accuracy: 0.7022\n",
      "Epoch 38/100\n",
      "45/45 [==============================] - 0s 1ms/step - loss: 9.8627 - accuracy: 0.6489\n",
      "Epoch 39/100\n",
      "45/45 [==============================] - 0s 1ms/step - loss: 10.3412 - accuracy: 0.6667\n",
      "Epoch 40/100\n",
      "45/45 [==============================] - 0s 1ms/step - loss: 7.9991 - accuracy: 0.6800\n",
      "Epoch 41/100\n",
      "45/45 [==============================] - 0s 1ms/step - loss: 8.8074 - accuracy: 0.6844\n",
      "Epoch 42/100\n",
      "45/45 [==============================] - 0s 2ms/step - loss: 7.6596 - accuracy: 0.6778\n",
      "Epoch 43/100\n",
      "45/45 [==============================] - 0s 1ms/step - loss: 8.5922 - accuracy: 0.6533\n",
      "Epoch 44/100\n",
      "45/45 [==============================] - 0s 1ms/step - loss: 9.7183 - accuracy: 0.6333\n",
      "Epoch 45/100\n",
      "45/45 [==============================] - 0s 1ms/step - loss: 10.8590 - accuracy: 0.6156\n",
      "Epoch 46/100\n",
      "45/45 [==============================] - 0s 1ms/step - loss: 13.3646 - accuracy: 0.6222\n",
      "Epoch 47/100\n",
      "45/45 [==============================] - 0s 1ms/step - loss: 9.3503 - accuracy: 0.6356\n",
      "Epoch 48/100\n",
      "45/45 [==============================] - 0s 1ms/step - loss: 7.6987 - accuracy: 0.6778\n",
      "Epoch 49/100\n",
      "45/45 [==============================] - 0s 1ms/step - loss: 7.4052 - accuracy: 0.6956\n",
      "Epoch 50/100\n",
      "45/45 [==============================] - 0s 1ms/step - loss: 7.0632 - accuracy: 0.6689\n",
      "Epoch 51/100\n",
      "45/45 [==============================] - 0s 1ms/step - loss: 9.1060 - accuracy: 0.6622\n",
      "Epoch 52/100\n",
      "45/45 [==============================] - 0s 1ms/step - loss: 8.0693 - accuracy: 0.6489\n",
      "Epoch 53/100\n",
      "45/45 [==============================] - 0s 1ms/step - loss: 10.4880 - accuracy: 0.6644\n",
      "Epoch 54/100\n",
      "45/45 [==============================] - 0s 1ms/step - loss: 7.9027 - accuracy: 0.6756\n",
      "Epoch 55/100\n",
      "45/45 [==============================] - 0s 1ms/step - loss: 6.3523 - accuracy: 0.7333\n",
      "Epoch 56/100\n",
      "45/45 [==============================] - 0s 1ms/step - loss: 8.0884 - accuracy: 0.6956\n",
      "Epoch 57/100\n",
      "45/45 [==============================] - 0s 1ms/step - loss: 6.9067 - accuracy: 0.6933\n",
      "Epoch 58/100\n",
      "45/45 [==============================] - 0s 1ms/step - loss: 8.4684 - accuracy: 0.6511\n",
      "Epoch 59/100\n",
      "45/45 [==============================] - 0s 1ms/step - loss: 7.6475 - accuracy: 0.7000\n",
      "Epoch 60/100\n",
      "45/45 [==============================] - 0s 1ms/step - loss: 6.3632 - accuracy: 0.7022\n",
      "Epoch 61/100\n",
      "45/45 [==============================] - 0s 1ms/step - loss: 7.7261 - accuracy: 0.7022\n",
      "Epoch 62/100\n",
      "45/45 [==============================] - 0s 1ms/step - loss: 9.1871 - accuracy: 0.6667\n",
      "Epoch 63/100\n",
      "45/45 [==============================] - 0s 1ms/step - loss: 7.2318 - accuracy: 0.7067\n",
      "Epoch 64/100\n",
      "45/45 [==============================] - 0s 1ms/step - loss: 6.4393 - accuracy: 0.7356\n",
      "Epoch 65/100\n",
      "45/45 [==============================] - 0s 1ms/step - loss: 5.6328 - accuracy: 0.7267\n",
      "Epoch 66/100\n",
      "45/45 [==============================] - 0s 1ms/step - loss: 5.1929 - accuracy: 0.7711\n",
      "Epoch 67/100\n",
      "45/45 [==============================] - 0s 1ms/step - loss: 5.2418 - accuracy: 0.7489\n",
      "Epoch 68/100\n",
      "45/45 [==============================] - 0s 1ms/step - loss: 5.7669 - accuracy: 0.7267\n",
      "Epoch 69/100\n",
      "45/45 [==============================] - 0s 1ms/step - loss: 4.7007 - accuracy: 0.7622\n",
      "Epoch 70/100\n",
      "45/45 [==============================] - 0s 1ms/step - loss: 4.4999 - accuracy: 0.7556\n",
      "Epoch 71/100\n",
      "45/45 [==============================] - 0s 1ms/step - loss: 5.1061 - accuracy: 0.7400\n",
      "Epoch 72/100\n",
      "45/45 [==============================] - 0s 1ms/step - loss: 4.7686 - accuracy: 0.7556\n",
      "Epoch 73/100\n",
      "45/45 [==============================] - 0s 1ms/step - loss: 5.4196 - accuracy: 0.7444\n",
      "Epoch 74/100\n",
      "45/45 [==============================] - 0s 1ms/step - loss: 4.8694 - accuracy: 0.7689\n",
      "Epoch 75/100\n",
      "45/45 [==============================] - 0s 1ms/step - loss: 10.9878 - accuracy: 0.6311\n",
      "Epoch 76/100\n",
      "45/45 [==============================] - 0s 1ms/step - loss: 7.0597 - accuracy: 0.7156\n",
      "Epoch 77/100\n",
      "45/45 [==============================] - 0s 1ms/step - loss: 4.3707 - accuracy: 0.7578\n",
      "Epoch 78/100\n",
      "45/45 [==============================] - 0s 1ms/step - loss: 5.7876 - accuracy: 0.7067\n",
      "Epoch 79/100\n",
      "45/45 [==============================] - 0s 1ms/step - loss: 6.4493 - accuracy: 0.7222\n",
      "Epoch 80/100\n",
      "45/45 [==============================] - 0s 1ms/step - loss: 5.8796 - accuracy: 0.7089\n",
      "Epoch 81/100\n",
      "45/45 [==============================] - 0s 1ms/step - loss: 5.5818 - accuracy: 0.7267\n",
      "Epoch 82/100\n",
      "45/45 [==============================] - 0s 1ms/step - loss: 4.7010 - accuracy: 0.7467\n",
      "Epoch 83/100\n",
      "45/45 [==============================] - 0s 1ms/step - loss: 5.2412 - accuracy: 0.7444\n",
      "Epoch 84/100\n",
      "45/45 [==============================] - 0s 1ms/step - loss: 5.3850 - accuracy: 0.7311\n",
      "Epoch 85/100\n",
      "45/45 [==============================] - 0s 1ms/step - loss: 5.0125 - accuracy: 0.7578\n",
      "Epoch 86/100\n",
      "45/45 [==============================] - 0s 1ms/step - loss: 5.9712 - accuracy: 0.7444\n",
      "Epoch 87/100\n",
      "45/45 [==============================] - 0s 1ms/step - loss: 3.3246 - accuracy: 0.8111\n",
      "Epoch 88/100\n",
      "45/45 [==============================] - 0s 1ms/step - loss: 5.0144 - accuracy: 0.7844\n",
      "Epoch 89/100\n",
      "45/45 [==============================] - 0s 1ms/step - loss: 4.0667 - accuracy: 0.7778\n",
      "Epoch 90/100\n",
      "45/45 [==============================] - 0s 1ms/step - loss: 2.4566 - accuracy: 0.8200\n",
      "Epoch 91/100\n",
      "45/45 [==============================] - 0s 1ms/step - loss: 4.1700 - accuracy: 0.7711\n",
      "Epoch 92/100\n",
      "45/45 [==============================] - 0s 1ms/step - loss: 4.6539 - accuracy: 0.7489\n",
      "Epoch 93/100\n",
      "45/45 [==============================] - 0s 1ms/step - loss: 3.1579 - accuracy: 0.8178\n",
      "Epoch 94/100\n",
      "45/45 [==============================] - 0s 1ms/step - loss: 4.0095 - accuracy: 0.7844\n",
      "Epoch 95/100\n",
      "45/45 [==============================] - 0s 2ms/step - loss: 4.5533 - accuracy: 0.7556\n",
      "Epoch 96/100\n",
      "45/45 [==============================] - 0s 1ms/step - loss: 2.6190 - accuracy: 0.8222\n",
      "Epoch 97/100\n",
      "45/45 [==============================] - 0s 1ms/step - loss: 3.1477 - accuracy: 0.8200\n",
      "Epoch 98/100\n",
      "45/45 [==============================] - 0s 1ms/step - loss: 1.9837 - accuracy: 0.8444\n",
      "Epoch 99/100\n",
      "45/45 [==============================] - 0s 1ms/step - loss: 3.5186 - accuracy: 0.8067\n",
      "Epoch 100/100\n",
      "45/45 [==============================] - 0s 1ms/step - loss: 4.5266 - accuracy: 0.7578\n"
     ]
    },
    {
     "data": {
      "text/plain": [
       "<keras.src.callbacks.History at 0x7f9da3a716d0>"
      ]
     },
     "execution_count": 155,
     "metadata": {},
     "output_type": "execute_result"
    }
   ],
   "source": [
    "# Building the model\n",
    "model = Sequential()\n",
    "model.add(Dense(50, activation='LeakyReLU', input_shape=(96,)))\n",
    "model.add(Dense(15, activation='softmax'))\n",
    "\n",
    "# Compiling the model\n",
    "opt = keras.optimizers.Adam(learning_rate=0.001)\n",
    "model.compile(optimizer=opt, loss='categorical_crossentropy', metrics=['accuracy'])\n",
    "\n",
    "#Train the model\n",
    "model.fit(XTrain, yTrain, epochs=100, batch_size=10)"
   ]
  },
  {
   "cell_type": "code",
   "execution_count": 156,
   "metadata": {},
   "outputs": [
    {
     "name": "stdout",
     "output_type": "stream",
     "text": [
      "2/2 [==============================] - 0s 4ms/step - loss: 34.2113 - accuracy: 0.3800\n",
      "Test model loss: 34.211273193359375\n",
      "Test model accuracy: 0.3799999952316284\n"
     ]
    }
   ],
   "source": [
    "# Evaluating the model on the test data\n",
    "loss, accuracy = model.evaluate(XTest, yTest)\n",
    "print('Test model loss:', loss)\n",
    "print('Test model accuracy:', accuracy)"
   ]
  },
  {
   "cell_type": "markdown",
   "metadata": {},
   "source": [
    "#### Using 150:"
   ]
  },
  {
   "cell_type": "code",
   "execution_count": 153,
   "metadata": {
    "scrolled": true
   },
   "outputs": [
    {
     "name": "stdout",
     "output_type": "stream",
     "text": [
      "Epoch 1/150\n",
      "45/45 [==============================] - 0s 1ms/step - loss: 288.5738 - accuracy: 0.1689\n",
      "Epoch 2/150\n",
      "45/45 [==============================] - 0s 1ms/step - loss: 109.1605 - accuracy: 0.2156\n",
      "Epoch 3/150\n",
      "45/45 [==============================] - 0s 1ms/step - loss: 74.1864 - accuracy: 0.2822\n",
      "Epoch 4/150\n",
      "45/45 [==============================] - 0s 1ms/step - loss: 56.7892 - accuracy: 0.3200\n",
      "Epoch 5/150\n",
      "45/45 [==============================] - 0s 1ms/step - loss: 46.4132 - accuracy: 0.4022\n",
      "Epoch 6/150\n",
      "45/45 [==============================] - 0s 1ms/step - loss: 41.3097 - accuracy: 0.3667\n",
      "Epoch 7/150\n",
      "45/45 [==============================] - 0s 1ms/step - loss: 37.0286 - accuracy: 0.4022\n",
      "Epoch 8/150\n",
      "45/45 [==============================] - 0s 1ms/step - loss: 35.0888 - accuracy: 0.4244\n",
      "Epoch 9/150\n",
      "45/45 [==============================] - 0s 1ms/step - loss: 29.9328 - accuracy: 0.4511\n",
      "Epoch 10/150\n",
      "45/45 [==============================] - 0s 1ms/step - loss: 32.2521 - accuracy: 0.4244\n",
      "Epoch 11/150\n",
      "45/45 [==============================] - 0s 1ms/step - loss: 27.3319 - accuracy: 0.4644\n",
      "Epoch 12/150\n",
      "45/45 [==============================] - 0s 2ms/step - loss: 25.8000 - accuracy: 0.4911\n",
      "Epoch 13/150\n",
      "45/45 [==============================] - 0s 1ms/step - loss: 27.5247 - accuracy: 0.4289\n",
      "Epoch 14/150\n",
      "45/45 [==============================] - 0s 1ms/step - loss: 21.3412 - accuracy: 0.5089\n",
      "Epoch 15/150\n",
      "45/45 [==============================] - 0s 1ms/step - loss: 19.6424 - accuracy: 0.4933\n",
      "Epoch 16/150\n",
      "45/45 [==============================] - 0s 1ms/step - loss: 23.4574 - accuracy: 0.5067\n",
      "Epoch 17/150\n",
      "45/45 [==============================] - 0s 1ms/step - loss: 20.4529 - accuracy: 0.4933\n",
      "Epoch 18/150\n",
      "45/45 [==============================] - 0s 982us/step - loss: 20.0100 - accuracy: 0.4956\n",
      "Epoch 19/150\n",
      "45/45 [==============================] - 0s 1ms/step - loss: 14.4747 - accuracy: 0.5689\n",
      "Epoch 20/150\n",
      "45/45 [==============================] - 0s 1ms/step - loss: 15.8555 - accuracy: 0.5444\n",
      "Epoch 21/150\n",
      "45/45 [==============================] - 0s 1ms/step - loss: 14.5233 - accuracy: 0.5467\n",
      "Epoch 22/150\n",
      "45/45 [==============================] - 0s 1ms/step - loss: 13.7685 - accuracy: 0.5533\n",
      "Epoch 23/150\n",
      "45/45 [==============================] - 0s 1ms/step - loss: 12.1999 - accuracy: 0.6200\n",
      "Epoch 24/150\n",
      "45/45 [==============================] - 0s 1ms/step - loss: 10.9428 - accuracy: 0.5889\n",
      "Epoch 25/150\n",
      "45/45 [==============================] - 0s 1ms/step - loss: 12.1868 - accuracy: 0.5689\n",
      "Epoch 26/150\n",
      "45/45 [==============================] - 0s 1ms/step - loss: 12.5664 - accuracy: 0.5756\n",
      "Epoch 27/150\n",
      "45/45 [==============================] - 0s 1ms/step - loss: 12.5034 - accuracy: 0.5467\n",
      "Epoch 28/150\n",
      "45/45 [==============================] - 0s 1ms/step - loss: 11.9416 - accuracy: 0.5600\n",
      "Epoch 29/150\n",
      "45/45 [==============================] - 0s 1ms/step - loss: 10.8738 - accuracy: 0.6022\n",
      "Epoch 30/150\n",
      "45/45 [==============================] - 0s 1ms/step - loss: 12.3011 - accuracy: 0.5822\n",
      "Epoch 31/150\n",
      "45/45 [==============================] - 0s 1ms/step - loss: 9.5195 - accuracy: 0.6156\n",
      "Epoch 32/150\n",
      "45/45 [==============================] - 0s 1ms/step - loss: 10.9031 - accuracy: 0.6089\n",
      "Epoch 33/150\n",
      "45/45 [==============================] - 0s 2ms/step - loss: 10.2352 - accuracy: 0.6178\n",
      "Epoch 34/150\n",
      "45/45 [==============================] - 0s 1ms/step - loss: 9.4991 - accuracy: 0.6222\n",
      "Epoch 35/150\n",
      "45/45 [==============================] - 0s 1ms/step - loss: 9.5449 - accuracy: 0.6489\n",
      "Epoch 36/150\n",
      "45/45 [==============================] - 0s 1ms/step - loss: 8.6266 - accuracy: 0.6200\n",
      "Epoch 37/150\n",
      "45/45 [==============================] - 0s 1ms/step - loss: 8.4023 - accuracy: 0.6644\n",
      "Epoch 38/150\n",
      "45/45 [==============================] - 0s 1ms/step - loss: 9.7950 - accuracy: 0.6244\n",
      "Epoch 39/150\n",
      "45/45 [==============================] - 0s 1ms/step - loss: 9.2931 - accuracy: 0.6289\n",
      "Epoch 40/150\n",
      "45/45 [==============================] - 0s 1ms/step - loss: 8.1267 - accuracy: 0.6600\n",
      "Epoch 41/150\n",
      "45/45 [==============================] - 0s 1ms/step - loss: 10.1362 - accuracy: 0.6289\n",
      "Epoch 42/150\n",
      "45/45 [==============================] - 0s 1ms/step - loss: 8.5538 - accuracy: 0.6467\n",
      "Epoch 43/150\n",
      "45/45 [==============================] - 0s 1ms/step - loss: 10.3429 - accuracy: 0.6200\n",
      "Epoch 44/150\n",
      "45/45 [==============================] - 0s 2ms/step - loss: 9.6715 - accuracy: 0.6133\n",
      "Epoch 45/150\n",
      "45/45 [==============================] - 0s 1ms/step - loss: 11.4898 - accuracy: 0.5800\n",
      "Epoch 46/150\n",
      "45/45 [==============================] - 0s 1ms/step - loss: 7.8488 - accuracy: 0.6644\n",
      "Epoch 47/150\n",
      "45/45 [==============================] - 0s 1ms/step - loss: 12.7711 - accuracy: 0.6067\n",
      "Epoch 48/150\n",
      "45/45 [==============================] - 0s 1ms/step - loss: 8.0835 - accuracy: 0.6578\n",
      "Epoch 49/150\n",
      "45/45 [==============================] - 0s 1ms/step - loss: 5.8776 - accuracy: 0.7333\n",
      "Epoch 50/150\n",
      "45/45 [==============================] - 0s 1ms/step - loss: 10.4195 - accuracy: 0.6511\n",
      "Epoch 51/150\n",
      "45/45 [==============================] - 0s 1ms/step - loss: 6.9062 - accuracy: 0.7044\n",
      "Epoch 52/150\n",
      "45/45 [==============================] - 0s 1ms/step - loss: 6.4126 - accuracy: 0.7044\n",
      "Epoch 53/150\n",
      "45/45 [==============================] - 0s 1ms/step - loss: 6.2641 - accuracy: 0.7022\n",
      "Epoch 54/150\n",
      "45/45 [==============================] - 0s 1ms/step - loss: 5.6780 - accuracy: 0.7089\n",
      "Epoch 55/150\n",
      "45/45 [==============================] - 0s 1ms/step - loss: 6.7353 - accuracy: 0.6844\n",
      "Epoch 56/150\n",
      "45/45 [==============================] - 0s 1ms/step - loss: 5.4572 - accuracy: 0.7533\n",
      "Epoch 57/150\n",
      "45/45 [==============================] - 0s 1ms/step - loss: 6.4518 - accuracy: 0.7133\n",
      "Epoch 58/150\n",
      "45/45 [==============================] - 0s 1ms/step - loss: 7.4369 - accuracy: 0.6778\n",
      "Epoch 59/150\n",
      "45/45 [==============================] - 0s 964us/step - loss: 8.0887 - accuracy: 0.6711\n",
      "Epoch 60/150\n",
      "45/45 [==============================] - 0s 1ms/step - loss: 4.3069 - accuracy: 0.7400\n",
      "Epoch 61/150\n",
      "45/45 [==============================] - 0s 1ms/step - loss: 4.7024 - accuracy: 0.7133\n",
      "Epoch 62/150\n",
      "45/45 [==============================] - 0s 1ms/step - loss: 6.1193 - accuracy: 0.6911\n",
      "Epoch 63/150\n",
      "45/45 [==============================] - 0s 1ms/step - loss: 4.7406 - accuracy: 0.7667\n",
      "Epoch 64/150\n",
      "45/45 [==============================] - 0s 1ms/step - loss: 8.2224 - accuracy: 0.6622\n",
      "Epoch 65/150\n",
      "45/45 [==============================] - 0s 1ms/step - loss: 10.8163 - accuracy: 0.6267\n",
      "Epoch 66/150\n",
      "45/45 [==============================] - 0s 1ms/step - loss: 5.9728 - accuracy: 0.7467\n",
      "Epoch 67/150\n",
      "45/45 [==============================] - 0s 972us/step - loss: 4.5177 - accuracy: 0.7578\n",
      "Epoch 68/150\n",
      "45/45 [==============================] - 0s 1ms/step - loss: 4.6446 - accuracy: 0.7556\n",
      "Epoch 69/150\n",
      "45/45 [==============================] - 0s 1ms/step - loss: 4.7082 - accuracy: 0.7556\n",
      "Epoch 70/150\n",
      "45/45 [==============================] - 0s 1ms/step - loss: 5.7276 - accuracy: 0.7244\n",
      "Epoch 71/150\n",
      "45/45 [==============================] - 0s 1ms/step - loss: 6.3307 - accuracy: 0.7067\n",
      "Epoch 72/150\n",
      "45/45 [==============================] - 0s 1ms/step - loss: 4.5063 - accuracy: 0.7467\n",
      "Epoch 73/150\n",
      "45/45 [==============================] - 0s 1ms/step - loss: 4.3685 - accuracy: 0.7556\n",
      "Epoch 74/150\n",
      "45/45 [==============================] - 0s 1ms/step - loss: 3.4631 - accuracy: 0.7911\n",
      "Epoch 75/150\n",
      "45/45 [==============================] - 0s 1ms/step - loss: 5.0832 - accuracy: 0.7356\n",
      "Epoch 76/150\n",
      "45/45 [==============================] - 0s 951us/step - loss: 4.2411 - accuracy: 0.7822\n",
      "Epoch 77/150\n",
      "45/45 [==============================] - 0s 1ms/step - loss: 4.8608 - accuracy: 0.7511\n",
      "Epoch 78/150\n",
      "45/45 [==============================] - 0s 1ms/step - loss: 4.0532 - accuracy: 0.7600\n",
      "Epoch 79/150\n",
      "45/45 [==============================] - 0s 1ms/step - loss: 3.4069 - accuracy: 0.7889\n",
      "Epoch 80/150\n",
      "45/45 [==============================] - 0s 1ms/step - loss: 3.7194 - accuracy: 0.7644\n",
      "Epoch 81/150\n",
      "45/45 [==============================] - 0s 1ms/step - loss: 3.7601 - accuracy: 0.7978\n",
      "Epoch 82/150\n",
      "45/45 [==============================] - 0s 1ms/step - loss: 3.2088 - accuracy: 0.7889\n",
      "Epoch 83/150\n",
      "45/45 [==============================] - 0s 1ms/step - loss: 2.5157 - accuracy: 0.8267\n",
      "Epoch 84/150\n",
      "45/45 [==============================] - 0s 1ms/step - loss: 2.4444 - accuracy: 0.8444\n",
      "Epoch 85/150\n",
      "45/45 [==============================] - 0s 1ms/step - loss: 2.7217 - accuracy: 0.8067\n",
      "Epoch 86/150\n",
      "45/45 [==============================] - 0s 975us/step - loss: 4.4085 - accuracy: 0.7800\n",
      "Epoch 87/150\n",
      "45/45 [==============================] - 0s 1ms/step - loss: 4.6074 - accuracy: 0.7600\n",
      "Epoch 88/150\n",
      "45/45 [==============================] - 0s 2ms/step - loss: 3.5339 - accuracy: 0.7867\n",
      "Epoch 89/150\n",
      "45/45 [==============================] - 0s 1ms/step - loss: 3.7521 - accuracy: 0.7889\n",
      "Epoch 90/150\n",
      "45/45 [==============================] - 0s 1ms/step - loss: 3.2478 - accuracy: 0.8111\n",
      "Epoch 91/150\n",
      "45/45 [==============================] - 0s 1ms/step - loss: 3.5513 - accuracy: 0.7978\n",
      "Epoch 92/150\n",
      "45/45 [==============================] - 0s 1ms/step - loss: 2.7473 - accuracy: 0.8133\n",
      "Epoch 93/150\n",
      "45/45 [==============================] - 0s 1ms/step - loss: 3.2372 - accuracy: 0.8156\n",
      "Epoch 94/150\n",
      "45/45 [==============================] - 0s 1ms/step - loss: 3.1885 - accuracy: 0.7978\n",
      "Epoch 95/150\n",
      "45/45 [==============================] - 0s 984us/step - loss: 4.4337 - accuracy: 0.7667\n",
      "Epoch 96/150\n",
      "45/45 [==============================] - 0s 1ms/step - loss: 1.9463 - accuracy: 0.8644\n",
      "Epoch 97/150\n",
      "45/45 [==============================] - 0s 1ms/step - loss: 2.3172 - accuracy: 0.8489\n",
      "Epoch 98/150\n",
      "45/45 [==============================] - 0s 1ms/step - loss: 4.1740 - accuracy: 0.7689\n",
      "Epoch 99/150\n",
      "45/45 [==============================] - 0s 1ms/step - loss: 3.5820 - accuracy: 0.7889\n",
      "Epoch 100/150\n",
      "45/45 [==============================] - 0s 1ms/step - loss: 2.4995 - accuracy: 0.8067\n",
      "Epoch 101/150\n",
      "45/45 [==============================] - 0s 1ms/step - loss: 2.8992 - accuracy: 0.8156\n",
      "Epoch 102/150\n",
      "45/45 [==============================] - 0s 1ms/step - loss: 3.5380 - accuracy: 0.7889\n",
      "Epoch 103/150\n",
      "45/45 [==============================] - 0s 1ms/step - loss: 2.7510 - accuracy: 0.8156\n",
      "Epoch 104/150\n",
      "45/45 [==============================] - 0s 1ms/step - loss: 3.0092 - accuracy: 0.8044\n",
      "Epoch 105/150\n",
      "45/45 [==============================] - 0s 1ms/step - loss: 4.7656 - accuracy: 0.7956\n",
      "Epoch 106/150\n",
      "45/45 [==============================] - 0s 1ms/step - loss: 5.0210 - accuracy: 0.7800\n",
      "Epoch 107/150\n",
      "45/45 [==============================] - 0s 1ms/step - loss: 2.1872 - accuracy: 0.8244\n",
      "Epoch 108/150\n",
      "45/45 [==============================] - 0s 1ms/step - loss: 2.5972 - accuracy: 0.8378\n",
      "Epoch 109/150\n",
      "45/45 [==============================] - 0s 1ms/step - loss: 2.5022 - accuracy: 0.8400\n",
      "Epoch 110/150\n",
      "45/45 [==============================] - 0s 2ms/step - loss: 1.4711 - accuracy: 0.8800\n",
      "Epoch 111/150\n",
      "45/45 [==============================] - 0s 1ms/step - loss: 2.6656 - accuracy: 0.8422\n",
      "Epoch 112/150\n",
      "45/45 [==============================] - 0s 1ms/step - loss: 4.0086 - accuracy: 0.7889\n",
      "Epoch 113/150\n",
      "45/45 [==============================] - 0s 1ms/step - loss: 4.4440 - accuracy: 0.7533\n",
      "Epoch 114/150\n",
      "45/45 [==============================] - 0s 952us/step - loss: 4.9649 - accuracy: 0.7711\n",
      "Epoch 115/150\n",
      "45/45 [==============================] - 0s 971us/step - loss: 2.2047 - accuracy: 0.8622\n",
      "Epoch 116/150\n",
      "45/45 [==============================] - 0s 1ms/step - loss: 0.8735 - accuracy: 0.9244\n",
      "Epoch 117/150\n",
      "45/45 [==============================] - 0s 983us/step - loss: 2.1548 - accuracy: 0.8622\n",
      "Epoch 118/150\n",
      "45/45 [==============================] - 0s 1ms/step - loss: 1.3178 - accuracy: 0.8844\n",
      "Epoch 119/150\n",
      "45/45 [==============================] - 0s 970us/step - loss: 1.3362 - accuracy: 0.8889\n",
      "Epoch 120/150\n",
      "45/45 [==============================] - 0s 1ms/step - loss: 2.2023 - accuracy: 0.8333\n",
      "Epoch 121/150\n",
      "45/45 [==============================] - 0s 1ms/step - loss: 3.7465 - accuracy: 0.7600\n",
      "Epoch 122/150\n",
      "45/45 [==============================] - 0s 1ms/step - loss: 4.7909 - accuracy: 0.7822\n",
      "Epoch 123/150\n",
      "45/45 [==============================] - 0s 1ms/step - loss: 3.0478 - accuracy: 0.8111\n",
      "Epoch 124/150\n",
      "45/45 [==============================] - 0s 1ms/step - loss: 1.9558 - accuracy: 0.8667\n",
      "Epoch 125/150\n",
      "45/45 [==============================] - 0s 2ms/step - loss: 3.8683 - accuracy: 0.8156\n",
      "Epoch 126/150\n",
      "45/45 [==============================] - 0s 1ms/step - loss: 3.2038 - accuracy: 0.8289\n",
      "Epoch 127/150\n",
      "45/45 [==============================] - 0s 1ms/step - loss: 3.1219 - accuracy: 0.8244\n",
      "Epoch 128/150\n",
      "45/45 [==============================] - 0s 1ms/step - loss: 4.4766 - accuracy: 0.7867\n",
      "Epoch 129/150\n",
      "45/45 [==============================] - 0s 1ms/step - loss: 5.6147 - accuracy: 0.7378\n",
      "Epoch 130/150\n",
      "45/45 [==============================] - 0s 1ms/step - loss: 3.1260 - accuracy: 0.7978\n",
      "Epoch 131/150\n",
      "45/45 [==============================] - 0s 1ms/step - loss: 2.1073 - accuracy: 0.8444\n",
      "Epoch 132/150\n",
      "45/45 [==============================] - 0s 1ms/step - loss: 4.1847 - accuracy: 0.7978\n",
      "Epoch 133/150\n",
      "45/45 [==============================] - 0s 1ms/step - loss: 2.3650 - accuracy: 0.8267\n",
      "Epoch 134/150\n",
      "45/45 [==============================] - 0s 1ms/step - loss: 2.4082 - accuracy: 0.8422\n",
      "Epoch 135/150\n",
      "45/45 [==============================] - 0s 1ms/step - loss: 3.9396 - accuracy: 0.8178\n",
      "Epoch 136/150\n",
      "45/45 [==============================] - 0s 951us/step - loss: 2.3148 - accuracy: 0.8444\n",
      "Epoch 137/150\n",
      "45/45 [==============================] - 0s 987us/step - loss: 2.2834 - accuracy: 0.8622\n",
      "Epoch 138/150\n",
      "45/45 [==============================] - 0s 1ms/step - loss: 2.7010 - accuracy: 0.8467\n",
      "Epoch 139/150\n",
      "45/45 [==============================] - 0s 1ms/step - loss: 3.3963 - accuracy: 0.8400\n",
      "Epoch 140/150\n",
      "45/45 [==============================] - 0s 1ms/step - loss: 1.7768 - accuracy: 0.8800\n",
      "Epoch 141/150\n",
      "45/45 [==============================] - 0s 1ms/step - loss: 1.9467 - accuracy: 0.8822\n",
      "Epoch 142/150\n",
      "45/45 [==============================] - 0s 1ms/step - loss: 1.7418 - accuracy: 0.8778\n",
      "Epoch 143/150\n",
      "45/45 [==============================] - 0s 1ms/step - loss: 1.6920 - accuracy: 0.8689\n",
      "Epoch 144/150\n",
      "45/45 [==============================] - 0s 1ms/step - loss: 2.3804 - accuracy: 0.8667\n",
      "Epoch 145/150\n",
      "45/45 [==============================] - 0s 1ms/step - loss: 1.7296 - accuracy: 0.8778\n",
      "Epoch 146/150\n",
      "45/45 [==============================] - 0s 1ms/step - loss: 1.4330 - accuracy: 0.8933\n",
      "Epoch 147/150\n",
      "45/45 [==============================] - 0s 1ms/step - loss: 1.5279 - accuracy: 0.8933\n",
      "Epoch 148/150\n",
      "45/45 [==============================] - 0s 1ms/step - loss: 1.8397 - accuracy: 0.8689\n",
      "Epoch 149/150\n",
      "45/45 [==============================] - 0s 968us/step - loss: 1.8198 - accuracy: 0.8689\n",
      "Epoch 150/150\n",
      "45/45 [==============================] - 0s 981us/step - loss: 3.2939 - accuracy: 0.8267\n"
     ]
    },
    {
     "data": {
      "text/plain": [
       "<keras.src.callbacks.History at 0x7f9da34f27c0>"
      ]
     },
     "execution_count": 153,
     "metadata": {},
     "output_type": "execute_result"
    }
   ],
   "source": [
    "# Building the model\n",
    "model = Sequential()\n",
    "model.add(Dense(50, activation='LeakyReLU', input_shape=(96,)))\n",
    "model.add(Dense(15, activation='softmax'))\n",
    "\n",
    "# Compiling the model\n",
    "opt = keras.optimizers.Adam(learning_rate=0.001)\n",
    "model.compile(optimizer=opt, loss='categorical_crossentropy', metrics=['accuracy'])\n",
    "\n",
    "#Train the model\n",
    "model.fit(XTrain, yTrain, epochs=150, batch_size=10)\n",
    "\n"
   ]
  },
  {
   "cell_type": "code",
   "execution_count": 154,
   "metadata": {},
   "outputs": [
    {
     "name": "stdout",
     "output_type": "stream",
     "text": [
      "2/2 [==============================] - 0s 3ms/step - loss: 29.8052 - accuracy: 0.5000\n",
      "Test model loss: 29.80516815185547\n",
      "Test model accuracy: 0.5\n"
     ]
    }
   ],
   "source": [
    "# Evaluating the model on the test data\n",
    "loss, accuracy = model.evaluate(XTest, yTest)\n",
    "print('Test model loss:', loss)\n",
    "print('Test model accuracy:', accuracy)"
   ]
  },
  {
   "cell_type": "markdown",
   "metadata": {},
   "source": [
    "#### Using 200:"
   ]
  },
  {
   "cell_type": "code",
   "execution_count": 203,
   "metadata": {
    "scrolled": true
   },
   "outputs": [
    {
     "name": "stdout",
     "output_type": "stream",
     "text": [
      "Epoch 1/200\n",
      "45/45 [==============================] - 0s 1ms/step - loss: 240.0355 - accuracy: 0.1333 \n",
      "Epoch 2/200\n",
      "45/45 [==============================] - 0s 1ms/step - loss: 104.4157 - accuracy: 0.2400\n",
      "Epoch 3/200\n",
      "45/45 [==============================] - 0s 1ms/step - loss: 67.7072 - accuracy: 0.2733\n",
      "Epoch 4/200\n",
      "45/45 [==============================] - 0s 1ms/step - loss: 54.3848 - accuracy: 0.3289\n",
      "Epoch 5/200\n",
      "45/45 [==============================] - 0s 1ms/step - loss: 45.2556 - accuracy: 0.3644\n",
      "Epoch 6/200\n",
      "45/45 [==============================] - 0s 1ms/step - loss: 42.9920 - accuracy: 0.3822\n",
      "Epoch 7/200\n",
      "45/45 [==============================] - 0s 1ms/step - loss: 33.2952 - accuracy: 0.4222\n",
      "Epoch 8/200\n",
      "45/45 [==============================] - 0s 1ms/step - loss: 31.2893 - accuracy: 0.4222\n",
      "Epoch 9/200\n",
      "45/45 [==============================] - 0s 1ms/step - loss: 28.6999 - accuracy: 0.4689\n",
      "Epoch 10/200\n",
      "45/45 [==============================] - 0s 1ms/step - loss: 30.1792 - accuracy: 0.4044\n",
      "Epoch 11/200\n",
      "45/45 [==============================] - 0s 1ms/step - loss: 26.6609 - accuracy: 0.4400\n",
      "Epoch 12/200\n",
      "45/45 [==============================] - 0s 993us/step - loss: 24.1949 - accuracy: 0.4867\n",
      "Epoch 13/200\n",
      "45/45 [==============================] - 0s 1ms/step - loss: 21.3597 - accuracy: 0.4867\n",
      "Epoch 14/200\n",
      "45/45 [==============================] - 0s 1ms/step - loss: 19.4227 - accuracy: 0.5089\n",
      "Epoch 15/200\n",
      "45/45 [==============================] - 0s 1ms/step - loss: 18.4618 - accuracy: 0.4756\n",
      "Epoch 16/200\n",
      "45/45 [==============================] - 0s 1ms/step - loss: 15.8253 - accuracy: 0.5622\n",
      "Epoch 17/200\n",
      "45/45 [==============================] - 0s 1ms/step - loss: 17.1661 - accuracy: 0.5333\n",
      "Epoch 18/200\n",
      "45/45 [==============================] - 0s 1ms/step - loss: 17.9910 - accuracy: 0.4956\n",
      "Epoch 19/200\n",
      "45/45 [==============================] - 0s 973us/step - loss: 16.5913 - accuracy: 0.5422\n",
      "Epoch 20/200\n",
      "45/45 [==============================] - 0s 975us/step - loss: 15.3636 - accuracy: 0.5356\n",
      "Epoch 21/200\n",
      "45/45 [==============================] - 0s 1ms/step - loss: 16.7109 - accuracy: 0.5489\n",
      "Epoch 22/200\n",
      "45/45 [==============================] - 0s 1ms/step - loss: 13.6225 - accuracy: 0.5356\n",
      "Epoch 23/200\n",
      "45/45 [==============================] - 0s 1ms/step - loss: 14.0364 - accuracy: 0.5778\n",
      "Epoch 24/200\n",
      "45/45 [==============================] - 0s 1ms/step - loss: 17.1253 - accuracy: 0.5422\n",
      "Epoch 25/200\n",
      "45/45 [==============================] - 0s 1ms/step - loss: 12.0704 - accuracy: 0.5800\n",
      "Epoch 26/200\n",
      "45/45 [==============================] - 0s 1ms/step - loss: 12.9396 - accuracy: 0.5711\n",
      "Epoch 27/200\n",
      "45/45 [==============================] - 0s 2ms/step - loss: 10.7017 - accuracy: 0.6111\n",
      "Epoch 28/200\n",
      "45/45 [==============================] - 0s 1ms/step - loss: 11.7352 - accuracy: 0.5867\n",
      "Epoch 29/200\n",
      "45/45 [==============================] - 0s 1ms/step - loss: 11.5171 - accuracy: 0.6311\n",
      "Epoch 30/200\n",
      "45/45 [==============================] - 0s 1ms/step - loss: 10.6465 - accuracy: 0.6156\n",
      "Epoch 31/200\n",
      "45/45 [==============================] - 0s 959us/step - loss: 10.0205 - accuracy: 0.6378\n",
      "Epoch 32/200\n",
      "45/45 [==============================] - 0s 943us/step - loss: 11.9723 - accuracy: 0.5800\n",
      "Epoch 33/200\n",
      "45/45 [==============================] - 0s 1ms/step - loss: 9.2357 - accuracy: 0.6356\n",
      "Epoch 34/200\n",
      "45/45 [==============================] - 0s 1ms/step - loss: 10.1312 - accuracy: 0.6156\n",
      "Epoch 35/200\n",
      "45/45 [==============================] - 0s 1ms/step - loss: 10.7228 - accuracy: 0.5800\n",
      "Epoch 36/200\n",
      "45/45 [==============================] - 0s 1ms/step - loss: 8.4539 - accuracy: 0.6689\n",
      "Epoch 37/200\n",
      "45/45 [==============================] - 0s 1ms/step - loss: 9.2880 - accuracy: 0.6200\n",
      "Epoch 38/200\n",
      "45/45 [==============================] - 0s 1ms/step - loss: 7.6890 - accuracy: 0.6578\n",
      "Epoch 39/200\n",
      "45/45 [==============================] - 0s 1ms/step - loss: 8.5690 - accuracy: 0.6444\n",
      "Epoch 40/200\n",
      "45/45 [==============================] - 0s 969us/step - loss: 8.5612 - accuracy: 0.6444\n",
      "Epoch 41/200\n",
      "45/45 [==============================] - 0s 929us/step - loss: 10.7271 - accuracy: 0.5956\n",
      "Epoch 42/200\n",
      "45/45 [==============================] - 0s 908us/step - loss: 9.4023 - accuracy: 0.6244\n",
      "Epoch 43/200\n",
      "45/45 [==============================] - 0s 928us/step - loss: 7.9688 - accuracy: 0.6978\n",
      "Epoch 44/200\n",
      "45/45 [==============================] - 0s 989us/step - loss: 7.4392 - accuracy: 0.6711\n",
      "Epoch 45/200\n",
      "45/45 [==============================] - 0s 923us/step - loss: 6.6185 - accuracy: 0.6622\n",
      "Epoch 46/200\n",
      "45/45 [==============================] - 0s 942us/step - loss: 7.1481 - accuracy: 0.6644\n",
      "Epoch 47/200\n",
      "45/45 [==============================] - 0s 930us/step - loss: 6.8460 - accuracy: 0.6889\n",
      "Epoch 48/200\n",
      "45/45 [==============================] - 0s 939us/step - loss: 4.4730 - accuracy: 0.7289\n",
      "Epoch 49/200\n",
      "45/45 [==============================] - 0s 978us/step - loss: 7.2913 - accuracy: 0.6711\n",
      "Epoch 50/200\n",
      "45/45 [==============================] - 0s 914us/step - loss: 10.1617 - accuracy: 0.6444\n",
      "Epoch 51/200\n",
      "45/45 [==============================] - 0s 876us/step - loss: 7.1386 - accuracy: 0.6778\n",
      "Epoch 52/200\n",
      "45/45 [==============================] - 0s 941us/step - loss: 7.0438 - accuracy: 0.7156\n",
      "Epoch 53/200\n",
      "45/45 [==============================] - 0s 1ms/step - loss: 8.3288 - accuracy: 0.6667\n",
      "Epoch 54/200\n",
      "45/45 [==============================] - 0s 1ms/step - loss: 7.4841 - accuracy: 0.6844\n",
      "Epoch 55/200\n",
      "45/45 [==============================] - 0s 1ms/step - loss: 7.0554 - accuracy: 0.7089\n",
      "Epoch 56/200\n",
      "45/45 [==============================] - 0s 989us/step - loss: 5.4689 - accuracy: 0.6978\n",
      "Epoch 57/200\n",
      "45/45 [==============================] - 0s 962us/step - loss: 4.6050 - accuracy: 0.7778\n",
      "Epoch 58/200\n",
      "45/45 [==============================] - 0s 893us/step - loss: 6.1260 - accuracy: 0.7133\n",
      "Epoch 59/200\n",
      "45/45 [==============================] - 0s 917us/step - loss: 5.0306 - accuracy: 0.7311\n",
      "Epoch 60/200\n",
      "45/45 [==============================] - 0s 1ms/step - loss: 5.3207 - accuracy: 0.6978\n",
      "Epoch 61/200\n",
      "45/45 [==============================] - 0s 975us/step - loss: 8.8058 - accuracy: 0.6956\n",
      "Epoch 62/200\n",
      "45/45 [==============================] - 0s 911us/step - loss: 5.7594 - accuracy: 0.7333\n",
      "Epoch 63/200\n",
      "45/45 [==============================] - 0s 920us/step - loss: 6.6017 - accuracy: 0.6800\n",
      "Epoch 64/200\n",
      "45/45 [==============================] - 0s 941us/step - loss: 5.1029 - accuracy: 0.7422\n",
      "Epoch 65/200\n",
      "45/45 [==============================] - 0s 896us/step - loss: 5.9513 - accuracy: 0.6978\n",
      "Epoch 66/200\n",
      "45/45 [==============================] - 0s 994us/step - loss: 3.8497 - accuracy: 0.7533\n",
      "Epoch 67/200\n",
      "45/45 [==============================] - 0s 985us/step - loss: 3.1369 - accuracy: 0.7956\n",
      "Epoch 68/200\n",
      "45/45 [==============================] - 0s 931us/step - loss: 3.9803 - accuracy: 0.7644\n",
      "Epoch 69/200\n",
      "45/45 [==============================] - 0s 1ms/step - loss: 4.4711 - accuracy: 0.7111\n",
      "Epoch 70/200\n",
      "45/45 [==============================] - 0s 982us/step - loss: 3.8287 - accuracy: 0.7667\n",
      "Epoch 71/200\n",
      "45/45 [==============================] - 0s 920us/step - loss: 4.4678 - accuracy: 0.7733\n",
      "Epoch 72/200\n",
      "45/45 [==============================] - 0s 1ms/step - loss: 3.4180 - accuracy: 0.7889\n",
      "Epoch 73/200\n",
      "45/45 [==============================] - 0s 916us/step - loss: 4.1328 - accuracy: 0.7467\n",
      "Epoch 74/200\n",
      "45/45 [==============================] - 0s 971us/step - loss: 5.2521 - accuracy: 0.7400\n",
      "Epoch 75/200\n",
      "45/45 [==============================] - 0s 977us/step - loss: 4.4924 - accuracy: 0.7711\n",
      "Epoch 76/200\n",
      "45/45 [==============================] - 0s 967us/step - loss: 4.0007 - accuracy: 0.7622\n",
      "Epoch 77/200\n",
      "45/45 [==============================] - 0s 907us/step - loss: 2.5353 - accuracy: 0.8289\n",
      "Epoch 78/200\n",
      "45/45 [==============================] - 0s 935us/step - loss: 3.2792 - accuracy: 0.7978\n",
      "Epoch 79/200\n",
      "45/45 [==============================] - 0s 960us/step - loss: 3.4636 - accuracy: 0.7822\n",
      "Epoch 80/200\n",
      "45/45 [==============================] - 0s 910us/step - loss: 4.2993 - accuracy: 0.7778\n",
      "Epoch 81/200\n",
      "45/45 [==============================] - 0s 949us/step - loss: 4.3742 - accuracy: 0.7667\n",
      "Epoch 82/200\n",
      "45/45 [==============================] - 0s 973us/step - loss: 3.4332 - accuracy: 0.8022\n",
      "Epoch 83/200\n",
      "45/45 [==============================] - 0s 913us/step - loss: 2.2050 - accuracy: 0.8200\n",
      "Epoch 84/200\n",
      "45/45 [==============================] - 0s 995us/step - loss: 3.4605 - accuracy: 0.7889\n",
      "Epoch 85/200\n",
      "45/45 [==============================] - 0s 933us/step - loss: 4.5666 - accuracy: 0.7556\n",
      "Epoch 86/200\n",
      "45/45 [==============================] - 0s 954us/step - loss: 4.7803 - accuracy: 0.7689\n",
      "Epoch 87/200\n",
      "45/45 [==============================] - 0s 899us/step - loss: 4.3114 - accuracy: 0.7489\n",
      "Epoch 88/200\n",
      "45/45 [==============================] - 0s 993us/step - loss: 4.1993 - accuracy: 0.7711\n",
      "Epoch 89/200\n",
      "45/45 [==============================] - 0s 999us/step - loss: 4.4071 - accuracy: 0.7578\n",
      "Epoch 90/200\n",
      "45/45 [==============================] - 0s 1ms/step - loss: 9.4030 - accuracy: 0.6889\n",
      "Epoch 91/200\n",
      "45/45 [==============================] - 0s 999us/step - loss: 4.3304 - accuracy: 0.7689\n",
      "Epoch 92/200\n",
      "45/45 [==============================] - 0s 934us/step - loss: 6.7116 - accuracy: 0.6911\n",
      "Epoch 93/200\n",
      "45/45 [==============================] - 0s 904us/step - loss: 7.3178 - accuracy: 0.7089\n",
      "Epoch 94/200\n",
      "45/45 [==============================] - 0s 944us/step - loss: 3.5279 - accuracy: 0.8111\n",
      "Epoch 95/200\n",
      "45/45 [==============================] - 0s 907us/step - loss: 2.2554 - accuracy: 0.8200\n",
      "Epoch 96/200\n",
      "45/45 [==============================] - 0s 940us/step - loss: 5.0192 - accuracy: 0.7822\n",
      "Epoch 97/200\n",
      "45/45 [==============================] - 0s 969us/step - loss: 3.2662 - accuracy: 0.8222\n",
      "Epoch 98/200\n",
      "45/45 [==============================] - 0s 938us/step - loss: 2.1183 - accuracy: 0.8600\n",
      "Epoch 99/200\n",
      "45/45 [==============================] - 0s 1ms/step - loss: 3.3173 - accuracy: 0.8178\n",
      "Epoch 100/200\n",
      "45/45 [==============================] - 0s 949us/step - loss: 5.1053 - accuracy: 0.7756\n",
      "Epoch 101/200\n",
      "45/45 [==============================] - 0s 956us/step - loss: 2.9937 - accuracy: 0.8200\n",
      "Epoch 102/200\n",
      "45/45 [==============================] - 0s 895us/step - loss: 4.8526 - accuracy: 0.7622\n",
      "Epoch 103/200\n",
      "45/45 [==============================] - 0s 939us/step - loss: 2.8549 - accuracy: 0.8289\n",
      "Epoch 104/200\n",
      "45/45 [==============================] - 0s 967us/step - loss: 7.9993 - accuracy: 0.7267\n",
      "Epoch 105/200\n",
      "45/45 [==============================] - 0s 903us/step - loss: 4.8034 - accuracy: 0.7422\n",
      "Epoch 106/200\n",
      "45/45 [==============================] - 0s 956us/step - loss: 3.0475 - accuracy: 0.8044\n",
      "Epoch 107/200\n",
      "45/45 [==============================] - 0s 969us/step - loss: 2.2238 - accuracy: 0.8267\n",
      "Epoch 108/200\n",
      "45/45 [==============================] - 0s 922us/step - loss: 1.8494 - accuracy: 0.8600\n",
      "Epoch 109/200\n",
      "45/45 [==============================] - 0s 979us/step - loss: 2.4350 - accuracy: 0.8400\n",
      "Epoch 110/200\n",
      "45/45 [==============================] - 0s 977us/step - loss: 3.2413 - accuracy: 0.8222\n",
      "Epoch 111/200\n",
      "45/45 [==============================] - 0s 951us/step - loss: 5.1629 - accuracy: 0.7711\n",
      "Epoch 112/200\n",
      "45/45 [==============================] - 0s 891us/step - loss: 4.2290 - accuracy: 0.7822\n",
      "Epoch 113/200\n",
      "45/45 [==============================] - 0s 940us/step - loss: 2.5080 - accuracy: 0.8178\n",
      "Epoch 114/200\n",
      "45/45 [==============================] - 0s 956us/step - loss: 4.5806 - accuracy: 0.7822\n",
      "Epoch 115/200\n",
      "45/45 [==============================] - 0s 908us/step - loss: 3.2822 - accuracy: 0.8222\n",
      "Epoch 116/200\n",
      "45/45 [==============================] - 0s 937us/step - loss: 3.9438 - accuracy: 0.8000\n",
      "Epoch 117/200\n",
      "45/45 [==============================] - 0s 984us/step - loss: 1.9668 - accuracy: 0.8533\n",
      "Epoch 118/200\n",
      "45/45 [==============================] - 0s 991us/step - loss: 2.7668 - accuracy: 0.8400\n",
      "Epoch 119/200\n",
      "45/45 [==============================] - 0s 1ms/step - loss: 1.9204 - accuracy: 0.8600\n",
      "Epoch 120/200\n",
      "45/45 [==============================] - 0s 1ms/step - loss: 5.1142 - accuracy: 0.7778\n",
      "Epoch 121/200\n",
      "45/45 [==============================] - 0s 2ms/step - loss: 2.9086 - accuracy: 0.8200\n",
      "Epoch 122/200\n",
      "45/45 [==============================] - 0s 1ms/step - loss: 3.2281 - accuracy: 0.8089\n",
      "Epoch 123/200\n",
      "45/45 [==============================] - 0s 2ms/step - loss: 4.9513 - accuracy: 0.7978\n",
      "Epoch 124/200\n",
      "45/45 [==============================] - 0s 1ms/step - loss: 4.2239 - accuracy: 0.7644\n",
      "Epoch 125/200\n",
      "45/45 [==============================] - 0s 917us/step - loss: 2.8266 - accuracy: 0.8289\n",
      "Epoch 126/200\n",
      "45/45 [==============================] - 0s 1ms/step - loss: 2.3748 - accuracy: 0.8311\n",
      "Epoch 127/200\n",
      "45/45 [==============================] - 0s 1ms/step - loss: 2.6689 - accuracy: 0.8467\n",
      "Epoch 128/200\n",
      "45/45 [==============================] - 0s 1ms/step - loss: 3.5744 - accuracy: 0.8156\n",
      "Epoch 129/200\n",
      "45/45 [==============================] - 0s 1ms/step - loss: 2.5429 - accuracy: 0.8378\n",
      "Epoch 130/200\n",
      "45/45 [==============================] - 0s 995us/step - loss: 1.9195 - accuracy: 0.8756\n",
      "Epoch 131/200\n",
      "45/45 [==============================] - 0s 965us/step - loss: 2.2889 - accuracy: 0.8467\n",
      "Epoch 132/200\n",
      "45/45 [==============================] - 0s 932us/step - loss: 1.5505 - accuracy: 0.8778\n",
      "Epoch 133/200\n",
      "45/45 [==============================] - 0s 906us/step - loss: 2.1697 - accuracy: 0.8511\n",
      "Epoch 134/200\n",
      "45/45 [==============================] - 0s 946us/step - loss: 4.0099 - accuracy: 0.8178\n",
      "Epoch 135/200\n",
      "45/45 [==============================] - 0s 929us/step - loss: 4.5403 - accuracy: 0.7756\n",
      "Epoch 136/200\n",
      "45/45 [==============================] - 0s 905us/step - loss: 2.8470 - accuracy: 0.8378\n",
      "Epoch 137/200\n",
      "45/45 [==============================] - 0s 976us/step - loss: 2.8598 - accuracy: 0.8378\n",
      "Epoch 138/200\n",
      "45/45 [==============================] - 0s 985us/step - loss: 2.4254 - accuracy: 0.8578\n",
      "Epoch 139/200\n",
      "45/45 [==============================] - 0s 939us/step - loss: 2.8289 - accuracy: 0.8489\n",
      "Epoch 140/200\n",
      "45/45 [==============================] - 0s 893us/step - loss: 2.3949 - accuracy: 0.8511\n",
      "Epoch 141/200\n",
      "45/45 [==============================] - 0s 941us/step - loss: 1.5496 - accuracy: 0.8800\n",
      "Epoch 142/200\n",
      "45/45 [==============================] - 0s 924us/step - loss: 0.5861 - accuracy: 0.9156\n",
      "Epoch 143/200\n",
      "45/45 [==============================] - 0s 941us/step - loss: 0.4953 - accuracy: 0.9511\n",
      "Epoch 144/200\n",
      "45/45 [==============================] - 0s 955us/step - loss: 2.5514 - accuracy: 0.8867\n",
      "Epoch 145/200\n",
      "45/45 [==============================] - 0s 966us/step - loss: 2.5514 - accuracy: 0.8311\n",
      "Epoch 146/200\n",
      "45/45 [==============================] - 0s 888us/step - loss: 1.2587 - accuracy: 0.9000\n",
      "Epoch 147/200\n",
      "45/45 [==============================] - 0s 968us/step - loss: 1.9001 - accuracy: 0.8533\n",
      "Epoch 148/200\n",
      "45/45 [==============================] - 0s 1ms/step - loss: 2.6542 - accuracy: 0.8178\n",
      "Epoch 149/200\n",
      "45/45 [==============================] - 0s 1ms/step - loss: 2.8788 - accuracy: 0.8267\n",
      "Epoch 150/200\n",
      "45/45 [==============================] - 0s 909us/step - loss: 3.2558 - accuracy: 0.8200\n",
      "Epoch 151/200\n",
      "45/45 [==============================] - 0s 919us/step - loss: 5.0436 - accuracy: 0.7667\n",
      "Epoch 152/200\n",
      "45/45 [==============================] - 0s 942us/step - loss: 2.9813 - accuracy: 0.8133\n",
      "Epoch 153/200\n",
      "45/45 [==============================] - 0s 958us/step - loss: 2.2390 - accuracy: 0.8867\n",
      "Epoch 154/200\n",
      "45/45 [==============================] - 0s 892us/step - loss: 1.1723 - accuracy: 0.8733\n",
      "Epoch 155/200\n",
      "45/45 [==============================] - 0s 946us/step - loss: 1.3046 - accuracy: 0.9000\n",
      "Epoch 156/200\n",
      "45/45 [==============================] - 0s 920us/step - loss: 0.9842 - accuracy: 0.8978\n",
      "Epoch 157/200\n",
      "45/45 [==============================] - 0s 897us/step - loss: 1.9314 - accuracy: 0.8622\n",
      "Epoch 158/200\n",
      "45/45 [==============================] - 0s 982us/step - loss: 1.5239 - accuracy: 0.8933\n",
      "Epoch 159/200\n",
      "45/45 [==============================] - 0s 960us/step - loss: 1.2757 - accuracy: 0.8978\n",
      "Epoch 160/200\n",
      "45/45 [==============================] - 0s 893us/step - loss: 2.8141 - accuracy: 0.8289\n",
      "Epoch 161/200\n",
      "45/45 [==============================] - 0s 960us/step - loss: 3.8860 - accuracy: 0.7956\n",
      "Epoch 162/200\n",
      "45/45 [==============================] - 0s 928us/step - loss: 2.8115 - accuracy: 0.8400\n",
      "Epoch 163/200\n",
      "45/45 [==============================] - 0s 898us/step - loss: 2.2699 - accuracy: 0.8644\n",
      "Epoch 164/200\n",
      "45/45 [==============================] - 0s 2ms/step - loss: 4.8482 - accuracy: 0.8178\n",
      "Epoch 165/200\n",
      "45/45 [==============================] - 0s 1ms/step - loss: 3.0469 - accuracy: 0.8556\n",
      "Epoch 166/200\n",
      "45/45 [==============================] - 0s 1ms/step - loss: 1.2676 - accuracy: 0.8933\n",
      "Epoch 167/200\n",
      "45/45 [==============================] - 0s 924us/step - loss: 1.7625 - accuracy: 0.8867\n",
      "Epoch 168/200\n",
      "45/45 [==============================] - 0s 989us/step - loss: 1.7451 - accuracy: 0.8778\n",
      "Epoch 169/200\n",
      "45/45 [==============================] - 0s 968us/step - loss: 3.2048 - accuracy: 0.8089\n",
      "Epoch 170/200\n",
      "45/45 [==============================] - 0s 1ms/step - loss: 1.7791 - accuracy: 0.8644\n",
      "Epoch 171/200\n",
      "45/45 [==============================] - 0s 1ms/step - loss: 2.4038 - accuracy: 0.8689\n",
      "Epoch 172/200\n",
      "45/45 [==============================] - 0s 1ms/step - loss: 2.0987 - accuracy: 0.8556\n",
      "Epoch 173/200\n",
      "45/45 [==============================] - 0s 1ms/step - loss: 2.1231 - accuracy: 0.8689\n",
      "Epoch 174/200\n",
      "45/45 [==============================] - 0s 1ms/step - loss: 2.6669 - accuracy: 0.8711\n",
      "Epoch 175/200\n",
      "45/45 [==============================] - 0s 1ms/step - loss: 1.8947 - accuracy: 0.8533\n",
      "Epoch 176/200\n",
      "45/45 [==============================] - 0s 1ms/step - loss: 2.4570 - accuracy: 0.8622\n",
      "Epoch 177/200\n",
      "45/45 [==============================] - 0s 1ms/step - loss: 2.5982 - accuracy: 0.8578\n",
      "Epoch 178/200\n",
      "45/45 [==============================] - 0s 1ms/step - loss: 2.0011 - accuracy: 0.9067\n",
      "Epoch 179/200\n",
      "45/45 [==============================] - 0s 1ms/step - loss: 2.0492 - accuracy: 0.8733\n",
      "Epoch 180/200\n",
      "45/45 [==============================] - 0s 1ms/step - loss: 1.2643 - accuracy: 0.8933\n",
      "Epoch 181/200\n",
      "45/45 [==============================] - 0s 1ms/step - loss: 1.3326 - accuracy: 0.9022\n",
      "Epoch 182/200\n",
      "45/45 [==============================] - 0s 1ms/step - loss: 1.5038 - accuracy: 0.8822\n",
      "Epoch 183/200\n",
      "45/45 [==============================] - 0s 1ms/step - loss: 1.3051 - accuracy: 0.9000\n",
      "Epoch 184/200\n",
      "45/45 [==============================] - 0s 1ms/step - loss: 1.7977 - accuracy: 0.8778\n",
      "Epoch 185/200\n",
      "45/45 [==============================] - 0s 1ms/step - loss: 2.2185 - accuracy: 0.8644\n",
      "Epoch 186/200\n",
      "45/45 [==============================] - 0s 1ms/step - loss: 1.4503 - accuracy: 0.8911\n",
      "Epoch 187/200\n",
      "45/45 [==============================] - 0s 1ms/step - loss: 1.6248 - accuracy: 0.8933\n",
      "Epoch 188/200\n",
      "45/45 [==============================] - 0s 1ms/step - loss: 1.7560 - accuracy: 0.8822\n",
      "Epoch 189/200\n",
      "45/45 [==============================] - 0s 1ms/step - loss: 1.1150 - accuracy: 0.9111\n",
      "Epoch 190/200\n",
      "45/45 [==============================] - 0s 1ms/step - loss: 1.8106 - accuracy: 0.8800\n",
      "Epoch 191/200\n",
      "45/45 [==============================] - 0s 1ms/step - loss: 2.3383 - accuracy: 0.8489\n",
      "Epoch 192/200\n",
      "45/45 [==============================] - 0s 976us/step - loss: 2.3210 - accuracy: 0.8556\n",
      "Epoch 193/200\n",
      "45/45 [==============================] - 0s 994us/step - loss: 2.6439 - accuracy: 0.8511\n",
      "Epoch 194/200\n",
      "45/45 [==============================] - 0s 995us/step - loss: 1.8070 - accuracy: 0.8778\n",
      "Epoch 195/200\n",
      "45/45 [==============================] - 0s 990us/step - loss: 1.8989 - accuracy: 0.8733\n",
      "Epoch 196/200\n",
      "45/45 [==============================] - 0s 1ms/step - loss: 2.1491 - accuracy: 0.8778\n",
      "Epoch 197/200\n",
      "45/45 [==============================] - 0s 1ms/step - loss: 1.2819 - accuracy: 0.9089\n",
      "Epoch 198/200\n",
      "45/45 [==============================] - 0s 1ms/step - loss: 1.1851 - accuracy: 0.9200\n",
      "Epoch 199/200\n",
      "45/45 [==============================] - 0s 1ms/step - loss: 0.9961 - accuracy: 0.9111\n",
      "Epoch 200/200\n",
      "45/45 [==============================] - 0s 1ms/step - loss: 3.4559 - accuracy: 0.8467\n"
     ]
    },
    {
     "data": {
      "text/plain": [
       "<keras.src.callbacks.History at 0x7f9da94f6520>"
      ]
     },
     "execution_count": 203,
     "metadata": {},
     "output_type": "execute_result"
    }
   ],
   "source": [
    "# Building the model\n",
    "model = Sequential()\n",
    "model.add(Dense(50, activation='LeakyReLU', input_shape=(96,)))\n",
    "model.add(Dense(15, activation='softmax'))\n",
    "\n",
    "# Compiling the model\n",
    "opt = keras.optimizers.Adam(learning_rate=0.001)\n",
    "model.compile(optimizer=opt, loss='categorical_crossentropy', metrics=['accuracy'])\n",
    "\n",
    "#Train the model\n",
    "model.fit(XTrain, yTrain, epochs=200, batch_size=10)\n"
   ]
  },
  {
   "cell_type": "code",
   "execution_count": 204,
   "metadata": {},
   "outputs": [
    {
     "name": "stdout",
     "output_type": "stream",
     "text": [
      "2/2 [==============================] - 0s 3ms/step - loss: 42.7173 - accuracy: 0.3400\n",
      "Test model loss: 42.717288970947266\n",
      "Test model accuracy: 0.3400000035762787\n"
     ]
    }
   ],
   "source": [
    "# Evaluating the model on the test data\n",
    "loss, accuracy = model.evaluate(XTest, yTest)\n",
    "print('Test model loss:', loss)\n",
    "print('Test model accuracy:', accuracy)"
   ]
  },
  {
   "cell_type": "markdown",
   "metadata": {},
   "source": [
    "- Using 150 epochs produced the highest accuracy of 50%"
   ]
  },
  {
   "cell_type": "markdown",
   "metadata": {},
   "source": [
    "### Adding additional Dense layers"
   ]
  },
  {
   "cell_type": "markdown",
   "metadata": {},
   "source": [
    "#### Using 2 dense layers:"
   ]
  },
  {
   "cell_type": "code",
   "execution_count": 207,
   "metadata": {
    "scrolled": true
   },
   "outputs": [
    {
     "name": "stdout",
     "output_type": "stream",
     "text": [
      "Epoch 1/150\n",
      "45/45 [==============================] - 1s 3ms/step - loss: 83.4854 - accuracy: 0.2000\n",
      "Epoch 2/150\n",
      "45/45 [==============================] - 0s 2ms/step - loss: 35.5814 - accuracy: 0.3311\n",
      "Epoch 3/150\n",
      "45/45 [==============================] - 0s 2ms/step - loss: 23.1944 - accuracy: 0.3822\n",
      "Epoch 4/150\n",
      "45/45 [==============================] - 0s 2ms/step - loss: 17.1324 - accuracy: 0.4511\n",
      "Epoch 5/150\n",
      "45/45 [==============================] - 0s 2ms/step - loss: 14.7899 - accuracy: 0.4778\n",
      "Epoch 6/150\n",
      "45/45 [==============================] - 0s 2ms/step - loss: 11.9106 - accuracy: 0.5000\n",
      "Epoch 7/150\n",
      "45/45 [==============================] - 0s 2ms/step - loss: 10.2890 - accuracy: 0.5222\n",
      "Epoch 8/150\n",
      "45/45 [==============================] - 0s 2ms/step - loss: 10.0018 - accuracy: 0.5444\n",
      "Epoch 9/150\n",
      "45/45 [==============================] - 0s 2ms/step - loss: 9.2926 - accuracy: 0.5133\n",
      "Epoch 10/150\n",
      "45/45 [==============================] - 0s 2ms/step - loss: 8.7423 - accuracy: 0.5156\n",
      "Epoch 11/150\n",
      "45/45 [==============================] - 0s 1ms/step - loss: 8.3812 - accuracy: 0.5333\n",
      "Epoch 12/150\n",
      "45/45 [==============================] - 0s 1ms/step - loss: 7.1076 - accuracy: 0.5667\n",
      "Epoch 13/150\n",
      "45/45 [==============================] - 0s 1ms/step - loss: 5.2970 - accuracy: 0.6333\n",
      "Epoch 14/150\n",
      "45/45 [==============================] - 0s 2ms/step - loss: 6.0269 - accuracy: 0.5822\n",
      "Epoch 15/150\n",
      "45/45 [==============================] - 0s 2ms/step - loss: 6.0679 - accuracy: 0.6089\n",
      "Epoch 16/150\n",
      "45/45 [==============================] - 0s 1ms/step - loss: 4.3742 - accuracy: 0.6578\n",
      "Epoch 17/150\n",
      "45/45 [==============================] - 0s 1ms/step - loss: 4.7380 - accuracy: 0.6222\n",
      "Epoch 18/150\n",
      "45/45 [==============================] - 0s 3ms/step - loss: 4.4453 - accuracy: 0.6533\n",
      "Epoch 19/150\n",
      "45/45 [==============================] - 0s 2ms/step - loss: 2.4194 - accuracy: 0.7533\n",
      "Epoch 20/150\n",
      "45/45 [==============================] - 0s 1ms/step - loss: 2.5799 - accuracy: 0.7311\n",
      "Epoch 21/150\n",
      "45/45 [==============================] - 0s 1ms/step - loss: 2.7225 - accuracy: 0.7089\n",
      "Epoch 22/150\n",
      "45/45 [==============================] - 0s 1ms/step - loss: 2.8944 - accuracy: 0.7200\n",
      "Epoch 23/150\n",
      "45/45 [==============================] - 0s 1ms/step - loss: 2.2179 - accuracy: 0.7733\n",
      "Epoch 24/150\n",
      "45/45 [==============================] - 0s 1ms/step - loss: 2.6036 - accuracy: 0.7400\n",
      "Epoch 25/150\n",
      "45/45 [==============================] - 0s 1ms/step - loss: 2.2513 - accuracy: 0.7333\n",
      "Epoch 26/150\n",
      "45/45 [==============================] - 0s 1ms/step - loss: 2.2129 - accuracy: 0.7444\n",
      "Epoch 27/150\n",
      "45/45 [==============================] - 0s 1ms/step - loss: 3.2767 - accuracy: 0.7156\n",
      "Epoch 28/150\n",
      "45/45 [==============================] - 0s 1ms/step - loss: 2.4665 - accuracy: 0.7200\n",
      "Epoch 29/150\n",
      "45/45 [==============================] - 0s 1ms/step - loss: 2.1096 - accuracy: 0.7667\n",
      "Epoch 30/150\n",
      "45/45 [==============================] - 0s 1ms/step - loss: 1.3937 - accuracy: 0.8222\n",
      "Epoch 31/150\n",
      "45/45 [==============================] - 0s 1ms/step - loss: 1.6046 - accuracy: 0.8111\n",
      "Epoch 32/150\n",
      "45/45 [==============================] - 0s 2ms/step - loss: 2.4008 - accuracy: 0.7467\n",
      "Epoch 33/150\n",
      "45/45 [==============================] - 0s 1ms/step - loss: 2.5167 - accuracy: 0.7578\n",
      "Epoch 34/150\n",
      "45/45 [==============================] - 0s 2ms/step - loss: 1.9836 - accuracy: 0.7778\n",
      "Epoch 35/150\n",
      "45/45 [==============================] - 0s 1ms/step - loss: 2.2062 - accuracy: 0.7800\n",
      "Epoch 36/150\n",
      "45/45 [==============================] - 0s 2ms/step - loss: 2.3629 - accuracy: 0.7867\n",
      "Epoch 37/150\n",
      "45/45 [==============================] - 0s 1ms/step - loss: 1.6444 - accuracy: 0.7956\n",
      "Epoch 38/150\n",
      "45/45 [==============================] - 0s 1ms/step - loss: 1.1853 - accuracy: 0.8578\n",
      "Epoch 39/150\n",
      "45/45 [==============================] - 0s 1ms/step - loss: 1.4392 - accuracy: 0.8444\n",
      "Epoch 40/150\n",
      "45/45 [==============================] - 0s 2ms/step - loss: 0.8287 - accuracy: 0.8689\n",
      "Epoch 41/150\n",
      "45/45 [==============================] - 0s 2ms/step - loss: 1.3865 - accuracy: 0.8422\n",
      "Epoch 42/150\n",
      "45/45 [==============================] - 0s 2ms/step - loss: 1.2243 - accuracy: 0.8378\n",
      "Epoch 43/150\n",
      "45/45 [==============================] - 0s 2ms/step - loss: 1.0319 - accuracy: 0.8533\n",
      "Epoch 44/150\n",
      "45/45 [==============================] - 0s 1ms/step - loss: 2.0823 - accuracy: 0.8178\n",
      "Epoch 45/150\n",
      "45/45 [==============================] - 0s 2ms/step - loss: 2.5636 - accuracy: 0.7400\n",
      "Epoch 46/150\n",
      "45/45 [==============================] - 0s 2ms/step - loss: 1.9876 - accuracy: 0.8133\n",
      "Epoch 47/150\n",
      "45/45 [==============================] - 0s 1ms/step - loss: 1.9575 - accuracy: 0.8200\n",
      "Epoch 48/150\n",
      "45/45 [==============================] - 0s 1ms/step - loss: 1.6479 - accuracy: 0.8378\n",
      "Epoch 49/150\n",
      "45/45 [==============================] - 0s 1ms/step - loss: 1.6812 - accuracy: 0.7800\n",
      "Epoch 50/150\n",
      "45/45 [==============================] - 0s 1ms/step - loss: 2.2859 - accuracy: 0.7911\n",
      "Epoch 51/150\n",
      "45/45 [==============================] - 0s 1ms/step - loss: 1.0759 - accuracy: 0.8644\n",
      "Epoch 52/150\n",
      "45/45 [==============================] - 0s 2ms/step - loss: 0.9465 - accuracy: 0.8622\n",
      "Epoch 53/150\n",
      "45/45 [==============================] - 0s 2ms/step - loss: 1.3756 - accuracy: 0.8400\n",
      "Epoch 54/150\n",
      "45/45 [==============================] - 0s 2ms/step - loss: 1.0730 - accuracy: 0.8556\n",
      "Epoch 55/150\n",
      "45/45 [==============================] - 0s 2ms/step - loss: 1.3045 - accuracy: 0.8400\n",
      "Epoch 56/150\n",
      "45/45 [==============================] - 0s 1ms/step - loss: 1.0907 - accuracy: 0.8600\n",
      "Epoch 57/150\n",
      "45/45 [==============================] - 0s 2ms/step - loss: 2.0343 - accuracy: 0.8067\n",
      "Epoch 58/150\n",
      "45/45 [==============================] - 0s 2ms/step - loss: 1.1506 - accuracy: 0.8667\n",
      "Epoch 59/150\n",
      "45/45 [==============================] - 0s 1ms/step - loss: 1.2682 - accuracy: 0.8311\n",
      "Epoch 60/150\n",
      "45/45 [==============================] - 0s 1ms/step - loss: 1.7383 - accuracy: 0.8000\n",
      "Epoch 61/150\n",
      "45/45 [==============================] - 0s 1ms/step - loss: 2.1851 - accuracy: 0.8000\n",
      "Epoch 62/150\n",
      "45/45 [==============================] - 0s 1ms/step - loss: 1.7038 - accuracy: 0.8333\n",
      "Epoch 63/150\n",
      "45/45 [==============================] - 0s 2ms/step - loss: 1.0916 - accuracy: 0.8511\n",
      "Epoch 64/150\n",
      "45/45 [==============================] - 0s 1ms/step - loss: 1.3140 - accuracy: 0.8578\n",
      "Epoch 65/150\n",
      "45/45 [==============================] - 0s 1ms/step - loss: 1.3779 - accuracy: 0.8444\n",
      "Epoch 66/150\n",
      "45/45 [==============================] - 0s 1ms/step - loss: 1.0592 - accuracy: 0.8889\n",
      "Epoch 67/150\n",
      "45/45 [==============================] - 0s 1ms/step - loss: 0.9336 - accuracy: 0.8844\n",
      "Epoch 68/150\n",
      "45/45 [==============================] - 0s 1ms/step - loss: 2.3351 - accuracy: 0.7756\n",
      "Epoch 69/150\n",
      "45/45 [==============================] - 0s 1ms/step - loss: 1.9280 - accuracy: 0.8133\n",
      "Epoch 70/150\n",
      "45/45 [==============================] - 0s 1ms/step - loss: 2.5145 - accuracy: 0.7800\n",
      "Epoch 71/150\n",
      "45/45 [==============================] - 0s 2ms/step - loss: 1.1748 - accuracy: 0.8711\n",
      "Epoch 72/150\n",
      "45/45 [==============================] - 0s 1ms/step - loss: 1.0745 - accuracy: 0.8867\n",
      "Epoch 73/150\n",
      "45/45 [==============================] - 0s 1ms/step - loss: 1.1874 - accuracy: 0.8489\n",
      "Epoch 74/150\n",
      "45/45 [==============================] - 0s 2ms/step - loss: 1.5910 - accuracy: 0.8578\n",
      "Epoch 75/150\n",
      "45/45 [==============================] - 0s 1ms/step - loss: 2.0140 - accuracy: 0.8222\n",
      "Epoch 76/150\n",
      "45/45 [==============================] - 0s 1ms/step - loss: 1.2235 - accuracy: 0.8578\n",
      "Epoch 77/150\n",
      "45/45 [==============================] - 0s 1ms/step - loss: 0.9836 - accuracy: 0.8867\n",
      "Epoch 78/150\n",
      "45/45 [==============================] - 0s 1ms/step - loss: 0.5930 - accuracy: 0.9133\n",
      "Epoch 79/150\n",
      "45/45 [==============================] - 0s 1ms/step - loss: 0.4582 - accuracy: 0.9378\n",
      "Epoch 80/150\n",
      "45/45 [==============================] - 0s 2ms/step - loss: 0.9277 - accuracy: 0.9044\n",
      "Epoch 81/150\n",
      "45/45 [==============================] - 0s 1ms/step - loss: 1.9308 - accuracy: 0.8511\n",
      "Epoch 82/150\n",
      "45/45 [==============================] - 0s 1ms/step - loss: 1.6848 - accuracy: 0.8578\n",
      "Epoch 83/150\n",
      "45/45 [==============================] - 0s 2ms/step - loss: 1.7661 - accuracy: 0.8067\n",
      "Epoch 84/150\n",
      "45/45 [==============================] - 0s 2ms/step - loss: 2.3847 - accuracy: 0.8022\n",
      "Epoch 85/150\n",
      "45/45 [==============================] - 0s 1ms/step - loss: 2.4196 - accuracy: 0.8156\n",
      "Epoch 86/150\n",
      "45/45 [==============================] - 0s 2ms/step - loss: 1.1957 - accuracy: 0.8600\n",
      "Epoch 87/150\n",
      "45/45 [==============================] - 0s 2ms/step - loss: 1.6911 - accuracy: 0.8467\n",
      "Epoch 88/150\n",
      "45/45 [==============================] - 0s 1ms/step - loss: 2.0043 - accuracy: 0.8400\n",
      "Epoch 89/150\n",
      "45/45 [==============================] - 0s 2ms/step - loss: 1.0579 - accuracy: 0.8800\n",
      "Epoch 90/150\n",
      "45/45 [==============================] - 0s 2ms/step - loss: 1.3024 - accuracy: 0.8711\n",
      "Epoch 91/150\n",
      "45/45 [==============================] - 0s 1ms/step - loss: 0.8378 - accuracy: 0.8956\n",
      "Epoch 92/150\n",
      "45/45 [==============================] - 0s 1ms/step - loss: 0.9457 - accuracy: 0.9022\n",
      "Epoch 93/150\n",
      "45/45 [==============================] - 0s 1ms/step - loss: 1.2333 - accuracy: 0.8867\n",
      "Epoch 94/150\n",
      "45/45 [==============================] - 0s 1ms/step - loss: 1.4925 - accuracy: 0.8644\n",
      "Epoch 95/150\n",
      "45/45 [==============================] - 0s 1ms/step - loss: 0.8304 - accuracy: 0.9111\n",
      "Epoch 96/150\n",
      "45/45 [==============================] - 0s 1ms/step - loss: 0.9873 - accuracy: 0.8956\n",
      "Epoch 97/150\n",
      "45/45 [==============================] - 0s 1ms/step - loss: 0.7117 - accuracy: 0.9067\n",
      "Epoch 98/150\n",
      "45/45 [==============================] - 0s 3ms/step - loss: 1.0801 - accuracy: 0.8978\n",
      "Epoch 99/150\n",
      "45/45 [==============================] - 0s 3ms/step - loss: 1.3265 - accuracy: 0.8600\n",
      "Epoch 100/150\n",
      "45/45 [==============================] - 0s 4ms/step - loss: 1.0866 - accuracy: 0.8911\n",
      "Epoch 101/150\n",
      "45/45 [==============================] - 0s 5ms/step - loss: 1.3962 - accuracy: 0.8600\n",
      "Epoch 102/150\n",
      "45/45 [==============================] - 0s 2ms/step - loss: 0.8047 - accuracy: 0.9200\n",
      "Epoch 103/150\n",
      "45/45 [==============================] - 0s 2ms/step - loss: 0.4760 - accuracy: 0.9222\n",
      "Epoch 104/150\n",
      "45/45 [==============================] - 0s 2ms/step - loss: 0.5749 - accuracy: 0.9244\n",
      "Epoch 105/150\n",
      "45/45 [==============================] - 0s 2ms/step - loss: 0.5595 - accuracy: 0.9222\n",
      "Epoch 106/150\n",
      "45/45 [==============================] - 0s 2ms/step - loss: 0.4995 - accuracy: 0.9444\n",
      "Epoch 107/150\n",
      "45/45 [==============================] - 0s 2ms/step - loss: 0.6822 - accuracy: 0.9222\n",
      "Epoch 108/150\n",
      "45/45 [==============================] - 0s 1ms/step - loss: 0.6894 - accuracy: 0.9222\n",
      "Epoch 109/150\n",
      "45/45 [==============================] - 0s 2ms/step - loss: 0.3750 - accuracy: 0.9400\n",
      "Epoch 110/150\n",
      "45/45 [==============================] - 0s 1ms/step - loss: 0.9663 - accuracy: 0.9111\n",
      "Epoch 111/150\n",
      "45/45 [==============================] - 0s 2ms/step - loss: 2.0409 - accuracy: 0.8622\n",
      "Epoch 112/150\n",
      "45/45 [==============================] - 0s 2ms/step - loss: 3.1728 - accuracy: 0.8067\n",
      "Epoch 113/150\n",
      "45/45 [==============================] - 0s 2ms/step - loss: 2.0302 - accuracy: 0.8311\n",
      "Epoch 114/150\n",
      "45/45 [==============================] - 0s 1ms/step - loss: 1.6429 - accuracy: 0.8533\n",
      "Epoch 115/150\n",
      "45/45 [==============================] - 0s 2ms/step - loss: 2.1910 - accuracy: 0.8200\n",
      "Epoch 116/150\n",
      "45/45 [==============================] - 0s 2ms/step - loss: 1.0619 - accuracy: 0.8867\n",
      "Epoch 117/150\n",
      "45/45 [==============================] - 0s 2ms/step - loss: 1.0256 - accuracy: 0.8844\n",
      "Epoch 118/150\n",
      "45/45 [==============================] - 0s 2ms/step - loss: 0.8284 - accuracy: 0.9178\n",
      "Epoch 119/150\n",
      "45/45 [==============================] - 0s 2ms/step - loss: 0.9869 - accuracy: 0.8933\n",
      "Epoch 120/150\n",
      "45/45 [==============================] - 0s 2ms/step - loss: 1.3742 - accuracy: 0.8889\n",
      "Epoch 121/150\n",
      "45/45 [==============================] - 0s 3ms/step - loss: 0.9748 - accuracy: 0.8889\n",
      "Epoch 122/150\n",
      "45/45 [==============================] - 0s 2ms/step - loss: 1.6278 - accuracy: 0.8556\n",
      "Epoch 123/150\n",
      "45/45 [==============================] - 0s 1ms/step - loss: 1.1375 - accuracy: 0.8800\n",
      "Epoch 124/150\n",
      "45/45 [==============================] - 0s 1ms/step - loss: 0.8402 - accuracy: 0.9178\n",
      "Epoch 125/150\n",
      "45/45 [==============================] - 0s 3ms/step - loss: 1.0495 - accuracy: 0.9089\n",
      "Epoch 126/150\n",
      "45/45 [==============================] - 0s 4ms/step - loss: 1.2385 - accuracy: 0.8867\n",
      "Epoch 127/150\n",
      "45/45 [==============================] - 0s 3ms/step - loss: 1.2133 - accuracy: 0.8956\n",
      "Epoch 128/150\n",
      "45/45 [==============================] - 0s 2ms/step - loss: 0.8787 - accuracy: 0.9044\n",
      "Epoch 129/150\n",
      "45/45 [==============================] - 0s 4ms/step - loss: 0.9306 - accuracy: 0.9222\n",
      "Epoch 130/150\n",
      "45/45 [==============================] - 0s 6ms/step - loss: 1.7396 - accuracy: 0.8844\n",
      "Epoch 131/150\n",
      "45/45 [==============================] - 0s 3ms/step - loss: 1.1471 - accuracy: 0.9089\n",
      "Epoch 132/150\n",
      "45/45 [==============================] - 0s 2ms/step - loss: 1.0088 - accuracy: 0.9000\n",
      "Epoch 133/150\n",
      "45/45 [==============================] - 0s 2ms/step - loss: 0.8946 - accuracy: 0.9067\n",
      "Epoch 134/150\n",
      "45/45 [==============================] - 0s 2ms/step - loss: 0.8125 - accuracy: 0.9067\n",
      "Epoch 135/150\n",
      "45/45 [==============================] - 0s 2ms/step - loss: 0.6685 - accuracy: 0.9267\n",
      "Epoch 136/150\n",
      "45/45 [==============================] - 0s 3ms/step - loss: 1.1204 - accuracy: 0.8933\n",
      "Epoch 137/150\n",
      "45/45 [==============================] - 0s 2ms/step - loss: 0.8270 - accuracy: 0.9222\n",
      "Epoch 138/150\n",
      "45/45 [==============================] - 0s 4ms/step - loss: 0.8059 - accuracy: 0.9311\n",
      "Epoch 139/150\n",
      "45/45 [==============================] - 0s 2ms/step - loss: 1.0999 - accuracy: 0.9111\n",
      "Epoch 140/150\n",
      "45/45 [==============================] - 0s 2ms/step - loss: 0.7156 - accuracy: 0.9244\n",
      "Epoch 141/150\n",
      "45/45 [==============================] - 0s 1ms/step - loss: 1.4063 - accuracy: 0.9222\n",
      "Epoch 142/150\n",
      "45/45 [==============================] - 0s 1ms/step - loss: 0.9437 - accuracy: 0.9156\n",
      "Epoch 143/150\n",
      "45/45 [==============================] - 0s 1ms/step - loss: 0.7145 - accuracy: 0.9267\n",
      "Epoch 144/150\n",
      "45/45 [==============================] - 0s 1ms/step - loss: 1.5171 - accuracy: 0.8867\n",
      "Epoch 145/150\n",
      "45/45 [==============================] - 0s 970us/step - loss: 2.0467 - accuracy: 0.8511\n",
      "Epoch 146/150\n",
      "45/45 [==============================] - 0s 974us/step - loss: 3.3311 - accuracy: 0.8000\n",
      "Epoch 147/150\n",
      "45/45 [==============================] - 0s 965us/step - loss: 2.4491 - accuracy: 0.8600\n",
      "Epoch 148/150\n",
      "45/45 [==============================] - 0s 979us/step - loss: 3.4223 - accuracy: 0.8089\n",
      "Epoch 149/150\n",
      "45/45 [==============================] - 0s 1ms/step - loss: 1.1765 - accuracy: 0.8956\n",
      "Epoch 150/150\n",
      "45/45 [==============================] - 0s 1ms/step - loss: 1.0684 - accuracy: 0.9244\n"
     ]
    },
    {
     "data": {
      "text/plain": [
       "<keras.src.callbacks.History at 0x7f9d8a077070>"
      ]
     },
     "execution_count": 207,
     "metadata": {},
     "output_type": "execute_result"
    }
   ],
   "source": [
    "# Building the model\n",
    "model = Sequential()\n",
    "model.add(Dense(50, activation='LeakyReLU', input_shape=(96,)))\n",
    "model.add(Dense(150, activation='LeakyReLU'))\n",
    "model.add(Dense(15, activation='softmax'))\n",
    "\n",
    "# Compiling the model\n",
    "opt = keras.optimizers.Adam(learning_rate=0.001)\n",
    "model.compile(optimizer=opt, loss='categorical_crossentropy', metrics=['accuracy'])\n",
    "\n",
    "#Train the model\n",
    "model.fit(XTrain, yTrain, epochs=150, batch_size=10)"
   ]
  },
  {
   "cell_type": "code",
   "execution_count": 208,
   "metadata": {},
   "outputs": [
    {
     "name": "stdout",
     "output_type": "stream",
     "text": [
      "2/2 [==============================] - 0s 4ms/step - loss: 22.4129 - accuracy: 0.4600\n",
      "Test model loss: 22.412931442260742\n",
      "Test model accuracy: 0.46000000834465027\n"
     ]
    }
   ],
   "source": [
    "# Evaluating the model on the test data\n",
    "loss, accuracy = model.evaluate(XTest, yTest)\n",
    "print('Test model loss:', loss)\n",
    "print('Test model accuracy:', accuracy)"
   ]
  },
  {
   "cell_type": "markdown",
   "metadata": {},
   "source": [
    "#### Using 3 dense layers:"
   ]
  },
  {
   "cell_type": "code",
   "execution_count": 212,
   "metadata": {
    "scrolled": true
   },
   "outputs": [
    {
     "name": "stdout",
     "output_type": "stream",
     "text": [
      "Epoch 1/150\n",
      "45/45 [==============================] - 1s 2ms/step - loss: 83.9787 - accuracy: 0.2222\n",
      "Epoch 2/150\n",
      "45/45 [==============================] - 0s 2ms/step - loss: 30.3786 - accuracy: 0.3067\n",
      "Epoch 3/150\n",
      "45/45 [==============================] - 0s 1ms/step - loss: 17.1593 - accuracy: 0.3311\n",
      "Epoch 4/150\n",
      "45/45 [==============================] - 0s 1ms/step - loss: 10.0931 - accuracy: 0.3867\n",
      "Epoch 5/150\n",
      "45/45 [==============================] - 0s 1ms/step - loss: 9.6058 - accuracy: 0.4356\n",
      "Epoch 6/150\n",
      "45/45 [==============================] - 0s 2ms/step - loss: 8.0153 - accuracy: 0.4733\n",
      "Epoch 7/150\n",
      "45/45 [==============================] - 0s 2ms/step - loss: 6.4349 - accuracy: 0.5000\n",
      "Epoch 8/150\n",
      "45/45 [==============================] - 0s 1ms/step - loss: 4.9001 - accuracy: 0.5467\n",
      "Epoch 9/150\n",
      "45/45 [==============================] - 0s 2ms/step - loss: 4.0610 - accuracy: 0.5867\n",
      "Epoch 10/150\n",
      "45/45 [==============================] - 0s 3ms/step - loss: 3.6927 - accuracy: 0.5778\n",
      "Epoch 11/150\n",
      "45/45 [==============================] - 0s 1ms/step - loss: 3.5511 - accuracy: 0.6022\n",
      "Epoch 12/150\n",
      "45/45 [==============================] - 0s 1ms/step - loss: 2.8663 - accuracy: 0.6511\n",
      "Epoch 13/150\n",
      "45/45 [==============================] - 0s 2ms/step - loss: 2.5873 - accuracy: 0.6600\n",
      "Epoch 14/150\n",
      "45/45 [==============================] - 0s 1ms/step - loss: 2.5405 - accuracy: 0.6778\n",
      "Epoch 15/150\n",
      "45/45 [==============================] - 0s 1ms/step - loss: 2.5260 - accuracy: 0.6333\n",
      "Epoch 16/150\n",
      "45/45 [==============================] - 0s 1ms/step - loss: 2.0166 - accuracy: 0.6822\n",
      "Epoch 17/150\n",
      "45/45 [==============================] - 0s 1ms/step - loss: 2.1741 - accuracy: 0.6578\n",
      "Epoch 18/150\n",
      "45/45 [==============================] - 0s 1ms/step - loss: 1.9427 - accuracy: 0.7178\n",
      "Epoch 19/150\n",
      "45/45 [==============================] - 0s 1ms/step - loss: 1.4247 - accuracy: 0.7422\n",
      "Epoch 20/150\n",
      "45/45 [==============================] - 0s 2ms/step - loss: 1.0660 - accuracy: 0.8000\n",
      "Epoch 21/150\n",
      "45/45 [==============================] - 0s 2ms/step - loss: 1.2166 - accuracy: 0.7689\n",
      "Epoch 22/150\n",
      "45/45 [==============================] - 0s 1ms/step - loss: 0.8166 - accuracy: 0.8178\n",
      "Epoch 23/150\n",
      "45/45 [==============================] - 0s 1ms/step - loss: 1.1615 - accuracy: 0.7689\n",
      "Epoch 24/150\n",
      "45/45 [==============================] - 0s 1ms/step - loss: 1.0431 - accuracy: 0.7844\n",
      "Epoch 25/150\n",
      "45/45 [==============================] - 0s 2ms/step - loss: 0.8541 - accuracy: 0.8178\n",
      "Epoch 26/150\n",
      "45/45 [==============================] - 0s 1ms/step - loss: 0.6989 - accuracy: 0.8444\n",
      "Epoch 27/150\n",
      "45/45 [==============================] - 0s 2ms/step - loss: 0.6181 - accuracy: 0.8244\n",
      "Epoch 28/150\n",
      "45/45 [==============================] - 0s 1ms/step - loss: 1.3330 - accuracy: 0.7667\n",
      "Epoch 29/150\n",
      "45/45 [==============================] - 0s 1ms/step - loss: 1.7541 - accuracy: 0.7133\n",
      "Epoch 30/150\n",
      "45/45 [==============================] - 0s 1ms/step - loss: 1.3378 - accuracy: 0.7444\n",
      "Epoch 31/150\n",
      "45/45 [==============================] - 0s 1ms/step - loss: 0.8225 - accuracy: 0.8156\n",
      "Epoch 32/150\n",
      "45/45 [==============================] - 0s 1ms/step - loss: 1.6686 - accuracy: 0.7289\n",
      "Epoch 33/150\n",
      "45/45 [==============================] - 0s 1ms/step - loss: 1.2819 - accuracy: 0.7822\n",
      "Epoch 34/150\n",
      "45/45 [==============================] - 0s 1ms/step - loss: 0.9807 - accuracy: 0.8000\n",
      "Epoch 35/150\n",
      "45/45 [==============================] - 0s 1ms/step - loss: 0.8700 - accuracy: 0.8333\n",
      "Epoch 36/150\n",
      "45/45 [==============================] - 0s 1ms/step - loss: 0.8764 - accuracy: 0.8444\n",
      "Epoch 37/150\n",
      "45/45 [==============================] - 0s 1ms/step - loss: 0.6699 - accuracy: 0.8689\n",
      "Epoch 38/150\n",
      "45/45 [==============================] - 0s 1ms/step - loss: 0.3065 - accuracy: 0.9089\n",
      "Epoch 39/150\n",
      "45/45 [==============================] - 0s 1ms/step - loss: 0.4567 - accuracy: 0.8889\n",
      "Epoch 40/150\n",
      "45/45 [==============================] - 0s 1ms/step - loss: 0.3862 - accuracy: 0.8889\n",
      "Epoch 41/150\n",
      "45/45 [==============================] - 0s 1ms/step - loss: 0.4372 - accuracy: 0.8844\n",
      "Epoch 42/150\n",
      "45/45 [==============================] - 0s 1ms/step - loss: 0.7237 - accuracy: 0.8467\n",
      "Epoch 43/150\n",
      "45/45 [==============================] - 0s 1ms/step - loss: 0.8238 - accuracy: 0.8533\n",
      "Epoch 44/150\n",
      "45/45 [==============================] - 0s 1ms/step - loss: 0.7631 - accuracy: 0.8400\n",
      "Epoch 45/150\n",
      "45/45 [==============================] - 0s 1ms/step - loss: 0.5859 - accuracy: 0.8667\n",
      "Epoch 46/150\n",
      "45/45 [==============================] - 0s 1ms/step - loss: 1.0869 - accuracy: 0.8311\n",
      "Epoch 47/150\n",
      "45/45 [==============================] - 0s 1ms/step - loss: 0.5873 - accuracy: 0.8667\n",
      "Epoch 48/150\n",
      "45/45 [==============================] - 0s 2ms/step - loss: 1.0115 - accuracy: 0.8200\n",
      "Epoch 49/150\n",
      "45/45 [==============================] - 0s 1ms/step - loss: 1.6727 - accuracy: 0.7800\n",
      "Epoch 50/150\n",
      "45/45 [==============================] - 0s 1ms/step - loss: 1.6748 - accuracy: 0.7733\n",
      "Epoch 51/150\n",
      "45/45 [==============================] - 0s 1ms/step - loss: 1.6594 - accuracy: 0.7600\n",
      "Epoch 52/150\n",
      "45/45 [==============================] - 0s 1ms/step - loss: 1.4792 - accuracy: 0.7844\n",
      "Epoch 53/150\n",
      "45/45 [==============================] - 0s 1ms/step - loss: 1.2560 - accuracy: 0.7889\n",
      "Epoch 54/150\n",
      "45/45 [==============================] - 0s 1ms/step - loss: 0.6487 - accuracy: 0.8600\n",
      "Epoch 55/150\n",
      "45/45 [==============================] - 0s 1ms/step - loss: 0.5270 - accuracy: 0.8822\n",
      "Epoch 56/150\n",
      "45/45 [==============================] - 0s 1ms/step - loss: 0.6802 - accuracy: 0.8756\n",
      "Epoch 57/150\n",
      "45/45 [==============================] - 0s 1ms/step - loss: 1.0769 - accuracy: 0.8311\n",
      "Epoch 58/150\n",
      "45/45 [==============================] - 0s 1ms/step - loss: 0.7864 - accuracy: 0.8733\n",
      "Epoch 59/150\n",
      "45/45 [==============================] - 0s 1ms/step - loss: 1.0535 - accuracy: 0.8200\n",
      "Epoch 60/150\n",
      "45/45 [==============================] - 0s 1ms/step - loss: 0.7279 - accuracy: 0.8733\n",
      "Epoch 61/150\n",
      "45/45 [==============================] - 0s 1ms/step - loss: 0.8050 - accuracy: 0.8489\n",
      "Epoch 62/150\n",
      "45/45 [==============================] - 0s 1ms/step - loss: 0.8001 - accuracy: 0.8622\n",
      "Epoch 63/150\n",
      "45/45 [==============================] - 0s 1ms/step - loss: 1.2752 - accuracy: 0.8111\n",
      "Epoch 64/150\n",
      "45/45 [==============================] - 0s 1ms/step - loss: 1.2016 - accuracy: 0.8178\n",
      "Epoch 65/150\n",
      "45/45 [==============================] - 0s 1ms/step - loss: 1.1124 - accuracy: 0.8511\n",
      "Epoch 66/150\n",
      "45/45 [==============================] - 0s 1ms/step - loss: 0.6548 - accuracy: 0.8556\n",
      "Epoch 67/150\n",
      "45/45 [==============================] - 0s 1ms/step - loss: 1.0160 - accuracy: 0.8356\n",
      "Epoch 68/150\n",
      "45/45 [==============================] - 0s 1ms/step - loss: 1.0419 - accuracy: 0.8378\n",
      "Epoch 69/150\n",
      "45/45 [==============================] - 0s 1ms/step - loss: 0.7436 - accuracy: 0.8689\n",
      "Epoch 70/150\n",
      "45/45 [==============================] - 0s 1ms/step - loss: 0.5606 - accuracy: 0.8867\n",
      "Epoch 71/150\n",
      "45/45 [==============================] - 0s 1ms/step - loss: 1.0060 - accuracy: 0.8689\n",
      "Epoch 72/150\n",
      "45/45 [==============================] - 0s 1ms/step - loss: 0.6047 - accuracy: 0.9067\n",
      "Epoch 73/150\n",
      "45/45 [==============================] - 0s 1ms/step - loss: 1.4328 - accuracy: 0.8200\n",
      "Epoch 74/150\n",
      "45/45 [==============================] - 0s 1ms/step - loss: 1.6198 - accuracy: 0.8067\n",
      "Epoch 75/150\n",
      "45/45 [==============================] - 0s 1ms/step - loss: 0.7247 - accuracy: 0.8622\n",
      "Epoch 76/150\n",
      "45/45 [==============================] - 0s 1ms/step - loss: 0.6289 - accuracy: 0.8911\n",
      "Epoch 77/150\n",
      "45/45 [==============================] - 0s 1ms/step - loss: 0.7983 - accuracy: 0.8689\n",
      "Epoch 78/150\n",
      "45/45 [==============================] - 0s 1ms/step - loss: 1.0545 - accuracy: 0.8333\n",
      "Epoch 79/150\n",
      "45/45 [==============================] - 0s 2ms/step - loss: 1.1016 - accuracy: 0.8489\n",
      "Epoch 80/150\n",
      "45/45 [==============================] - 0s 2ms/step - loss: 0.4652 - accuracy: 0.9067\n",
      "Epoch 81/150\n",
      "45/45 [==============================] - 0s 1ms/step - loss: 0.6227 - accuracy: 0.8733\n",
      "Epoch 82/150\n",
      "45/45 [==============================] - 0s 1ms/step - loss: 0.4266 - accuracy: 0.9222\n",
      "Epoch 83/150\n",
      "45/45 [==============================] - 0s 1ms/step - loss: 0.3961 - accuracy: 0.9156\n",
      "Epoch 84/150\n",
      "45/45 [==============================] - 0s 1ms/step - loss: 0.6452 - accuracy: 0.8956\n",
      "Epoch 85/150\n",
      "45/45 [==============================] - 0s 2ms/step - loss: 0.8486 - accuracy: 0.8844\n",
      "Epoch 86/150\n",
      "45/45 [==============================] - 0s 1ms/step - loss: 0.6559 - accuracy: 0.8800\n",
      "Epoch 87/150\n",
      "45/45 [==============================] - 0s 1ms/step - loss: 0.5842 - accuracy: 0.8911\n",
      "Epoch 88/150\n",
      "45/45 [==============================] - 0s 1ms/step - loss: 1.4593 - accuracy: 0.8000\n",
      "Epoch 89/150\n",
      "45/45 [==============================] - 0s 1ms/step - loss: 1.6683 - accuracy: 0.7956\n",
      "Epoch 90/150\n",
      "45/45 [==============================] - 0s 2ms/step - loss: 1.7113 - accuracy: 0.7867\n",
      "Epoch 91/150\n",
      "45/45 [==============================] - 0s 2ms/step - loss: 1.6035 - accuracy: 0.8333\n",
      "Epoch 92/150\n",
      "45/45 [==============================] - 0s 1ms/step - loss: 1.3158 - accuracy: 0.8356\n",
      "Epoch 93/150\n",
      "45/45 [==============================] - 0s 2ms/step - loss: 0.7483 - accuracy: 0.8867\n",
      "Epoch 94/150\n",
      "45/45 [==============================] - 0s 1ms/step - loss: 0.4867 - accuracy: 0.9067\n",
      "Epoch 95/150\n",
      "45/45 [==============================] - 0s 1ms/step - loss: 0.6136 - accuracy: 0.8956\n",
      "Epoch 96/150\n",
      "45/45 [==============================] - 0s 1ms/step - loss: 0.7762 - accuracy: 0.8733\n",
      "Epoch 97/150\n",
      "45/45 [==============================] - 0s 1ms/step - loss: 0.9363 - accuracy: 0.8800\n",
      "Epoch 98/150\n",
      "45/45 [==============================] - 0s 1ms/step - loss: 0.8033 - accuracy: 0.8733\n",
      "Epoch 99/150\n",
      "45/45 [==============================] - 0s 1ms/step - loss: 0.7146 - accuracy: 0.8800\n",
      "Epoch 100/150\n",
      "45/45 [==============================] - 0s 1ms/step - loss: 0.8589 - accuracy: 0.8822\n",
      "Epoch 101/150\n",
      "45/45 [==============================] - 0s 1ms/step - loss: 0.5820 - accuracy: 0.8889\n",
      "Epoch 102/150\n",
      "45/45 [==============================] - 0s 1ms/step - loss: 1.3698 - accuracy: 0.8422\n",
      "Epoch 103/150\n",
      "45/45 [==============================] - 0s 1ms/step - loss: 1.6657 - accuracy: 0.8111\n",
      "Epoch 104/150\n",
      "45/45 [==============================] - 0s 1ms/step - loss: 1.5507 - accuracy: 0.8111\n",
      "Epoch 105/150\n",
      "45/45 [==============================] - 0s 1ms/step - loss: 1.8145 - accuracy: 0.7644\n",
      "Epoch 106/150\n",
      "45/45 [==============================] - 0s 1ms/step - loss: 1.6073 - accuracy: 0.8133\n",
      "Epoch 107/150\n",
      "45/45 [==============================] - 0s 1ms/step - loss: 0.9197 - accuracy: 0.8578\n",
      "Epoch 108/150\n",
      "45/45 [==============================] - 0s 2ms/step - loss: 0.6728 - accuracy: 0.8956\n",
      "Epoch 109/150\n",
      "45/45 [==============================] - 0s 1ms/step - loss: 0.6307 - accuracy: 0.8844\n",
      "Epoch 110/150\n",
      "45/45 [==============================] - 0s 1ms/step - loss: 0.5554 - accuracy: 0.9022\n",
      "Epoch 111/150\n",
      "45/45 [==============================] - 0s 1ms/step - loss: 0.6352 - accuracy: 0.9111\n",
      "Epoch 112/150\n",
      "45/45 [==============================] - 0s 1ms/step - loss: 0.6960 - accuracy: 0.9222\n",
      "Epoch 113/150\n",
      "45/45 [==============================] - 0s 1ms/step - loss: 0.4672 - accuracy: 0.9356\n",
      "Epoch 114/150\n",
      "45/45 [==============================] - 0s 1ms/step - loss: 0.7018 - accuracy: 0.8956\n",
      "Epoch 115/150\n",
      "45/45 [==============================] - 0s 1ms/step - loss: 0.6889 - accuracy: 0.9067\n",
      "Epoch 116/150\n",
      "45/45 [==============================] - 0s 1ms/step - loss: 0.4780 - accuracy: 0.9178\n",
      "Epoch 117/150\n",
      "45/45 [==============================] - 0s 1ms/step - loss: 0.3215 - accuracy: 0.9356\n",
      "Epoch 118/150\n",
      "45/45 [==============================] - 0s 1ms/step - loss: 0.3367 - accuracy: 0.9489\n",
      "Epoch 119/150\n",
      "45/45 [==============================] - 0s 1ms/step - loss: 0.3177 - accuracy: 0.9422\n",
      "Epoch 120/150\n",
      "45/45 [==============================] - 0s 1ms/step - loss: 0.1169 - accuracy: 0.9644\n",
      "Epoch 121/150\n",
      "45/45 [==============================] - 0s 1ms/step - loss: 0.0609 - accuracy: 0.9778\n",
      "Epoch 122/150\n",
      "45/45 [==============================] - 0s 1ms/step - loss: 0.0106 - accuracy: 0.9956\n",
      "Epoch 123/150\n",
      "45/45 [==============================] - 0s 1ms/step - loss: 0.0072 - accuracy: 0.9978\n",
      "Epoch 124/150\n",
      "45/45 [==============================] - 0s 1ms/step - loss: 0.0035 - accuracy: 0.9978\n",
      "Epoch 125/150\n",
      "45/45 [==============================] - 0s 1ms/step - loss: 0.0877 - accuracy: 0.9844\n",
      "Epoch 126/150\n",
      "45/45 [==============================] - 0s 2ms/step - loss: 0.0504 - accuracy: 0.9822\n",
      "Epoch 127/150\n",
      "45/45 [==============================] - 0s 2ms/step - loss: 0.1966 - accuracy: 0.9689\n",
      "Epoch 128/150\n",
      "45/45 [==============================] - 0s 1ms/step - loss: 1.3461 - accuracy: 0.8644\n",
      "Epoch 129/150\n",
      "45/45 [==============================] - 0s 1ms/step - loss: 2.0596 - accuracy: 0.7756\n",
      "Epoch 130/150\n",
      "45/45 [==============================] - 0s 1ms/step - loss: 1.5855 - accuracy: 0.8067\n",
      "Epoch 131/150\n",
      "45/45 [==============================] - 0s 1ms/step - loss: 1.2118 - accuracy: 0.8289\n",
      "Epoch 132/150\n",
      "45/45 [==============================] - 0s 1ms/step - loss: 1.1444 - accuracy: 0.8622\n",
      "Epoch 133/150\n",
      "45/45 [==============================] - 0s 1ms/step - loss: 2.0546 - accuracy: 0.8178\n",
      "Epoch 134/150\n",
      "45/45 [==============================] - 0s 1ms/step - loss: 2.5591 - accuracy: 0.7667\n",
      "Epoch 135/150\n",
      "45/45 [==============================] - 0s 2ms/step - loss: 2.3502 - accuracy: 0.7733\n",
      "Epoch 136/150\n",
      "45/45 [==============================] - 0s 1ms/step - loss: 1.5936 - accuracy: 0.8244\n",
      "Epoch 137/150\n",
      "45/45 [==============================] - 0s 1ms/step - loss: 0.6942 - accuracy: 0.9000\n",
      "Epoch 138/150\n",
      "45/45 [==============================] - 0s 1ms/step - loss: 0.9456 - accuracy: 0.8733\n",
      "Epoch 139/150\n",
      "45/45 [==============================] - 0s 2ms/step - loss: 1.2463 - accuracy: 0.8467\n",
      "Epoch 140/150\n",
      "45/45 [==============================] - 0s 2ms/step - loss: 0.9530 - accuracy: 0.8867\n",
      "Epoch 141/150\n",
      "45/45 [==============================] - 0s 1ms/step - loss: 0.9357 - accuracy: 0.8644\n",
      "Epoch 142/150\n",
      "45/45 [==============================] - 0s 1ms/step - loss: 0.6340 - accuracy: 0.9267\n",
      "Epoch 143/150\n",
      "45/45 [==============================] - 0s 1ms/step - loss: 0.5266 - accuracy: 0.9067\n",
      "Epoch 144/150\n",
      "45/45 [==============================] - 0s 1ms/step - loss: 0.1463 - accuracy: 0.9711\n",
      "Epoch 145/150\n",
      "45/45 [==============================] - 0s 1ms/step - loss: 0.3225 - accuracy: 0.9400\n",
      "Epoch 146/150\n",
      "45/45 [==============================] - 0s 2ms/step - loss: 0.2912 - accuracy: 0.9467\n",
      "Epoch 147/150\n",
      "45/45 [==============================] - 0s 2ms/step - loss: 0.4646 - accuracy: 0.9244\n",
      "Epoch 148/150\n",
      "45/45 [==============================] - 0s 2ms/step - loss: 0.2896 - accuracy: 0.9511\n",
      "Epoch 149/150\n",
      "45/45 [==============================] - 0s 2ms/step - loss: 0.1903 - accuracy: 0.9644\n",
      "Epoch 150/150\n",
      "45/45 [==============================] - 0s 2ms/step - loss: 0.3992 - accuracy: 0.9511\n"
     ]
    },
    {
     "data": {
      "text/plain": [
       "<keras.src.callbacks.History at 0x7f9d8b318ca0>"
      ]
     },
     "execution_count": 212,
     "metadata": {},
     "output_type": "execute_result"
    }
   ],
   "source": [
    "# Building the model\n",
    "model = Sequential()\n",
    "model.add(Dense(50, activation='LeakyReLU', input_shape=(96,)))\n",
    "model.add(Dense(70, activation='LeakyReLU'))\n",
    "model.add(Dense(150, activation='LeakyReLU'))\n",
    "model.add(Dense(15, activation='softmax'))\n",
    "\n",
    "# Compiling the model\n",
    "opt = keras.optimizers.Adam(learning_rate=0.001)\n",
    "model.compile(optimizer=opt, loss='categorical_crossentropy', metrics=['accuracy'])\n",
    "\n",
    "#Train the model\n",
    "model.fit(XTrain, yTrain, epochs=150, batch_size=10)"
   ]
  },
  {
   "cell_type": "code",
   "execution_count": 213,
   "metadata": {},
   "outputs": [
    {
     "name": "stdout",
     "output_type": "stream",
     "text": [
      "2/2 [==============================] - 0s 4ms/step - loss: 19.5868 - accuracy: 0.3400\n",
      "Test model loss: 19.586780548095703\n",
      "Test model accuracy: 0.3400000035762787\n"
     ]
    }
   ],
   "source": [
    "# Evaluating the model on the test data\n",
    "loss, accuracy = model.evaluate(XTest, yTest)\n",
    "print('Test model loss:', loss)\n",
    "print('Test model accuracy:', accuracy)"
   ]
  },
  {
   "cell_type": "markdown",
   "metadata": {},
   "source": [
    "#### Using 4 dense layers:"
   ]
  },
  {
   "cell_type": "code",
   "execution_count": 218,
   "metadata": {
    "scrolled": true
   },
   "outputs": [
    {
     "name": "stdout",
     "output_type": "stream",
     "text": [
      "Epoch 1/150\n",
      "45/45 [==============================] - 1s 2ms/step - loss: 62.6993 - accuracy: 0.2067 \n",
      "Epoch 2/150\n",
      "45/45 [==============================] - 0s 2ms/step - loss: 13.4105 - accuracy: 0.3378\n",
      "Epoch 3/150\n",
      "45/45 [==============================] - 0s 2ms/step - loss: 9.4560 - accuracy: 0.3533\n",
      "Epoch 4/150\n",
      "45/45 [==============================] - 0s 1ms/step - loss: 6.4238 - accuracy: 0.3756\n",
      "Epoch 5/150\n",
      "45/45 [==============================] - 0s 1ms/step - loss: 5.7397 - accuracy: 0.4022\n",
      "Epoch 6/150\n",
      "45/45 [==============================] - 0s 1ms/step - loss: 4.6433 - accuracy: 0.4022\n",
      "Epoch 7/150\n",
      "45/45 [==============================] - 0s 1ms/step - loss: 3.4769 - accuracy: 0.4689\n",
      "Epoch 8/150\n",
      "45/45 [==============================] - 0s 1ms/step - loss: 2.9520 - accuracy: 0.5444\n",
      "Epoch 9/150\n",
      "45/45 [==============================] - 0s 1ms/step - loss: 2.2184 - accuracy: 0.5400\n",
      "Epoch 10/150\n",
      "45/45 [==============================] - 0s 1ms/step - loss: 2.7238 - accuracy: 0.5289\n",
      "Epoch 11/150\n",
      "45/45 [==============================] - 0s 1ms/step - loss: 2.1642 - accuracy: 0.5667\n",
      "Epoch 12/150\n",
      "45/45 [==============================] - 0s 1ms/step - loss: 1.7241 - accuracy: 0.6000\n",
      "Epoch 13/150\n",
      "45/45 [==============================] - 0s 1ms/step - loss: 2.1358 - accuracy: 0.5711\n",
      "Epoch 14/150\n",
      "45/45 [==============================] - 0s 1ms/step - loss: 1.5578 - accuracy: 0.6200\n",
      "Epoch 15/150\n",
      "45/45 [==============================] - 0s 1ms/step - loss: 1.4297 - accuracy: 0.6311\n",
      "Epoch 16/150\n",
      "45/45 [==============================] - 0s 1ms/step - loss: 1.4408 - accuracy: 0.6311\n",
      "Epoch 17/150\n",
      "45/45 [==============================] - 0s 2ms/step - loss: 1.7228 - accuracy: 0.6444\n",
      "Epoch 18/150\n",
      "45/45 [==============================] - 0s 1ms/step - loss: 1.6607 - accuracy: 0.6400\n",
      "Epoch 19/150\n",
      "45/45 [==============================] - 0s 1ms/step - loss: 1.4702 - accuracy: 0.6533\n",
      "Epoch 20/150\n",
      "45/45 [==============================] - 0s 1ms/step - loss: 0.8749 - accuracy: 0.7400\n",
      "Epoch 21/150\n",
      "45/45 [==============================] - 0s 1ms/step - loss: 1.1218 - accuracy: 0.7044\n",
      "Epoch 22/150\n",
      "45/45 [==============================] - 0s 2ms/step - loss: 1.3928 - accuracy: 0.6644\n",
      "Epoch 23/150\n",
      "45/45 [==============================] - 0s 1ms/step - loss: 1.1993 - accuracy: 0.7178\n",
      "Epoch 24/150\n",
      "45/45 [==============================] - 0s 1ms/step - loss: 1.0444 - accuracy: 0.7311\n",
      "Epoch 25/150\n",
      "45/45 [==============================] - 0s 1ms/step - loss: 0.9344 - accuracy: 0.7489\n",
      "Epoch 26/150\n",
      "45/45 [==============================] - 0s 1ms/step - loss: 1.2130 - accuracy: 0.6911\n",
      "Epoch 27/150\n",
      "45/45 [==============================] - 0s 1ms/step - loss: 1.4995 - accuracy: 0.6711\n",
      "Epoch 28/150\n",
      "45/45 [==============================] - 0s 1ms/step - loss: 1.4245 - accuracy: 0.6556\n",
      "Epoch 29/150\n",
      "45/45 [==============================] - 0s 1ms/step - loss: 1.5127 - accuracy: 0.6867\n",
      "Epoch 30/150\n",
      "45/45 [==============================] - 0s 1ms/step - loss: 1.0740 - accuracy: 0.7289\n",
      "Epoch 31/150\n",
      "45/45 [==============================] - 0s 1ms/step - loss: 0.7039 - accuracy: 0.7933\n",
      "Epoch 32/150\n",
      "45/45 [==============================] - 0s 1ms/step - loss: 0.5377 - accuracy: 0.8378\n",
      "Epoch 33/150\n",
      "45/45 [==============================] - 0s 1ms/step - loss: 0.4386 - accuracy: 0.8533\n",
      "Epoch 34/150\n",
      "45/45 [==============================] - 0s 1ms/step - loss: 0.4441 - accuracy: 0.8422\n",
      "Epoch 35/150\n",
      "45/45 [==============================] - 0s 1ms/step - loss: 0.3745 - accuracy: 0.8622\n",
      "Epoch 36/150\n",
      "45/45 [==============================] - 0s 1ms/step - loss: 0.5739 - accuracy: 0.8467\n",
      "Epoch 37/150\n",
      "45/45 [==============================] - 0s 1ms/step - loss: 0.5725 - accuracy: 0.8289\n",
      "Epoch 38/150\n",
      "45/45 [==============================] - 0s 1ms/step - loss: 0.9057 - accuracy: 0.7867\n",
      "Epoch 39/150\n",
      "45/45 [==============================] - 0s 1ms/step - loss: 2.2078 - accuracy: 0.6400\n",
      "Epoch 40/150\n",
      "45/45 [==============================] - 0s 1ms/step - loss: 1.3268 - accuracy: 0.7067\n",
      "Epoch 41/150\n",
      "45/45 [==============================] - 0s 1ms/step - loss: 0.8789 - accuracy: 0.7644\n",
      "Epoch 42/150\n",
      "45/45 [==============================] - 0s 1ms/step - loss: 0.7932 - accuracy: 0.7756\n",
      "Epoch 43/150\n",
      "45/45 [==============================] - 0s 1ms/step - loss: 0.7253 - accuracy: 0.8067\n",
      "Epoch 44/150\n",
      "45/45 [==============================] - 0s 1ms/step - loss: 1.0543 - accuracy: 0.7333\n",
      "Epoch 45/150\n",
      "45/45 [==============================] - 0s 1ms/step - loss: 1.0148 - accuracy: 0.7600\n",
      "Epoch 46/150\n",
      "45/45 [==============================] - 0s 1ms/step - loss: 0.8153 - accuracy: 0.7556\n",
      "Epoch 47/150\n",
      "45/45 [==============================] - 0s 1ms/step - loss: 0.3417 - accuracy: 0.8778\n",
      "Epoch 48/150\n",
      "45/45 [==============================] - 0s 1ms/step - loss: 0.6920 - accuracy: 0.8244\n",
      "Epoch 49/150\n",
      "45/45 [==============================] - 0s 1ms/step - loss: 0.7622 - accuracy: 0.8156\n",
      "Epoch 50/150\n",
      "45/45 [==============================] - 0s 1ms/step - loss: 0.9229 - accuracy: 0.7822\n",
      "Epoch 51/150\n",
      "45/45 [==============================] - 0s 1ms/step - loss: 0.7146 - accuracy: 0.8089\n",
      "Epoch 52/150\n",
      "45/45 [==============================] - 0s 1ms/step - loss: 1.4071 - accuracy: 0.7089\n",
      "Epoch 53/150\n",
      "45/45 [==============================] - 0s 1ms/step - loss: 1.4979 - accuracy: 0.6644\n",
      "Epoch 54/150\n",
      "45/45 [==============================] - 0s 1ms/step - loss: 2.3992 - accuracy: 0.6556\n",
      "Epoch 55/150\n",
      "45/45 [==============================] - 0s 1ms/step - loss: 1.8606 - accuracy: 0.6511\n",
      "Epoch 56/150\n",
      "45/45 [==============================] - 0s 1ms/step - loss: 1.1263 - accuracy: 0.7533\n",
      "Epoch 57/150\n",
      "45/45 [==============================] - 0s 1ms/step - loss: 0.5587 - accuracy: 0.8489\n",
      "Epoch 58/150\n",
      "45/45 [==============================] - 0s 1ms/step - loss: 0.8943 - accuracy: 0.7867\n",
      "Epoch 59/150\n",
      "45/45 [==============================] - 0s 1ms/step - loss: 0.7327 - accuracy: 0.8022\n",
      "Epoch 60/150\n",
      "45/45 [==============================] - 0s 1ms/step - loss: 0.6867 - accuracy: 0.8156\n",
      "Epoch 61/150\n",
      "45/45 [==============================] - 0s 3ms/step - loss: 0.8727 - accuracy: 0.8067\n",
      "Epoch 62/150\n",
      "45/45 [==============================] - 0s 2ms/step - loss: 1.4387 - accuracy: 0.7467\n",
      "Epoch 63/150\n",
      "45/45 [==============================] - 0s 2ms/step - loss: 1.4081 - accuracy: 0.6822\n",
      "Epoch 64/150\n",
      "45/45 [==============================] - 0s 1ms/step - loss: 1.6350 - accuracy: 0.7244\n",
      "Epoch 65/150\n",
      "45/45 [==============================] - 0s 2ms/step - loss: 1.1335 - accuracy: 0.7311\n",
      "Epoch 66/150\n",
      "45/45 [==============================] - 0s 2ms/step - loss: 0.8252 - accuracy: 0.8133\n",
      "Epoch 67/150\n",
      "45/45 [==============================] - 0s 2ms/step - loss: 0.8267 - accuracy: 0.7978\n",
      "Epoch 68/150\n",
      "45/45 [==============================] - 0s 2ms/step - loss: 0.6494 - accuracy: 0.8200\n",
      "Epoch 69/150\n",
      "45/45 [==============================] - 0s 2ms/step - loss: 0.4070 - accuracy: 0.8600\n",
      "Epoch 70/150\n",
      "45/45 [==============================] - 0s 2ms/step - loss: 0.8302 - accuracy: 0.8067\n",
      "Epoch 71/150\n",
      "45/45 [==============================] - 0s 2ms/step - loss: 0.7581 - accuracy: 0.8000\n",
      "Epoch 72/150\n",
      "45/45 [==============================] - 0s 2ms/step - loss: 0.2897 - accuracy: 0.9111\n",
      "Epoch 73/150\n",
      "45/45 [==============================] - 0s 2ms/step - loss: 0.5748 - accuracy: 0.8533\n",
      "Epoch 74/150\n",
      "45/45 [==============================] - 0s 1ms/step - loss: 1.3705 - accuracy: 0.7267\n",
      "Epoch 75/150\n",
      "45/45 [==============================] - 0s 1ms/step - loss: 1.0456 - accuracy: 0.7822\n",
      "Epoch 76/150\n",
      "45/45 [==============================] - 0s 1ms/step - loss: 1.0006 - accuracy: 0.7778\n",
      "Epoch 77/150\n",
      "45/45 [==============================] - 0s 2ms/step - loss: 1.0192 - accuracy: 0.7844\n",
      "Epoch 78/150\n",
      "45/45 [==============================] - 0s 3ms/step - loss: 2.0049 - accuracy: 0.6956\n",
      "Epoch 79/150\n",
      "45/45 [==============================] - 0s 2ms/step - loss: 1.6335 - accuracy: 0.6911\n",
      "Epoch 80/150\n",
      "45/45 [==============================] - 0s 4ms/step - loss: 1.1509 - accuracy: 0.7756\n",
      "Epoch 81/150\n",
      "45/45 [==============================] - 0s 2ms/step - loss: 0.7690 - accuracy: 0.8356\n",
      "Epoch 82/150\n",
      "45/45 [==============================] - 0s 2ms/step - loss: 0.7705 - accuracy: 0.8133\n",
      "Epoch 83/150\n",
      "45/45 [==============================] - 0s 2ms/step - loss: 1.0127 - accuracy: 0.7733\n",
      "Epoch 84/150\n",
      "45/45 [==============================] - 0s 2ms/step - loss: 0.9382 - accuracy: 0.8244\n",
      "Epoch 85/150\n",
      "45/45 [==============================] - 0s 2ms/step - loss: 0.8097 - accuracy: 0.8333\n",
      "Epoch 86/150\n",
      "45/45 [==============================] - 0s 2ms/step - loss: 1.0344 - accuracy: 0.8178\n",
      "Epoch 87/150\n",
      "45/45 [==============================] - 0s 2ms/step - loss: 0.5754 - accuracy: 0.8511\n",
      "Epoch 88/150\n",
      "45/45 [==============================] - 0s 2ms/step - loss: 1.0174 - accuracy: 0.8200\n",
      "Epoch 89/150\n",
      "45/45 [==============================] - 0s 2ms/step - loss: 0.6860 - accuracy: 0.8333\n",
      "Epoch 90/150\n",
      "45/45 [==============================] - 0s 1ms/step - loss: 0.9548 - accuracy: 0.8111\n",
      "Epoch 91/150\n",
      "45/45 [==============================] - 0s 1ms/step - loss: 1.7723 - accuracy: 0.7400\n",
      "Epoch 92/150\n",
      "45/45 [==============================] - 0s 1ms/step - loss: 1.4570 - accuracy: 0.7222\n",
      "Epoch 93/150\n",
      "45/45 [==============================] - 0s 2ms/step - loss: 0.8892 - accuracy: 0.8222\n",
      "Epoch 94/150\n",
      "45/45 [==============================] - 0s 2ms/step - loss: 0.5481 - accuracy: 0.8689\n",
      "Epoch 95/150\n",
      "45/45 [==============================] - 0s 2ms/step - loss: 0.5135 - accuracy: 0.8756\n",
      "Epoch 96/150\n",
      "45/45 [==============================] - 0s 2ms/step - loss: 0.3138 - accuracy: 0.9244\n",
      "Epoch 97/150\n",
      "45/45 [==============================] - 0s 1ms/step - loss: 1.0652 - accuracy: 0.7800\n",
      "Epoch 98/150\n",
      "45/45 [==============================] - 0s 1ms/step - loss: 0.6570 - accuracy: 0.8311\n",
      "Epoch 99/150\n",
      "45/45 [==============================] - 0s 1ms/step - loss: 1.4991 - accuracy: 0.7689\n",
      "Epoch 100/150\n",
      "45/45 [==============================] - 0s 2ms/step - loss: 2.8055 - accuracy: 0.6667\n",
      "Epoch 101/150\n",
      "45/45 [==============================] - 0s 2ms/step - loss: 2.3838 - accuracy: 0.6333\n",
      "Epoch 102/150\n",
      "45/45 [==============================] - 0s 2ms/step - loss: 1.8361 - accuracy: 0.6822\n",
      "Epoch 103/150\n",
      "45/45 [==============================] - 0s 2ms/step - loss: 1.3085 - accuracy: 0.7444\n",
      "Epoch 104/150\n",
      "45/45 [==============================] - 0s 2ms/step - loss: 0.9329 - accuracy: 0.8178\n",
      "Epoch 105/150\n",
      "45/45 [==============================] - 0s 2ms/step - loss: 1.0462 - accuracy: 0.7756\n",
      "Epoch 106/150\n",
      "45/45 [==============================] - 0s 2ms/step - loss: 0.5444 - accuracy: 0.8533\n",
      "Epoch 107/150\n",
      "45/45 [==============================] - 0s 3ms/step - loss: 0.2767 - accuracy: 0.9111\n",
      "Epoch 108/150\n",
      "45/45 [==============================] - 0s 2ms/step - loss: 0.1948 - accuracy: 0.9444\n",
      "Epoch 109/150\n",
      "45/45 [==============================] - 0s 2ms/step - loss: 0.1617 - accuracy: 0.9533\n",
      "Epoch 110/150\n",
      "45/45 [==============================] - 0s 2ms/step - loss: 0.2238 - accuracy: 0.9378\n",
      "Epoch 111/150\n",
      "45/45 [==============================] - 0s 2ms/step - loss: 0.7359 - accuracy: 0.8333\n",
      "Epoch 112/150\n",
      "45/45 [==============================] - 0s 2ms/step - loss: 0.5225 - accuracy: 0.8556\n",
      "Epoch 113/150\n",
      "45/45 [==============================] - 0s 2ms/step - loss: 0.3393 - accuracy: 0.9133\n",
      "Epoch 114/150\n",
      "45/45 [==============================] - 0s 2ms/step - loss: 0.4437 - accuracy: 0.9156\n",
      "Epoch 115/150\n",
      "45/45 [==============================] - 0s 2ms/step - loss: 0.6539 - accuracy: 0.8511\n",
      "Epoch 116/150\n",
      "45/45 [==============================] - 0s 2ms/step - loss: 0.7526 - accuracy: 0.8489\n",
      "Epoch 117/150\n",
      "45/45 [==============================] - 0s 2ms/step - loss: 1.2689 - accuracy: 0.7778\n",
      "Epoch 118/150\n",
      "45/45 [==============================] - 0s 2ms/step - loss: 1.6768 - accuracy: 0.7133\n",
      "Epoch 119/150\n",
      "45/45 [==============================] - 0s 2ms/step - loss: 1.4636 - accuracy: 0.7622\n",
      "Epoch 120/150\n",
      "45/45 [==============================] - 0s 2ms/step - loss: 1.0920 - accuracy: 0.7844\n",
      "Epoch 121/150\n",
      "45/45 [==============================] - 0s 2ms/step - loss: 0.8037 - accuracy: 0.8444\n",
      "Epoch 122/150\n",
      "45/45 [==============================] - 0s 3ms/step - loss: 1.0386 - accuracy: 0.8156\n",
      "Epoch 123/150\n",
      "45/45 [==============================] - 0s 2ms/step - loss: 1.3349 - accuracy: 0.7533\n",
      "Epoch 124/150\n",
      "45/45 [==============================] - 0s 2ms/step - loss: 1.5547 - accuracy: 0.7844\n",
      "Epoch 125/150\n",
      "45/45 [==============================] - 0s 3ms/step - loss: 0.8450 - accuracy: 0.8311\n",
      "Epoch 126/150\n",
      "45/45 [==============================] - 0s 3ms/step - loss: 0.3525 - accuracy: 0.8956\n",
      "Epoch 127/150\n",
      "45/45 [==============================] - 0s 3ms/step - loss: 0.3760 - accuracy: 0.9000\n",
      "Epoch 128/150\n",
      "45/45 [==============================] - 0s 2ms/step - loss: 0.4551 - accuracy: 0.9000\n",
      "Epoch 129/150\n",
      "45/45 [==============================] - 0s 2ms/step - loss: 1.3146 - accuracy: 0.8333\n",
      "Epoch 130/150\n",
      "45/45 [==============================] - 0s 2ms/step - loss: 0.8893 - accuracy: 0.8311\n",
      "Epoch 131/150\n",
      "45/45 [==============================] - 0s 3ms/step - loss: 0.3746 - accuracy: 0.8822\n",
      "Epoch 132/150\n",
      "45/45 [==============================] - 0s 2ms/step - loss: 0.4881 - accuracy: 0.8844\n",
      "Epoch 133/150\n",
      "45/45 [==============================] - 0s 1ms/step - loss: 1.1629 - accuracy: 0.7933\n",
      "Epoch 134/150\n",
      "45/45 [==============================] - 0s 1ms/step - loss: 0.9016 - accuracy: 0.8422\n",
      "Epoch 135/150\n",
      "45/45 [==============================] - 0s 2ms/step - loss: 1.3504 - accuracy: 0.7978\n",
      "Epoch 136/150\n",
      "45/45 [==============================] - 0s 1ms/step - loss: 1.3161 - accuracy: 0.7689\n",
      "Epoch 137/150\n",
      "45/45 [==============================] - 0s 1ms/step - loss: 1.1473 - accuracy: 0.7733\n",
      "Epoch 138/150\n",
      "45/45 [==============================] - 0s 2ms/step - loss: 0.5957 - accuracy: 0.8822\n",
      "Epoch 139/150\n",
      "45/45 [==============================] - 0s 2ms/step - loss: 0.4057 - accuracy: 0.9044\n",
      "Epoch 140/150\n",
      "45/45 [==============================] - 0s 2ms/step - loss: 0.3581 - accuracy: 0.9044\n",
      "Epoch 141/150\n",
      "45/45 [==============================] - 0s 2ms/step - loss: 0.1891 - accuracy: 0.9400\n",
      "Epoch 142/150\n",
      "45/45 [==============================] - 0s 2ms/step - loss: 0.3641 - accuracy: 0.9178\n",
      "Epoch 143/150\n",
      "45/45 [==============================] - 0s 2ms/step - loss: 0.5528 - accuracy: 0.8733\n",
      "Epoch 144/150\n",
      "45/45 [==============================] - 0s 2ms/step - loss: 1.2735 - accuracy: 0.8000\n",
      "Epoch 145/150\n",
      "45/45 [==============================] - 0s 2ms/step - loss: 1.1791 - accuracy: 0.7933\n",
      "Epoch 146/150\n",
      "45/45 [==============================] - 0s 1ms/step - loss: 0.6586 - accuracy: 0.8667\n",
      "Epoch 147/150\n",
      "45/45 [==============================] - 0s 2ms/step - loss: 1.3074 - accuracy: 0.8089\n",
      "Epoch 148/150\n",
      "45/45 [==============================] - 0s 2ms/step - loss: 1.8619 - accuracy: 0.7467\n",
      "Epoch 149/150\n",
      "45/45 [==============================] - 0s 2ms/step - loss: 2.1162 - accuracy: 0.7422\n",
      "Epoch 150/150\n",
      "45/45 [==============================] - 0s 2ms/step - loss: 0.9111 - accuracy: 0.8333\n"
     ]
    },
    {
     "data": {
      "text/plain": [
       "<keras.src.callbacks.History at 0x7f9d8cc121f0>"
      ]
     },
     "execution_count": 218,
     "metadata": {},
     "output_type": "execute_result"
    }
   ],
   "source": [
    "# Building the model\n",
    "model = Sequential()\n",
    "model.add(Dense(200, activation='LeakyReLU', input_shape=(96,)))\n",
    "model.add(Dense(150, activation='LeakyReLU'))\n",
    "model.add(Dense(100, activation='LeakyReLU'))\n",
    "model.add(Dense(50, activation='LeakyReLU'))\n",
    "model.add(Dense(15, activation='softmax'))\n",
    "\n",
    "# Compiling the model\n",
    "opt = keras.optimizers.Adam(learning_rate=0.001)\n",
    "model.compile(optimizer=opt, loss='categorical_crossentropy', metrics=['accuracy'])\n",
    "\n",
    "#Train the model\n",
    "model.fit(XTrain, yTrain, epochs=150, batch_size=10)"
   ]
  },
  {
   "cell_type": "code",
   "execution_count": 219,
   "metadata": {},
   "outputs": [
    {
     "name": "stdout",
     "output_type": "stream",
     "text": [
      "2/2 [==============================] - 0s 3ms/step - loss: 11.2912 - accuracy: 0.4000\n",
      "Test model loss: 11.291173934936523\n",
      "Test model accuracy: 0.4000000059604645\n"
     ]
    }
   ],
   "source": [
    "# Evaluating the model on the test data\n",
    "loss, accuracy = model.evaluate(XTest, yTest)\n",
    "print('Test model loss:', loss)\n",
    "print('Test model accuracy:', accuracy)"
   ]
  },
  {
   "cell_type": "markdown",
   "metadata": {},
   "source": [
    "### Adding droput regularization"
   ]
  },
  {
   "cell_type": "code",
   "execution_count": 222,
   "metadata": {
    "scrolled": true
   },
   "outputs": [
    {
     "name": "stdout",
     "output_type": "stream",
     "text": [
      "Epoch 1/150\n",
      "45/45 [==============================] - 1s 2ms/step - loss: 411.6301 - accuracy: 0.1133\n",
      "Epoch 2/150\n",
      "45/45 [==============================] - 0s 1ms/step - loss: 184.1452 - accuracy: 0.1933\n",
      "Epoch 3/150\n",
      "45/45 [==============================] - 0s 1ms/step - loss: 139.1366 - accuracy: 0.1978\n",
      "Epoch 4/150\n",
      "45/45 [==============================] - 0s 1ms/step - loss: 112.3051 - accuracy: 0.2067\n",
      "Epoch 5/150\n",
      "45/45 [==============================] - 0s 972us/step - loss: 110.1026 - accuracy: 0.2511\n",
      "Epoch 6/150\n",
      "45/45 [==============================] - 0s 990us/step - loss: 95.6742 - accuracy: 0.2733\n",
      "Epoch 7/150\n",
      "45/45 [==============================] - 0s 953us/step - loss: 95.3048 - accuracy: 0.2467\n",
      "Epoch 8/150\n",
      "45/45 [==============================] - 0s 1ms/step - loss: 79.6700 - accuracy: 0.2911\n",
      "Epoch 9/150\n",
      "45/45 [==============================] - 0s 1ms/step - loss: 72.9885 - accuracy: 0.3200\n",
      "Epoch 10/150\n",
      "45/45 [==============================] - 0s 1ms/step - loss: 72.2940 - accuracy: 0.3289\n",
      "Epoch 11/150\n",
      "45/45 [==============================] - 0s 1ms/step - loss: 69.8204 - accuracy: 0.3133\n",
      "Epoch 12/150\n",
      "45/45 [==============================] - 0s 1ms/step - loss: 59.2125 - accuracy: 0.3422\n",
      "Epoch 13/150\n",
      "45/45 [==============================] - 0s 1ms/step - loss: 61.4251 - accuracy: 0.3156\n",
      "Epoch 14/150\n",
      "45/45 [==============================] - 0s 1ms/step - loss: 54.2187 - accuracy: 0.3578\n",
      "Epoch 15/150\n",
      "45/45 [==============================] - 0s 1ms/step - loss: 54.1926 - accuracy: 0.3533\n",
      "Epoch 16/150\n",
      "45/45 [==============================] - 0s 1ms/step - loss: 51.8879 - accuracy: 0.3556\n",
      "Epoch 17/150\n",
      "45/45 [==============================] - 0s 1ms/step - loss: 48.3092 - accuracy: 0.3556\n",
      "Epoch 18/150\n",
      "45/45 [==============================] - 0s 1ms/step - loss: 47.7652 - accuracy: 0.3400\n",
      "Epoch 19/150\n",
      "45/45 [==============================] - 0s 1ms/step - loss: 43.8386 - accuracy: 0.3711\n",
      "Epoch 20/150\n",
      "45/45 [==============================] - 0s 1ms/step - loss: 43.6377 - accuracy: 0.4000\n",
      "Epoch 21/150\n",
      "45/45 [==============================] - 0s 1ms/step - loss: 42.6029 - accuracy: 0.3556\n",
      "Epoch 22/150\n",
      "45/45 [==============================] - 0s 2ms/step - loss: 37.0244 - accuracy: 0.4311\n",
      "Epoch 23/150\n",
      "45/45 [==============================] - 0s 1ms/step - loss: 34.6652 - accuracy: 0.4356\n",
      "Epoch 24/150\n",
      "45/45 [==============================] - 0s 1ms/step - loss: 30.9082 - accuracy: 0.4200\n",
      "Epoch 25/150\n",
      "45/45 [==============================] - 0s 1ms/step - loss: 34.6659 - accuracy: 0.3667\n",
      "Epoch 26/150\n",
      "45/45 [==============================] - 0s 1ms/step - loss: 32.3001 - accuracy: 0.4067\n",
      "Epoch 27/150\n",
      "45/45 [==============================] - 0s 2ms/step - loss: 33.3390 - accuracy: 0.4156\n",
      "Epoch 28/150\n",
      "45/45 [==============================] - 0s 1ms/step - loss: 31.1316 - accuracy: 0.4200\n",
      "Epoch 29/150\n",
      "45/45 [==============================] - 0s 1ms/step - loss: 32.3821 - accuracy: 0.3844\n",
      "Epoch 30/150\n",
      "45/45 [==============================] - 0s 1ms/step - loss: 27.8467 - accuracy: 0.4111\n",
      "Epoch 31/150\n",
      "45/45 [==============================] - 0s 1ms/step - loss: 24.7008 - accuracy: 0.4333\n",
      "Epoch 32/150\n",
      "45/45 [==============================] - 0s 1ms/step - loss: 27.7702 - accuracy: 0.4089\n",
      "Epoch 33/150\n",
      "45/45 [==============================] - 0s 1ms/step - loss: 24.9018 - accuracy: 0.4178\n",
      "Epoch 34/150\n",
      "45/45 [==============================] - 0s 1ms/step - loss: 24.4801 - accuracy: 0.4333\n",
      "Epoch 35/150\n",
      "45/45 [==============================] - 0s 1ms/step - loss: 23.2869 - accuracy: 0.4422\n",
      "Epoch 36/150\n",
      "45/45 [==============================] - 0s 1ms/step - loss: 20.9433 - accuracy: 0.4622\n",
      "Epoch 37/150\n",
      "45/45 [==============================] - 0s 1ms/step - loss: 19.5902 - accuracy: 0.4511\n",
      "Epoch 38/150\n",
      "45/45 [==============================] - 0s 2ms/step - loss: 22.0929 - accuracy: 0.4111\n",
      "Epoch 39/150\n",
      "45/45 [==============================] - 0s 2ms/step - loss: 18.7935 - accuracy: 0.4667\n",
      "Epoch 40/150\n",
      "45/45 [==============================] - 0s 1ms/step - loss: 18.5275 - accuracy: 0.4467\n",
      "Epoch 41/150\n",
      "45/45 [==============================] - 0s 1ms/step - loss: 17.8286 - accuracy: 0.4778\n",
      "Epoch 42/150\n",
      "45/45 [==============================] - 0s 1ms/step - loss: 18.3204 - accuracy: 0.4422\n",
      "Epoch 43/150\n",
      "45/45 [==============================] - 0s 1ms/step - loss: 17.3759 - accuracy: 0.4244\n",
      "Epoch 44/150\n",
      "45/45 [==============================] - 0s 1ms/step - loss: 15.3496 - accuracy: 0.4844\n",
      "Epoch 45/150\n",
      "45/45 [==============================] - 0s 1ms/step - loss: 15.0228 - accuracy: 0.4889\n",
      "Epoch 46/150\n",
      "45/45 [==============================] - 0s 1ms/step - loss: 13.1925 - accuracy: 0.4822\n",
      "Epoch 47/150\n",
      "45/45 [==============================] - 0s 1ms/step - loss: 14.3927 - accuracy: 0.4511\n",
      "Epoch 48/150\n",
      "45/45 [==============================] - 0s 1ms/step - loss: 16.0809 - accuracy: 0.4444\n",
      "Epoch 49/150\n",
      "45/45 [==============================] - 0s 1ms/step - loss: 12.1397 - accuracy: 0.4844\n",
      "Epoch 50/150\n",
      "45/45 [==============================] - 0s 1ms/step - loss: 12.9248 - accuracy: 0.4622\n",
      "Epoch 51/150\n",
      "45/45 [==============================] - 0s 1ms/step - loss: 12.4914 - accuracy: 0.4689\n",
      "Epoch 52/150\n",
      "45/45 [==============================] - 0s 1ms/step - loss: 11.6194 - accuracy: 0.4800\n",
      "Epoch 53/150\n",
      "45/45 [==============================] - 0s 1ms/step - loss: 10.5485 - accuracy: 0.4933\n",
      "Epoch 54/150\n",
      "45/45 [==============================] - 0s 4ms/step - loss: 12.2626 - accuracy: 0.4378\n",
      "Epoch 55/150\n",
      "45/45 [==============================] - 0s 2ms/step - loss: 10.9312 - accuracy: 0.4867\n",
      "Epoch 56/150\n",
      "45/45 [==============================] - 0s 1ms/step - loss: 10.6028 - accuracy: 0.4800\n",
      "Epoch 57/150\n",
      "45/45 [==============================] - 0s 1ms/step - loss: 10.3203 - accuracy: 0.4911\n",
      "Epoch 58/150\n",
      "45/45 [==============================] - 0s 1ms/step - loss: 8.7772 - accuracy: 0.4889\n",
      "Epoch 59/150\n",
      "45/45 [==============================] - 0s 1ms/step - loss: 7.8836 - accuracy: 0.5333\n",
      "Epoch 60/150\n",
      "45/45 [==============================] - 0s 1ms/step - loss: 8.6421 - accuracy: 0.4933\n",
      "Epoch 61/150\n",
      "45/45 [==============================] - 0s 1ms/step - loss: 8.2027 - accuracy: 0.5067\n",
      "Epoch 62/150\n",
      "45/45 [==============================] - 0s 2ms/step - loss: 8.1255 - accuracy: 0.4911\n",
      "Epoch 63/150\n",
      "45/45 [==============================] - 0s 1ms/step - loss: 7.3291 - accuracy: 0.4956\n",
      "Epoch 64/150\n",
      "45/45 [==============================] - 0s 1ms/step - loss: 8.9262 - accuracy: 0.4667\n",
      "Epoch 65/150\n",
      "45/45 [==============================] - 0s 1ms/step - loss: 6.9260 - accuracy: 0.5089\n",
      "Epoch 66/150\n",
      "45/45 [==============================] - 0s 1ms/step - loss: 5.8082 - accuracy: 0.5289\n",
      "Epoch 67/150\n",
      "45/45 [==============================] - 0s 1ms/step - loss: 6.0236 - accuracy: 0.5267\n",
      "Epoch 68/150\n",
      "45/45 [==============================] - 0s 1ms/step - loss: 5.7121 - accuracy: 0.4911\n",
      "Epoch 69/150\n",
      "45/45 [==============================] - 0s 2ms/step - loss: 5.4763 - accuracy: 0.5178\n",
      "Epoch 70/150\n",
      "45/45 [==============================] - 0s 1ms/step - loss: 5.6985 - accuracy: 0.5000\n",
      "Epoch 71/150\n",
      "45/45 [==============================] - 0s 1ms/step - loss: 5.0703 - accuracy: 0.5067\n",
      "Epoch 72/150\n",
      "45/45 [==============================] - 0s 1ms/step - loss: 4.9123 - accuracy: 0.4778\n",
      "Epoch 73/150\n",
      "45/45 [==============================] - 0s 1ms/step - loss: 4.6828 - accuracy: 0.5089\n",
      "Epoch 74/150\n",
      "45/45 [==============================] - 0s 1ms/step - loss: 5.2265 - accuracy: 0.4978\n",
      "Epoch 75/150\n",
      "45/45 [==============================] - 0s 1ms/step - loss: 4.5696 - accuracy: 0.4911\n",
      "Epoch 76/150\n",
      "45/45 [==============================] - 0s 1ms/step - loss: 4.7362 - accuracy: 0.5133\n",
      "Epoch 77/150\n",
      "45/45 [==============================] - 0s 1ms/step - loss: 4.5235 - accuracy: 0.4800\n",
      "Epoch 78/150\n",
      "45/45 [==============================] - 0s 1ms/step - loss: 4.5077 - accuracy: 0.4956\n",
      "Epoch 79/150\n",
      "45/45 [==============================] - 0s 1ms/step - loss: 4.0905 - accuracy: 0.5111\n",
      "Epoch 80/150\n",
      "45/45 [==============================] - 0s 1ms/step - loss: 4.0290 - accuracy: 0.5133\n",
      "Epoch 81/150\n",
      "45/45 [==============================] - 0s 1ms/step - loss: 3.7137 - accuracy: 0.5067\n",
      "Epoch 82/150\n",
      "45/45 [==============================] - 0s 988us/step - loss: 3.4157 - accuracy: 0.5222\n",
      "Epoch 83/150\n",
      "45/45 [==============================] - 0s 944us/step - loss: 3.6894 - accuracy: 0.4733\n",
      "Epoch 84/150\n",
      "45/45 [==============================] - 0s 1ms/step - loss: 3.5255 - accuracy: 0.4844\n",
      "Epoch 85/150\n",
      "45/45 [==============================] - 0s 950us/step - loss: 3.2056 - accuracy: 0.5178\n",
      "Epoch 86/150\n",
      "45/45 [==============================] - 0s 971us/step - loss: 3.5851 - accuracy: 0.5089\n",
      "Epoch 87/150\n",
      "45/45 [==============================] - 0s 946us/step - loss: 3.0934 - accuracy: 0.4756\n",
      "Epoch 88/150\n",
      "45/45 [==============================] - 0s 914us/step - loss: 2.7665 - accuracy: 0.5333\n",
      "Epoch 89/150\n",
      "45/45 [==============================] - 0s 1ms/step - loss: 2.7344 - accuracy: 0.5089\n",
      "Epoch 90/150\n",
      "45/45 [==============================] - 0s 946us/step - loss: 2.9893 - accuracy: 0.5156\n",
      "Epoch 91/150\n",
      "45/45 [==============================] - 0s 1ms/step - loss: 3.1660 - accuracy: 0.4822\n",
      "Epoch 92/150\n",
      "45/45 [==============================] - 0s 2ms/step - loss: 3.3081 - accuracy: 0.4711\n",
      "Epoch 93/150\n",
      "45/45 [==============================] - 0s 2ms/step - loss: 3.2536 - accuracy: 0.5044\n",
      "Epoch 94/150\n",
      "45/45 [==============================] - 0s 2ms/step - loss: 2.9661 - accuracy: 0.5089\n",
      "Epoch 95/150\n",
      "45/45 [==============================] - 0s 2ms/step - loss: 2.8376 - accuracy: 0.5244\n",
      "Epoch 96/150\n",
      "45/45 [==============================] - 0s 2ms/step - loss: 2.6264 - accuracy: 0.5156\n",
      "Epoch 97/150\n",
      "45/45 [==============================] - 0s 1ms/step - loss: 3.3019 - accuracy: 0.4800\n",
      "Epoch 98/150\n",
      "45/45 [==============================] - 0s 2ms/step - loss: 2.9811 - accuracy: 0.4489\n",
      "Epoch 99/150\n",
      "45/45 [==============================] - 0s 2ms/step - loss: 2.4123 - accuracy: 0.5000\n",
      "Epoch 100/150\n",
      "45/45 [==============================] - 0s 2ms/step - loss: 2.4048 - accuracy: 0.4889\n",
      "Epoch 101/150\n",
      "45/45 [==============================] - 0s 2ms/step - loss: 2.7854 - accuracy: 0.5044\n",
      "Epoch 102/150\n",
      "45/45 [==============================] - 0s 1ms/step - loss: 2.8350 - accuracy: 0.4933\n",
      "Epoch 103/150\n",
      "45/45 [==============================] - 0s 1ms/step - loss: 3.0694 - accuracy: 0.4844\n",
      "Epoch 104/150\n",
      "45/45 [==============================] - 0s 2ms/step - loss: 2.8614 - accuracy: 0.4911\n",
      "Epoch 105/150\n",
      "45/45 [==============================] - 0s 2ms/step - loss: 2.4032 - accuracy: 0.4978\n",
      "Epoch 106/150\n",
      "45/45 [==============================] - 0s 2ms/step - loss: 2.6473 - accuracy: 0.4556\n",
      "Epoch 107/150\n",
      "45/45 [==============================] - 0s 2ms/step - loss: 2.4387 - accuracy: 0.4844\n",
      "Epoch 108/150\n",
      "45/45 [==============================] - 0s 1ms/step - loss: 2.1993 - accuracy: 0.5178\n",
      "Epoch 109/150\n",
      "45/45 [==============================] - 0s 1ms/step - loss: 2.9960 - accuracy: 0.4489\n",
      "Epoch 110/150\n",
      "45/45 [==============================] - 0s 1ms/step - loss: 2.9435 - accuracy: 0.4400\n",
      "Epoch 111/150\n",
      "45/45 [==============================] - 0s 1ms/step - loss: 2.6002 - accuracy: 0.4511\n",
      "Epoch 112/150\n",
      "45/45 [==============================] - 0s 2ms/step - loss: 2.5172 - accuracy: 0.4978\n",
      "Epoch 113/150\n",
      "45/45 [==============================] - 0s 2ms/step - loss: 2.3581 - accuracy: 0.5067\n",
      "Epoch 114/150\n",
      "45/45 [==============================] - 0s 2ms/step - loss: 2.4093 - accuracy: 0.4778\n",
      "Epoch 115/150\n",
      "45/45 [==============================] - 0s 2ms/step - loss: 2.5595 - accuracy: 0.4867\n",
      "Epoch 116/150\n",
      "45/45 [==============================] - 0s 2ms/step - loss: 2.5777 - accuracy: 0.4756\n",
      "Epoch 117/150\n",
      "45/45 [==============================] - 0s 2ms/step - loss: 2.5191 - accuracy: 0.4733\n",
      "Epoch 118/150\n",
      "45/45 [==============================] - 0s 1ms/step - loss: 2.3006 - accuracy: 0.5111\n",
      "Epoch 119/150\n",
      "45/45 [==============================] - 0s 1ms/step - loss: 2.5786 - accuracy: 0.4822\n",
      "Epoch 120/150\n",
      "45/45 [==============================] - 0s 1ms/step - loss: 2.5376 - accuracy: 0.5067\n",
      "Epoch 121/150\n",
      "45/45 [==============================] - 0s 1ms/step - loss: 2.4946 - accuracy: 0.4956\n",
      "Epoch 122/150\n",
      "45/45 [==============================] - 0s 2ms/step - loss: 2.8275 - accuracy: 0.4689\n",
      "Epoch 123/150\n",
      "45/45 [==============================] - 0s 2ms/step - loss: 2.5403 - accuracy: 0.4867\n",
      "Epoch 124/150\n",
      "45/45 [==============================] - 0s 2ms/step - loss: 3.5245 - accuracy: 0.4422\n",
      "Epoch 125/150\n",
      "45/45 [==============================] - 0s 2ms/step - loss: 3.2115 - accuracy: 0.4556\n",
      "Epoch 126/150\n",
      "45/45 [==============================] - 0s 2ms/step - loss: 2.5206 - accuracy: 0.4956\n",
      "Epoch 127/150\n",
      "45/45 [==============================] - 0s 2ms/step - loss: 2.8040 - accuracy: 0.4578\n",
      "Epoch 128/150\n",
      "45/45 [==============================] - 0s 3ms/step - loss: 2.9308 - accuracy: 0.4800\n",
      "Epoch 129/150\n",
      "45/45 [==============================] - 0s 1ms/step - loss: 2.8217 - accuracy: 0.4556\n",
      "Epoch 130/150\n",
      "45/45 [==============================] - 0s 1ms/step - loss: 3.0456 - accuracy: 0.4356\n",
      "Epoch 131/150\n",
      "45/45 [==============================] - 0s 1ms/step - loss: 3.2357 - accuracy: 0.4156\n",
      "Epoch 132/150\n",
      "45/45 [==============================] - 0s 1ms/step - loss: 2.8342 - accuracy: 0.4711\n",
      "Epoch 133/150\n",
      "45/45 [==============================] - 0s 1ms/step - loss: 2.7395 - accuracy: 0.4644\n",
      "Epoch 134/150\n",
      "45/45 [==============================] - 0s 1ms/step - loss: 2.9582 - accuracy: 0.4844\n",
      "Epoch 135/150\n",
      "45/45 [==============================] - 0s 954us/step - loss: 3.0682 - accuracy: 0.4644\n",
      "Epoch 136/150\n",
      "45/45 [==============================] - 0s 917us/step - loss: 2.5584 - accuracy: 0.4756\n",
      "Epoch 137/150\n",
      "45/45 [==============================] - 0s 989us/step - loss: 2.6078 - accuracy: 0.4756\n",
      "Epoch 138/150\n",
      "45/45 [==============================] - 0s 960us/step - loss: 2.5992 - accuracy: 0.5022\n",
      "Epoch 139/150\n",
      "45/45 [==============================] - 0s 952us/step - loss: 2.9579 - accuracy: 0.4556\n",
      "Epoch 140/150\n",
      "45/45 [==============================] - 0s 920us/step - loss: 2.8751 - accuracy: 0.4489\n",
      "Epoch 141/150\n",
      "45/45 [==============================] - 0s 952us/step - loss: 2.4898 - accuracy: 0.5000\n",
      "Epoch 142/150\n",
      "45/45 [==============================] - 0s 939us/step - loss: 2.4157 - accuracy: 0.4933\n",
      "Epoch 143/150\n",
      "45/45 [==============================] - 0s 952us/step - loss: 2.6298 - accuracy: 0.4378\n",
      "Epoch 144/150\n",
      "45/45 [==============================] - 0s 943us/step - loss: 2.6346 - accuracy: 0.5378\n",
      "Epoch 145/150\n",
      "45/45 [==============================] - 0s 946us/step - loss: 2.4071 - accuracy: 0.4778\n",
      "Epoch 146/150\n",
      "45/45 [==============================] - 0s 961us/step - loss: 2.7609 - accuracy: 0.4844\n",
      "Epoch 147/150\n",
      "45/45 [==============================] - 0s 923us/step - loss: 2.9399 - accuracy: 0.4511\n",
      "Epoch 148/150\n",
      "45/45 [==============================] - 0s 976us/step - loss: 2.7096 - accuracy: 0.4800\n",
      "Epoch 149/150\n",
      "45/45 [==============================] - 0s 929us/step - loss: 2.7903 - accuracy: 0.4578\n",
      "Epoch 150/150\n",
      "45/45 [==============================] - 0s 914us/step - loss: 2.9141 - accuracy: 0.4578\n"
     ]
    },
    {
     "data": {
      "text/plain": [
       "<keras.src.callbacks.History at 0x7f9da0ce3e80>"
      ]
     },
     "execution_count": 222,
     "metadata": {},
     "output_type": "execute_result"
    }
   ],
   "source": [
    "# Building the model\n",
    "model = Sequential()\n",
    "model.add(Dense(50, activation='LeakyReLU', input_shape=(96,)))\n",
    "model.add(Dropout(0.50))\n",
    "model.add(Dense(15, activation='softmax'))\n",
    "\n",
    "# Compiling the model\n",
    "opt = keras.optimizers.Adam(learning_rate=0.001)\n",
    "model.compile(optimizer=opt, loss='categorical_crossentropy', metrics=['accuracy'])\n",
    "\n",
    "#Train the model\n",
    "model.fit(XTrain, yTrain, epochs=150, batch_size=10)"
   ]
  },
  {
   "cell_type": "code",
   "execution_count": 223,
   "metadata": {},
   "outputs": [
    {
     "name": "stdout",
     "output_type": "stream",
     "text": [
      "2/2 [==============================] - 0s 3ms/step - loss: 4.3236 - accuracy: 0.5000\n",
      "Test model loss: 4.32356071472168\n",
      "Test model accuracy: 0.5\n"
     ]
    }
   ],
   "source": [
    "# Evaluating the model on the test data\n",
    "loss, accuracy = model.evaluate(XTest, yTest)\n",
    "print('Test model loss:', loss)\n",
    "print('Test model accuracy:', accuracy)"
   ]
  },
  {
   "cell_type": "markdown",
   "metadata": {},
   "source": [
    "### Try a different embedding (i.e., from spacy)"
   ]
  },
  {
   "cell_type": "markdown",
   "metadata": {},
   "source": [
    "#### Using word2vec:"
   ]
  },
  {
   "cell_type": "code",
   "execution_count": 224,
   "metadata": {},
   "outputs": [
    {
     "name": "stdout",
     "output_type": "stream",
     "text": [
      "Collecting gensim\n",
      "  Downloading gensim-4.3.2-cp39-cp39-macosx_10_9_x86_64.whl.metadata (8.5 kB)\n",
      "Requirement already satisfied: numpy>=1.18.5 in /Users/uwailaekhator/anaconda3/envs/NLP/lib/python3.9/site-packages (from gensim) (1.25.2)\n",
      "Requirement already satisfied: scipy>=1.7.0 in /Users/uwailaekhator/anaconda3/envs/NLP/lib/python3.9/site-packages (from gensim) (1.11.4)\n",
      "Requirement already satisfied: smart-open>=1.8.1 in /Users/uwailaekhator/anaconda3/envs/NLP/lib/python3.9/site-packages (from gensim) (6.4.0)\n",
      "Downloading gensim-4.3.2-cp39-cp39-macosx_10_9_x86_64.whl (24.1 MB)\n",
      "\u001b[2K   \u001b[90m━━━━━━━━━━━━━━━━━━━━━━━━━━━━━━━━━━━━━━━━\u001b[0m \u001b[32m24.1/24.1 MB\u001b[0m \u001b[31m7.5 MB/s\u001b[0m eta \u001b[36m0:00:00\u001b[0m00:01\u001b[0m00:01\u001b[0m\n",
      "\u001b[?25hInstalling collected packages: gensim\n",
      "Successfully installed gensim-4.3.2\n",
      "Note: you may need to restart the kernel to use updated packages.\n"
     ]
    }
   ],
   "source": [
    "pip install gensim"
   ]
  },
  {
   "cell_type": "code",
   "execution_count": 8,
   "metadata": {},
   "outputs": [],
   "source": [
    "import gensim"
   ]
  },
  {
   "cell_type": "code",
   "execution_count": 9,
   "metadata": {},
   "outputs": [
    {
     "name": "stdout",
     "output_type": "stream",
     "text": [
      "adventure\n"
     ]
    },
    {
     "name": "stderr",
     "output_type": "stream",
     "text": [
      "/var/folders/3t/lfj_tnbd7fd1t5jjhk9_0zmw0000gq/T/ipykernel_35607/2002206695.py:15: TqdmDeprecationWarning: This function will be removed in tqdm==5.0.0\n",
      "Please use `tqdm.notebook.tqdm` instead of `tqdm.tqdm_notebook`\n",
      "  for fileid in tqdm(brown.fileids(categories=[cat])):\n"
     ]
    },
    {
     "data": {
      "application/vnd.jupyter.widget-view+json": {
       "model_id": "f82b9e30195e4e92882140ebcca79552",
       "version_major": 2,
       "version_minor": 0
      },
      "text/plain": [
       "  0%|          | 0/29 [00:00<?, ?it/s]"
      ]
     },
     "metadata": {},
     "output_type": "display_data"
    },
    {
     "name": "stdout",
     "output_type": "stream",
     "text": [
      "belles_lettres\n"
     ]
    },
    {
     "data": {
      "application/vnd.jupyter.widget-view+json": {
       "model_id": "dc3f70e877d847a79133309ac59290b2",
       "version_major": 2,
       "version_minor": 0
      },
      "text/plain": [
       "  0%|          | 0/75 [00:00<?, ?it/s]"
      ]
     },
     "metadata": {},
     "output_type": "display_data"
    },
    {
     "name": "stdout",
     "output_type": "stream",
     "text": [
      "editorial\n"
     ]
    },
    {
     "data": {
      "application/vnd.jupyter.widget-view+json": {
       "model_id": "44d96eaf2e8048bfbaea37c4cdce9b80",
       "version_major": 2,
       "version_minor": 0
      },
      "text/plain": [
       "  0%|          | 0/27 [00:00<?, ?it/s]"
      ]
     },
     "metadata": {},
     "output_type": "display_data"
    },
    {
     "name": "stdout",
     "output_type": "stream",
     "text": [
      "fiction\n"
     ]
    },
    {
     "data": {
      "application/vnd.jupyter.widget-view+json": {
       "model_id": "ae797c6cabbf42298ecf525440ebe0a0",
       "version_major": 2,
       "version_minor": 0
      },
      "text/plain": [
       "  0%|          | 0/29 [00:00<?, ?it/s]"
      ]
     },
     "metadata": {},
     "output_type": "display_data"
    },
    {
     "name": "stdout",
     "output_type": "stream",
     "text": [
      "government\n"
     ]
    },
    {
     "data": {
      "application/vnd.jupyter.widget-view+json": {
       "model_id": "0946da5473a04050b4a0b3bb81ddb9af",
       "version_major": 2,
       "version_minor": 0
      },
      "text/plain": [
       "  0%|          | 0/30 [00:00<?, ?it/s]"
      ]
     },
     "metadata": {},
     "output_type": "display_data"
    },
    {
     "name": "stdout",
     "output_type": "stream",
     "text": [
      "hobbies\n"
     ]
    },
    {
     "data": {
      "application/vnd.jupyter.widget-view+json": {
       "model_id": "df42d968a31d4b32afc5b4971a0fb370",
       "version_major": 2,
       "version_minor": 0
      },
      "text/plain": [
       "  0%|          | 0/36 [00:00<?, ?it/s]"
      ]
     },
     "metadata": {},
     "output_type": "display_data"
    },
    {
     "name": "stdout",
     "output_type": "stream",
     "text": [
      "humor\n"
     ]
    },
    {
     "data": {
      "application/vnd.jupyter.widget-view+json": {
       "model_id": "8aa2653eebac405084b6860b0a3cb956",
       "version_major": 2,
       "version_minor": 0
      },
      "text/plain": [
       "  0%|          | 0/9 [00:00<?, ?it/s]"
      ]
     },
     "metadata": {},
     "output_type": "display_data"
    },
    {
     "name": "stdout",
     "output_type": "stream",
     "text": [
      "learned\n"
     ]
    },
    {
     "data": {
      "application/vnd.jupyter.widget-view+json": {
       "model_id": "e364ce1dca14468791ba3ec00cb518c6",
       "version_major": 2,
       "version_minor": 0
      },
      "text/plain": [
       "  0%|          | 0/80 [00:00<?, ?it/s]"
      ]
     },
     "metadata": {},
     "output_type": "display_data"
    },
    {
     "name": "stdout",
     "output_type": "stream",
     "text": [
      "lore\n"
     ]
    },
    {
     "data": {
      "application/vnd.jupyter.widget-view+json": {
       "model_id": "0314cbb24e61412d80d523cf192a9f02",
       "version_major": 2,
       "version_minor": 0
      },
      "text/plain": [
       "  0%|          | 0/48 [00:00<?, ?it/s]"
      ]
     },
     "metadata": {},
     "output_type": "display_data"
    },
    {
     "name": "stdout",
     "output_type": "stream",
     "text": [
      "mystery\n"
     ]
    },
    {
     "data": {
      "application/vnd.jupyter.widget-view+json": {
       "model_id": "074facd61d9c4cccbf9877eaee088e9f",
       "version_major": 2,
       "version_minor": 0
      },
      "text/plain": [
       "  0%|          | 0/24 [00:00<?, ?it/s]"
      ]
     },
     "metadata": {},
     "output_type": "display_data"
    },
    {
     "name": "stdout",
     "output_type": "stream",
     "text": [
      "news\n"
     ]
    },
    {
     "data": {
      "application/vnd.jupyter.widget-view+json": {
       "model_id": "c55b2db1371a40a19379226dd8b27f5b",
       "version_major": 2,
       "version_minor": 0
      },
      "text/plain": [
       "  0%|          | 0/44 [00:00<?, ?it/s]"
      ]
     },
     "metadata": {},
     "output_type": "display_data"
    },
    {
     "name": "stdout",
     "output_type": "stream",
     "text": [
      "religion\n"
     ]
    },
    {
     "data": {
      "application/vnd.jupyter.widget-view+json": {
       "model_id": "3b08f6cd182e41a19dc30959365c7656",
       "version_major": 2,
       "version_minor": 0
      },
      "text/plain": [
       "  0%|          | 0/17 [00:00<?, ?it/s]"
      ]
     },
     "metadata": {},
     "output_type": "display_data"
    },
    {
     "name": "stdout",
     "output_type": "stream",
     "text": [
      "reviews\n"
     ]
    },
    {
     "data": {
      "application/vnd.jupyter.widget-view+json": {
       "model_id": "5cc3b1a1b4bb4a29a44a766120ac02c3",
       "version_major": 2,
       "version_minor": 0
      },
      "text/plain": [
       "  0%|          | 0/17 [00:00<?, ?it/s]"
      ]
     },
     "metadata": {},
     "output_type": "display_data"
    },
    {
     "name": "stdout",
     "output_type": "stream",
     "text": [
      "romance\n"
     ]
    },
    {
     "data": {
      "application/vnd.jupyter.widget-view+json": {
       "model_id": "148bcf55c7a44473a8c8c5cfea571689",
       "version_major": 2,
       "version_minor": 0
      },
      "text/plain": [
       "  0%|          | 0/29 [00:00<?, ?it/s]"
      ]
     },
     "metadata": {},
     "output_type": "display_data"
    },
    {
     "name": "stdout",
     "output_type": "stream",
     "text": [
      "science_fiction\n"
     ]
    },
    {
     "data": {
      "application/vnd.jupyter.widget-view+json": {
       "model_id": "688fd21117a344bfa9671d9da66e3b37",
       "version_major": 2,
       "version_minor": 0
      },
      "text/plain": [
       "  0%|          | 0/6 [00:00<?, ?it/s]"
      ]
     },
     "metadata": {},
     "output_type": "display_data"
    }
   ],
   "source": [
    "from nltk.corpus import brown\n",
    "import numpy as np\n",
    "from collections import defaultdict\n",
    "import tqdm # tqdm displays a progress bar\n",
    "from tqdm import tqdm_notebook as tqdm # tqdm is a nice process indicator \n",
    "\n",
    "category_vectors2 = []\n",
    "\n",
    "cats2 = brown.categories()\n",
    "    \n",
    "# for each category\n",
    "for cat in cats2:\n",
    "    print(cat)\n",
    "    # grab all of the documents\n",
    "    for fileid in tqdm(brown.fileids(categories=[cat])):\n",
    "        sents = brown.sents(fileids=[fileid])\n",
    "        sent_vecs = []\n",
    "        for sent in sents:\n",
    "            #sent = ' '.join(sent)\n",
    "            #sent = nlp(sent)\n",
    "            # Create CBOW model\n",
    "            model = gensim.models.Word2Vec([sent], min_count=1, vector_size=100, window=5)\n",
    " \n",
    "            # grab all of the words, find their embedding, sum all embeddings\n",
    "            word_sum = np.sum([model.wv[tok] for tok in sent], axis=0) # why axis=0?\n",
    "            # add the now summed embedding to the list for this category\n",
    "            sent_vecs.append(word_sum)\n",
    "        category_vectors2.append((cat,np.sum(sent_vecs, axis=0)))\n",
    "    "
   ]
  },
  {
   "cell_type": "code",
   "execution_count": 229,
   "metadata": {},
   "outputs": [],
   "source": [
    "import pandas as pd\n",
    "\n",
    "keys2,values2=zip(*category_vectors2) # unzip using a *\n",
    "\n",
    "data2 = pd.DataFrame({'cat':keys2,'vectors':values2})"
   ]
  },
  {
   "cell_type": "code",
   "execution_count": 230,
   "metadata": {},
   "outputs": [
    {
     "data": {
      "text/plain": [
       "((50, 2), (450, 2))"
      ]
     },
     "execution_count": 230,
     "metadata": {},
     "output_type": "execute_result"
    }
   ],
   "source": [
    "test2 = data2.sample(frac=0.1,random_state=200)\n",
    "train2 = data2.drop(test2.index)\n",
    "\n",
    "test2.shape, train2.shape "
   ]
  },
  {
   "cell_type": "code",
   "execution_count": 231,
   "metadata": {},
   "outputs": [
    {
     "data": {
      "text/plain": [
       "((450, 100), (450, 15))"
      ]
     },
     "execution_count": 231,
     "metadata": {},
     "output_type": "execute_result"
    }
   ],
   "source": [
    "#Preparing train2.cat for keras\n",
    "\n",
    "from sklearn import preprocessing\n",
    "\n",
    "#test = data.sample(frac=0.1,random_state=200)\n",
    "#train = data.drop(test.index)\n",
    "\n",
    "le2 = preprocessing.LabelEncoder() # convert to numerical categories\n",
    "ohe2 = preprocessing.OneHotEncoder() # convert categories to distributions (i.e., 1-hot vectors)\n",
    "le2.fit(data2.cat)\n",
    "yTrain2 = le2.transform(train2.cat).reshape(-1, 1) # this is magic\n",
    "ohe2.fit(yTrain2)\n",
    "yTrain2 = ohe2.transform(yTrain2).todense()\n",
    "\n",
    "XTrain2 = np.array([x for x in train2.vectors])\n",
    "\n",
    "XTrain2.shape, yTrain2.shape"
   ]
  },
  {
   "cell_type": "code",
   "execution_count": 232,
   "metadata": {},
   "outputs": [
    {
     "data": {
      "text/plain": [
       "((50, 96), (50, 15))"
      ]
     },
     "execution_count": 232,
     "metadata": {},
     "output_type": "execute_result"
    }
   ],
   "source": [
    "#Preparing test2.cat for keras\n",
    "\n",
    "yTest2 = le2.transform(test2.cat).reshape(-1, 1) # this is magic\n",
    "\n",
    "yTest2 = ohe2.transform(yTest2).todense()\n",
    "\n",
    "XTest2 = np.array([x for x in test2.vectors])\n",
    "\n",
    "XTest.shape, yTest.shape"
   ]
  },
  {
   "cell_type": "code",
   "execution_count": 234,
   "metadata": {
    "scrolled": true
   },
   "outputs": [
    {
     "name": "stdout",
     "output_type": "stream",
     "text": [
      "Epoch 1/150\n",
      "45/45 [==============================] - 1s 2ms/step - loss: 3.2267 - accuracy: 0.1356\n",
      "Epoch 2/150\n",
      "45/45 [==============================] - 0s 2ms/step - loss: 2.5995 - accuracy: 0.1533\n",
      "Epoch 3/150\n",
      "45/45 [==============================] - 0s 1ms/step - loss: 2.4851 - accuracy: 0.1889\n",
      "Epoch 4/150\n",
      "45/45 [==============================] - 0s 1ms/step - loss: 2.4436 - accuracy: 0.1533\n",
      "Epoch 5/150\n",
      "45/45 [==============================] - 0s 1ms/step - loss: 2.4294 - accuracy: 0.1800\n",
      "Epoch 6/150\n",
      "45/45 [==============================] - 0s 1ms/step - loss: 2.3971 - accuracy: 0.1800\n",
      "Epoch 7/150\n",
      "45/45 [==============================] - 0s 2ms/step - loss: 2.3360 - accuracy: 0.1800\n",
      "Epoch 8/150\n",
      "45/45 [==============================] - 0s 2ms/step - loss: 2.3479 - accuracy: 0.1800\n",
      "Epoch 9/150\n",
      "45/45 [==============================] - 0s 2ms/step - loss: 2.3189 - accuracy: 0.1756\n",
      "Epoch 10/150\n",
      "45/45 [==============================] - 0s 1ms/step - loss: 2.3104 - accuracy: 0.1644\n",
      "Epoch 11/150\n",
      "45/45 [==============================] - 0s 1ms/step - loss: 2.3068 - accuracy: 0.1822\n",
      "Epoch 12/150\n",
      "45/45 [==============================] - 0s 2ms/step - loss: 2.3193 - accuracy: 0.2067\n",
      "Epoch 13/150\n",
      "45/45 [==============================] - 0s 2ms/step - loss: 2.2508 - accuracy: 0.2067\n",
      "Epoch 14/150\n",
      "45/45 [==============================] - 0s 2ms/step - loss: 2.2823 - accuracy: 0.1956\n",
      "Epoch 15/150\n",
      "45/45 [==============================] - 0s 2ms/step - loss: 2.2671 - accuracy: 0.1978\n",
      "Epoch 16/150\n",
      "45/45 [==============================] - 0s 2ms/step - loss: 2.2537 - accuracy: 0.2044\n",
      "Epoch 17/150\n",
      "45/45 [==============================] - 0s 2ms/step - loss: 2.2770 - accuracy: 0.1733\n",
      "Epoch 18/150\n",
      "45/45 [==============================] - 0s 2ms/step - loss: 2.2396 - accuracy: 0.2111\n",
      "Epoch 19/150\n",
      "45/45 [==============================] - 0s 1ms/step - loss: 2.2230 - accuracy: 0.2044\n",
      "Epoch 20/150\n",
      "45/45 [==============================] - 0s 1ms/step - loss: 2.2577 - accuracy: 0.2022\n",
      "Epoch 21/150\n",
      "45/45 [==============================] - 0s 1ms/step - loss: 2.2539 - accuracy: 0.2311\n",
      "Epoch 22/150\n",
      "45/45 [==============================] - 0s 2ms/step - loss: 2.2471 - accuracy: 0.1978\n",
      "Epoch 23/150\n",
      "45/45 [==============================] - 0s 1ms/step - loss: 2.1950 - accuracy: 0.2178\n",
      "Epoch 24/150\n",
      "45/45 [==============================] - 0s 3ms/step - loss: 2.2180 - accuracy: 0.2067\n",
      "Epoch 25/150\n",
      "45/45 [==============================] - 0s 2ms/step - loss: 2.2082 - accuracy: 0.1800\n",
      "Epoch 26/150\n",
      "45/45 [==============================] - 0s 1ms/step - loss: 2.1998 - accuracy: 0.2178\n",
      "Epoch 27/150\n",
      "45/45 [==============================] - 0s 2ms/step - loss: 2.1890 - accuracy: 0.2444\n",
      "Epoch 28/150\n",
      "45/45 [==============================] - 0s 1ms/step - loss: 2.1534 - accuracy: 0.2422\n",
      "Epoch 29/150\n",
      "45/45 [==============================] - 0s 1ms/step - loss: 2.2150 - accuracy: 0.2244\n",
      "Epoch 30/150\n",
      "45/45 [==============================] - 0s 1ms/step - loss: 2.1812 - accuracy: 0.2178\n",
      "Epoch 31/150\n",
      "45/45 [==============================] - 0s 1ms/step - loss: 2.1843 - accuracy: 0.2044\n",
      "Epoch 32/150\n",
      "45/45 [==============================] - 0s 2ms/step - loss: 2.2106 - accuracy: 0.1933\n",
      "Epoch 33/150\n",
      "45/45 [==============================] - 0s 2ms/step - loss: 2.1683 - accuracy: 0.2333\n",
      "Epoch 34/150\n",
      "45/45 [==============================] - 0s 1ms/step - loss: 2.1449 - accuracy: 0.2311\n",
      "Epoch 35/150\n",
      "45/45 [==============================] - 0s 1ms/step - loss: 2.1585 - accuracy: 0.2378\n",
      "Epoch 36/150\n",
      "45/45 [==============================] - 0s 2ms/step - loss: 2.1817 - accuracy: 0.2422\n",
      "Epoch 37/150\n",
      "45/45 [==============================] - 0s 2ms/step - loss: 2.1564 - accuracy: 0.2644\n",
      "Epoch 38/150\n",
      "45/45 [==============================] - 0s 2ms/step - loss: 2.1443 - accuracy: 0.2378\n",
      "Epoch 39/150\n",
      "45/45 [==============================] - 0s 3ms/step - loss: 2.1337 - accuracy: 0.2444\n",
      "Epoch 40/150\n",
      "45/45 [==============================] - 0s 2ms/step - loss: 2.1669 - accuracy: 0.2422\n",
      "Epoch 41/150\n",
      "45/45 [==============================] - 0s 5ms/step - loss: 2.1476 - accuracy: 0.2200\n",
      "Epoch 42/150\n",
      "45/45 [==============================] - 0s 7ms/step - loss: 2.1850 - accuracy: 0.2267\n",
      "Epoch 43/150\n",
      "45/45 [==============================] - 0s 1ms/step - loss: 2.1623 - accuracy: 0.2422\n",
      "Epoch 44/150\n",
      "45/45 [==============================] - 0s 1ms/step - loss: 2.1449 - accuracy: 0.2089\n",
      "Epoch 45/150\n",
      "45/45 [==============================] - 0s 2ms/step - loss: 2.1450 - accuracy: 0.2267\n",
      "Epoch 46/150\n",
      "45/45 [==============================] - 0s 1ms/step - loss: 2.1424 - accuracy: 0.2400\n",
      "Epoch 47/150\n",
      "45/45 [==============================] - 0s 1ms/step - loss: 2.1339 - accuracy: 0.2533\n",
      "Epoch 48/150\n",
      "45/45 [==============================] - 0s 1ms/step - loss: 2.1504 - accuracy: 0.2356\n",
      "Epoch 49/150\n",
      "45/45 [==============================] - 0s 1ms/step - loss: 2.1318 - accuracy: 0.2311\n",
      "Epoch 50/150\n",
      "45/45 [==============================] - 0s 1ms/step - loss: 2.1247 - accuracy: 0.2444\n",
      "Epoch 51/150\n",
      "45/45 [==============================] - 0s 1ms/step - loss: 2.1133 - accuracy: 0.2333\n",
      "Epoch 52/150\n",
      "45/45 [==============================] - 0s 1ms/step - loss: 2.1171 - accuracy: 0.2400\n",
      "Epoch 53/150\n",
      "45/45 [==============================] - 0s 1ms/step - loss: 2.1200 - accuracy: 0.2311\n",
      "Epoch 54/150\n",
      "45/45 [==============================] - 0s 1ms/step - loss: 2.1263 - accuracy: 0.2422\n",
      "Epoch 55/150\n",
      "45/45 [==============================] - 0s 1ms/step - loss: 2.1609 - accuracy: 0.2400\n",
      "Epoch 56/150\n",
      "45/45 [==============================] - 0s 1ms/step - loss: 2.1208 - accuracy: 0.2111\n",
      "Epoch 57/150\n",
      "45/45 [==============================] - 0s 1ms/step - loss: 2.1318 - accuracy: 0.2356\n",
      "Epoch 58/150\n",
      "45/45 [==============================] - 0s 1ms/step - loss: 2.1209 - accuracy: 0.2378\n",
      "Epoch 59/150\n",
      "45/45 [==============================] - 0s 1ms/step - loss: 2.1176 - accuracy: 0.2333\n",
      "Epoch 60/150\n",
      "45/45 [==============================] - 0s 1ms/step - loss: 2.1086 - accuracy: 0.2333\n",
      "Epoch 61/150\n",
      "45/45 [==============================] - 0s 1ms/step - loss: 2.1430 - accuracy: 0.2422\n",
      "Epoch 62/150\n",
      "45/45 [==============================] - 0s 2ms/step - loss: 2.1165 - accuracy: 0.2622\n",
      "Epoch 63/150\n",
      "45/45 [==============================] - 0s 1ms/step - loss: 2.1040 - accuracy: 0.2400\n",
      "Epoch 64/150\n",
      "45/45 [==============================] - 0s 1ms/step - loss: 2.0937 - accuracy: 0.2467\n",
      "Epoch 65/150\n",
      "45/45 [==============================] - 0s 1ms/step - loss: 2.1110 - accuracy: 0.2356\n",
      "Epoch 66/150\n",
      "45/45 [==============================] - 0s 1ms/step - loss: 2.0954 - accuracy: 0.2467\n",
      "Epoch 67/150\n",
      "45/45 [==============================] - 0s 1ms/step - loss: 2.1023 - accuracy: 0.2756\n",
      "Epoch 68/150\n",
      "45/45 [==============================] - 0s 1ms/step - loss: 2.1191 - accuracy: 0.2489\n",
      "Epoch 69/150\n",
      "45/45 [==============================] - 0s 1ms/step - loss: 2.1280 - accuracy: 0.2333\n",
      "Epoch 70/150\n",
      "45/45 [==============================] - 0s 1ms/step - loss: 2.1098 - accuracy: 0.2489\n",
      "Epoch 71/150\n",
      "45/45 [==============================] - 0s 1ms/step - loss: 2.0927 - accuracy: 0.2467\n",
      "Epoch 72/150\n",
      "45/45 [==============================] - 0s 2ms/step - loss: 2.1001 - accuracy: 0.2400\n",
      "Epoch 73/150\n",
      "45/45 [==============================] - 0s 2ms/step - loss: 2.0877 - accuracy: 0.2533\n",
      "Epoch 74/150\n",
      "45/45 [==============================] - 0s 1ms/step - loss: 2.0959 - accuracy: 0.2600\n",
      "Epoch 75/150\n",
      "45/45 [==============================] - 0s 1ms/step - loss: 2.1108 - accuracy: 0.2444\n",
      "Epoch 76/150\n",
      "45/45 [==============================] - 0s 2ms/step - loss: 2.1160 - accuracy: 0.2200\n",
      "Epoch 77/150\n",
      "45/45 [==============================] - 0s 1ms/step - loss: 2.0911 - accuracy: 0.2511\n",
      "Epoch 78/150\n",
      "45/45 [==============================] - 0s 1ms/step - loss: 2.1205 - accuracy: 0.2356\n",
      "Epoch 79/150\n",
      "45/45 [==============================] - 0s 1ms/step - loss: 2.0778 - accuracy: 0.2756\n",
      "Epoch 80/150\n",
      "45/45 [==============================] - 0s 1ms/step - loss: 2.1061 - accuracy: 0.2578\n",
      "Epoch 81/150\n",
      "45/45 [==============================] - 0s 1ms/step - loss: 2.0928 - accuracy: 0.2422\n",
      "Epoch 82/150\n",
      "45/45 [==============================] - 0s 2ms/step - loss: 2.0814 - accuracy: 0.2467\n",
      "Epoch 83/150\n",
      "45/45 [==============================] - 0s 1ms/step - loss: 2.1090 - accuracy: 0.2378\n",
      "Epoch 84/150\n",
      "45/45 [==============================] - 0s 931us/step - loss: 2.0993 - accuracy: 0.2222\n",
      "Epoch 85/150\n",
      "45/45 [==============================] - 0s 1ms/step - loss: 2.1084 - accuracy: 0.2356\n",
      "Epoch 86/150\n",
      "45/45 [==============================] - 0s 1ms/step - loss: 2.0665 - accuracy: 0.2578\n",
      "Epoch 87/150\n",
      "45/45 [==============================] - 0s 1ms/step - loss: 2.1006 - accuracy: 0.2622\n",
      "Epoch 88/150\n",
      "45/45 [==============================] - 0s 2ms/step - loss: 2.0686 - accuracy: 0.2689\n",
      "Epoch 89/150\n",
      "45/45 [==============================] - 0s 1ms/step - loss: 2.0711 - accuracy: 0.2378\n",
      "Epoch 90/150\n",
      "45/45 [==============================] - 0s 1ms/step - loss: 2.0802 - accuracy: 0.2711\n",
      "Epoch 91/150\n",
      "45/45 [==============================] - 0s 1ms/step - loss: 2.0835 - accuracy: 0.2622\n",
      "Epoch 92/150\n",
      "45/45 [==============================] - 0s 1ms/step - loss: 2.0847 - accuracy: 0.2133\n",
      "Epoch 93/150\n",
      "45/45 [==============================] - 0s 1ms/step - loss: 2.0740 - accuracy: 0.2422\n",
      "Epoch 94/150\n",
      "45/45 [==============================] - 0s 1ms/step - loss: 2.0789 - accuracy: 0.2600\n",
      "Epoch 95/150\n",
      "45/45 [==============================] - 0s 1ms/step - loss: 2.0731 - accuracy: 0.2444\n",
      "Epoch 96/150\n",
      "45/45 [==============================] - 0s 1ms/step - loss: 2.0610 - accuracy: 0.2622\n",
      "Epoch 97/150\n",
      "45/45 [==============================] - 0s 1ms/step - loss: 2.1074 - accuracy: 0.2267\n",
      "Epoch 98/150\n",
      "45/45 [==============================] - 0s 1ms/step - loss: 2.0735 - accuracy: 0.2311\n",
      "Epoch 99/150\n",
      "45/45 [==============================] - 0s 1ms/step - loss: 2.0753 - accuracy: 0.2333\n",
      "Epoch 100/150\n",
      "45/45 [==============================] - 0s 1ms/step - loss: 2.0662 - accuracy: 0.2511\n",
      "Epoch 101/150\n",
      "45/45 [==============================] - 0s 1ms/step - loss: 2.0707 - accuracy: 0.2556\n",
      "Epoch 102/150\n",
      "45/45 [==============================] - 0s 1ms/step - loss: 2.0733 - accuracy: 0.2356\n",
      "Epoch 103/150\n",
      "45/45 [==============================] - 0s 1ms/step - loss: 2.0641 - accuracy: 0.2600\n",
      "Epoch 104/150\n",
      "45/45 [==============================] - 0s 1ms/step - loss: 2.0597 - accuracy: 0.2533\n",
      "Epoch 105/150\n",
      "45/45 [==============================] - 0s 1ms/step - loss: 2.0606 - accuracy: 0.2600\n",
      "Epoch 106/150\n",
      "45/45 [==============================] - 0s 1ms/step - loss: 2.0553 - accuracy: 0.2422\n",
      "Epoch 107/150\n",
      "45/45 [==============================] - 0s 1ms/step - loss: 2.0508 - accuracy: 0.2489\n",
      "Epoch 108/150\n",
      "45/45 [==============================] - 0s 2ms/step - loss: 2.0752 - accuracy: 0.2533\n",
      "Epoch 109/150\n",
      "45/45 [==============================] - 0s 1ms/step - loss: 2.0652 - accuracy: 0.2711\n",
      "Epoch 110/150\n",
      "45/45 [==============================] - 0s 1ms/step - loss: 2.0587 - accuracy: 0.2622\n",
      "Epoch 111/150\n",
      "45/45 [==============================] - 0s 1ms/step - loss: 2.0521 - accuracy: 0.2622\n",
      "Epoch 112/150\n",
      "45/45 [==============================] - 0s 1ms/step - loss: 2.0549 - accuracy: 0.2556\n",
      "Epoch 113/150\n",
      "45/45 [==============================] - 0s 1ms/step - loss: 2.0557 - accuracy: 0.2467\n",
      "Epoch 114/150\n",
      "45/45 [==============================] - 0s 1ms/step - loss: 2.0531 - accuracy: 0.2556\n",
      "Epoch 115/150\n",
      "45/45 [==============================] - 0s 1ms/step - loss: 2.0458 - accuracy: 0.2733\n",
      "Epoch 116/150\n",
      "45/45 [==============================] - 0s 998us/step - loss: 2.0627 - accuracy: 0.2600\n",
      "Epoch 117/150\n",
      "45/45 [==============================] - 0s 957us/step - loss: 2.0418 - accuracy: 0.2667\n",
      "Epoch 118/150\n",
      "45/45 [==============================] - 0s 961us/step - loss: 2.0645 - accuracy: 0.2733\n",
      "Epoch 119/150\n",
      "45/45 [==============================] - 0s 941us/step - loss: 2.0416 - accuracy: 0.2511\n",
      "Epoch 120/150\n",
      "45/45 [==============================] - 0s 980us/step - loss: 2.0407 - accuracy: 0.2533\n",
      "Epoch 121/150\n",
      "45/45 [==============================] - 0s 1ms/step - loss: 2.0546 - accuracy: 0.2911\n",
      "Epoch 122/150\n",
      "45/45 [==============================] - 0s 1ms/step - loss: 2.0316 - accuracy: 0.2578\n",
      "Epoch 123/150\n",
      "45/45 [==============================] - 0s 1ms/step - loss: 2.0672 - accuracy: 0.2733\n",
      "Epoch 124/150\n",
      "45/45 [==============================] - 0s 1ms/step - loss: 2.0300 - accuracy: 0.2556\n",
      "Epoch 125/150\n",
      "45/45 [==============================] - 0s 1ms/step - loss: 2.0449 - accuracy: 0.2467\n",
      "Epoch 126/150\n",
      "45/45 [==============================] - 0s 1ms/step - loss: 2.0460 - accuracy: 0.2556\n",
      "Epoch 127/150\n",
      "45/45 [==============================] - 0s 1ms/step - loss: 2.0486 - accuracy: 0.2644\n",
      "Epoch 128/150\n",
      "45/45 [==============================] - 0s 1ms/step - loss: 2.0658 - accuracy: 0.2467\n",
      "Epoch 129/150\n",
      "45/45 [==============================] - 0s 1ms/step - loss: 2.0392 - accuracy: 0.3022\n",
      "Epoch 130/150\n",
      "45/45 [==============================] - 0s 1ms/step - loss: 2.0291 - accuracy: 0.2644\n",
      "Epoch 131/150\n",
      "45/45 [==============================] - 0s 1ms/step - loss: 2.0482 - accuracy: 0.2644\n",
      "Epoch 132/150\n",
      "45/45 [==============================] - 0s 1ms/step - loss: 2.0441 - accuracy: 0.2800\n",
      "Epoch 133/150\n",
      "45/45 [==============================] - 0s 1ms/step - loss: 2.0316 - accuracy: 0.2667\n",
      "Epoch 134/150\n",
      "45/45 [==============================] - 0s 1ms/step - loss: 2.0128 - accuracy: 0.2778\n",
      "Epoch 135/150\n",
      "45/45 [==============================] - 0s 1ms/step - loss: 2.0121 - accuracy: 0.2867\n",
      "Epoch 136/150\n",
      "45/45 [==============================] - 0s 989us/step - loss: 2.0377 - accuracy: 0.2644\n",
      "Epoch 137/150\n",
      "45/45 [==============================] - 0s 1ms/step - loss: 2.0336 - accuracy: 0.2622\n",
      "Epoch 138/150\n",
      "45/45 [==============================] - 0s 1ms/step - loss: 2.0400 - accuracy: 0.2778\n",
      "Epoch 139/150\n",
      "45/45 [==============================] - 0s 1ms/step - loss: 2.0551 - accuracy: 0.2800\n",
      "Epoch 140/150\n",
      "45/45 [==============================] - 0s 1ms/step - loss: 2.0483 - accuracy: 0.2400\n",
      "Epoch 141/150\n",
      "45/45 [==============================] - 0s 1ms/step - loss: 2.0439 - accuracy: 0.2867\n",
      "Epoch 142/150\n",
      "45/45 [==============================] - 0s 1ms/step - loss: 2.0159 - accuracy: 0.2467\n",
      "Epoch 143/150\n",
      "45/45 [==============================] - 0s 1ms/step - loss: 2.0318 - accuracy: 0.2867\n",
      "Epoch 144/150\n",
      "45/45 [==============================] - 0s 1ms/step - loss: 2.0164 - accuracy: 0.2533\n",
      "Epoch 145/150\n",
      "45/45 [==============================] - 0s 1ms/step - loss: 2.0339 - accuracy: 0.2800\n",
      "Epoch 146/150\n",
      "45/45 [==============================] - 0s 1ms/step - loss: 2.0277 - accuracy: 0.3000\n",
      "Epoch 147/150\n",
      "45/45 [==============================] - 0s 923us/step - loss: 2.0250 - accuracy: 0.2689\n",
      "Epoch 148/150\n",
      "45/45 [==============================] - 0s 949us/step - loss: 2.0022 - accuracy: 0.2822\n",
      "Epoch 149/150\n",
      "45/45 [==============================] - 0s 912us/step - loss: 2.0143 - accuracy: 0.2622\n",
      "Epoch 150/150\n",
      "45/45 [==============================] - 0s 941us/step - loss: 2.0030 - accuracy: 0.2689\n"
     ]
    },
    {
     "data": {
      "text/plain": [
       "<keras.src.callbacks.History at 0x7f9d8e2f36d0>"
      ]
     },
     "execution_count": 234,
     "metadata": {},
     "output_type": "execute_result"
    }
   ],
   "source": [
    "# Building the model\n",
    "model = Sequential()\n",
    "model.add(Dense(50, activation='LeakyReLU', input_shape=(100,)))\n",
    "model.add(Dense(15, activation='softmax'))\n",
    "\n",
    "# Compiling the model\n",
    "opt = keras.optimizers.Adam(learning_rate=0.001)\n",
    "model.compile(optimizer=opt, loss='categorical_crossentropy', metrics=['accuracy'])\n",
    "\n",
    "#Train the model\n",
    "model.fit(XTrain2, yTrain2, epochs=150, batch_size=10)"
   ]
  },
  {
   "cell_type": "code",
   "execution_count": 235,
   "metadata": {},
   "outputs": [
    {
     "name": "stdout",
     "output_type": "stream",
     "text": [
      "2/2 [==============================] - 0s 3ms/step - loss: 2.3833 - accuracy: 0.2400\n",
      "Test model loss: 2.3833048343658447\n",
      "Test model accuracy: 0.23999999463558197\n"
     ]
    }
   ],
   "source": [
    "# Evaluating the model on the test data\n",
    "loss, accuracy = model.evaluate(XTest2, yTest2)\n",
    "print('Test model loss:', loss)\n",
    "print('Test model accuracy:', accuracy)"
   ]
  },
  {
   "cell_type": "markdown",
   "metadata": {},
   "source": [
    "Word2vec produced a low accuracy of 23%"
   ]
  },
  {
   "cell_type": "markdown",
   "metadata": {},
   "source": [
    "### Questions"
   ]
  },
  {
   "cell_type": "markdown",
   "metadata": {},
   "source": [
    "What would you say is the neural network \"learning\"?\n",
    "- The neural network is learning as it processes the labelled data (train dataset) inputed into it."
   ]
  },
  {
   "cell_type": "markdown",
   "metadata": {},
   "source": [
    "How does the depth or width of the network affect the training and the results?\n",
    "- The depth has to do with the layers, while the width has to do with the node. An increase in the depth or width of the network, means allowing the network to capture more patterns in the data. However, one ha to be careful when increasing these 2 parameters, as it can lead to overfitting. <br>\n",
    "In my codes above, increasing the width, reduced the accuracy score and increasing the depth, also reduced the accuracy score."
   ]
  },
  {
   "cell_type": "markdown",
   "metadata": {},
   "source": [
    "As you made changes to the network, what do you notice about how hyperparameters (network depth, number of nodes, learning rate, etc.) and how they interact with each other? <br>\n",
    "- Increasing the numbers of nodes, initially had no effect on the accuracy score, but when i kept increasing them, they reduced the models accuracy and increased the loss on the test data.\n",
    "Decreasing the number of nodes also reduced the accuracy score.\n",
    "- LeakyReLU provided a higher accuracy than all other models because it performs better in networks with a large number of negative inputs, compared to other activation functions. And our embeddings have lots of negative numbers.\n",
    "- Learning rate of 0.001 produced the highest accuracy of 46%, when i reduced it more, the accuracy decreased.\n",
    "- Using 150 epochs produced the highest accuracy of 50%\n",
    "\n",
    "We said that neural networks are learning non-convex problems, but what about finding the best parameters? <br> Is that a convex problem?\n",
    "- Finding the best parameters for a neural network is a non-convex problem. The presence of multiple local minima and other complex structures in the optimization landscape makes it challenging to find the global minimum and also the best parameters."
   ]
  },
  {
   "cell_type": "markdown",
   "metadata": {},
   "source": [
    "What is regularization? Why is it important?\n",
    "- Regularizatin is the process of simplifying an overly complex model.\n",
    "- Regularization technique is important beacause it helps to prevent overfitting in a model. Examples of regularisatiom techniques are lasso, ridge, early stopping and dropout."
   ]
  },
  {
   "cell_type": "markdown",
   "metadata": {},
   "source": [
    "Which activation functions did you choose (besides logitistic/sigmoid)? For one of the activation functions you tried, spend some time learning about it. <br> Whereas logistic/sigmoid maps from inputs to a probability between 0-1, what does the activation function you chose do?\n",
    "\n",
    "- After trying several activation functions: ReLU, ELU, TANH, SIGMOID AND LEAKYRELU, I decided to stick with LeakyReLU. LeakyReLU is similar to ReLU, but returns a small negative value for negative inputs rather than zero. Since our embeddings have a number of negative values, i felt this was a better choice.\n",
    "- It has a small slope for negative values instead of zeroing thrm out liike ReLU."
   ]
  },
  {
   "cell_type": "code",
   "execution_count": null,
   "metadata": {},
   "outputs": [],
   "source": []
  }
 ],
 "metadata": {
  "kernelspec": {
   "display_name": "NLP",
   "language": "python",
   "name": "nlp"
  },
  "language_info": {
   "codemirror_mode": {
    "name": "ipython",
    "version": 3
   },
   "file_extension": ".py",
   "mimetype": "text/x-python",
   "name": "python",
   "nbconvert_exporter": "python",
   "pygments_lexer": "ipython3",
   "version": "3.9.18"
  }
 },
 "nbformat": 4,
 "nbformat_minor": 4
}
